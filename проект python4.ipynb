{
  "cells": [
    {
      "cell_type": "markdown",
      "metadata": {},
      "source": [
        "<div style=\"border:solid green 2px; padding: 20px\"> <h1 style=\"color:green; margin-bottom:20px\">Комментарий ревьюера v1</h1>\n",
        "\n",
        "Александра привет! Меня зовут Дмитрий Пышненко, и я буду проверять твой проект. Предлагаю общаться на «ты» если ты не против 😊 Но если нет, то дай знать, и мы перейдем на \"вы\". \n",
        "    \n",
        "Для своих комментариев я буду использовать цветовую разметку:\n",
        "\n",
        "<div class=\"alert alert-success\">\n",
        "    <b>Успех:</b> все сделано правильно.\n",
        "</div>\n",
        "<div class=\"alert alert-warning\">\n",
        "    <b>Есть замечания:</b> так выделены небольшие замечания которые не критичны, но было бы здорово исправить. Если таких замечаний немного, то такой проект может быть принят.\n",
        "</div>\n",
        "<div class=\"alert alert-danger\">\n",
        "    <b>Нужно переделать:</b> есть замечания которые необходимо исправить или доделать для сдачи проекта.\n",
        "</div>\n",
        "    \n",
        "Я буду поддерживать версионность комментариев, и при следующих итерациях я буду оставлять ячейки с новой версией v2 (v3 и.т.д.)\"\n",
        "    \n",
        "Если у тебя есть вопросы, замечания или отвечаешь на комментарии — пиши об этом. Мне будет легче отследить изменения, если ты выделишь свои комментарии: \n",
        "<div class=\"alert alert-info\"> <b>Комментарий студента:</b>"
      ]
    },
    {
      "cell_type": "markdown",
      "metadata": {},
      "source": [
        "<div style=\"border:solid green 2px; padding: 20px\">\n",
        "<b>Комментарий ревьюера v1:</b>\n",
        "    \n",
        "<b>Общее впечатление:</b> \n",
        " \n",
        "- Отличная работа по анализу A/B-тестирования! В проекте методично проведена предобработка данных, выполнен содержательный анализ результатов эксперимента и сформулированы четкие выводы, подкрепленные фактами. Особенно ценны наблюдения о параметрах теста и оценке его корректности. Структурированные выводы делают исследование понятным и информативным.\n",
        "- Осталось исправить совсем чуть-чуть для сдачи проекта (буду также рад исправлениям желтых:):\n",
        "    - Поменять способ подсчета метрик: cделать расчет по уникальным пользователям, а не по сессиям.\n",
        "    - Поправить графики.\n",
        "\n",
        "\n",
        "\n",
        "Буду ждать новую версию на повторную проверку 😇 Успехов!\n",
        "\n",
        "</div>"
      ]
    },
    {
      "cell_type": "markdown",
      "metadata": {},
      "source": [
        "<div class=\"alert alert-info\"> <b>Привет, Дмитрий! Благодарю за проверку моего проекта, комментарии были очень подробные и понятные, постаралась исправить все существенные недочеты</b>"
      ]
    },
    {
      "cell_type": "markdown",
      "metadata": {},
      "source": [
        "\n",
        "<div style=\"border:solid green 2px; padding: 20px\">\n",
        "<b>Комментарий ревьюера v2:</b>\n",
        "    \n",
        "Очень здорово, что ты дополнительно поработала над проектом и внесла улучшения по комментариям! 😇\n",
        "    \n",
        "Было интересно проверять твой проект, и мне осталось только пожелать тебе успехов в следующих спринтах. 🍀 Буду также очень рад любому фидбеку и предложениям по улучшению моего код-ревью.\n",
        "    \n",
        "А здесь можно найти больше примеров того, как проводить А/Б-тестирование: \n",
        "\n",
        "https://habr.com/ru/company/boodet_online/blog/498688/\n",
        "    \n",
        "https://vc.ru/u/1174886-koptelnya/413265-chto-takoe-a-b-testirovanie-i-kak-provesti-ego-pravilno-urok-1    \n",
        " \n",
        "    \n",
        "</div>"
      ]
    },
    {
      "cell_type": "markdown",
      "metadata": {
        "id": "u98L9TgH0eMk"
      },
      "source": [
        "# Разработка A/B-тестирования и анализ результатов\n",
        "\n",
        "Вы работаете продуктовым аналитиком в компании, которая разрабатывает развлекательное приложение с функцией «бесконечной» ленты, как, например, в приложениях с короткими видео. В вашем приложении существует две модели монетизации: первая — ежемесячная платная подписка, которая позволяет пользователям смотреть ленту без рекламы, вторая — демонстрация рекламы для пользователей, которые ещё не оформили подписку.\n",
        "\n",
        "Команда разработчиков рекомендательных систем создала новый алгоритм рекомендаций, который, по их мнению, будет показывать более интересный контент для каждого пользователя. Вас, как аналитика, просят помочь рассчитать параметры A/B-теста, который позволит проверить эту гипотезу, и проанализировать его результаты."
      ]
    },
    {
      "cell_type": "markdown",
      "metadata": {
        "id": "LJBRALHs0eMf"
      },
      "source": [
        "## Описание данных\n",
        "\n",
        "Вы будете работать с тремя таблицами:\n",
        "\n",
        "- `sessions_project_history.csv` — таблица с историческими данными по сессиям пользователей на период с 2025-08-15 по 2025-09-23. Путь к файлу: `/datasets/sessions_project_history.csv`.\n",
        "\n",
        "- `sessions_project_test_part.csv` — таблица с данными за первый день проведения A/B-теста, то есть за 2025-10-14. Путь к файлу: `/datasets/sessions_project_test_part.csv`.\n",
        "\n",
        "- `sessions_project_test.csv` — таблица с данными за весь период проведения A/B-теста, то есть с 2025-10-14 по 2025-11-02. Путь к файлу: `/datasets/sessions_project_test.csv`.\n",
        "\n",
        "У этих таблиц почти совпадает структура и содержание колонок, различаются лишь периоды наблюдения.\n",
        "\n",
        "Поля таблиц `sessions_project_history.csv`, `sessions_project_test.csv`, `sessions_project_test_part.csv`:\n",
        "\n",
        "- `user_id` — идентификатор пользователя;\n",
        "\n",
        "- `session_id` — идентификатор сессии в приложении;\n",
        "\n",
        "- `session_date` — дата сессии;\n",
        "\n",
        "- `session_start_ts` — дата и время начала сессии;\n",
        "\n",
        "- `install_date` — дата установки приложения;\n",
        "\n",
        "- `session_number` — порядковый номер сессии для конкретного пользователя;\n",
        "\n",
        "- `registration_flag` — является ли пользователь зарегистрированным;\n",
        "\n",
        "- `page_counter` — количество просмотренных страниц во время сессии;\n",
        "\n",
        "- `region` — регион пользователя;\n",
        "\n",
        "- `device` — тип устройства пользователя;\n",
        "\n",
        "- `test_group` — тестовая группа (в таблице с историческими данными этого столбца нет).\n",
        "\n",
        "\n",
        "## Что нужно сделать\n",
        "Ваши задачи: рассчитать параметры теста, оценить корректность его проведения и проанализировать результаты эксперимента."
      ]
    },
    {
      "cell_type": "markdown",
      "metadata": {
        "id": "UpOucjID0eMl"
      },
      "source": [
        "### 1. Работа с историческими данными (EDA)"
      ]
    },
    {
      "cell_type": "markdown",
      "metadata": {
        "id": "8iJMtL-30eMl"
      },
      "source": [
        "#### 1.1. Загрузка исторических данных\n",
        "На первом этапе поработайте с историческими данными приложения:\n",
        "\n",
        "- Импортируйте библиотеку pandas.\n",
        "\n",
        "- Считайте и сохраните в датафрейм `sessions_history` CSV-файл с историческими данными о сессиях пользователей `sessions_project_history.csv`.\n",
        "\n",
        "Выведите на экран первые пять строк полученного датафрейма."
      ]
    },
    {
      "cell_type": "markdown",
      "metadata": {},
      "source": [
        "<div style=\"background-color: #d4edda; color: #155724; padding: 15px; border-radius: 4px; border: 1px solid #c3e6cb;\">\n",
        "\n",
        "<b>Комментарий ревьюера v1:</b>\n",
        "\n",
        "Отличная вводная часть проекта! Данный шаблон можно дополнить, например, немного раскрыть шаги работы с данными, или раскрыть задачу АВ тестирования. Например, указать:\n",
        "    \n",
        "- какая основная метрика, изменение которой ожидается в ходе проведения АВ эксперимента (в нашем случае это увеличение доли сессий с четырьмя и более просмотренными страницами);\n",
        "- обсудить изменения каких других метрик необходимо отслеживать (в нашем случае это отсутствие изменения числа сессий в день);\n",
        "- указать информацию о аудитории теста и других особенностях его проведения (например, то, что вовлекается все аудитория приложения, т.е. новая опция раскатывается на всех)."
      ]
    },
    {
      "cell_type": "code",
      "execution_count": 1,
      "metadata": {
        "id": "6TPR2-1RPboT"
      },
      "outputs": [],
      "source": [
        "# Импортируем библиотеки\n",
        "import pandas as pd\n",
        "import matplotlib.pyplot as plt\n",
        "from scipy import stats as st\n",
        "from scipy.stats import ttest_ind"
      ]
    },
    {
      "cell_type": "code",
      "execution_count": 2,
      "metadata": {},
      "outputs": [],
      "source": [
        "# Выгружаем данные в переменную sessions_history\n",
        "sessions_history = pd.read_csv('https://code.s3.yandex.net/datasets/sessions_project_history.csv')"
      ]
    },
    {
      "cell_type": "code",
      "execution_count": 3,
      "metadata": {},
      "outputs": [
        {
          "data": {
            "text/html": [
              "<div>\n",
              "<style scoped>\n",
              "    .dataframe tbody tr th:only-of-type {\n",
              "        vertical-align: middle;\n",
              "    }\n",
              "\n",
              "    .dataframe tbody tr th {\n",
              "        vertical-align: top;\n",
              "    }\n",
              "\n",
              "    .dataframe thead th {\n",
              "        text-align: right;\n",
              "    }\n",
              "</style>\n",
              "<table border=\"1\" class=\"dataframe\">\n",
              "  <thead>\n",
              "    <tr style=\"text-align: right;\">\n",
              "      <th></th>\n",
              "      <th>user_id</th>\n",
              "      <th>session_id</th>\n",
              "      <th>session_date</th>\n",
              "      <th>session_start_ts</th>\n",
              "      <th>install_date</th>\n",
              "      <th>session_number</th>\n",
              "      <th>registration_flag</th>\n",
              "      <th>page_counter</th>\n",
              "      <th>region</th>\n",
              "      <th>device</th>\n",
              "    </tr>\n",
              "  </thead>\n",
              "  <tbody>\n",
              "    <tr>\n",
              "      <th>0</th>\n",
              "      <td>E302123B7000BFE4</td>\n",
              "      <td>F9AF61A0C2023832</td>\n",
              "      <td>2025-08-15</td>\n",
              "      <td>2025-08-15 17:47:35</td>\n",
              "      <td>2025-08-15</td>\n",
              "      <td>1</td>\n",
              "      <td>0</td>\n",
              "      <td>3</td>\n",
              "      <td>CIS</td>\n",
              "      <td>iPhone</td>\n",
              "    </tr>\n",
              "    <tr>\n",
              "      <th>1</th>\n",
              "      <td>2530F72E221829FB</td>\n",
              "      <td>85003A206CBDAC6F</td>\n",
              "      <td>2025-08-15</td>\n",
              "      <td>2025-08-15 16:42:14</td>\n",
              "      <td>2025-08-15</td>\n",
              "      <td>1</td>\n",
              "      <td>0</td>\n",
              "      <td>4</td>\n",
              "      <td>MENA</td>\n",
              "      <td>Android</td>\n",
              "    </tr>\n",
              "    <tr>\n",
              "      <th>2</th>\n",
              "      <td>876E020A4FC512F5</td>\n",
              "      <td>3677423E49D72DEE</td>\n",
              "      <td>2025-08-15</td>\n",
              "      <td>2025-08-15 12:30:00</td>\n",
              "      <td>2025-08-15</td>\n",
              "      <td>1</td>\n",
              "      <td>0</td>\n",
              "      <td>4</td>\n",
              "      <td>EU</td>\n",
              "      <td>PC</td>\n",
              "    </tr>\n",
              "    <tr>\n",
              "      <th>3</th>\n",
              "      <td>2640B349E1D81584</td>\n",
              "      <td>956B45F5915CA225</td>\n",
              "      <td>2025-08-15</td>\n",
              "      <td>2025-08-15 15:31:31</td>\n",
              "      <td>2025-08-15</td>\n",
              "      <td>1</td>\n",
              "      <td>0</td>\n",
              "      <td>4</td>\n",
              "      <td>CIS</td>\n",
              "      <td>Android</td>\n",
              "    </tr>\n",
              "    <tr>\n",
              "      <th>4</th>\n",
              "      <td>94E1CBFAEF1F5EE9</td>\n",
              "      <td>83BF0DA35F9F1F40</td>\n",
              "      <td>2025-08-15</td>\n",
              "      <td>2025-08-15 21:33:53</td>\n",
              "      <td>2025-08-15</td>\n",
              "      <td>1</td>\n",
              "      <td>0</td>\n",
              "      <td>3</td>\n",
              "      <td>CIS</td>\n",
              "      <td>Android</td>\n",
              "    </tr>\n",
              "  </tbody>\n",
              "</table>\n",
              "</div>"
            ],
            "text/plain": [
              "            user_id        session_id session_date     session_start_ts  \\\n",
              "0  E302123B7000BFE4  F9AF61A0C2023832   2025-08-15  2025-08-15 17:47:35   \n",
              "1  2530F72E221829FB  85003A206CBDAC6F   2025-08-15  2025-08-15 16:42:14   \n",
              "2  876E020A4FC512F5  3677423E49D72DEE   2025-08-15  2025-08-15 12:30:00   \n",
              "3  2640B349E1D81584  956B45F5915CA225   2025-08-15  2025-08-15 15:31:31   \n",
              "4  94E1CBFAEF1F5EE9  83BF0DA35F9F1F40   2025-08-15  2025-08-15 21:33:53   \n",
              "\n",
              "  install_date  session_number  registration_flag  page_counter region  \\\n",
              "0   2025-08-15               1                  0             3    CIS   \n",
              "1   2025-08-15               1                  0             4   MENA   \n",
              "2   2025-08-15               1                  0             4     EU   \n",
              "3   2025-08-15               1                  0             4    CIS   \n",
              "4   2025-08-15               1                  0             3    CIS   \n",
              "\n",
              "    device  \n",
              "0   iPhone  \n",
              "1  Android  \n",
              "2       PC  \n",
              "3  Android  \n",
              "4  Android  "
            ]
          },
          "metadata": {},
          "output_type": "display_data"
        }
      ],
      "source": [
        "# Выводим первые строки датафрейма sessions_history\n",
        "display(sessions_history.head())"
      ]
    },
    {
      "cell_type": "code",
      "execution_count": 4,
      "metadata": {},
      "outputs": [
        {
          "name": "stdout",
          "output_type": "stream",
          "text": [
            "<class 'pandas.core.frame.DataFrame'>\n",
            "RangeIndex: 435924 entries, 0 to 435923\n",
            "Data columns (total 10 columns):\n",
            " #   Column             Non-Null Count   Dtype \n",
            "---  ------             --------------   ----- \n",
            " 0   user_id            435924 non-null  object\n",
            " 1   session_id         435924 non-null  object\n",
            " 2   session_date       435924 non-null  object\n",
            " 3   session_start_ts   435924 non-null  object\n",
            " 4   install_date       435924 non-null  object\n",
            " 5   session_number     435924 non-null  int64 \n",
            " 6   registration_flag  435924 non-null  int64 \n",
            " 7   page_counter       435924 non-null  int64 \n",
            " 8   region             435924 non-null  object\n",
            " 9   device             435924 non-null  object\n",
            "dtypes: int64(3), object(7)\n",
            "memory usage: 33.3+ MB\n"
          ]
        }
      ],
      "source": [
        "sessions_history.info()"
      ]
    },
    {
      "cell_type": "markdown",
      "metadata": {},
      "source": [
        "<div style=\"background-color: #d4edda; color: #155724; padding: 15px; border-radius: 4px; border: 1px solid #c3e6cb;\">\n",
        "\n",
        "\n",
        "<b>Комментарий ревьюера v1:</b>\n",
        "\n",
        "Данные загружены и выведены верно."
      ]
    },
    {
      "cell_type": "markdown",
      "metadata": {},
      "source": [
        "<div style=\"background-color: #fff3cd; color: #856404; padding: 15px; border-radius: 4px; border: 1px solid #ffeeba;\">\n",
        "\n",
        "<b>Комментарий ревьюера v1:</b>\n",
        "\n",
        "Можно дополнительно вывести базовый анализ структуры датафрейма:\n",
        "    \n",
        "```python\n",
        "df_sessions_project_history.info()\n",
        "\n",
        "or \n",
        "    \n",
        "df_sessions_project_history.describe()\n",
        "```"
      ]
    },
    {
      "cell_type": "markdown",
      "metadata": {
        "id": "qTDoiODz0eMo"
      },
      "source": [
        "#### 1.2. Знакомство с данными\n",
        "- Для каждого уникального пользователя `user_id` рассчитайте количество уникальных сессий `session_id`.\n",
        "\n",
        "- Выведите на экран все данные из таблицы `sessions_history` для одного пользователя с наибольшим количеством сессий. Если таких пользователей несколько, выберите любого из них.\n",
        "\n",
        "- Изучите таблицу для одного пользователя, чтобы лучше понять логику формирования каждого столбца данных.\n",
        "\n"
      ]
    },
    {
      "cell_type": "markdown",
      "metadata": {},
      "source": [
        "<div style=\"background-color: #fff3cd; color: #856404; padding: 15px; border-radius: 4px; border: 1px solid #ffeeba;\">\n",
        "\n",
        "<b>Комментарий ревьюера v1:</b>\n",
        "\n",
        "В данном случае ты считаешь уникальные сессии, поэтому дубликаты не будут влиять на их количество, но в общем в начале лучше изучить данные и минимально их проверить, например на дубликаты."
      ]
    },
    {
      "cell_type": "code",
      "execution_count": 5,
      "metadata": {},
      "outputs": [
        {
          "data": {
            "text/plain": [
              "0"
            ]
          },
          "metadata": {},
          "output_type": "display_data"
        }
      ],
      "source": [
        "# Проверяем данные на дубликаты\n",
        "count_duplicates = sessions_history.duplicated().sum()\n",
        "display(count_duplicates)"
      ]
    },
    {
      "cell_type": "code",
      "execution_count": 6,
      "metadata": {
        "id": "PWZO9vTIPbPN"
      },
      "outputs": [
        {
          "data": {
            "text/plain": [
              "user_id\n",
              "10E0DEFC1ABDBBE0    10\n",
              "6A73CB5566BB494D    10\n",
              "8A60431A825D035B     9\n",
              "D11541BAC141FB94     9\n",
              "5BCFE7C4DCC148E9     9\n",
              "                    ..\n",
              "1DF13BB1953B3497     1\n",
              "628502A3CE7E0A3C     1\n",
              "1DEEF40DEFBD0C65     1\n",
              "AC08479B7472C628     1\n",
              "8A0882B6715D9EE5     1\n",
              "Name: session_id, Length: 134039, dtype: int64"
            ]
          },
          "metadata": {},
          "output_type": "display_data"
        }
      ],
      "source": [
        "# Считаем количество уникальных сессий для каждого пользователя\n",
        "count_sessions = sessions_history.groupby('user_id')['session_id'].nunique()\n",
        "count_sessions = count_sessions.sort_values(ascending=False)\n",
        "display(count_sessions)"
      ]
    },
    {
      "cell_type": "code",
      "execution_count": 7,
      "metadata": {},
      "outputs": [
        {
          "data": {
            "text/html": [
              "<div>\n",
              "<style scoped>\n",
              "    .dataframe tbody tr th:only-of-type {\n",
              "        vertical-align: middle;\n",
              "    }\n",
              "\n",
              "    .dataframe tbody tr th {\n",
              "        vertical-align: top;\n",
              "    }\n",
              "\n",
              "    .dataframe thead th {\n",
              "        text-align: right;\n",
              "    }\n",
              "</style>\n",
              "<table border=\"1\" class=\"dataframe\">\n",
              "  <thead>\n",
              "    <tr style=\"text-align: right;\">\n",
              "      <th></th>\n",
              "      <th>user_id</th>\n",
              "      <th>session_id</th>\n",
              "      <th>session_date</th>\n",
              "      <th>session_start_ts</th>\n",
              "      <th>install_date</th>\n",
              "      <th>session_number</th>\n",
              "      <th>registration_flag</th>\n",
              "      <th>page_counter</th>\n",
              "      <th>region</th>\n",
              "      <th>device</th>\n",
              "    </tr>\n",
              "  </thead>\n",
              "  <tbody>\n",
              "    <tr>\n",
              "      <th>115558</th>\n",
              "      <td>10E0DEFC1ABDBBE0</td>\n",
              "      <td>B8F0423BBFFCF5DC</td>\n",
              "      <td>2025-08-14</td>\n",
              "      <td>2025-08-14 13:57:39</td>\n",
              "      <td>2025-08-14</td>\n",
              "      <td>1</td>\n",
              "      <td>0</td>\n",
              "      <td>4</td>\n",
              "      <td>CIS</td>\n",
              "      <td>Android</td>\n",
              "    </tr>\n",
              "    <tr>\n",
              "      <th>191751</th>\n",
              "      <td>10E0DEFC1ABDBBE0</td>\n",
              "      <td>87CA2FA549473837</td>\n",
              "      <td>2025-08-15</td>\n",
              "      <td>2025-08-15 16:42:10</td>\n",
              "      <td>2025-08-14</td>\n",
              "      <td>2</td>\n",
              "      <td>0</td>\n",
              "      <td>3</td>\n",
              "      <td>CIS</td>\n",
              "      <td>Android</td>\n",
              "    </tr>\n",
              "    <tr>\n",
              "      <th>239370</th>\n",
              "      <td>10E0DEFC1ABDBBE0</td>\n",
              "      <td>4ADD8011DCDCE318</td>\n",
              "      <td>2025-08-16</td>\n",
              "      <td>2025-08-16 19:53:21</td>\n",
              "      <td>2025-08-14</td>\n",
              "      <td>3</td>\n",
              "      <td>0</td>\n",
              "      <td>3</td>\n",
              "      <td>CIS</td>\n",
              "      <td>Android</td>\n",
              "    </tr>\n",
              "    <tr>\n",
              "      <th>274629</th>\n",
              "      <td>10E0DEFC1ABDBBE0</td>\n",
              "      <td>DF0FD0E09BF1F3D7</td>\n",
              "      <td>2025-08-17</td>\n",
              "      <td>2025-08-17 15:03:43</td>\n",
              "      <td>2025-08-14</td>\n",
              "      <td>4</td>\n",
              "      <td>0</td>\n",
              "      <td>1</td>\n",
              "      <td>CIS</td>\n",
              "      <td>Android</td>\n",
              "    </tr>\n",
              "    <tr>\n",
              "      <th>302501</th>\n",
              "      <td>10E0DEFC1ABDBBE0</td>\n",
              "      <td>3C221774B4DE6885</td>\n",
              "      <td>2025-08-18</td>\n",
              "      <td>2025-08-18 17:29:14</td>\n",
              "      <td>2025-08-14</td>\n",
              "      <td>5</td>\n",
              "      <td>0</td>\n",
              "      <td>4</td>\n",
              "      <td>CIS</td>\n",
              "      <td>Android</td>\n",
              "    </tr>\n",
              "    <tr>\n",
              "      <th>325557</th>\n",
              "      <td>10E0DEFC1ABDBBE0</td>\n",
              "      <td>031BD7A67048105B</td>\n",
              "      <td>2025-08-19</td>\n",
              "      <td>2025-08-19 13:23:55</td>\n",
              "      <td>2025-08-14</td>\n",
              "      <td>6</td>\n",
              "      <td>0</td>\n",
              "      <td>2</td>\n",
              "      <td>CIS</td>\n",
              "      <td>Android</td>\n",
              "    </tr>\n",
              "    <tr>\n",
              "      <th>345336</th>\n",
              "      <td>10E0DEFC1ABDBBE0</td>\n",
              "      <td>FF4315CF4AD4B100</td>\n",
              "      <td>2025-08-20</td>\n",
              "      <td>2025-08-20 19:31:54</td>\n",
              "      <td>2025-08-14</td>\n",
              "      <td>7</td>\n",
              "      <td>0</td>\n",
              "      <td>2</td>\n",
              "      <td>CIS</td>\n",
              "      <td>Android</td>\n",
              "    </tr>\n",
              "    <tr>\n",
              "      <th>377532</th>\n",
              "      <td>10E0DEFC1ABDBBE0</td>\n",
              "      <td>4045FEA0747203B4</td>\n",
              "      <td>2025-08-22</td>\n",
              "      <td>2025-08-22 17:54:13</td>\n",
              "      <td>2025-08-14</td>\n",
              "      <td>8</td>\n",
              "      <td>0</td>\n",
              "      <td>2</td>\n",
              "      <td>CIS</td>\n",
              "      <td>Android</td>\n",
              "    </tr>\n",
              "    <tr>\n",
              "      <th>403538</th>\n",
              "      <td>10E0DEFC1ABDBBE0</td>\n",
              "      <td>344B086C421C7F37</td>\n",
              "      <td>2025-08-24</td>\n",
              "      <td>2025-08-24 14:46:13</td>\n",
              "      <td>2025-08-14</td>\n",
              "      <td>9</td>\n",
              "      <td>0</td>\n",
              "      <td>2</td>\n",
              "      <td>CIS</td>\n",
              "      <td>Android</td>\n",
              "    </tr>\n",
              "    <tr>\n",
              "      <th>414743</th>\n",
              "      <td>10E0DEFC1ABDBBE0</td>\n",
              "      <td>054F20BA371E4C9D</td>\n",
              "      <td>2025-08-25</td>\n",
              "      <td>2025-08-25 18:36:41</td>\n",
              "      <td>2025-08-14</td>\n",
              "      <td>10</td>\n",
              "      <td>0</td>\n",
              "      <td>3</td>\n",
              "      <td>CIS</td>\n",
              "      <td>Android</td>\n",
              "    </tr>\n",
              "  </tbody>\n",
              "</table>\n",
              "</div>"
            ],
            "text/plain": [
              "                 user_id        session_id session_date     session_start_ts  \\\n",
              "115558  10E0DEFC1ABDBBE0  B8F0423BBFFCF5DC   2025-08-14  2025-08-14 13:57:39   \n",
              "191751  10E0DEFC1ABDBBE0  87CA2FA549473837   2025-08-15  2025-08-15 16:42:10   \n",
              "239370  10E0DEFC1ABDBBE0  4ADD8011DCDCE318   2025-08-16  2025-08-16 19:53:21   \n",
              "274629  10E0DEFC1ABDBBE0  DF0FD0E09BF1F3D7   2025-08-17  2025-08-17 15:03:43   \n",
              "302501  10E0DEFC1ABDBBE0  3C221774B4DE6885   2025-08-18  2025-08-18 17:29:14   \n",
              "325557  10E0DEFC1ABDBBE0  031BD7A67048105B   2025-08-19  2025-08-19 13:23:55   \n",
              "345336  10E0DEFC1ABDBBE0  FF4315CF4AD4B100   2025-08-20  2025-08-20 19:31:54   \n",
              "377532  10E0DEFC1ABDBBE0  4045FEA0747203B4   2025-08-22  2025-08-22 17:54:13   \n",
              "403538  10E0DEFC1ABDBBE0  344B086C421C7F37   2025-08-24  2025-08-24 14:46:13   \n",
              "414743  10E0DEFC1ABDBBE0  054F20BA371E4C9D   2025-08-25  2025-08-25 18:36:41   \n",
              "\n",
              "       install_date  session_number  registration_flag  page_counter region  \\\n",
              "115558   2025-08-14               1                  0             4    CIS   \n",
              "191751   2025-08-14               2                  0             3    CIS   \n",
              "239370   2025-08-14               3                  0             3    CIS   \n",
              "274629   2025-08-14               4                  0             1    CIS   \n",
              "302501   2025-08-14               5                  0             4    CIS   \n",
              "325557   2025-08-14               6                  0             2    CIS   \n",
              "345336   2025-08-14               7                  0             2    CIS   \n",
              "377532   2025-08-14               8                  0             2    CIS   \n",
              "403538   2025-08-14               9                  0             2    CIS   \n",
              "414743   2025-08-14              10                  0             3    CIS   \n",
              "\n",
              "         device  \n",
              "115558  Android  \n",
              "191751  Android  \n",
              "239370  Android  \n",
              "274629  Android  \n",
              "302501  Android  \n",
              "325557  Android  \n",
              "345336  Android  \n",
              "377532  Android  \n",
              "403538  Android  \n",
              "414743  Android  "
            ]
          },
          "metadata": {},
          "output_type": "display_data"
        }
      ],
      "source": [
        "# Выводим сессии пользователя с наибольшим количеством сессий\n",
        "display(sessions_history[sessions_history['user_id']=='10E0DEFC1ABDBBE0'])"
      ]
    },
    {
      "cell_type": "markdown",
      "metadata": {},
      "source": [
        "<div style=\"background-color: #d4edda; color: #155724; padding: 15px; border-radius: 4px; border: 1px solid #c3e6cb;\">\n",
        "\n",
        "<b>Комментарий ревьюера v1:</b>\n",
        "\n",
        "Твое решение корректно находит пользователя с наибольшим количеством сессий и фильтрует данные.\n"
      ]
    },
    {
      "cell_type": "markdown",
      "metadata": {
        "id": "CmcGpJTP0eMq"
      },
      "source": [
        "#### 1.3. Анализ числа регистраций\n",
        "Одна из важнейших метрик продукта — число зарегистрированных пользователей. Используя исторические данные, визуализируйте, как менялось число регистраций в приложении за время его существования.\n",
        "\n",
        "- Агрегируйте исторические данные и рассчитайте число уникальных пользователей и число зарегистрированных пользователей для каждого дня наблюдения. Для простоты считайте, что у пользователя в течение дня бывает одна сессия максимум и статус регистрации в течение одного дня не может измениться.\n",
        "\n",
        "- Постройте линейные графики общего числа пользователей и общего числа зарегистрированных пользователей по дням. Отобразите их на одном графике.\n",
        "\n",
        "- Постройте отдельный линейный график доли зарегистрированных пользователей от всех пользователей по дням.\n",
        "\n",
        "- На обоих графиках должны быть заголовок, подписанные оси X и Y, сетка и легенда."
      ]
    },
    {
      "cell_type": "code",
      "execution_count": 8,
      "metadata": {},
      "outputs": [
        {
          "name": "stdout",
          "output_type": "stream",
          "text": [
            "<class 'pandas.core.frame.DataFrame'>\n",
            "RangeIndex: 435924 entries, 0 to 435923\n",
            "Data columns (total 10 columns):\n",
            " #   Column             Non-Null Count   Dtype         \n",
            "---  ------             --------------   -----         \n",
            " 0   user_id            435924 non-null  object        \n",
            " 1   session_id         435924 non-null  object        \n",
            " 2   session_date       435924 non-null  datetime64[ns]\n",
            " 3   session_start_ts   435924 non-null  object        \n",
            " 4   install_date       435924 non-null  object        \n",
            " 5   session_number     435924 non-null  int64         \n",
            " 6   registration_flag  435924 non-null  int64         \n",
            " 7   page_counter       435924 non-null  int64         \n",
            " 8   region             435924 non-null  object        \n",
            " 9   device             435924 non-null  object        \n",
            "dtypes: datetime64[ns](1), int64(3), object(6)\n",
            "memory usage: 33.3+ MB\n"
          ]
        }
      ],
      "source": [
        "# Меняем тип данных для столбца, содержащего информацию о дате сессии\n",
        "sessions_history['session_date'] = pd.to_datetime(sessions_history['session_date'])\n",
        "sessions_history.info()"
      ]
    },
    {
      "cell_type": "markdown",
      "metadata": {},
      "source": [
        "<div style=\"background-color: #f8d7da; color: #721c24; padding: 15px; border-radius: 4px; border: 1px solid #f5c6cb;\">\n",
        "\n",
        "<b>Комментарий ревьюера v1:</b>\n",
        "\n",
        "Eсть важный момент с тем, как ты готовишь данные по дням. Cейчас ты извлекаешь только число месяца (например, 1, 15, 31). Затем, группируя по этому столбцу, ты смешиваешь данные за одинаковые числа разных месяцев. Например, активность за 1 августа, 1 сентября и 1 октября суммируется и отображается как активность для \"дня 1\".\n",
        "\n",
        "Из-за этого твои графики показывают не реальную динамику день за днем на протяжении всего периода, а скорее усредненную или общую картину для каждого числа месяца. Для анализа того, как показатели меняются во времени (например, от 15 августа к 16 августа, затем к 17 августа и т.д.), нужно группировать данные по полной дате сессии (session_date), а не только по дню месяца."
      ]
    },
    {
      "cell_type": "code",
      "execution_count": 9,
      "metadata": {
        "scrolled": true
      },
      "outputs": [
        {
          "data": {
            "text/html": [
              "<div>\n",
              "<style scoped>\n",
              "    .dataframe tbody tr th:only-of-type {\n",
              "        vertical-align: middle;\n",
              "    }\n",
              "\n",
              "    .dataframe tbody tr th {\n",
              "        vertical-align: top;\n",
              "    }\n",
              "\n",
              "    .dataframe thead th {\n",
              "        text-align: right;\n",
              "    }\n",
              "</style>\n",
              "<table border=\"1\" class=\"dataframe\">\n",
              "  <thead>\n",
              "    <tr style=\"text-align: right;\">\n",
              "      <th></th>\n",
              "      <th>session_date</th>\n",
              "      <th>user_id</th>\n",
              "    </tr>\n",
              "  </thead>\n",
              "  <tbody>\n",
              "    <tr>\n",
              "      <th>0</th>\n",
              "      <td>2025-08-11</td>\n",
              "      <td>3919</td>\n",
              "    </tr>\n",
              "    <tr>\n",
              "      <th>1</th>\n",
              "      <td>2025-08-12</td>\n",
              "      <td>6056</td>\n",
              "    </tr>\n",
              "    <tr>\n",
              "      <th>2</th>\n",
              "      <td>2025-08-13</td>\n",
              "      <td>8489</td>\n",
              "    </tr>\n",
              "    <tr>\n",
              "      <th>3</th>\n",
              "      <td>2025-08-14</td>\n",
              "      <td>10321</td>\n",
              "    </tr>\n",
              "    <tr>\n",
              "      <th>4</th>\n",
              "      <td>2025-08-15</td>\n",
              "      <td>14065</td>\n",
              "    </tr>\n",
              "    <tr>\n",
              "      <th>5</th>\n",
              "      <td>2025-08-16</td>\n",
              "      <td>12205</td>\n",
              "    </tr>\n",
              "    <tr>\n",
              "      <th>6</th>\n",
              "      <td>2025-08-17</td>\n",
              "      <td>11200</td>\n",
              "    </tr>\n",
              "    <tr>\n",
              "      <th>7</th>\n",
              "      <td>2025-08-18</td>\n",
              "      <td>10839</td>\n",
              "    </tr>\n",
              "    <tr>\n",
              "      <th>8</th>\n",
              "      <td>2025-08-19</td>\n",
              "      <td>12118</td>\n",
              "    </tr>\n",
              "    <tr>\n",
              "      <th>9</th>\n",
              "      <td>2025-08-20</td>\n",
              "      <td>13514</td>\n",
              "    </tr>\n",
              "    <tr>\n",
              "      <th>10</th>\n",
              "      <td>2025-08-21</td>\n",
              "      <td>15051</td>\n",
              "    </tr>\n",
              "    <tr>\n",
              "      <th>11</th>\n",
              "      <td>2025-08-22</td>\n",
              "      <td>17563</td>\n",
              "    </tr>\n",
              "    <tr>\n",
              "      <th>12</th>\n",
              "      <td>2025-08-23</td>\n",
              "      <td>16082</td>\n",
              "    </tr>\n",
              "    <tr>\n",
              "      <th>13</th>\n",
              "      <td>2025-08-24</td>\n",
              "      <td>13683</td>\n",
              "    </tr>\n",
              "    <tr>\n",
              "      <th>14</th>\n",
              "      <td>2025-08-25</td>\n",
              "      <td>13635</td>\n",
              "    </tr>\n",
              "    <tr>\n",
              "      <th>15</th>\n",
              "      <td>2025-08-26</td>\n",
              "      <td>13289</td>\n",
              "    </tr>\n",
              "    <tr>\n",
              "      <th>16</th>\n",
              "      <td>2025-08-27</td>\n",
              "      <td>14766</td>\n",
              "    </tr>\n",
              "    <tr>\n",
              "      <th>17</th>\n",
              "      <td>2025-08-28</td>\n",
              "      <td>15388</td>\n",
              "    </tr>\n",
              "    <tr>\n",
              "      <th>18</th>\n",
              "      <td>2025-08-29</td>\n",
              "      <td>16873</td>\n",
              "    </tr>\n",
              "    <tr>\n",
              "      <th>19</th>\n",
              "      <td>2025-08-30</td>\n",
              "      <td>14891</td>\n",
              "    </tr>\n",
              "    <tr>\n",
              "      <th>20</th>\n",
              "      <td>2025-08-31</td>\n",
              "      <td>13266</td>\n",
              "    </tr>\n",
              "    <tr>\n",
              "      <th>21</th>\n",
              "      <td>2025-09-01</td>\n",
              "      <td>12685</td>\n",
              "    </tr>\n",
              "    <tr>\n",
              "      <th>22</th>\n",
              "      <td>2025-09-02</td>\n",
              "      <td>12672</td>\n",
              "    </tr>\n",
              "    <tr>\n",
              "      <th>23</th>\n",
              "      <td>2025-09-03</td>\n",
              "      <td>12777</td>\n",
              "    </tr>\n",
              "    <tr>\n",
              "      <th>24</th>\n",
              "      <td>2025-09-04</td>\n",
              "      <td>13683</td>\n",
              "    </tr>\n",
              "    <tr>\n",
              "      <th>25</th>\n",
              "      <td>2025-09-05</td>\n",
              "      <td>15324</td>\n",
              "    </tr>\n",
              "    <tr>\n",
              "      <th>26</th>\n",
              "      <td>2025-09-06</td>\n",
              "      <td>13078</td>\n",
              "    </tr>\n",
              "    <tr>\n",
              "      <th>27</th>\n",
              "      <td>2025-09-07</td>\n",
              "      <td>12367</td>\n",
              "    </tr>\n",
              "    <tr>\n",
              "      <th>28</th>\n",
              "      <td>2025-09-08</td>\n",
              "      <td>11826</td>\n",
              "    </tr>\n",
              "    <tr>\n",
              "      <th>29</th>\n",
              "      <td>2025-09-09</td>\n",
              "      <td>11780</td>\n",
              "    </tr>\n",
              "    <tr>\n",
              "      <th>30</th>\n",
              "      <td>2025-09-10</td>\n",
              "      <td>12526</td>\n",
              "    </tr>\n",
              "    <tr>\n",
              "      <th>31</th>\n",
              "      <td>2025-09-11</td>\n",
              "      <td>8623</td>\n",
              "    </tr>\n",
              "    <tr>\n",
              "      <th>32</th>\n",
              "      <td>2025-09-12</td>\n",
              "      <td>6436</td>\n",
              "    </tr>\n",
              "    <tr>\n",
              "      <th>33</th>\n",
              "      <td>2025-09-13</td>\n",
              "      <td>5183</td>\n",
              "    </tr>\n",
              "    <tr>\n",
              "      <th>34</th>\n",
              "      <td>2025-09-14</td>\n",
              "      <td>4364</td>\n",
              "    </tr>\n",
              "    <tr>\n",
              "      <th>35</th>\n",
              "      <td>2025-09-15</td>\n",
              "      <td>3698</td>\n",
              "    </tr>\n",
              "    <tr>\n",
              "      <th>36</th>\n",
              "      <td>2025-09-16</td>\n",
              "      <td>3032</td>\n",
              "    </tr>\n",
              "    <tr>\n",
              "      <th>37</th>\n",
              "      <td>2025-09-17</td>\n",
              "      <td>2548</td>\n",
              "    </tr>\n",
              "    <tr>\n",
              "      <th>38</th>\n",
              "      <td>2025-09-18</td>\n",
              "      <td>1952</td>\n",
              "    </tr>\n",
              "    <tr>\n",
              "      <th>39</th>\n",
              "      <td>2025-09-19</td>\n",
              "      <td>1418</td>\n",
              "    </tr>\n",
              "    <tr>\n",
              "      <th>40</th>\n",
              "      <td>2025-09-20</td>\n",
              "      <td>1100</td>\n",
              "    </tr>\n",
              "    <tr>\n",
              "      <th>41</th>\n",
              "      <td>2025-09-21</td>\n",
              "      <td>776</td>\n",
              "    </tr>\n",
              "    <tr>\n",
              "      <th>42</th>\n",
              "      <td>2025-09-22</td>\n",
              "      <td>546</td>\n",
              "    </tr>\n",
              "    <tr>\n",
              "      <th>43</th>\n",
              "      <td>2025-09-23</td>\n",
              "      <td>317</td>\n",
              "    </tr>\n",
              "  </tbody>\n",
              "</table>\n",
              "</div>"
            ],
            "text/plain": [
              "   session_date  user_id\n",
              "0    2025-08-11     3919\n",
              "1    2025-08-12     6056\n",
              "2    2025-08-13     8489\n",
              "3    2025-08-14    10321\n",
              "4    2025-08-15    14065\n",
              "5    2025-08-16    12205\n",
              "6    2025-08-17    11200\n",
              "7    2025-08-18    10839\n",
              "8    2025-08-19    12118\n",
              "9    2025-08-20    13514\n",
              "10   2025-08-21    15051\n",
              "11   2025-08-22    17563\n",
              "12   2025-08-23    16082\n",
              "13   2025-08-24    13683\n",
              "14   2025-08-25    13635\n",
              "15   2025-08-26    13289\n",
              "16   2025-08-27    14766\n",
              "17   2025-08-28    15388\n",
              "18   2025-08-29    16873\n",
              "19   2025-08-30    14891\n",
              "20   2025-08-31    13266\n",
              "21   2025-09-01    12685\n",
              "22   2025-09-02    12672\n",
              "23   2025-09-03    12777\n",
              "24   2025-09-04    13683\n",
              "25   2025-09-05    15324\n",
              "26   2025-09-06    13078\n",
              "27   2025-09-07    12367\n",
              "28   2025-09-08    11826\n",
              "29   2025-09-09    11780\n",
              "30   2025-09-10    12526\n",
              "31   2025-09-11     8623\n",
              "32   2025-09-12     6436\n",
              "33   2025-09-13     5183\n",
              "34   2025-09-14     4364\n",
              "35   2025-09-15     3698\n",
              "36   2025-09-16     3032\n",
              "37   2025-09-17     2548\n",
              "38   2025-09-18     1952\n",
              "39   2025-09-19     1418\n",
              "40   2025-09-20     1100\n",
              "41   2025-09-21      776\n",
              "42   2025-09-22      546\n",
              "43   2025-09-23      317"
            ]
          },
          "metadata": {},
          "output_type": "display_data"
        }
      ],
      "source": [
        "# Делаем группировку по количеству уникальных пользователей по дням\n",
        "group_days = sessions_history.groupby('session_date')['user_id'].nunique().reset_index()\n",
        "display(group_days)"
      ]
    },
    {
      "cell_type": "code",
      "execution_count": 10,
      "metadata": {
        "scrolled": true
      },
      "outputs": [
        {
          "data": {
            "text/html": [
              "<div>\n",
              "<style scoped>\n",
              "    .dataframe tbody tr th:only-of-type {\n",
              "        vertical-align: middle;\n",
              "    }\n",
              "\n",
              "    .dataframe tbody tr th {\n",
              "        vertical-align: top;\n",
              "    }\n",
              "\n",
              "    .dataframe thead th {\n",
              "        text-align: right;\n",
              "    }\n",
              "</style>\n",
              "<table border=\"1\" class=\"dataframe\">\n",
              "  <thead>\n",
              "    <tr style=\"text-align: right;\">\n",
              "      <th></th>\n",
              "      <th>session_date</th>\n",
              "      <th>user_id</th>\n",
              "    </tr>\n",
              "  </thead>\n",
              "  <tbody>\n",
              "    <tr>\n",
              "      <th>0</th>\n",
              "      <td>2025-08-11</td>\n",
              "      <td>169</td>\n",
              "    </tr>\n",
              "    <tr>\n",
              "      <th>1</th>\n",
              "      <td>2025-08-12</td>\n",
              "      <td>336</td>\n",
              "    </tr>\n",
              "    <tr>\n",
              "      <th>2</th>\n",
              "      <td>2025-08-13</td>\n",
              "      <td>464</td>\n",
              "    </tr>\n",
              "    <tr>\n",
              "      <th>3</th>\n",
              "      <td>2025-08-14</td>\n",
              "      <td>625</td>\n",
              "    </tr>\n",
              "    <tr>\n",
              "      <th>4</th>\n",
              "      <td>2025-08-15</td>\n",
              "      <td>840</td>\n",
              "    </tr>\n",
              "    <tr>\n",
              "      <th>5</th>\n",
              "      <td>2025-08-16</td>\n",
              "      <td>916</td>\n",
              "    </tr>\n",
              "    <tr>\n",
              "      <th>6</th>\n",
              "      <td>2025-08-17</td>\n",
              "      <td>833</td>\n",
              "    </tr>\n",
              "    <tr>\n",
              "      <th>7</th>\n",
              "      <td>2025-08-18</td>\n",
              "      <td>860</td>\n",
              "    </tr>\n",
              "    <tr>\n",
              "      <th>8</th>\n",
              "      <td>2025-08-19</td>\n",
              "      <td>831</td>\n",
              "    </tr>\n",
              "    <tr>\n",
              "      <th>9</th>\n",
              "      <td>2025-08-20</td>\n",
              "      <td>1008</td>\n",
              "    </tr>\n",
              "    <tr>\n",
              "      <th>10</th>\n",
              "      <td>2025-08-21</td>\n",
              "      <td>1063</td>\n",
              "    </tr>\n",
              "    <tr>\n",
              "      <th>11</th>\n",
              "      <td>2025-08-22</td>\n",
              "      <td>1251</td>\n",
              "    </tr>\n",
              "    <tr>\n",
              "      <th>12</th>\n",
              "      <td>2025-08-23</td>\n",
              "      <td>1253</td>\n",
              "    </tr>\n",
              "    <tr>\n",
              "      <th>13</th>\n",
              "      <td>2025-08-24</td>\n",
              "      <td>1181</td>\n",
              "    </tr>\n",
              "    <tr>\n",
              "      <th>14</th>\n",
              "      <td>2025-08-25</td>\n",
              "      <td>1060</td>\n",
              "    </tr>\n",
              "    <tr>\n",
              "      <th>15</th>\n",
              "      <td>2025-08-26</td>\n",
              "      <td>1050</td>\n",
              "    </tr>\n",
              "    <tr>\n",
              "      <th>16</th>\n",
              "      <td>2025-08-27</td>\n",
              "      <td>1076</td>\n",
              "    </tr>\n",
              "    <tr>\n",
              "      <th>17</th>\n",
              "      <td>2025-08-28</td>\n",
              "      <td>1175</td>\n",
              "    </tr>\n",
              "    <tr>\n",
              "      <th>18</th>\n",
              "      <td>2025-08-29</td>\n",
              "      <td>1174</td>\n",
              "    </tr>\n",
              "    <tr>\n",
              "      <th>19</th>\n",
              "      <td>2025-08-30</td>\n",
              "      <td>1165</td>\n",
              "    </tr>\n",
              "    <tr>\n",
              "      <th>20</th>\n",
              "      <td>2025-08-31</td>\n",
              "      <td>1105</td>\n",
              "    </tr>\n",
              "    <tr>\n",
              "      <th>21</th>\n",
              "      <td>2025-09-01</td>\n",
              "      <td>1028</td>\n",
              "    </tr>\n",
              "    <tr>\n",
              "      <th>22</th>\n",
              "      <td>2025-09-02</td>\n",
              "      <td>1039</td>\n",
              "    </tr>\n",
              "    <tr>\n",
              "      <th>23</th>\n",
              "      <td>2025-09-03</td>\n",
              "      <td>1035</td>\n",
              "    </tr>\n",
              "    <tr>\n",
              "      <th>24</th>\n",
              "      <td>2025-09-04</td>\n",
              "      <td>1007</td>\n",
              "    </tr>\n",
              "    <tr>\n",
              "      <th>25</th>\n",
              "      <td>2025-09-05</td>\n",
              "      <td>1030</td>\n",
              "    </tr>\n",
              "    <tr>\n",
              "      <th>26</th>\n",
              "      <td>2025-09-06</td>\n",
              "      <td>1023</td>\n",
              "    </tr>\n",
              "    <tr>\n",
              "      <th>27</th>\n",
              "      <td>2025-09-07</td>\n",
              "      <td>1069</td>\n",
              "    </tr>\n",
              "    <tr>\n",
              "      <th>28</th>\n",
              "      <td>2025-09-08</td>\n",
              "      <td>1009</td>\n",
              "    </tr>\n",
              "    <tr>\n",
              "      <th>29</th>\n",
              "      <td>2025-09-09</td>\n",
              "      <td>980</td>\n",
              "    </tr>\n",
              "    <tr>\n",
              "      <th>30</th>\n",
              "      <td>2025-09-10</td>\n",
              "      <td>1015</td>\n",
              "    </tr>\n",
              "    <tr>\n",
              "      <th>31</th>\n",
              "      <td>2025-09-11</td>\n",
              "      <td>824</td>\n",
              "    </tr>\n",
              "    <tr>\n",
              "      <th>32</th>\n",
              "      <td>2025-09-12</td>\n",
              "      <td>669</td>\n",
              "    </tr>\n",
              "    <tr>\n",
              "      <th>33</th>\n",
              "      <td>2025-09-13</td>\n",
              "      <td>537</td>\n",
              "    </tr>\n",
              "    <tr>\n",
              "      <th>34</th>\n",
              "      <td>2025-09-14</td>\n",
              "      <td>440</td>\n",
              "    </tr>\n",
              "    <tr>\n",
              "      <th>35</th>\n",
              "      <td>2025-09-15</td>\n",
              "      <td>383</td>\n",
              "    </tr>\n",
              "    <tr>\n",
              "      <th>36</th>\n",
              "      <td>2025-09-16</td>\n",
              "      <td>286</td>\n",
              "    </tr>\n",
              "    <tr>\n",
              "      <th>37</th>\n",
              "      <td>2025-09-17</td>\n",
              "      <td>272</td>\n",
              "    </tr>\n",
              "    <tr>\n",
              "      <th>38</th>\n",
              "      <td>2025-09-18</td>\n",
              "      <td>201</td>\n",
              "    </tr>\n",
              "    <tr>\n",
              "      <th>39</th>\n",
              "      <td>2025-09-19</td>\n",
              "      <td>132</td>\n",
              "    </tr>\n",
              "    <tr>\n",
              "      <th>40</th>\n",
              "      <td>2025-09-20</td>\n",
              "      <td>107</td>\n",
              "    </tr>\n",
              "    <tr>\n",
              "      <th>41</th>\n",
              "      <td>2025-09-21</td>\n",
              "      <td>87</td>\n",
              "    </tr>\n",
              "    <tr>\n",
              "      <th>42</th>\n",
              "      <td>2025-09-22</td>\n",
              "      <td>68</td>\n",
              "    </tr>\n",
              "    <tr>\n",
              "      <th>43</th>\n",
              "      <td>2025-09-23</td>\n",
              "      <td>32</td>\n",
              "    </tr>\n",
              "  </tbody>\n",
              "</table>\n",
              "</div>"
            ],
            "text/plain": [
              "   session_date  user_id\n",
              "0    2025-08-11      169\n",
              "1    2025-08-12      336\n",
              "2    2025-08-13      464\n",
              "3    2025-08-14      625\n",
              "4    2025-08-15      840\n",
              "5    2025-08-16      916\n",
              "6    2025-08-17      833\n",
              "7    2025-08-18      860\n",
              "8    2025-08-19      831\n",
              "9    2025-08-20     1008\n",
              "10   2025-08-21     1063\n",
              "11   2025-08-22     1251\n",
              "12   2025-08-23     1253\n",
              "13   2025-08-24     1181\n",
              "14   2025-08-25     1060\n",
              "15   2025-08-26     1050\n",
              "16   2025-08-27     1076\n",
              "17   2025-08-28     1175\n",
              "18   2025-08-29     1174\n",
              "19   2025-08-30     1165\n",
              "20   2025-08-31     1105\n",
              "21   2025-09-01     1028\n",
              "22   2025-09-02     1039\n",
              "23   2025-09-03     1035\n",
              "24   2025-09-04     1007\n",
              "25   2025-09-05     1030\n",
              "26   2025-09-06     1023\n",
              "27   2025-09-07     1069\n",
              "28   2025-09-08     1009\n",
              "29   2025-09-09      980\n",
              "30   2025-09-10     1015\n",
              "31   2025-09-11      824\n",
              "32   2025-09-12      669\n",
              "33   2025-09-13      537\n",
              "34   2025-09-14      440\n",
              "35   2025-09-15      383\n",
              "36   2025-09-16      286\n",
              "37   2025-09-17      272\n",
              "38   2025-09-18      201\n",
              "39   2025-09-19      132\n",
              "40   2025-09-20      107\n",
              "41   2025-09-21       87\n",
              "42   2025-09-22       68\n",
              "43   2025-09-23       32"
            ]
          },
          "metadata": {},
          "output_type": "display_data"
        }
      ],
      "source": [
        "# Фильтруем зарегистрированных пользователей, делаем группировку по количеству уникальных пользователей по дням\n",
        "only_reg = sessions_history[sessions_history['registration_flag']==1]\n",
        "group_days_reg = only_reg.groupby('session_date')['user_id'].nunique().reset_index()\n",
        "display(group_days_reg)"
      ]
    },
    {
      "cell_type": "code",
      "execution_count": 11,
      "metadata": {
        "scrolled": true
      },
      "outputs": [
        {
          "data": {
            "text/html": [
              "<div>\n",
              "<style scoped>\n",
              "    .dataframe tbody tr th:only-of-type {\n",
              "        vertical-align: middle;\n",
              "    }\n",
              "\n",
              "    .dataframe tbody tr th {\n",
              "        vertical-align: top;\n",
              "    }\n",
              "\n",
              "    .dataframe thead th {\n",
              "        text-align: right;\n",
              "    }\n",
              "</style>\n",
              "<table border=\"1\" class=\"dataframe\">\n",
              "  <thead>\n",
              "    <tr style=\"text-align: right;\">\n",
              "      <th></th>\n",
              "      <th>session_date</th>\n",
              "      <th>total_users</th>\n",
              "      <th>reg_users</th>\n",
              "    </tr>\n",
              "  </thead>\n",
              "  <tbody>\n",
              "    <tr>\n",
              "      <th>0</th>\n",
              "      <td>2025-08-11</td>\n",
              "      <td>3919</td>\n",
              "      <td>169</td>\n",
              "    </tr>\n",
              "    <tr>\n",
              "      <th>1</th>\n",
              "      <td>2025-08-12</td>\n",
              "      <td>6056</td>\n",
              "      <td>336</td>\n",
              "    </tr>\n",
              "    <tr>\n",
              "      <th>2</th>\n",
              "      <td>2025-08-13</td>\n",
              "      <td>8489</td>\n",
              "      <td>464</td>\n",
              "    </tr>\n",
              "    <tr>\n",
              "      <th>3</th>\n",
              "      <td>2025-08-14</td>\n",
              "      <td>10321</td>\n",
              "      <td>625</td>\n",
              "    </tr>\n",
              "    <tr>\n",
              "      <th>4</th>\n",
              "      <td>2025-08-15</td>\n",
              "      <td>14065</td>\n",
              "      <td>840</td>\n",
              "    </tr>\n",
              "    <tr>\n",
              "      <th>5</th>\n",
              "      <td>2025-08-16</td>\n",
              "      <td>12205</td>\n",
              "      <td>916</td>\n",
              "    </tr>\n",
              "    <tr>\n",
              "      <th>6</th>\n",
              "      <td>2025-08-17</td>\n",
              "      <td>11200</td>\n",
              "      <td>833</td>\n",
              "    </tr>\n",
              "    <tr>\n",
              "      <th>7</th>\n",
              "      <td>2025-08-18</td>\n",
              "      <td>10839</td>\n",
              "      <td>860</td>\n",
              "    </tr>\n",
              "    <tr>\n",
              "      <th>8</th>\n",
              "      <td>2025-08-19</td>\n",
              "      <td>12118</td>\n",
              "      <td>831</td>\n",
              "    </tr>\n",
              "    <tr>\n",
              "      <th>9</th>\n",
              "      <td>2025-08-20</td>\n",
              "      <td>13514</td>\n",
              "      <td>1008</td>\n",
              "    </tr>\n",
              "    <tr>\n",
              "      <th>10</th>\n",
              "      <td>2025-08-21</td>\n",
              "      <td>15051</td>\n",
              "      <td>1063</td>\n",
              "    </tr>\n",
              "    <tr>\n",
              "      <th>11</th>\n",
              "      <td>2025-08-22</td>\n",
              "      <td>17563</td>\n",
              "      <td>1251</td>\n",
              "    </tr>\n",
              "    <tr>\n",
              "      <th>12</th>\n",
              "      <td>2025-08-23</td>\n",
              "      <td>16082</td>\n",
              "      <td>1253</td>\n",
              "    </tr>\n",
              "    <tr>\n",
              "      <th>13</th>\n",
              "      <td>2025-08-24</td>\n",
              "      <td>13683</td>\n",
              "      <td>1181</td>\n",
              "    </tr>\n",
              "    <tr>\n",
              "      <th>14</th>\n",
              "      <td>2025-08-25</td>\n",
              "      <td>13635</td>\n",
              "      <td>1060</td>\n",
              "    </tr>\n",
              "    <tr>\n",
              "      <th>15</th>\n",
              "      <td>2025-08-26</td>\n",
              "      <td>13289</td>\n",
              "      <td>1050</td>\n",
              "    </tr>\n",
              "    <tr>\n",
              "      <th>16</th>\n",
              "      <td>2025-08-27</td>\n",
              "      <td>14766</td>\n",
              "      <td>1076</td>\n",
              "    </tr>\n",
              "    <tr>\n",
              "      <th>17</th>\n",
              "      <td>2025-08-28</td>\n",
              "      <td>15388</td>\n",
              "      <td>1175</td>\n",
              "    </tr>\n",
              "    <tr>\n",
              "      <th>18</th>\n",
              "      <td>2025-08-29</td>\n",
              "      <td>16873</td>\n",
              "      <td>1174</td>\n",
              "    </tr>\n",
              "    <tr>\n",
              "      <th>19</th>\n",
              "      <td>2025-08-30</td>\n",
              "      <td>14891</td>\n",
              "      <td>1165</td>\n",
              "    </tr>\n",
              "    <tr>\n",
              "      <th>20</th>\n",
              "      <td>2025-08-31</td>\n",
              "      <td>13266</td>\n",
              "      <td>1105</td>\n",
              "    </tr>\n",
              "    <tr>\n",
              "      <th>21</th>\n",
              "      <td>2025-09-01</td>\n",
              "      <td>12685</td>\n",
              "      <td>1028</td>\n",
              "    </tr>\n",
              "    <tr>\n",
              "      <th>22</th>\n",
              "      <td>2025-09-02</td>\n",
              "      <td>12672</td>\n",
              "      <td>1039</td>\n",
              "    </tr>\n",
              "    <tr>\n",
              "      <th>23</th>\n",
              "      <td>2025-09-03</td>\n",
              "      <td>12777</td>\n",
              "      <td>1035</td>\n",
              "    </tr>\n",
              "    <tr>\n",
              "      <th>24</th>\n",
              "      <td>2025-09-04</td>\n",
              "      <td>13683</td>\n",
              "      <td>1007</td>\n",
              "    </tr>\n",
              "    <tr>\n",
              "      <th>25</th>\n",
              "      <td>2025-09-05</td>\n",
              "      <td>15324</td>\n",
              "      <td>1030</td>\n",
              "    </tr>\n",
              "    <tr>\n",
              "      <th>26</th>\n",
              "      <td>2025-09-06</td>\n",
              "      <td>13078</td>\n",
              "      <td>1023</td>\n",
              "    </tr>\n",
              "    <tr>\n",
              "      <th>27</th>\n",
              "      <td>2025-09-07</td>\n",
              "      <td>12367</td>\n",
              "      <td>1069</td>\n",
              "    </tr>\n",
              "    <tr>\n",
              "      <th>28</th>\n",
              "      <td>2025-09-08</td>\n",
              "      <td>11826</td>\n",
              "      <td>1009</td>\n",
              "    </tr>\n",
              "    <tr>\n",
              "      <th>29</th>\n",
              "      <td>2025-09-09</td>\n",
              "      <td>11780</td>\n",
              "      <td>980</td>\n",
              "    </tr>\n",
              "    <tr>\n",
              "      <th>30</th>\n",
              "      <td>2025-09-10</td>\n",
              "      <td>12526</td>\n",
              "      <td>1015</td>\n",
              "    </tr>\n",
              "    <tr>\n",
              "      <th>31</th>\n",
              "      <td>2025-09-11</td>\n",
              "      <td>8623</td>\n",
              "      <td>824</td>\n",
              "    </tr>\n",
              "    <tr>\n",
              "      <th>32</th>\n",
              "      <td>2025-09-12</td>\n",
              "      <td>6436</td>\n",
              "      <td>669</td>\n",
              "    </tr>\n",
              "    <tr>\n",
              "      <th>33</th>\n",
              "      <td>2025-09-13</td>\n",
              "      <td>5183</td>\n",
              "      <td>537</td>\n",
              "    </tr>\n",
              "    <tr>\n",
              "      <th>34</th>\n",
              "      <td>2025-09-14</td>\n",
              "      <td>4364</td>\n",
              "      <td>440</td>\n",
              "    </tr>\n",
              "    <tr>\n",
              "      <th>35</th>\n",
              "      <td>2025-09-15</td>\n",
              "      <td>3698</td>\n",
              "      <td>383</td>\n",
              "    </tr>\n",
              "    <tr>\n",
              "      <th>36</th>\n",
              "      <td>2025-09-16</td>\n",
              "      <td>3032</td>\n",
              "      <td>286</td>\n",
              "    </tr>\n",
              "    <tr>\n",
              "      <th>37</th>\n",
              "      <td>2025-09-17</td>\n",
              "      <td>2548</td>\n",
              "      <td>272</td>\n",
              "    </tr>\n",
              "    <tr>\n",
              "      <th>38</th>\n",
              "      <td>2025-09-18</td>\n",
              "      <td>1952</td>\n",
              "      <td>201</td>\n",
              "    </tr>\n",
              "    <tr>\n",
              "      <th>39</th>\n",
              "      <td>2025-09-19</td>\n",
              "      <td>1418</td>\n",
              "      <td>132</td>\n",
              "    </tr>\n",
              "    <tr>\n",
              "      <th>40</th>\n",
              "      <td>2025-09-20</td>\n",
              "      <td>1100</td>\n",
              "      <td>107</td>\n",
              "    </tr>\n",
              "    <tr>\n",
              "      <th>41</th>\n",
              "      <td>2025-09-21</td>\n",
              "      <td>776</td>\n",
              "      <td>87</td>\n",
              "    </tr>\n",
              "    <tr>\n",
              "      <th>42</th>\n",
              "      <td>2025-09-22</td>\n",
              "      <td>546</td>\n",
              "      <td>68</td>\n",
              "    </tr>\n",
              "    <tr>\n",
              "      <th>43</th>\n",
              "      <td>2025-09-23</td>\n",
              "      <td>317</td>\n",
              "      <td>32</td>\n",
              "    </tr>\n",
              "  </tbody>\n",
              "</table>\n",
              "</div>"
            ],
            "text/plain": [
              "   session_date  total_users  reg_users\n",
              "0    2025-08-11         3919        169\n",
              "1    2025-08-12         6056        336\n",
              "2    2025-08-13         8489        464\n",
              "3    2025-08-14        10321        625\n",
              "4    2025-08-15        14065        840\n",
              "5    2025-08-16        12205        916\n",
              "6    2025-08-17        11200        833\n",
              "7    2025-08-18        10839        860\n",
              "8    2025-08-19        12118        831\n",
              "9    2025-08-20        13514       1008\n",
              "10   2025-08-21        15051       1063\n",
              "11   2025-08-22        17563       1251\n",
              "12   2025-08-23        16082       1253\n",
              "13   2025-08-24        13683       1181\n",
              "14   2025-08-25        13635       1060\n",
              "15   2025-08-26        13289       1050\n",
              "16   2025-08-27        14766       1076\n",
              "17   2025-08-28        15388       1175\n",
              "18   2025-08-29        16873       1174\n",
              "19   2025-08-30        14891       1165\n",
              "20   2025-08-31        13266       1105\n",
              "21   2025-09-01        12685       1028\n",
              "22   2025-09-02        12672       1039\n",
              "23   2025-09-03        12777       1035\n",
              "24   2025-09-04        13683       1007\n",
              "25   2025-09-05        15324       1030\n",
              "26   2025-09-06        13078       1023\n",
              "27   2025-09-07        12367       1069\n",
              "28   2025-09-08        11826       1009\n",
              "29   2025-09-09        11780        980\n",
              "30   2025-09-10        12526       1015\n",
              "31   2025-09-11         8623        824\n",
              "32   2025-09-12         6436        669\n",
              "33   2025-09-13         5183        537\n",
              "34   2025-09-14         4364        440\n",
              "35   2025-09-15         3698        383\n",
              "36   2025-09-16         3032        286\n",
              "37   2025-09-17         2548        272\n",
              "38   2025-09-18         1952        201\n",
              "39   2025-09-19         1418        132\n",
              "40   2025-09-20         1100        107\n",
              "41   2025-09-21          776         87\n",
              "42   2025-09-22          546         68\n",
              "43   2025-09-23          317         32"
            ]
          },
          "metadata": {},
          "output_type": "display_data"
        }
      ],
      "source": [
        "# Соединяем две таблицы, меняем названия столбцов\n",
        "groups = group_days.merge(group_days_reg, on='session_date')\n",
        "groups = groups.rename(columns={'user_id_x': 'total_users'})\n",
        "groups = groups.rename(columns={'user_id_y': 'reg_users'})\n",
        "display(groups)"
      ]
    },
    {
      "cell_type": "code",
      "execution_count": 12,
      "metadata": {
        "scrolled": true
      },
      "outputs": [
        {
          "data": {
            "image/png": "[encoded data removed]",
            "text/plain": [
              "<Figure size 648x360 with 1 Axes>"
            ]
          },
          "metadata": {
            "needs_background": "light"
          },
          "output_type": "display_data"
        }
      ],
      "source": [
        "# Строим линейный график по количеству уникальных пользователей и по количеству уникальных зарегистрированных пользователей\n",
        "groups[['total_users', 'reg_users']].plot(kind='line', legend=True, title='Количество уникальных пользователей и уникальных зарегистрированных пользователей', figsize=(9,5))\n",
        "plt.xlabel('День')\n",
        "plt.ylabel('Количество уникальных пользователей')\n",
        "plt.show()"
      ]
    },
    {
      "cell_type": "markdown",
      "metadata": {},
      "source": [
        "<div style=\"background-color: #d4edda; color: #155724; padding: 15px; border-radius: 4px; border: 1px solid #c3e6cb;\">\n",
        "\n",
        "<b>Комментарий ревьюера v2:</b>\n",
        "\n",
        "График динамики числа пользователей реализован корректно! График наглядно отображает тренды как для всех пользователей, так и для зарегистрированных.\n",
        "    \n"
      ]
    },
    {
      "cell_type": "markdown",
      "metadata": {},
      "source": [
        "<div style=\"background-color: #fff3cd; color: #856404; padding: 15px; border-radius: 4px; border: 1px solid #ffeeba;\">\n",
        "\n",
        "<b>Комментарий ревьюера v1:</b>\n",
        "\n",
        "Можно также сделать график чуть крупнее."
      ]
    },
    {
      "cell_type": "code",
      "execution_count": 13,
      "metadata": {
        "scrolled": true
      },
      "outputs": [
        {
          "data": {
            "text/html": [
              "<div>\n",
              "<style scoped>\n",
              "    .dataframe tbody tr th:only-of-type {\n",
              "        vertical-align: middle;\n",
              "    }\n",
              "\n",
              "    .dataframe tbody tr th {\n",
              "        vertical-align: top;\n",
              "    }\n",
              "\n",
              "    .dataframe thead th {\n",
              "        text-align: right;\n",
              "    }\n",
              "</style>\n",
              "<table border=\"1\" class=\"dataframe\">\n",
              "  <thead>\n",
              "    <tr style=\"text-align: right;\">\n",
              "      <th></th>\n",
              "      <th>session_date</th>\n",
              "      <th>total_users</th>\n",
              "      <th>reg_users</th>\n",
              "      <th>share_reg</th>\n",
              "    </tr>\n",
              "  </thead>\n",
              "  <tbody>\n",
              "    <tr>\n",
              "      <th>0</th>\n",
              "      <td>2025-08-11</td>\n",
              "      <td>3919</td>\n",
              "      <td>169</td>\n",
              "      <td>0.043123</td>\n",
              "    </tr>\n",
              "    <tr>\n",
              "      <th>1</th>\n",
              "      <td>2025-08-12</td>\n",
              "      <td>6056</td>\n",
              "      <td>336</td>\n",
              "      <td>0.055482</td>\n",
              "    </tr>\n",
              "    <tr>\n",
              "      <th>2</th>\n",
              "      <td>2025-08-13</td>\n",
              "      <td>8489</td>\n",
              "      <td>464</td>\n",
              "      <td>0.054659</td>\n",
              "    </tr>\n",
              "    <tr>\n",
              "      <th>3</th>\n",
              "      <td>2025-08-14</td>\n",
              "      <td>10321</td>\n",
              "      <td>625</td>\n",
              "      <td>0.060556</td>\n",
              "    </tr>\n",
              "    <tr>\n",
              "      <th>4</th>\n",
              "      <td>2025-08-15</td>\n",
              "      <td>14065</td>\n",
              "      <td>840</td>\n",
              "      <td>0.059723</td>\n",
              "    </tr>\n",
              "    <tr>\n",
              "      <th>5</th>\n",
              "      <td>2025-08-16</td>\n",
              "      <td>12205</td>\n",
              "      <td>916</td>\n",
              "      <td>0.075051</td>\n",
              "    </tr>\n",
              "    <tr>\n",
              "      <th>6</th>\n",
              "      <td>2025-08-17</td>\n",
              "      <td>11200</td>\n",
              "      <td>833</td>\n",
              "      <td>0.074375</td>\n",
              "    </tr>\n",
              "    <tr>\n",
              "      <th>7</th>\n",
              "      <td>2025-08-18</td>\n",
              "      <td>10839</td>\n",
              "      <td>860</td>\n",
              "      <td>0.079343</td>\n",
              "    </tr>\n",
              "    <tr>\n",
              "      <th>8</th>\n",
              "      <td>2025-08-19</td>\n",
              "      <td>12118</td>\n",
              "      <td>831</td>\n",
              "      <td>0.068576</td>\n",
              "    </tr>\n",
              "    <tr>\n",
              "      <th>9</th>\n",
              "      <td>2025-08-20</td>\n",
              "      <td>13514</td>\n",
              "      <td>1008</td>\n",
              "      <td>0.074589</td>\n",
              "    </tr>\n",
              "    <tr>\n",
              "      <th>10</th>\n",
              "      <td>2025-08-21</td>\n",
              "      <td>15051</td>\n",
              "      <td>1063</td>\n",
              "      <td>0.070627</td>\n",
              "    </tr>\n",
              "    <tr>\n",
              "      <th>11</th>\n",
              "      <td>2025-08-22</td>\n",
              "      <td>17563</td>\n",
              "      <td>1251</td>\n",
              "      <td>0.071229</td>\n",
              "    </tr>\n",
              "    <tr>\n",
              "      <th>12</th>\n",
              "      <td>2025-08-23</td>\n",
              "      <td>16082</td>\n",
              "      <td>1253</td>\n",
              "      <td>0.077913</td>\n",
              "    </tr>\n",
              "    <tr>\n",
              "      <th>13</th>\n",
              "      <td>2025-08-24</td>\n",
              "      <td>13683</td>\n",
              "      <td>1181</td>\n",
              "      <td>0.086311</td>\n",
              "    </tr>\n",
              "    <tr>\n",
              "      <th>14</th>\n",
              "      <td>2025-08-25</td>\n",
              "      <td>13635</td>\n",
              "      <td>1060</td>\n",
              "      <td>0.077741</td>\n",
              "    </tr>\n",
              "    <tr>\n",
              "      <th>15</th>\n",
              "      <td>2025-08-26</td>\n",
              "      <td>13289</td>\n",
              "      <td>1050</td>\n",
              "      <td>0.079013</td>\n",
              "    </tr>\n",
              "    <tr>\n",
              "      <th>16</th>\n",
              "      <td>2025-08-27</td>\n",
              "      <td>14766</td>\n",
              "      <td>1076</td>\n",
              "      <td>0.072870</td>\n",
              "    </tr>\n",
              "    <tr>\n",
              "      <th>17</th>\n",
              "      <td>2025-08-28</td>\n",
              "      <td>15388</td>\n",
              "      <td>1175</td>\n",
              "      <td>0.076358</td>\n",
              "    </tr>\n",
              "    <tr>\n",
              "      <th>18</th>\n",
              "      <td>2025-08-29</td>\n",
              "      <td>16873</td>\n",
              "      <td>1174</td>\n",
              "      <td>0.069579</td>\n",
              "    </tr>\n",
              "    <tr>\n",
              "      <th>19</th>\n",
              "      <td>2025-08-30</td>\n",
              "      <td>14891</td>\n",
              "      <td>1165</td>\n",
              "      <td>0.078235</td>\n",
              "    </tr>\n",
              "    <tr>\n",
              "      <th>20</th>\n",
              "      <td>2025-08-31</td>\n",
              "      <td>13266</td>\n",
              "      <td>1105</td>\n",
              "      <td>0.083296</td>\n",
              "    </tr>\n",
              "    <tr>\n",
              "      <th>21</th>\n",
              "      <td>2025-09-01</td>\n",
              "      <td>12685</td>\n",
              "      <td>1028</td>\n",
              "      <td>0.081041</td>\n",
              "    </tr>\n",
              "    <tr>\n",
              "      <th>22</th>\n",
              "      <td>2025-09-02</td>\n",
              "      <td>12672</td>\n",
              "      <td>1039</td>\n",
              "      <td>0.081992</td>\n",
              "    </tr>\n",
              "    <tr>\n",
              "      <th>23</th>\n",
              "      <td>2025-09-03</td>\n",
              "      <td>12777</td>\n",
              "      <td>1035</td>\n",
              "      <td>0.081005</td>\n",
              "    </tr>\n",
              "    <tr>\n",
              "      <th>24</th>\n",
              "      <td>2025-09-04</td>\n",
              "      <td>13683</td>\n",
              "      <td>1007</td>\n",
              "      <td>0.073595</td>\n",
              "    </tr>\n",
              "    <tr>\n",
              "      <th>25</th>\n",
              "      <td>2025-09-05</td>\n",
              "      <td>15324</td>\n",
              "      <td>1030</td>\n",
              "      <td>0.067215</td>\n",
              "    </tr>\n",
              "    <tr>\n",
              "      <th>26</th>\n",
              "      <td>2025-09-06</td>\n",
              "      <td>13078</td>\n",
              "      <td>1023</td>\n",
              "      <td>0.078223</td>\n",
              "    </tr>\n",
              "    <tr>\n",
              "      <th>27</th>\n",
              "      <td>2025-09-07</td>\n",
              "      <td>12367</td>\n",
              "      <td>1069</td>\n",
              "      <td>0.086440</td>\n",
              "    </tr>\n",
              "    <tr>\n",
              "      <th>28</th>\n",
              "      <td>2025-09-08</td>\n",
              "      <td>11826</td>\n",
              "      <td>1009</td>\n",
              "      <td>0.085320</td>\n",
              "    </tr>\n",
              "    <tr>\n",
              "      <th>29</th>\n",
              "      <td>2025-09-09</td>\n",
              "      <td>11780</td>\n",
              "      <td>980</td>\n",
              "      <td>0.083192</td>\n",
              "    </tr>\n",
              "    <tr>\n",
              "      <th>30</th>\n",
              "      <td>2025-09-10</td>\n",
              "      <td>12526</td>\n",
              "      <td>1015</td>\n",
              "      <td>0.081031</td>\n",
              "    </tr>\n",
              "    <tr>\n",
              "      <th>31</th>\n",
              "      <td>2025-09-11</td>\n",
              "      <td>8623</td>\n",
              "      <td>824</td>\n",
              "      <td>0.095558</td>\n",
              "    </tr>\n",
              "    <tr>\n",
              "      <th>32</th>\n",
              "      <td>2025-09-12</td>\n",
              "      <td>6436</td>\n",
              "      <td>669</td>\n",
              "      <td>0.103947</td>\n",
              "    </tr>\n",
              "    <tr>\n",
              "      <th>33</th>\n",
              "      <td>2025-09-13</td>\n",
              "      <td>5183</td>\n",
              "      <td>537</td>\n",
              "      <td>0.103608</td>\n",
              "    </tr>\n",
              "    <tr>\n",
              "      <th>34</th>\n",
              "      <td>2025-09-14</td>\n",
              "      <td>4364</td>\n",
              "      <td>440</td>\n",
              "      <td>0.100825</td>\n",
              "    </tr>\n",
              "    <tr>\n",
              "      <th>35</th>\n",
              "      <td>2025-09-15</td>\n",
              "      <td>3698</td>\n",
              "      <td>383</td>\n",
              "      <td>0.103569</td>\n",
              "    </tr>\n",
              "    <tr>\n",
              "      <th>36</th>\n",
              "      <td>2025-09-16</td>\n",
              "      <td>3032</td>\n",
              "      <td>286</td>\n",
              "      <td>0.094327</td>\n",
              "    </tr>\n",
              "    <tr>\n",
              "      <th>37</th>\n",
              "      <td>2025-09-17</td>\n",
              "      <td>2548</td>\n",
              "      <td>272</td>\n",
              "      <td>0.106750</td>\n",
              "    </tr>\n",
              "    <tr>\n",
              "      <th>38</th>\n",
              "      <td>2025-09-18</td>\n",
              "      <td>1952</td>\n",
              "      <td>201</td>\n",
              "      <td>0.102971</td>\n",
              "    </tr>\n",
              "    <tr>\n",
              "      <th>39</th>\n",
              "      <td>2025-09-19</td>\n",
              "      <td>1418</td>\n",
              "      <td>132</td>\n",
              "      <td>0.093089</td>\n",
              "    </tr>\n",
              "    <tr>\n",
              "      <th>40</th>\n",
              "      <td>2025-09-20</td>\n",
              "      <td>1100</td>\n",
              "      <td>107</td>\n",
              "      <td>0.097273</td>\n",
              "    </tr>\n",
              "    <tr>\n",
              "      <th>41</th>\n",
              "      <td>2025-09-21</td>\n",
              "      <td>776</td>\n",
              "      <td>87</td>\n",
              "      <td>0.112113</td>\n",
              "    </tr>\n",
              "    <tr>\n",
              "      <th>42</th>\n",
              "      <td>2025-09-22</td>\n",
              "      <td>546</td>\n",
              "      <td>68</td>\n",
              "      <td>0.124542</td>\n",
              "    </tr>\n",
              "    <tr>\n",
              "      <th>43</th>\n",
              "      <td>2025-09-23</td>\n",
              "      <td>317</td>\n",
              "      <td>32</td>\n",
              "      <td>0.100946</td>\n",
              "    </tr>\n",
              "  </tbody>\n",
              "</table>\n",
              "</div>"
            ],
            "text/plain": [
              "   session_date  total_users  reg_users  share_reg\n",
              "0    2025-08-11         3919        169   0.043123\n",
              "1    2025-08-12         6056        336   0.055482\n",
              "2    2025-08-13         8489        464   0.054659\n",
              "3    2025-08-14        10321        625   0.060556\n",
              "4    2025-08-15        14065        840   0.059723\n",
              "5    2025-08-16        12205        916   0.075051\n",
              "6    2025-08-17        11200        833   0.074375\n",
              "7    2025-08-18        10839        860   0.079343\n",
              "8    2025-08-19        12118        831   0.068576\n",
              "9    2025-08-20        13514       1008   0.074589\n",
              "10   2025-08-21        15051       1063   0.070627\n",
              "11   2025-08-22        17563       1251   0.071229\n",
              "12   2025-08-23        16082       1253   0.077913\n",
              "13   2025-08-24        13683       1181   0.086311\n",
              "14   2025-08-25        13635       1060   0.077741\n",
              "15   2025-08-26        13289       1050   0.079013\n",
              "16   2025-08-27        14766       1076   0.072870\n",
              "17   2025-08-28        15388       1175   0.076358\n",
              "18   2025-08-29        16873       1174   0.069579\n",
              "19   2025-08-30        14891       1165   0.078235\n",
              "20   2025-08-31        13266       1105   0.083296\n",
              "21   2025-09-01        12685       1028   0.081041\n",
              "22   2025-09-02        12672       1039   0.081992\n",
              "23   2025-09-03        12777       1035   0.081005\n",
              "24   2025-09-04        13683       1007   0.073595\n",
              "25   2025-09-05        15324       1030   0.067215\n",
              "26   2025-09-06        13078       1023   0.078223\n",
              "27   2025-09-07        12367       1069   0.086440\n",
              "28   2025-09-08        11826       1009   0.085320\n",
              "29   2025-09-09        11780        980   0.083192\n",
              "30   2025-09-10        12526       1015   0.081031\n",
              "31   2025-09-11         8623        824   0.095558\n",
              "32   2025-09-12         6436        669   0.103947\n",
              "33   2025-09-13         5183        537   0.103608\n",
              "34   2025-09-14         4364        440   0.100825\n",
              "35   2025-09-15         3698        383   0.103569\n",
              "36   2025-09-16         3032        286   0.094327\n",
              "37   2025-09-17         2548        272   0.106750\n",
              "38   2025-09-18         1952        201   0.102971\n",
              "39   2025-09-19         1418        132   0.093089\n",
              "40   2025-09-20         1100        107   0.097273\n",
              "41   2025-09-21          776         87   0.112113\n",
              "42   2025-09-22          546         68   0.124542\n",
              "43   2025-09-23          317         32   0.100946"
            ]
          },
          "metadata": {},
          "output_type": "display_data"
        }
      ],
      "source": [
        "# Считаем долю зарегистрированных пользователей от общего числа пользователей\n",
        "groups['share_reg'] = groups['reg_users']/groups['total_users']\n",
        "display(groups)"
      ]
    },
    {
      "cell_type": "code",
      "execution_count": 14,
      "metadata": {},
      "outputs": [
        {
          "data": {
            "image/png": "[encoded data removed]",
            "text/plain": [
              "<Figure size 432x288 with 1 Axes>"
            ]
          },
          "metadata": {
            "needs_background": "light"
          },
          "output_type": "display_data"
        }
      ],
      "source": [
        "# Строим линейный график по доле зарегистрированных пользователей от общего числа пользователей\n",
        "groups['share_reg'].plot(kind='line', legend=True, title='Доля зарегистрированных пользователей от общего количества пользователей')\n",
        "plt.xlabel('День')\n",
        "plt.ylabel('Доля')\n",
        "plt.show()"
      ]
    },
    {
      "cell_type": "markdown",
      "metadata": {},
      "source": [
        "<div style=\"background-color: #d4edda; color: #155724; padding: 15px; border-radius: 4px; border: 1px solid #c3e6cb;\">\n",
        "\n",
        "<b>Комментарий ревьюера v2:</b>\n",
        "\n",
        "Отличные графики. Можно дополнительно добавить количественные показатели, например:\n",
        "\n",
        "- Среднее значение доли зарегистрированных пользователей\n",
        "- Дни с максимальным и минимальным значением доли"
      ]
    },
    {
      "cell_type": "markdown",
      "metadata": {},
      "source": [
        "По графику видно, что доля зарегистрированных пользователей со временем увеличивается"
      ]
    },
    {
      "cell_type": "markdown",
      "metadata": {
        "id": "UR7D7RhF0eMr"
      },
      "source": [
        "#### 1.4. Анализ числа просмотренных страниц\n",
        "Другая важная метрика продукта — число просмотренных страниц в приложении. Чем больше страниц просмотрено, тем сильнее пользователь увлечён контентом, а значит, выше шансы на то, что он зарегистрируется и оплатит подписку.\n",
        "\n",
        "- Найдите количество сессий для каждого значения количества просмотренных страниц. Например: одну страницу просмотрели в 29160 сессиях, две страницы в 105536 сессиях и так далее.\n",
        "\n",
        "- Постройте столбчатую диаграмму, где по оси X будет число просмотренных страниц, по оси Y — количество сессий.\n",
        "\n",
        "- На диаграмме должны быть заголовок, подписанные оси X и Y."
      ]
    },
    {
      "cell_type": "code",
      "execution_count": 15,
      "metadata": {
        "id": "cb6hPlVzPaSf"
      },
      "outputs": [
        {
          "data": {
            "text/plain": [
              "page_counter\n",
              "1     29160\n",
              "2    105536\n",
              "3    166690\n",
              "4    105569\n",
              "5     26288\n",
              "6      2589\n",
              "7        92\n",
              "Name: session_id, dtype: int64"
            ]
          },
          "metadata": {},
          "output_type": "display_data"
        }
      ],
      "source": [
        "# Делаем группировку по количеству сессий по количеству просмотренных страниц\n",
        "counts_sessions = sessions_history.groupby('page_counter')['session_id'].count()\n",
        "display(counts_sessions)"
      ]
    },
    {
      "cell_type": "code",
      "execution_count": 16,
      "metadata": {},
      "outputs": [
        {
          "data": {
            "image/png": "[encoded data removed]",
            "text/plain": [
              "<Figure size 432x288 with 1 Axes>"
            ]
          },
          "metadata": {
            "needs_background": "light"
          },
          "output_type": "display_data"
        }
      ],
      "source": [
        "# Строим столбчатую диаграмму распределения количества сессий по количеству просмотренных страниц\n",
        "counts_sessions.plot(kind='bar', title='Распределение количества сессий по количеству просмотренных страниц', xlabel='Количество страниц', ylabel='Количество сессий')\n",
        "plt.show()"
      ]
    },
    {
      "cell_type": "markdown",
      "metadata": {},
      "source": [
        "<div style=\"background-color: #d4edda; color: #155724; padding: 15px; border-radius: 4px; border: 1px solid #c3e6cb;\">\n",
        "\n",
        "<b>Комментарий ревьюера v1:</b>\n",
        "\n",
        "Можно добавить подписи значений над столбцами:\n",
        "    \n",
        "```python\n",
        "for i, v in enumerate(page_view_counts.values):\n",
        "    plt.text(page_view_counts.index[i], v, str(v), ha='center', va='bottom')\n",
        "```"
      ]
    },
    {
      "cell_type": "markdown",
      "metadata": {},
      "source": [
        "<div style=\"background-color: #d4edda; color: #155724; padding: 15px; border-radius: 4px; border: 1px solid #c3e6cb;\">\n",
        "\n",
        "<b>Комментарий ревьюера v1:</b>\n",
        "\n",
        "Верный график и результаты 👏"
      ]
    },
    {
      "cell_type": "markdown",
      "metadata": {
        "id": "xDltSpVP0eMr"
      },
      "source": [
        "#### 1.5. Доля пользователей, просмотревших более четырёх страниц\n",
        "Продуктовая команда продукта считает, что сессии, в рамках которых пользователь просмотрел 4 и более страниц, говорят об удовлетворённости контентом и алгоритмами рекомендаций. Этот показатель является важной прокси-метрикой для продукта.\n",
        "\n",
        "- В датафрейме `sessions_history` создайте дополнительный столбец `good_session`. В него войдёт значение `1`, если за одну сессию было просмотрено 4 и более страниц, и значение `0`, если было просмотрено меньше.\n",
        "\n",
        "- Постройте график со средним значением доли успешных сессий ко всем сессиям по дням за весь период наблюдения."
      ]
    },
    {
      "cell_type": "code",
      "execution_count": 17,
      "metadata": {},
      "outputs": [
        {
          "data": {
            "text/html": [
              "<div>\n",
              "<style scoped>\n",
              "    .dataframe tbody tr th:only-of-type {\n",
              "        vertical-align: middle;\n",
              "    }\n",
              "\n",
              "    .dataframe tbody tr th {\n",
              "        vertical-align: top;\n",
              "    }\n",
              "\n",
              "    .dataframe thead th {\n",
              "        text-align: right;\n",
              "    }\n",
              "</style>\n",
              "<table border=\"1\" class=\"dataframe\">\n",
              "  <thead>\n",
              "    <tr style=\"text-align: right;\">\n",
              "      <th></th>\n",
              "      <th>page_counter</th>\n",
              "      <th>good_session</th>\n",
              "    </tr>\n",
              "  </thead>\n",
              "  <tbody>\n",
              "    <tr>\n",
              "      <th>0</th>\n",
              "      <td>3</td>\n",
              "      <td>0</td>\n",
              "    </tr>\n",
              "    <tr>\n",
              "      <th>1</th>\n",
              "      <td>4</td>\n",
              "      <td>1</td>\n",
              "    </tr>\n",
              "    <tr>\n",
              "      <th>2</th>\n",
              "      <td>4</td>\n",
              "      <td>1</td>\n",
              "    </tr>\n",
              "    <tr>\n",
              "      <th>3</th>\n",
              "      <td>4</td>\n",
              "      <td>1</td>\n",
              "    </tr>\n",
              "    <tr>\n",
              "      <th>4</th>\n",
              "      <td>3</td>\n",
              "      <td>0</td>\n",
              "    </tr>\n",
              "    <tr>\n",
              "      <th>...</th>\n",
              "      <td>...</td>\n",
              "      <td>...</td>\n",
              "    </tr>\n",
              "    <tr>\n",
              "      <th>435919</th>\n",
              "      <td>3</td>\n",
              "      <td>0</td>\n",
              "    </tr>\n",
              "    <tr>\n",
              "      <th>435920</th>\n",
              "      <td>4</td>\n",
              "      <td>1</td>\n",
              "    </tr>\n",
              "    <tr>\n",
              "      <th>435921</th>\n",
              "      <td>4</td>\n",
              "      <td>1</td>\n",
              "    </tr>\n",
              "    <tr>\n",
              "      <th>435922</th>\n",
              "      <td>4</td>\n",
              "      <td>1</td>\n",
              "    </tr>\n",
              "    <tr>\n",
              "      <th>435923</th>\n",
              "      <td>2</td>\n",
              "      <td>0</td>\n",
              "    </tr>\n",
              "  </tbody>\n",
              "</table>\n",
              "<p>435924 rows × 2 columns</p>\n",
              "</div>"
            ],
            "text/plain": [
              "        page_counter  good_session\n",
              "0                  3             0\n",
              "1                  4             1\n",
              "2                  4             1\n",
              "3                  4             1\n",
              "4                  3             0\n",
              "...              ...           ...\n",
              "435919             3             0\n",
              "435920             4             1\n",
              "435921             4             1\n",
              "435922             4             1\n",
              "435923             2             0\n",
              "\n",
              "[435924 rows x 2 columns]"
            ]
          },
          "metadata": {},
          "output_type": "display_data"
        }
      ],
      "source": [
        "# Создаем функцию, которая сохраняет значения 1 или 0 в зависимости от количества просмотренных страниц. \n",
        "# Создаем новый столбец, отражающий успешность сессий\n",
        "def counts_pages(value):\n",
        "    if value >= 4:\n",
        "        return 1\n",
        "    else:\n",
        "        return 0\n",
        "sessions_history['good_session'] = sessions_history['page_counter'].apply(counts_pages)    \n",
        "display(sessions_history[['page_counter', 'good_session']])   "
      ]
    },
    {
      "cell_type": "markdown",
      "metadata": {},
      "source": [
        "<div style=\"background-color: #d4edda; color: #155724; padding: 15px; border-radius: 4px; border: 1px solid #c3e6cb;\">\n",
        "\n",
        "<b>Комментарий ревьюера v1:</b>\n",
        "\n",
        "Отличное решение использовать булево выражение с преобразованием в int для создания бинарного признака.\n",
        "    \n",
        "Тут можно также использовать `np.where()` - может быть предпочтительнее в более сложных случаях или при работе с большими объемами данных\n",
        "    \n",
        "```python\n",
        "df_sessions_project_history[\"good_session\"] = np.where(df_sessions_project_history[\"page_counter\"] >= 4, 1, 0)\n",
        "```\n",
        "    "
      ]
    },
    {
      "cell_type": "code",
      "execution_count": 18,
      "metadata": {
        "scrolled": true
      },
      "outputs": [
        {
          "data": {
            "image/png": "[encoded data removed]",
            "text/plain": [
              "<Figure size 432x288 with 1 Axes>"
            ]
          },
          "metadata": {
            "needs_background": "light"
          },
          "output_type": "display_data"
        }
      ],
      "source": [
        "# Делаем группировку по среднему количеству успешных сессий по дням, строим линейный график по доле успешных сессий\n",
        "group_avg = sessions_history.groupby(\"session_date\").agg({\"good_session\" : 'mean'})\n",
        "group_avg.plot(kind='line', title='Доля успешных сессий по дням')\n",
        "plt.xlabel('День')\n",
        "plt.ylabel('Доля')\n",
        "mean_all = sessions_history['good_session'].mean()\n",
        "plt.axhline(mean_all, color='red', linestyle='--', label='Среднее значение')\n",
        "plt.show()"
      ]
    },
    {
      "cell_type": "code",
      "execution_count": 19,
      "metadata": {},
      "outputs": [
        {
          "name": "stdout",
          "output_type": "stream",
          "text": [
            "Среднее за весь период: 0.30862719189583504\n",
            "Стандартное отклонение: 0.46192741616004496\n"
          ]
        }
      ],
      "source": [
        "# Pасчета стандартного отклонения\n",
        "print(f\"Среднее за весь период: {mean_all}\")\n",
        "std_dev = sessions_history['good_session'].std()\n",
        "print(f'Стандартное отклонение: {std_dev}')  "
      ]
    },
    {
      "cell_type": "markdown",
      "metadata": {},
      "source": [
        "Значение стандартного отклонения свидетельствует о довольно большом разбросе данных. Поскольку стаднратное отклонение выше среднего, это указывает на достаточно высокий уровень вариации данных"
      ]
    },
    {
      "cell_type": "markdown",
      "metadata": {},
      "source": [
        "<div style=\"background-color: #d4edda; color: #155724; padding: 15px; border-radius: 4px; border: 1px solid #c3e6cb;\">\n",
        "\n",
        "<b>Комментарий ревьюера v1:</b>\n",
        "\n",
        "График информативен и хорошо оформлен.\n",
        "    \n",
        "Если наблюдается снижение метрики, это может быть связано со спадом активности пользователей.\n",
        "\n",
        "Высокая вариативность может указывать на нестабильность поведения пользователей.\n",
        "    \n",
        "Дополнительно можно добавить больше информации по целевой метрике:\n",
        "    \n",
        "- Расчитать среднее значение целевой метрики за весь период и за последний период времени.\n",
        "\n",
        "```python\n",
        "# Среднее значение за весь период\n",
        "mean_all = daily_good_sessions[\"good_session\"].mean()\n",
        "\n",
        "# Среднее значение за последний период (например, последние 7 дней)\n",
        "mean_last_period = daily_good_sessions.tail(7)[\"good_session\"].mean()\n",
        "\n",
        "print(f\"Среднее за весь период: {mean_all}\")\n",
        "print(f\"Среднее за последний период: {mean_last_period}\")\n",
        "```\n",
        "    \n",
        "Можно также добавить линию среднего значения на график:\n",
        "    \n",
        "```python\n",
        "# Линия среднего значения\n",
        "plt.axhline(mean_all, color='red', linestyle='--', label=\"Среднее значение\")\n",
        "```    \n",
        "    \n",
        "Также было бы полезно указать на вариативность метрики в последний период, что связано с спадом активности.\n",
        " \n",
        "```python\n",
        "# Пример расчета стандартного отклонения\n",
        "std_dev = daily_good_sessions[\"good_session\"].std()\n",
        "print(f\"Стандартное отклонение: {std_dev}\")    \n",
        "```       "
      ]
    },
    {
      "cell_type": "markdown",
      "metadata": {
        "id": "21JcG77Y0eMt"
      },
      "source": [
        "### 2. Подготовка к тесту\n",
        "При планировании теста необходимо проделать несколько важных шагов:\n",
        "\n",
        "- Определиться с целевой метрикой.\n",
        "\n",
        "- Рассчитать необходимый размер выборки.\n",
        "\n",
        "- Исходя из текущих значений трафика, рассчитать необходимую длительность проведения теста."
      ]
    },
    {
      "cell_type": "markdown",
      "metadata": {
        "id": "uzaeln270eMt"
      },
      "source": [
        "#### 2.1. Расчёт размера выборки\n",
        "В рамках курса вам уже приходилось рассчитывать размеры выборки, используя онлайн-калькуляторы. В этом задании предлагаем воспользоваться готовым кодом и рассчитать необходимое для вашего дизайна эксперимента количество пользователей.\n",
        "\n",
        "Для этого установите в коде ниже следующие параметры:\n",
        "\n",
        "- Уровень значимости — 0.05.\n",
        "\n",
        "- Вероятность ошибки второго рода — 0.2.\n",
        "\n",
        "- Мощность теста.\n",
        "\n",
        "- Минимальный детектируемый эффект, или MDE, — 3%. Обратите внимание, что здесь нужно указать десятичную дробь, а не процент.\n",
        "\n",
        "При расчёте размера выборки мы будем использовать метод `solve_power()` из класса `power.NormalIndPower` модуля `statsmodels.stats`.\n",
        "\n",
        "Запустите ячейку и изучите полученное значение."
      ]
    },
    {
      "cell_type": "code",
      "execution_count": 20,
      "metadata": {
        "id": "zSxJyPGPNdaI"
      },
      "outputs": [
        {
          "name": "stdout",
          "output_type": "stream",
          "text": [
            "Необходимый размер выборки для каждой группы: 17441\n"
          ]
        }
      ],
      "source": [
        "from statsmodels.stats.power import NormalIndPower\n",
        "\n",
        "# Задаём параметры\n",
        "alpha = 0.05  # Уровень значимости\n",
        "beta = 0.2  # Ошибка второго рода, часто 1 - мощность\n",
        "power = 1 - beta  # Мощность теста\n",
        "mde = 0.03  # Минимальный детектируемый эффект\n",
        "\n",
        "# Инициализируем класс NormalIndPower\n",
        "power_analysis = NormalIndPower()\n",
        "\n",
        "# Рассчитываем размер выборки\n",
        "sample_size = power_analysis.solve_power(\n",
        "    effect_size = mde,\n",
        "    power = power,\n",
        "    alpha = alpha,\n",
        "    ratio = 1 # Равномерное распределение выборок\n",
        ")\n",
        "\n",
        "print(f\"Необходимый размер выборки для каждой группы: {int(sample_size)}\")"
      ]
    },
    {
      "cell_type": "markdown",
      "metadata": {},
      "source": [
        "<div style=\"background-color: #d4edda; color: #155724; padding: 15px; border-radius: 4px; border: 1px solid #c3e6cb;\">\n",
        "\n",
        "<b>Комментарий ревьюера v1:</b>\n",
        "\n",
        "Все верно!\n",
        "    \n",
        "`power` можно также задать через `beta`: `power = 1 - beta`\n",
        "    \n",
        "    \n",
        "PS: В параметр effect_size передается абсолютная разница (MDE = 0.03), но для NormalIndPower требуется стандартизированная разница (Cohen’s h). Это приводит к некорректному расчету размера выборки.\n",
        "    \n",
        "Рассчитать стандартизированную разницу можно по формуле:\n",
        "   \n",
        "```python\n",
        "p1 = 0.5  # Базовая конверсия (пример)\n",
        "p2 = p1 + mde\n",
        "effect_size = (p2 - p1) / np.sqrt((p1*(1-p1) + p2*(1-p2))/2)\n",
        "```\n",
        " \n",
        "Стандартизированная разница учитывает не только величину эффекта, но и дисперсию данных. Игнорирование этого приводит к заниженным/завышенным оценкам размера выборки."
      ]
    },
    {
      "cell_type": "markdown",
      "metadata": {
        "id": "qLEv4RoV0eMu"
      },
      "source": [
        "#### 2.1. Расчёт длительности A/B-теста\n",
        "\n",
        "Используйте данные о количестве пользователей в каждой выборке и среднем количестве пользователей приложения. Рассчитайте длительность теста, разделив одно на другое.\n",
        "\n",
        "- Рассчитайте среднее количество уникальных пользователей приложения в день.\n",
        "\n",
        "- Определите длительность теста, исходя из рассчитанного значения размера выборок и среднего дневного трафика приложения. Количество дней округлите в большую сторону."
      ]
    },
    {
      "cell_type": "code",
      "execution_count": 21,
      "metadata": {
        "id": "KZDRbryDOGHa"
      },
      "outputs": [
        {
          "name": "stdout",
          "output_type": "stream",
          "text": [
            "Рассчитанная длительность A/B-теста при текущем уровене трафика в 9907.363636363636 пользователей в день составит 4 дня\n"
          ]
        }
      ],
      "source": [
        "from math import ceil\n",
        "\n",
        "# Среднее количество пользователей приложения в день по историческим данным\n",
        "avg_daily_users = sessions_history.groupby('session_date').agg({\"user_id\" : 'nunique'}).mean().iloc[0]\n",
        "\n",
        "# Рассчитываем длительность теста в днях как отношение размера выборки к среднему числу пользователей\n",
        "test_duration = ceil(sample_size*2/avg_daily_users)\n",
        "\n",
        "print(f\"Рассчитанная длительность A/B-теста при текущем уровене трафика в {avg_daily_users} пользователей в день составит {test_duration} дня\")"
      ]
    },
    {
      "cell_type": "markdown",
      "metadata": {},
      "source": [
        "<div style=\"background-color: #d4edda; color: #155724; padding: 15px; border-radius: 4px; border: 1px solid #c3e6cb;\">\n",
        "\n",
        "<b>Комментарий ревьюера v1:</b>\n",
        "\n",
        "Также все верно! \n",
        "    "
      ]
    },
    {
      "cell_type": "markdown",
      "metadata": {
        "id": "ZuvtAdha0eMv"
      },
      "source": [
        "### 3. Мониторинг А/В-теста"
      ]
    },
    {
      "cell_type": "markdown",
      "metadata": {
        "id": "jq5sE3Ya0eMv"
      },
      "source": [
        "#### 3.1. Проверка распределения пользователей\n",
        "\n",
        "A/B-тест успешно запущен, и уже доступны данные за первые три дня. На этом этапе нужно убедиться, что всё идёт хорошо: пользователи разделены правильным образом, а интересующие вас метрики корректно считаются.\n",
        "\n",
        "- Считайте и сохраните в датафрейм `sessions_test_part` CSV-файл с историческими данными о сессиях пользователей `sessions_project_test_part.csv`.\n",
        "\n",
        "- Рассчитайте количество уникальных пользователей в каждой из экспериментальных групп для одного дня наблюдения.\n",
        "\n",
        "- Рассчитайте и выведите на экран процентную разницу в количестве пользователей в группах A и B. Постройте любую удобную визуализацию, на которой можно было бы увидеть возможное различие двух групп.\n",
        "\n",
        "Для расчёта процентной разницы воспользуйтесь формулой:\n",
        "$$P = 100 \\cdot  \\frac{|A − B|}{A}$$"
      ]
    },
    {
      "cell_type": "code",
      "execution_count": 22,
      "metadata": {
        "id": "G1bqIzDJOUiz"
      },
      "outputs": [],
      "source": [
        "# Выгружаем данные в переменную sessions_test_part\n",
        "sessions_test_part = pd.read_csv('https://code.s3.yandex.net/datasets/sessions_project_test_part.csv')"
      ]
    },
    {
      "cell_type": "code",
      "execution_count": 23,
      "metadata": {},
      "outputs": [
        {
          "data": {
            "text/plain": [
              "session_date  test_group\n",
              "2025-10-14    A             1477\n",
              "              B             1466\n",
              "Name: user_id, dtype: int64"
            ]
          },
          "metadata": {},
          "output_type": "display_data"
        }
      ],
      "source": [
        "# Делаем группировку по количеству уникальных пользователей по группам\n",
        "group_test = sessions_test_part.groupby(['session_date', 'test_group'])['user_id'].nunique()\n",
        "display(group_test)"
      ]
    },
    {
      "cell_type": "markdown",
      "metadata": {},
      "source": [
        "<div style=\"background-color: #fff3cd; color: #856404; padding: 15px; border-radius: 4px; border: 1px solid #ffeeba;\">\n",
        "\n",
        "<b>Комментарий ревьюера v1:</b>\n",
        "\n",
        "В группировку данных можно добавить также агрегацию по дням, чтобы код можно использовать дальше для анализа теста."
      ]
    },
    {
      "cell_type": "code",
      "execution_count": 24,
      "metadata": {},
      "outputs": [
        {
          "name": "stdout",
          "output_type": "stream",
          "text": [
            "Процентная разница составляет 0.74%\n"
          ]
        }
      ],
      "source": [
        "# Рассчитываем процентную разницу в количестве пользователей в группах\n",
        "a = 1477\n",
        "b = 1466\n",
        "p = 100 * abs(a - b) / a\n",
        "print(f'Процентная разница составляет {round(p,2)}%')"
      ]
    },
    {
      "cell_type": "code",
      "execution_count": 25,
      "metadata": {},
      "outputs": [
        {
          "data": {
            "image/png": "[encoded data removed]",
            "text/plain": [
              "<Figure size 432x288 with 1 Axes>"
            ]
          },
          "metadata": {
            "needs_background": "light"
          },
          "output_type": "display_data"
        }
      ],
      "source": [
        "daily_users = sessions_test_part.groupby(['session_date', 'test_group'])['user_id'].nunique().unstack()\n",
        "daily_users.plot(kind='bar', figsize=(6, 4), xlabel='Дата', ylabel='Количество пользователей')\n",
        "plt.title('Распределение пользователей по группам')\n",
        "plt.show()"
      ]
    },
    {
      "cell_type": "markdown",
      "metadata": {},
      "source": [
        "<div style=\"background-color: #fff3cd; color: #856404; padding: 15px; border-radius: 4px; border: 1px solid #ffeeba;\">\n",
        "\n",
        "<b>Комментарий ревьюера v1:</b>\n",
        "\n",
        "Можно также построить столбчатый график или вывести таблицу с распределением пользователей по группам.\n",
        "    \n",
        "```python\n",
        "daily_users = sessions_test_part.groupby(['session_date', 'test_group'])['user_id'].nunique().unstack()\n",
        "daily_users.plot(kind='bar', figsize=(12, 6))\n",
        "plt.title('Распределение пользователей по группам')\n",
        "plt.show()\n",
        "```"
      ]
    },
    {
      "cell_type": "markdown",
      "metadata": {
        "id": "sgpNY5bv0eM0"
      },
      "source": [
        "#### 3.2. Проверка пересечений пользователей\n",
        "Помимо проверки равенства количества пользователей в группах полезно убедиться в том, что группы независимы. Для этого нужно убедиться, что никто из пользователей случайно не попал в обе группы одновременно.\n",
        "\n",
        "- Рассчитайте количество пользователей, которые встречаются одновременно в группах A и B, или убедитесь, что таких нет."
      ]
    },
    {
      "cell_type": "code",
      "execution_count": 26,
      "metadata": {
        "id": "E72ozN9FOX1u"
      },
      "outputs": [
        {
          "data": {
            "text/plain": [
              "0"
            ]
          },
          "execution_count": 26,
          "metadata": {},
          "output_type": "execute_result"
        }
      ],
      "source": [
        "# Создаем переменные, содержащие информацию только о пользователях группы А и В, \n",
        "# находим количество пользователей, находящихся в обеих группах\n",
        "group_a = sessions_test_part[sessions_test_part['test_group']=='A']\n",
        "group_b = sessions_test_part[sessions_test_part['test_group']=='B']\n",
        "len(set(group_a['user_id']).intersection(set(group_b['user_id'])))"
      ]
    },
    {
      "cell_type": "markdown",
      "metadata": {},
      "source": [
        "Группы независимы. Пользователей, встречающихся в обеих группах не обнаружено"
      ]
    },
    {
      "cell_type": "markdown",
      "metadata": {},
      "source": [
        "<div style=\"background-color: #d4edda; color: #155724; padding: 15px; border-radius: 4px; border: 1px solid #c3e6cb;\">\n",
        "\n",
        "<b>Комментарий ревьюера v1:</b>\n",
        "\n",
        "\n",
        "Проверка пересечений пользователей проведена верно! Важный шаг для любого АВ теста, где предполагается независимый тест."
      ]
    },
    {
      "cell_type": "markdown",
      "metadata": {
        "id": "6RvkNLrg0eM1"
      },
      "source": [
        "#### 3.3. Равномерность разделения пользователей по устройствам\n",
        "Полезно также убедиться в том, что пользователи равномерно распределены по всем доступным категориальным переменным — типам устройства и регионам.\n",
        "\n",
        "Постройте две диаграммы:\n",
        "\n",
        "- доля каждого типа устройства для пользователей из группы A,\n",
        "\n",
        "- доля каждого типа устройства для пользователей из группы B.\n",
        "\n",
        "Постарайтесь добавить на диаграммы все необходимые подписи, пояснения и заголовки, которые позволят сделать вывод о том, совпадает ли распределение устройств в группах A и B.\n"
      ]
    },
    {
      "cell_type": "code",
      "execution_count": 27,
      "metadata": {
        "id": "x_IP6PUNPWHC"
      },
      "outputs": [
        {
          "data": {
            "text/plain": [
              "device\n",
              "Android    0.444144\n",
              "Mac        0.105619\n",
              "PC         0.249831\n",
              "iPhone     0.200406\n",
              "Name: user_id, dtype: float64"
            ]
          },
          "metadata": {},
          "output_type": "display_data"
        }
      ],
      "source": [
        "# Делаем группировку по доле каждого типа устройства для пользователей группы А\n",
        "group_a_share = group_a.groupby('device')['user_id'].nunique()/group_a['user_id'].nunique()\n",
        "display(group_a_share)"
      ]
    },
    {
      "cell_type": "code",
      "execution_count": 28,
      "metadata": {},
      "outputs": [
        {
          "data": {
            "image/png": "[encoded data removed]",
            "text/plain": [
              "<Figure size 432x288 with 1 Axes>"
            ]
          },
          "metadata": {
            "needs_background": "light"
          },
          "output_type": "display_data"
        }
      ],
      "source": [
        "# Строим столбчатую диаграмму по доле каждого типа устройства для пользователей из группы A\n",
        "group_a_share.plot(kind='bar', title='Доля каждого типа устройства для пользователей из группы A', xlabel='Тип устройства', ylabel='Доля')\n",
        "plt.show()"
      ]
    },
    {
      "cell_type": "code",
      "execution_count": 29,
      "metadata": {},
      "outputs": [
        {
          "data": {
            "text/plain": [
              "device\n",
              "Android    0.455662\n",
              "Mac        0.100955\n",
              "PC         0.259891\n",
              "iPhone     0.183492\n",
              "Name: user_id, dtype: float64"
            ]
          },
          "metadata": {},
          "output_type": "display_data"
        }
      ],
      "source": [
        "# Делаем группировку по доле каждого типа устройства для пользователей группы В\n",
        "group_b_share = group_b.groupby('device')['user_id'].nunique()/group_b['user_id'].nunique()\n",
        "display(group_b_share)"
      ]
    },
    {
      "cell_type": "code",
      "execution_count": 30,
      "metadata": {
        "scrolled": true
      },
      "outputs": [
        {
          "data": {
            "image/png": "[encoded data removed]",
            "text/plain": [
              "<Figure size 432x288 with 1 Axes>"
            ]
          },
          "metadata": {
            "needs_background": "light"
          },
          "output_type": "display_data"
        }
      ],
      "source": [
        "# Строим столбчатую диаграмму по доле каждого типа устройства для пользователей из группы В\n",
        "group_b_share.plot(kind='bar', title='Доля каждого типа устройства для пользователей из группы B', xlabel='Тип устройства', ylabel='Доля')\n",
        "plt.show()"
      ]
    },
    {
      "cell_type": "markdown",
      "metadata": {},
      "source": [
        "Распределение устройств в группах очень близкое друг к другу, можно сделать вывод о совпадении"
      ]
    },
    {
      "cell_type": "markdown",
      "metadata": {},
      "source": [
        "<div style=\"background-color: #f8d7da; color: #721c24; padding: 15px; border-radius: 4px; border: 1px solid #f5c6cb;\">\n",
        "\n",
        "<b>Комментарий ревьюера v1:</b>\n",
        "\n",
        "Обрати пожалуйста внимание, что в текущей реализации ты анализируешь распределение устройств по сессиям, а не по уникальным пользователям. Это может привести к неверным выводам. Один пользователь может иметь несколько сессий на одном устройстве, что искажает анализ равномерности распределения пользователей. Например, если в группе A есть активный пользователь с 10 сессиями на iOS, это может создать ложное впечатление о преобладании iOS-пользователей.\n",
        "    \n",
        "В данном случае нужно провести анализ по уникальным пользователям.\n",
        "    \n",
        "Поправишь, пожалуйста?"
      ]
    },
    {
      "cell_type": "markdown",
      "metadata": {},
      "source": [
        "<div style=\"background-color: #d4edda; color: #155724; padding: 15px; border-radius: 4px; border: 1px solid #c3e6cb;\">\n",
        "\n",
        "<b>Комментарий ревьюера v2:</b>\n",
        "\n",
        "Отлично! Здорово, что поправила."
      ]
    },
    {
      "cell_type": "markdown",
      "metadata": {
        "id": "gAgmP6vo0eM1"
      },
      "source": [
        "#### 3.4. Равномерность распределения пользователей по регионам\n",
        "Теперь убедитесь, что пользователи равномерно распределены по регионам.\n",
        "\n",
        "Постройте две диаграммы:\n",
        "\n",
        "- доля каждого региона для пользователей из группы A,\n",
        "\n",
        "- доля каждого региона для пользователей из группы B.\n",
        "\n",
        "Постарайтесь добавить на диаграммы все необходимые подписи, пояснения и заголовки, которые позволят сделать вывод о том, совпадает ли распределение регионов в группах A и B. Постарайтесь использовать другой тип диаграммы, не тот, что в прошлом задании.\n"
      ]
    },
    {
      "cell_type": "code",
      "execution_count": 31,
      "metadata": {},
      "outputs": [
        {
          "data": {
            "text/plain": [
              "region\n",
              "CIS     0.436019\n",
              "EU      0.151659\n",
              "MENA    0.412322\n",
              "Name: user_id, dtype: float64"
            ]
          },
          "metadata": {},
          "output_type": "display_data"
        }
      ],
      "source": [
        "# Делаем группировку по доле каждого региона для пользователей группы А\n",
        "group_a_share_region = group_a.groupby('region')['user_id'].nunique()/group_a['user_id'].nunique()\n",
        "display(group_a_share_region)"
      ]
    },
    {
      "cell_type": "code",
      "execution_count": 32,
      "metadata": {
        "scrolled": true
      },
      "outputs": [
        {
          "data": {
            "image/png": "[encoded data removed]",
            "text/plain": [
              "<Figure size 432x288 with 1 Axes>"
            ]
          },
          "metadata": {
            "needs_background": "light"
          },
          "output_type": "display_data"
        }
      ],
      "source": [
        "# Строим столбчатую диаграмму по доле каждого региона для пользователей из группы А\n",
        "group_a_share_region.plot(kind='bar', title='Доля каждого региона для пользователей из группы A', xlabel='Регион', ylabel='Доля')\n",
        "plt.show()"
      ]
    },
    {
      "cell_type": "code",
      "execution_count": 33,
      "metadata": {
        "id": "3hAq-FG4OdYM"
      },
      "outputs": [
        {
          "data": {
            "text/plain": [
              "region\n",
              "CIS     0.439973\n",
              "EU      0.148022\n",
              "MENA    0.412005\n",
              "Name: user_id, dtype: float64"
            ]
          },
          "metadata": {},
          "output_type": "display_data"
        }
      ],
      "source": [
        "# Делаем группировку по доле каждого региона для пользователей группы В\n",
        "group_b_share_region = group_b.groupby('region')['user_id'].nunique()/group_b['user_id'].nunique()\n",
        "display(group_b_share_region)"
      ]
    },
    {
      "cell_type": "code",
      "execution_count": 34,
      "metadata": {
        "scrolled": true
      },
      "outputs": [
        {
          "data": {
            "image/png": "[encoded data removed]",
            "text/plain": [
              "<Figure size 432x288 with 1 Axes>"
            ]
          },
          "metadata": {
            "needs_background": "light"
          },
          "output_type": "display_data"
        }
      ],
      "source": [
        "# Строим столбчатую диаграмму по доле каждого региона для пользователей из группы В\n",
        "group_b_share_region.plot(kind='bar', title='Доля каждого региона для пользователей из группы B', xlabel='Регион', ylabel='Доля')\n",
        "plt.show()"
      ]
    },
    {
      "cell_type": "markdown",
      "metadata": {},
      "source": [
        "Распределение по регионам в группах очень близкое друг к другу, можно сделать вывод о совпадении"
      ]
    },
    {
      "cell_type": "markdown",
      "metadata": {},
      "source": [
        "<div style=\"background-color: #f8d7da; color: #721c24; padding: 15px; border-radius: 4px; border: 1px solid #f5c6cb;\">\n",
        "\n",
        "\n",
        "<b>Комментарий ревьюера v1:</b>\n",
        "\n",
        "Здесь также можешь, пожалуйста, посчитать распределения для уникальных пользователей вместо сессий?"
      ]
    },
    {
      "cell_type": "markdown",
      "metadata": {},
      "source": [
        "<div style=\"background-color: #d4edda; color: #155724; padding: 15px; border-radius: 4px; border: 1px solid #c3e6cb;\">\n",
        "\n",
        "<b>Комментарий ревьюера v2:</b>\n",
        "\n",
        "Теперь все верно."
      ]
    },
    {
      "cell_type": "markdown",
      "metadata": {
        "id": "X2WSZ-sDrSUi"
      },
      "source": [
        "#### 3.5. Вывод после проверки A/B-теста\n",
        "\n",
        "На основе проведённого анализа A/B-теста сформулируйте и запишите свои выводы. В выводе обязательно укажите:\n",
        "\n",
        "- Были ли обнаружено различие в количестве пользователей в двух группах.\n",
        "\n",
        "- Являются ли выборки независимыми. Было ли обнаружено пересечение пользователей из тестовой и контрольной групп.\n",
        "\n",
        "- Сохраняется ли равномерное распределение пользователей тестовой и контрольной групп по категориальным переменным: устройствам и регионам.\n",
        "\n",
        "Сделайте заключение о том, корректно ли проходит A/B-тест или наблюдаются какие-либо нарушения."
      ]
    },
    {
      "cell_type": "markdown",
      "metadata": {},
      "source": [
        "Различие в количестве пользователей в обеих группах присутствует, но оно не является существенным. Выборки независимы, так как не было выявлено пользователей, которые встречаются в обеих группах сразу. Распределение пользователей по устройствам не отличается, а по регионам все же имеет различия, в группе А преобладает CIS, в группе В - MENA."
      ]
    },
    {
      "cell_type": "markdown",
      "metadata": {
        "id": "dDELHlAcOi8d"
      },
      "source": [
        "<div style=\"background-color: #d4edda; color: #155724; padding: 15px; border-radius: 4px; border: 1px solid #c3e6cb;\">\n",
        "\n",
        "<b>Комментарий ревьюера v1:</b>\n",
        "\n",
        "Отличная работа! Были правильно проведены все необходимые проверки для оценки корректности A/B-теста и сделаны верные выводы. Молодец, что уделяешь внимание промежуточным результатам и подробно анализируешь равномерность распределения пользователей по группам, независимость выборок и сохранение распределения по ключевым признакам (устройствам и регионам).\n",
        "\n",
        "Особенно важно, что была проверена процентная разница между группами и что она находится в допустимых пределах."
      ]
    },
    {
      "cell_type": "markdown",
      "metadata": {
        "id": "nudRr_BQ0eM2"
      },
      "source": [
        "### 4. Проверка результатов A/B-теста\n",
        "\n",
        "A/B-тест завершён, и у вас есть результаты за все дни проведения эксперимента. Необходимо убедиться в корректности теста и верно интерпретировать результаты."
      ]
    },
    {
      "cell_type": "markdown",
      "metadata": {
        "id": "JVve-YBB0eM2"
      },
      "source": [
        "#### 4.1. Получение результатов теста и подсчёт основной метрики\n",
        "\n",
        "- Считайте и сохраните в датафрейм `sessions_test` CSV-файл с историческими данными о сессиях пользователей `sessions_project_test.csv`.\n",
        "\n",
        "- В датафрейме `sessions_test` создайте дополнительный столбец `good_session`. В него войдёт значение `1`, если за одну сессию было просмотрено 4 и более страниц, и значение `0`, если просмотрено меньше."
      ]
    },
    {
      "cell_type": "code",
      "execution_count": 35,
      "metadata": {
        "id": "EqRlwMtKPTir"
      },
      "outputs": [],
      "source": [
        "# Выгружаем данные в переменную sessions_test\n",
        "sessions_test = pd.read_csv('https://code.s3.yandex.net/datasets/sessions_project_test.csv')"
      ]
    },
    {
      "cell_type": "code",
      "execution_count": 36,
      "metadata": {},
      "outputs": [
        {
          "data": {
            "text/html": [
              "<div>\n",
              "<style scoped>\n",
              "    .dataframe tbody tr th:only-of-type {\n",
              "        vertical-align: middle;\n",
              "    }\n",
              "\n",
              "    .dataframe tbody tr th {\n",
              "        vertical-align: top;\n",
              "    }\n",
              "\n",
              "    .dataframe thead th {\n",
              "        text-align: right;\n",
              "    }\n",
              "</style>\n",
              "<table border=\"1\" class=\"dataframe\">\n",
              "  <thead>\n",
              "    <tr style=\"text-align: right;\">\n",
              "      <th></th>\n",
              "      <th>page_counter</th>\n",
              "      <th>good_session</th>\n",
              "    </tr>\n",
              "  </thead>\n",
              "  <tbody>\n",
              "    <tr>\n",
              "      <th>0</th>\n",
              "      <td>3</td>\n",
              "      <td>0</td>\n",
              "    </tr>\n",
              "    <tr>\n",
              "      <th>1</th>\n",
              "      <td>2</td>\n",
              "      <td>0</td>\n",
              "    </tr>\n",
              "    <tr>\n",
              "      <th>2</th>\n",
              "      <td>2</td>\n",
              "      <td>0</td>\n",
              "    </tr>\n",
              "    <tr>\n",
              "      <th>3</th>\n",
              "      <td>1</td>\n",
              "      <td>0</td>\n",
              "    </tr>\n",
              "    <tr>\n",
              "      <th>4</th>\n",
              "      <td>2</td>\n",
              "      <td>0</td>\n",
              "    </tr>\n",
              "    <tr>\n",
              "      <th>...</th>\n",
              "      <td>...</td>\n",
              "      <td>...</td>\n",
              "    </tr>\n",
              "    <tr>\n",
              "      <th>100000</th>\n",
              "      <td>3</td>\n",
              "      <td>0</td>\n",
              "    </tr>\n",
              "    <tr>\n",
              "      <th>100001</th>\n",
              "      <td>5</td>\n",
              "      <td>1</td>\n",
              "    </tr>\n",
              "    <tr>\n",
              "      <th>100002</th>\n",
              "      <td>3</td>\n",
              "      <td>0</td>\n",
              "    </tr>\n",
              "    <tr>\n",
              "      <th>100003</th>\n",
              "      <td>4</td>\n",
              "      <td>1</td>\n",
              "    </tr>\n",
              "    <tr>\n",
              "      <th>100004</th>\n",
              "      <td>2</td>\n",
              "      <td>0</td>\n",
              "    </tr>\n",
              "  </tbody>\n",
              "</table>\n",
              "<p>100005 rows × 2 columns</p>\n",
              "</div>"
            ],
            "text/plain": [
              "        page_counter  good_session\n",
              "0                  3             0\n",
              "1                  2             0\n",
              "2                  2             0\n",
              "3                  1             0\n",
              "4                  2             0\n",
              "...              ...           ...\n",
              "100000             3             0\n",
              "100001             5             1\n",
              "100002             3             0\n",
              "100003             4             1\n",
              "100004             2             0\n",
              "\n",
              "[100005 rows x 2 columns]"
            ]
          },
          "metadata": {},
          "output_type": "display_data"
        }
      ],
      "source": [
        "# Используем функцию, которая сохраняет значения 1 или 0 в зависимости от количества просмотренных страниц. \n",
        "# Создаем новый столбец, отражающий успешность сессий\n",
        "sessions_test['good_session'] = sessions_test['page_counter'].apply(counts_pages)    \n",
        "display(sessions_test[['page_counter', 'good_session']]) "
      ]
    },
    {
      "cell_type": "markdown",
      "metadata": {},
      "source": [
        "<div style=\"background-color: #d4edda; color: #155724; padding: 15px; border-radius: 4px; border: 1px solid #c3e6cb;\">\n",
        "\n",
        "<b>Комментарий ревьюера v1:</b>\n",
        "\n",
        "Данные загружены верно. "
      ]
    },
    {
      "cell_type": "markdown",
      "metadata": {
        "id": "aeYhrMYy0eM2"
      },
      "source": [
        "#### 4.2. Проверка корректности результатов теста\n",
        "\n",
        "Прежде чем приступать к анализу ключевых продуктовых метрик, необходимо убедиться, что тест проведён корректно и вы будете сравнивать две сопоставимые группы.\n",
        "\n",
        "- Рассчитайте количество уникальных сессий для каждого дня и обеих тестовых групп, используя группировку.\n",
        "\n",
        "- Проверьте, что количество уникальных дневных сессий в двух выборках не различается или различия не статистически значимы. Используйте статистический тест, который позволит сделать вывод о равенстве средних двух выборок.\n",
        "\n",
        "- В качестве ответа выведите на экран полученное значение p-value и интерпретируйте его."
      ]
    },
    {
      "cell_type": "code",
      "execution_count": 37,
      "metadata": {},
      "outputs": [
        {
          "name": "stdout",
          "output_type": "stream",
          "text": [
            "<class 'pandas.core.frame.DataFrame'>\n",
            "RangeIndex: 100005 entries, 0 to 100004\n",
            "Data columns (total 12 columns):\n",
            " #   Column             Non-Null Count   Dtype         \n",
            "---  ------             --------------   -----         \n",
            " 0   user_id            100005 non-null  object        \n",
            " 1   session_id         100005 non-null  object        \n",
            " 2   session_date       100005 non-null  datetime64[ns]\n",
            " 3   session_start_ts   100005 non-null  object        \n",
            " 4   install_date       100005 non-null  object        \n",
            " 5   session_number     100005 non-null  int64         \n",
            " 6   registration_flag  100005 non-null  int64         \n",
            " 7   page_counter       100005 non-null  int64         \n",
            " 8   region             100005 non-null  object        \n",
            " 9   device             100005 non-null  object        \n",
            " 10  test_group         100005 non-null  object        \n",
            " 11  good_session       100005 non-null  int64         \n",
            "dtypes: datetime64[ns](1), int64(4), object(7)\n",
            "memory usage: 9.2+ MB\n"
          ]
        }
      ],
      "source": [
        "# Меняем тип данных столбца, который содержит информацию о дате\n",
        "sessions_test['session_date'] = pd.to_datetime(sessions_test['session_date'])\n",
        "sessions_test.info()"
      ]
    },
    {
      "cell_type": "code",
      "execution_count": 38,
      "metadata": {},
      "outputs": [
        {
          "data": {
            "text/html": [
              "<div>\n",
              "<style scoped>\n",
              "    .dataframe tbody tr th:only-of-type {\n",
              "        vertical-align: middle;\n",
              "    }\n",
              "\n",
              "    .dataframe tbody tr th {\n",
              "        vertical-align: top;\n",
              "    }\n",
              "\n",
              "    .dataframe thead th {\n",
              "        text-align: right;\n",
              "    }\n",
              "</style>\n",
              "<table border=\"1\" class=\"dataframe\">\n",
              "  <thead>\n",
              "    <tr style=\"text-align: right;\">\n",
              "      <th></th>\n",
              "      <th>user_id</th>\n",
              "      <th>session_id</th>\n",
              "      <th>session_date</th>\n",
              "      <th>session_start_ts</th>\n",
              "      <th>install_date</th>\n",
              "      <th>session_number</th>\n",
              "      <th>registration_flag</th>\n",
              "      <th>page_counter</th>\n",
              "      <th>region</th>\n",
              "      <th>device</th>\n",
              "      <th>test_group</th>\n",
              "      <th>good_session</th>\n",
              "      <th>days</th>\n",
              "    </tr>\n",
              "  </thead>\n",
              "  <tbody>\n",
              "    <tr>\n",
              "      <th>0</th>\n",
              "      <td>6DAE3B3654DA738E</td>\n",
              "      <td>C69249E26E58F6E2</td>\n",
              "      <td>2025-10-26</td>\n",
              "      <td>2025-10-26 18:15:05</td>\n",
              "      <td>2025-10-16</td>\n",
              "      <td>3</td>\n",
              "      <td>0</td>\n",
              "      <td>3</td>\n",
              "      <td>MENA</td>\n",
              "      <td>Android</td>\n",
              "      <td>A</td>\n",
              "      <td>0</td>\n",
              "      <td>26</td>\n",
              "    </tr>\n",
              "    <tr>\n",
              "      <th>1</th>\n",
              "      <td>0A3FE5D1DD59110A</td>\n",
              "      <td>66D66D7C9F5181B7</td>\n",
              "      <td>2025-10-21</td>\n",
              "      <td>2025-10-21 17:04:53</td>\n",
              "      <td>2025-10-15</td>\n",
              "      <td>2</td>\n",
              "      <td>1</td>\n",
              "      <td>2</td>\n",
              "      <td>CIS</td>\n",
              "      <td>Android</td>\n",
              "      <td>B</td>\n",
              "      <td>0</td>\n",
              "      <td>21</td>\n",
              "    </tr>\n",
              "    <tr>\n",
              "      <th>2</th>\n",
              "      <td>2041F1D7AA740B88</td>\n",
              "      <td>50DE51D42215E74C</td>\n",
              "      <td>2025-10-23</td>\n",
              "      <td>2025-10-23 17:39:29</td>\n",
              "      <td>2025-10-19</td>\n",
              "      <td>3</td>\n",
              "      <td>0</td>\n",
              "      <td>2</td>\n",
              "      <td>MENA</td>\n",
              "      <td>Android</td>\n",
              "      <td>A</td>\n",
              "      <td>0</td>\n",
              "      <td>23</td>\n",
              "    </tr>\n",
              "    <tr>\n",
              "      <th>3</th>\n",
              "      <td>43D7585009168086</td>\n",
              "      <td>5763C0C353C22263</td>\n",
              "      <td>2025-10-24</td>\n",
              "      <td>2025-10-24 15:01:57</td>\n",
              "      <td>2025-10-18</td>\n",
              "      <td>4</td>\n",
              "      <td>0</td>\n",
              "      <td>1</td>\n",
              "      <td>CIS</td>\n",
              "      <td>iPhone</td>\n",
              "      <td>B</td>\n",
              "      <td>0</td>\n",
              "      <td>24</td>\n",
              "    </tr>\n",
              "    <tr>\n",
              "      <th>4</th>\n",
              "      <td>15AD68B14D62D88C</td>\n",
              "      <td>B1AD09F93C1053BC</td>\n",
              "      <td>2025-10-17</td>\n",
              "      <td>2025-10-17 17:34:39</td>\n",
              "      <td>2025-10-17</td>\n",
              "      <td>1</td>\n",
              "      <td>0</td>\n",
              "      <td>2</td>\n",
              "      <td>MENA</td>\n",
              "      <td>Android</td>\n",
              "      <td>B</td>\n",
              "      <td>0</td>\n",
              "      <td>17</td>\n",
              "    </tr>\n",
              "  </tbody>\n",
              "</table>\n",
              "</div>"
            ],
            "text/plain": [
              "            user_id        session_id session_date     session_start_ts  \\\n",
              "0  6DAE3B3654DA738E  C69249E26E58F6E2   2025-10-26  2025-10-26 18:15:05   \n",
              "1  0A3FE5D1DD59110A  66D66D7C9F5181B7   2025-10-21  2025-10-21 17:04:53   \n",
              "2  2041F1D7AA740B88  50DE51D42215E74C   2025-10-23  2025-10-23 17:39:29   \n",
              "3  43D7585009168086  5763C0C353C22263   2025-10-24  2025-10-24 15:01:57   \n",
              "4  15AD68B14D62D88C  B1AD09F93C1053BC   2025-10-17  2025-10-17 17:34:39   \n",
              "\n",
              "  install_date  session_number  registration_flag  page_counter region  \\\n",
              "0   2025-10-16               3                  0             3   MENA   \n",
              "1   2025-10-15               2                  1             2    CIS   \n",
              "2   2025-10-19               3                  0             2   MENA   \n",
              "3   2025-10-18               4                  0             1    CIS   \n",
              "4   2025-10-17               1                  0             2   MENA   \n",
              "\n",
              "    device test_group  good_session  days  \n",
              "0  Android          A             0    26  \n",
              "1  Android          B             0    21  \n",
              "2  Android          A             0    23  \n",
              "3   iPhone          B             0    24  \n",
              "4  Android          B             0    17  "
            ]
          },
          "metadata": {},
          "output_type": "display_data"
        }
      ],
      "source": [
        "# Выделяем день из даты сессий\n",
        "sessions_test['days'] = sessions_test['session_date'].dt.day\n",
        "display(sessions_test.head())"
      ]
    },
    {
      "cell_type": "code",
      "execution_count": 39,
      "metadata": {
        "id": "5NUlcltkTTSU"
      },
      "outputs": [
        {
          "data": {
            "text/html": [
              "<div>\n",
              "<style scoped>\n",
              "    .dataframe tbody tr th:only-of-type {\n",
              "        vertical-align: middle;\n",
              "    }\n",
              "\n",
              "    .dataframe tbody tr th {\n",
              "        vertical-align: top;\n",
              "    }\n",
              "\n",
              "    .dataframe thead th {\n",
              "        text-align: right;\n",
              "    }\n",
              "</style>\n",
              "<table border=\"1\" class=\"dataframe\">\n",
              "  <thead>\n",
              "    <tr style=\"text-align: right;\">\n",
              "      <th></th>\n",
              "      <th>days</th>\n",
              "      <th>test_group</th>\n",
              "      <th>session_id</th>\n",
              "    </tr>\n",
              "  </thead>\n",
              "  <tbody>\n",
              "    <tr>\n",
              "      <th>0</th>\n",
              "      <td>1</td>\n",
              "      <td>A</td>\n",
              "      <td>434</td>\n",
              "    </tr>\n",
              "    <tr>\n",
              "      <th>1</th>\n",
              "      <td>1</td>\n",
              "      <td>B</td>\n",
              "      <td>465</td>\n",
              "    </tr>\n",
              "    <tr>\n",
              "      <th>2</th>\n",
              "      <td>2</td>\n",
              "      <td>A</td>\n",
              "      <td>158</td>\n",
              "    </tr>\n",
              "    <tr>\n",
              "      <th>3</th>\n",
              "      <td>2</td>\n",
              "      <td>B</td>\n",
              "      <td>160</td>\n",
              "    </tr>\n",
              "    <tr>\n",
              "      <th>4</th>\n",
              "      <td>14</td>\n",
              "      <td>A</td>\n",
              "      <td>1502</td>\n",
              "    </tr>\n",
              "    <tr>\n",
              "      <th>5</th>\n",
              "      <td>14</td>\n",
              "      <td>B</td>\n",
              "      <td>1628</td>\n",
              "    </tr>\n",
              "    <tr>\n",
              "      <th>6</th>\n",
              "      <td>15</td>\n",
              "      <td>A</td>\n",
              "      <td>2235</td>\n",
              "    </tr>\n",
              "    <tr>\n",
              "      <th>7</th>\n",
              "      <td>15</td>\n",
              "      <td>B</td>\n",
              "      <td>2283</td>\n",
              "    </tr>\n",
              "    <tr>\n",
              "      <th>8</th>\n",
              "      <td>16</td>\n",
              "      <td>A</td>\n",
              "      <td>3280</td>\n",
              "    </tr>\n",
              "    <tr>\n",
              "      <th>9</th>\n",
              "      <td>16</td>\n",
              "      <td>B</td>\n",
              "      <td>3241</td>\n",
              "    </tr>\n",
              "    <tr>\n",
              "      <th>10</th>\n",
              "      <td>17</td>\n",
              "      <td>A</td>\n",
              "      <td>4089</td>\n",
              "    </tr>\n",
              "    <tr>\n",
              "      <th>11</th>\n",
              "      <td>17</td>\n",
              "      <td>B</td>\n",
              "      <td>4054</td>\n",
              "    </tr>\n",
              "    <tr>\n",
              "      <th>12</th>\n",
              "      <td>18</td>\n",
              "      <td>A</td>\n",
              "      <td>5013</td>\n",
              "    </tr>\n",
              "    <tr>\n",
              "      <th>13</th>\n",
              "      <td>18</td>\n",
              "      <td>B</td>\n",
              "      <td>5059</td>\n",
              "    </tr>\n",
              "    <tr>\n",
              "      <th>14</th>\n",
              "      <td>19</td>\n",
              "      <td>A</td>\n",
              "      <td>6535</td>\n",
              "    </tr>\n",
              "    <tr>\n",
              "      <th>15</th>\n",
              "      <td>19</td>\n",
              "      <td>B</td>\n",
              "      <td>6779</td>\n",
              "    </tr>\n",
              "    <tr>\n",
              "      <th>16</th>\n",
              "      <td>20</td>\n",
              "      <td>A</td>\n",
              "      <td>5837</td>\n",
              "    </tr>\n",
              "    <tr>\n",
              "      <th>17</th>\n",
              "      <td>20</td>\n",
              "      <td>B</td>\n",
              "      <td>6089</td>\n",
              "    </tr>\n",
              "    <tr>\n",
              "      <th>18</th>\n",
              "      <td>21</td>\n",
              "      <td>A</td>\n",
              "      <td>3927</td>\n",
              "    </tr>\n",
              "    <tr>\n",
              "      <th>19</th>\n",
              "      <td>21</td>\n",
              "      <td>B</td>\n",
              "      <td>3981</td>\n",
              "    </tr>\n",
              "    <tr>\n",
              "      <th>20</th>\n",
              "      <td>22</td>\n",
              "      <td>A</td>\n",
              "      <td>3083</td>\n",
              "    </tr>\n",
              "    <tr>\n",
              "      <th>21</th>\n",
              "      <td>22</td>\n",
              "      <td>B</td>\n",
              "      <td>3111</td>\n",
              "    </tr>\n",
              "    <tr>\n",
              "      <th>22</th>\n",
              "      <td>23</td>\n",
              "      <td>A</td>\n",
              "      <td>2470</td>\n",
              "    </tr>\n",
              "    <tr>\n",
              "      <th>23</th>\n",
              "      <td>23</td>\n",
              "      <td>B</td>\n",
              "      <td>2548</td>\n",
              "    </tr>\n",
              "    <tr>\n",
              "      <th>24</th>\n",
              "      <td>24</td>\n",
              "      <td>A</td>\n",
              "      <td>2090</td>\n",
              "    </tr>\n",
              "    <tr>\n",
              "      <th>25</th>\n",
              "      <td>24</td>\n",
              "      <td>B</td>\n",
              "      <td>2068</td>\n",
              "    </tr>\n",
              "    <tr>\n",
              "      <th>26</th>\n",
              "      <td>25</td>\n",
              "      <td>A</td>\n",
              "      <td>1897</td>\n",
              "    </tr>\n",
              "    <tr>\n",
              "      <th>27</th>\n",
              "      <td>25</td>\n",
              "      <td>B</td>\n",
              "      <td>1814</td>\n",
              "    </tr>\n",
              "    <tr>\n",
              "      <th>28</th>\n",
              "      <td>26</td>\n",
              "      <td>A</td>\n",
              "      <td>1669</td>\n",
              "    </tr>\n",
              "    <tr>\n",
              "      <th>29</th>\n",
              "      <td>26</td>\n",
              "      <td>B</td>\n",
              "      <td>1692</td>\n",
              "    </tr>\n",
              "    <tr>\n",
              "      <th>30</th>\n",
              "      <td>27</td>\n",
              "      <td>A</td>\n",
              "      <td>1454</td>\n",
              "    </tr>\n",
              "    <tr>\n",
              "      <th>31</th>\n",
              "      <td>27</td>\n",
              "      <td>B</td>\n",
              "      <td>1517</td>\n",
              "    </tr>\n",
              "    <tr>\n",
              "      <th>32</th>\n",
              "      <td>28</td>\n",
              "      <td>A</td>\n",
              "      <td>1279</td>\n",
              "    </tr>\n",
              "    <tr>\n",
              "      <th>33</th>\n",
              "      <td>28</td>\n",
              "      <td>B</td>\n",
              "      <td>1289</td>\n",
              "    </tr>\n",
              "    <tr>\n",
              "      <th>34</th>\n",
              "      <td>29</td>\n",
              "      <td>A</td>\n",
              "      <td>1068</td>\n",
              "    </tr>\n",
              "    <tr>\n",
              "      <th>35</th>\n",
              "      <td>29</td>\n",
              "      <td>B</td>\n",
              "      <td>1131</td>\n",
              "    </tr>\n",
              "    <tr>\n",
              "      <th>36</th>\n",
              "      <td>30</td>\n",
              "      <td>A</td>\n",
              "      <td>887</td>\n",
              "    </tr>\n",
              "    <tr>\n",
              "      <th>37</th>\n",
              "      <td>30</td>\n",
              "      <td>B</td>\n",
              "      <td>876</td>\n",
              "    </tr>\n",
              "    <tr>\n",
              "      <th>38</th>\n",
              "      <td>31</td>\n",
              "      <td>A</td>\n",
              "      <td>644</td>\n",
              "    </tr>\n",
              "    <tr>\n",
              "      <th>39</th>\n",
              "      <td>31</td>\n",
              "      <td>B</td>\n",
              "      <td>669</td>\n",
              "    </tr>\n",
              "  </tbody>\n",
              "</table>\n",
              "</div>"
            ],
            "text/plain": [
              "    days test_group  session_id\n",
              "0      1          A         434\n",
              "1      1          B         465\n",
              "2      2          A         158\n",
              "3      2          B         160\n",
              "4     14          A        1502\n",
              "5     14          B        1628\n",
              "6     15          A        2235\n",
              "7     15          B        2283\n",
              "8     16          A        3280\n",
              "9     16          B        3241\n",
              "10    17          A        4089\n",
              "11    17          B        4054\n",
              "12    18          A        5013\n",
              "13    18          B        5059\n",
              "14    19          A        6535\n",
              "15    19          B        6779\n",
              "16    20          A        5837\n",
              "17    20          B        6089\n",
              "18    21          A        3927\n",
              "19    21          B        3981\n",
              "20    22          A        3083\n",
              "21    22          B        3111\n",
              "22    23          A        2470\n",
              "23    23          B        2548\n",
              "24    24          A        2090\n",
              "25    24          B        2068\n",
              "26    25          A        1897\n",
              "27    25          B        1814\n",
              "28    26          A        1669\n",
              "29    26          B        1692\n",
              "30    27          A        1454\n",
              "31    27          B        1517\n",
              "32    28          A        1279\n",
              "33    28          B        1289\n",
              "34    29          A        1068\n",
              "35    29          B        1131\n",
              "36    30          A         887\n",
              "37    30          B         876\n",
              "38    31          A         644\n",
              "39    31          B         669"
            ]
          },
          "metadata": {},
          "output_type": "display_data"
        }
      ],
      "source": [
        "# Делаем группировку по количеству уникальных сессий по дням и по группе\n",
        "group_ab = sessions_test.groupby(['days', 'test_group'])['session_id'].nunique().reset_index()\n",
        "display(group_ab)"
      ]
    },
    {
      "cell_type": "markdown",
      "metadata": {},
      "source": [
        "<div style=\"background-color: #d4edda; color: #155724; padding: 15px; border-radius: 4px; border: 1px solid #c3e6cb;\">\n",
        "\n",
        "<b>Комментарий ревьюера v1:</b>\n",
        "\n",
        "Хотя это и не указано в задании, я рекомендую всегда формулировать нулевую и альтернативную гипотезы перед проведением теста. Это помогает четко определить, что именно мы проверяем, и делает методологию более прозрачной как для тебя, так и для читателя. Такой подход упрощает интерпретацию результатов и снижает вероятность ошибок в анализе."
      ]
    },
    {
      "cell_type": "code",
      "execution_count": 40,
      "metadata": {
        "scrolled": true
      },
      "outputs": [
        {
          "data": {
            "text/html": [
              "<div>\n",
              "<style scoped>\n",
              "    .dataframe tbody tr th:only-of-type {\n",
              "        vertical-align: middle;\n",
              "    }\n",
              "\n",
              "    .dataframe tbody tr th {\n",
              "        vertical-align: top;\n",
              "    }\n",
              "\n",
              "    .dataframe thead th {\n",
              "        text-align: right;\n",
              "    }\n",
              "</style>\n",
              "<table border=\"1\" class=\"dataframe\">\n",
              "  <thead>\n",
              "    <tr style=\"text-align: right;\">\n",
              "      <th></th>\n",
              "      <th>test_group</th>\n",
              "      <th>session_id</th>\n",
              "    </tr>\n",
              "  </thead>\n",
              "  <tbody>\n",
              "    <tr>\n",
              "      <th>0</th>\n",
              "      <td>A</td>\n",
              "      <td>49551</td>\n",
              "    </tr>\n",
              "    <tr>\n",
              "      <th>1</th>\n",
              "      <td>B</td>\n",
              "      <td>50454</td>\n",
              "    </tr>\n",
              "  </tbody>\n",
              "</table>\n",
              "</div>"
            ],
            "text/plain": [
              "  test_group  session_id\n",
              "0          A       49551\n",
              "1          B       50454"
            ]
          },
          "metadata": {},
          "output_type": "display_data"
        }
      ],
      "source": [
        "# Делаем группировку по количеству сессий в группах\n",
        "group_ab_counts = sessions_test.groupby('test_group')['session_id'].nunique().reset_index()\n",
        "display(group_ab_counts)"
      ]
    },
    {
      "cell_type": "code",
      "execution_count": 41,
      "metadata": {},
      "outputs": [
        {
          "name": "stdout",
          "output_type": "stream",
          "text": [
            "p-value=0.938219304859116\n"
          ]
        }
      ],
      "source": [
        "# нулевая гипотеза: количество уникальных дневных сессий в двух выборках не различается, альтернативная:количество уникальных дневных сессий в двух выборках различается\n",
        "metric_a = group_ab[group_ab['test_group']=='A']['session_id']\n",
        "metric_b = group_ab[group_ab['test_group']=='B']['session_id']\n",
        "result = st.ttest_ind(\n",
        "    metric_a, \n",
        "    metric_b,\n",
        "    equal_var=True\n",
        ")\n",
        "print(f'p-value={result.pvalue}')"
      ]
    },
    {
      "cell_type": "markdown",
      "metadata": {},
      "source": [
        "p-value>0.05, принимаем нулевую гипотезу, разница в количестве сессий в группах не является существенной"
      ]
    },
    {
      "cell_type": "markdown",
      "metadata": {},
      "source": [
        "<div style=\"background-color: #d4edda; color: #155724; padding: 15px; border-radius: 4px; border: 1px solid #c3e6cb;\">\n",
        "\n",
        "<b>Комментарий ревьюера v1:</b>\n",
        "\n",
        "Отличная работа! Верно выбран и проведен тест. Полностью согласен с выводами."
      ]
    },
    {
      "cell_type": "markdown",
      "metadata": {
        "id": "7kwRxzg70eM3"
      },
      "source": [
        "#### 4.3. Сравнение доли успешных сессий\n",
        "\n",
        "Когда вы убедились, что количество сессий в обеих выборках не различалось, можно переходить к анализу ключевой метрики — доли успешных сессий.\n",
        "\n",
        "Используйте созданный на первом шаге задания столбец `good_session` и рассчитайте долю успешных сессий для выборок A и B, а также разницу в этом показателе. Полученный вывод отобразите на экране."
      ]
    },
    {
      "cell_type": "code",
      "execution_count": 42,
      "metadata": {
        "id": "Uku-V1CpPRCz"
      },
      "outputs": [
        {
          "data": {
            "text/plain": [
              "0.3077233557344958"
            ]
          },
          "metadata": {},
          "output_type": "display_data"
        }
      ],
      "source": [
        "# Фильтруем пользователей, считаем долю успешных сессий для группы А\n",
        "groups_a = sessions_test[sessions_test['test_group']=='A']\n",
        "counts_good_a = groups_a['good_session'].sum()/len(groups_a['good_session'])\n",
        "display(counts_good_a)"
      ]
    },
    {
      "cell_type": "code",
      "execution_count": 43,
      "metadata": {},
      "outputs": [
        {
          "data": {
            "text/plain": [
              "0.31828992745867524"
            ]
          },
          "metadata": {},
          "output_type": "display_data"
        }
      ],
      "source": [
        "# Фильтруем пользователей, считаем долю успешных сессий для группы В\n",
        "groups_b = sessions_test[sessions_test['test_group']=='B']\n",
        "counts_good_b = groups_b['good_session'].sum()/len(groups_b['good_session'])\n",
        "display(counts_good_b)"
      ]
    },
    {
      "cell_type": "code",
      "execution_count": 44,
      "metadata": {},
      "outputs": [
        {
          "name": "stdout",
          "output_type": "stream",
          "text": [
            "1.0566571724179463\n"
          ]
        }
      ],
      "source": [
        "# Находим разницу в долях успешных сессий в группах\n",
        "delta = (counts_good_b - counts_good_a)*100\n",
        "print(delta)"
      ]
    },
    {
      "cell_type": "markdown",
      "metadata": {},
      "source": [
        "Количество успешных сессий в тестовой выборке на 1.1% выше, чем в контрольной"
      ]
    },
    {
      "cell_type": "markdown",
      "metadata": {},
      "source": [
        "<div style=\"background-color: #d4edda; color: #155724; padding: 15px; border-radius: 4px; border: 1px solid #c3e6cb;\">\n",
        "\n",
        "<b>Комментарий ревьюера v1:</b>\n",
        "\n",
        "Все верно."
      ]
    },
    {
      "cell_type": "markdown",
      "metadata": {
        "id": "9fMFuja10eM4"
      },
      "source": [
        "#### 4.4. Насколько статистически значимо изменение ключевой метрики\n",
        "\n",
        "На предыдущем шаге вы убедились, что количество успешных сессий в тестовой выборке примерно на 1.1% выше, чем в контрольной, но делать выводы только на основе этого значения будет некорректно. Для принятия решения всегда необходимо отвечать на вопрос: является ли это изменение статистически значимым.\n",
        "\n",
        "- Используя статистический тест, рассчитайте, является ли изменение в метрике доли успешных сессий статистически значимым.\n",
        "\n",
        "- Выведите на экран полученное значение p-value и свои выводы о статистической значимости. Напомним, что уровень значимости в эксперименте был выбран на уровне 0.05."
      ]
    },
    {
      "cell_type": "code",
      "execution_count": 45,
      "metadata": {},
      "outputs": [
        {
          "name": "stdout",
          "output_type": "stream",
          "text": [
            "p-value: 0.0003148608995858183\n"
          ]
        }
      ],
      "source": [
        "# нулевая гипотеза: количество уникальных дневных сессий в двух выборках не различается, альтернативная:количество уникальных дневных сессий в двух выборках различается\n",
        "metrics_a = sessions_test[sessions_test['test_group']=='A']['good_session']\n",
        "metrics_b = sessions_test[sessions_test['test_group']=='B']['good_session']\n",
        "result = st.ttest_ind(metrics_a, metrics_b, equal_var=True)\n",
        "print('p-value:', result.pvalue)"
      ]
    },
    {
      "cell_type": "markdown",
      "metadata": {},
      "source": [
        "p-value<0.05, разница в количестве успешных сессий в группах является существенной, хоть и равна 1,1%. Значит новый алгоритм рекомендаций в приложении приносит положительные результаты"
      ]
    },
    {
      "cell_type": "markdown",
      "metadata": {},
      "source": [
        "<div style=\"background-color: #d4edda; color: #155724; padding: 15px; border-radius: 4px; border: 1px solid #c3e6cb;\">\n",
        "\n",
        "<b>Комментарий ревьюера v1:</b>\n",
        "\n",
        "Здорово, что получилось использовать t-критерий для анализа бинарного признака, такого как успешность сессии. В целом, это допустимый подход, и результаты будут очень близки к тем, которые дает z-тест для сравнения пропорций. Однако я бы рекомендовал попрактиковаться именно в использовании z-теста для таких случаев, поскольку он более специфичен для анализа пропорций и часто применяется в задачах A/B-тестирования. Это поможет тебе лучше понять его применение и укрепить навыки работы с различными статистическими методами."
      ]
    },
    {
      "cell_type": "markdown",
      "metadata": {
        "id": "GnJrkY9Q63zS"
      },
      "source": [
        "#### 4.5. Вывод по результатам A/B-эксперимента\n",
        "\n",
        "На основе проведённого анализа результатов теста сформулируйте и запишите свои выводы для команды разработки приложения. В выводе обязательно укажите:\n",
        "\n",
        "- Характеристики проведённого эксперимента, количество задействованных пользователей и длительность эксперимента.\n",
        "\n",
        "- Повлияло ли внедрение нового алгоритма рекомендаций на рост ключевой метрики и как.\n",
        "\n",
        "- Каким получилось значение p-value для оценки статистической значимости выявленного эффекта.\n",
        "\n",
        "- Стоит ли внедрять новоовведение в приложение."
      ]
    },
    {
      "cell_type": "markdown",
      "metadata": {},
      "source": [
        "В начале проекта были проанализированы исторические данные приложения, было рассчитано количество уникальных сессий для каждого пользователя, а также количество зарегистрированных пользователей и их доля от общего числа пользователей. Зарегистрированных пользователей оказалось крайне мало, но со временем их доля увеличивается.\n",
        "\n",
        "Также был произведен анализ числа просмотренных страниц, было выявлено, что наибольшее количество сессий наблюдается при количестве просмотров 3 страниц (166.690). \n",
        "\n",
        "При подготовке к тесту был определен необходимый размер выборки для каждой группы, это значение составило 17.441. Далее при подсчете длительности теста определилось количество дней для проведения, а именно 4.\n",
        "\n",
        "Немаловажной являлась проверка распределения пользователей, по типу устройства и по регионам различий не было.\n",
        "\n",
        "Проверка количества сессий по группам показала несущественную разницу. Количество успешных сессий в тестовой выборке оказалось на 1,1% выше, чем в контрольной. Но тест показал, что эта разница существенная, таким образом, новый алгоритм рекомендаций положительно влияет на работу приложения."
      ]
    },
    {
      "cell_type": "markdown",
      "metadata": {
        "id": "rri8KRIgPMrW"
      },
      "source": [
        "<div style=\"background-color: #d4edda; color: #155724; padding: 15px; border-radius: 4px; border: 1px solid #c3e6cb;\">\n",
        "\n",
        "<b>Комментарий ревьюера v1:</b>\n",
        "\n",
        "Отличная работа с выводами по A/B-тесту 💫 Ты структурировано представила все ключевые аспекты эксперимента. В целом, твой вывод логичен и обоснован - новый алгоритм действительно показал статистически значимое улучшение ключевой метрики, что подтверждает целесообразность его внедрения."
      ]
    }
  ],
  "metadata": {
    "ExecuteTimeLog": [
      {
        "duration": 493,
        "start_time": "2025-05-22T10:14:17.441Z"
      },
      {
        "duration": 1667,
        "start_time": "2025-05-22T10:14:48.199Z"
      },
      {
        "duration": 172,
        "start_time": "2025-05-22T10:15:13.355Z"
      },
      {
        "duration": 45,
        "start_time": "2025-05-22T10:15:53.172Z"
      },
      {
        "duration": 17,
        "start_time": "2025-05-22T10:15:55.687Z"
      },
      {
        "duration": 1848,
        "start_time": "2025-05-22T10:16:55.706Z"
      },
      {
        "duration": 17,
        "start_time": "2025-05-22T10:17:19.698Z"
      },
      {
        "duration": 1486,
        "start_time": "2025-05-22T10:21:17.320Z"
      },
      {
        "duration": 1451,
        "start_time": "2025-05-22T10:21:28.884Z"
      },
      {
        "duration": 105,
        "start_time": "2025-05-22T10:22:08.516Z"
      },
      {
        "duration": 1425,
        "start_time": "2025-05-22T10:24:46.326Z"
      },
      {
        "duration": 568,
        "start_time": "2025-05-22T10:25:53.281Z"
      },
      {
        "duration": 577,
        "start_time": "2025-05-22T10:26:14.505Z"
      },
      {
        "duration": 544,
        "start_time": "2025-05-22T10:26:38.252Z"
      },
      {
        "duration": 37,
        "start_time": "2025-05-22T10:28:05.804Z"
      },
      {
        "duration": 51,
        "start_time": "2025-05-24T13:17:47.984Z"
      },
      {
        "duration": 400,
        "start_time": "2025-05-24T13:17:57.923Z"
      },
      {
        "duration": 2088,
        "start_time": "2025-05-24T13:17:58.325Z"
      },
      {
        "duration": 18,
        "start_time": "2025-05-24T13:18:00.415Z"
      },
      {
        "duration": 852,
        "start_time": "2025-05-24T13:18:00.435Z"
      },
      {
        "duration": 41,
        "start_time": "2025-05-24T13:18:01.288Z"
      },
      {
        "duration": 331,
        "start_time": "2025-05-24T13:18:01.330Z"
      },
      {
        "duration": 0,
        "start_time": "2025-05-24T13:18:01.663Z"
      },
      {
        "duration": 0,
        "start_time": "2025-05-24T13:18:01.664Z"
      },
      {
        "duration": 10,
        "start_time": "2025-05-24T13:18:31.551Z"
      },
      {
        "duration": 8,
        "start_time": "2025-05-24T13:18:55.254Z"
      },
      {
        "duration": 141,
        "start_time": "2025-05-24T13:19:03.955Z"
      },
      {
        "duration": 9,
        "start_time": "2025-05-24T13:19:55.155Z"
      },
      {
        "duration": 12,
        "start_time": "2025-05-24T13:20:46.870Z"
      },
      {
        "duration": 9,
        "start_time": "2025-05-24T13:20:56.286Z"
      },
      {
        "duration": 9,
        "start_time": "2025-05-24T13:21:12.167Z"
      },
      {
        "duration": 9,
        "start_time": "2025-05-24T13:24:36.525Z"
      },
      {
        "duration": 239,
        "start_time": "2025-05-24T13:25:53.853Z"
      },
      {
        "duration": 50,
        "start_time": "2025-05-24T13:26:03.249Z"
      },
      {
        "duration": 55,
        "start_time": "2025-05-24T13:27:53.653Z"
      },
      {
        "duration": 52,
        "start_time": "2025-05-24T13:30:07.925Z"
      },
      {
        "duration": 67,
        "start_time": "2025-05-24T13:30:16.756Z"
      },
      {
        "duration": 45,
        "start_time": "2025-05-24T13:34:18.207Z"
      },
      {
        "duration": 146,
        "start_time": "2025-05-24T13:37:04.285Z"
      },
      {
        "duration": 29,
        "start_time": "2025-05-24T13:37:59.880Z"
      },
      {
        "duration": 37,
        "start_time": "2025-05-24T13:38:18.464Z"
      },
      {
        "duration": 9,
        "start_time": "2025-05-24T14:05:57.189Z"
      },
      {
        "duration": 7,
        "start_time": "2025-05-24T14:11:15.127Z"
      },
      {
        "duration": 5,
        "start_time": "2025-05-24T14:13:05.217Z"
      },
      {
        "duration": 8,
        "start_time": "2025-05-24T14:22:39.100Z"
      },
      {
        "duration": 131,
        "start_time": "2025-05-24T14:23:32.916Z"
      },
      {
        "duration": 35,
        "start_time": "2025-05-24T14:23:38.091Z"
      },
      {
        "duration": 10,
        "start_time": "2025-05-24T14:23:42.212Z"
      },
      {
        "duration": 417,
        "start_time": "2025-05-24T14:25:02.779Z"
      },
      {
        "duration": 301,
        "start_time": "2025-05-24T14:26:00.359Z"
      },
      {
        "duration": 156,
        "start_time": "2025-05-24T14:26:50.134Z"
      },
      {
        "duration": 1070,
        "start_time": "2025-05-24T14:27:15.906Z"
      },
      {
        "duration": 73,
        "start_time": "2025-05-24T14:27:23.026Z"
      },
      {
        "duration": 139,
        "start_time": "2025-05-24T14:27:31.309Z"
      },
      {
        "duration": 12,
        "start_time": "2025-05-24T14:29:17.548Z"
      },
      {
        "duration": 177,
        "start_time": "2025-05-24T14:29:38.369Z"
      },
      {
        "duration": 166,
        "start_time": "2025-05-24T14:32:04.291Z"
      },
      {
        "duration": 79,
        "start_time": "2025-05-24T14:34:20.051Z"
      },
      {
        "duration": 12,
        "start_time": "2025-05-24T14:34:27.782Z"
      },
      {
        "duration": 11,
        "start_time": "2025-05-24T14:34:36.399Z"
      },
      {
        "duration": 12,
        "start_time": "2025-05-24T14:34:47.718Z"
      },
      {
        "duration": 12,
        "start_time": "2025-05-24T14:34:50.714Z"
      },
      {
        "duration": 165,
        "start_time": "2025-05-24T14:35:02.290Z"
      },
      {
        "duration": 11,
        "start_time": "2025-05-24T14:35:23.102Z"
      },
      {
        "duration": 133,
        "start_time": "2025-05-24T14:35:27.486Z"
      },
      {
        "duration": 152,
        "start_time": "2025-05-24T14:36:28.209Z"
      },
      {
        "duration": 154,
        "start_time": "2025-05-24T14:37:11.109Z"
      },
      {
        "duration": 45,
        "start_time": "2025-05-24T14:39:10.260Z"
      },
      {
        "duration": 149,
        "start_time": "2025-05-24T14:40:59.359Z"
      },
      {
        "duration": 1026,
        "start_time": "2025-05-24T14:43:50.025Z"
      },
      {
        "duration": 13,
        "start_time": "2025-05-24T14:44:07.157Z"
      },
      {
        "duration": 1274,
        "start_time": "2025-05-24T14:44:29.901Z"
      },
      {
        "duration": 75,
        "start_time": "2025-05-24T14:47:33.816Z"
      },
      {
        "duration": 1277,
        "start_time": "2025-05-24T15:07:32.905Z"
      },
      {
        "duration": 94,
        "start_time": "2025-05-24T15:07:45.153Z"
      },
      {
        "duration": 10,
        "start_time": "2025-05-24T15:07:52.984Z"
      },
      {
        "duration": 0,
        "start_time": "2025-05-24T15:12:21.130Z"
      },
      {
        "duration": 44523,
        "start_time": "2025-05-24T15:13:01.566Z"
      },
      {
        "duration": 6,
        "start_time": "2025-05-24T15:14:27.721Z"
      },
      {
        "duration": 74,
        "start_time": "2025-05-24T15:15:12.266Z"
      },
      {
        "duration": 79,
        "start_time": "2025-05-24T15:19:34.898Z"
      },
      {
        "duration": 106,
        "start_time": "2025-05-24T15:19:44.107Z"
      },
      {
        "duration": 26372,
        "start_time": "2025-05-24T15:19:55.666Z"
      },
      {
        "duration": 0,
        "start_time": "2025-05-24T15:20:22.040Z"
      },
      {
        "duration": 78,
        "start_time": "2025-05-24T15:20:24.346Z"
      },
      {
        "duration": 79,
        "start_time": "2025-05-24T15:20:37.838Z"
      },
      {
        "duration": 80,
        "start_time": "2025-05-24T15:20:42.145Z"
      },
      {
        "duration": 91,
        "start_time": "2025-05-24T15:22:16.121Z"
      },
      {
        "duration": 12,
        "start_time": "2025-05-24T15:22:32.121Z"
      },
      {
        "duration": 581,
        "start_time": "2025-05-24T15:22:48.820Z"
      },
      {
        "duration": 2121,
        "start_time": "2025-05-24T15:22:49.403Z"
      },
      {
        "duration": 14,
        "start_time": "2025-05-24T15:22:51.525Z"
      },
      {
        "duration": 666,
        "start_time": "2025-05-24T15:22:51.540Z"
      },
      {
        "duration": 38,
        "start_time": "2025-05-24T15:22:52.208Z"
      },
      {
        "duration": 240,
        "start_time": "2025-05-24T15:22:52.248Z"
      },
      {
        "duration": 43,
        "start_time": "2025-05-24T15:22:52.489Z"
      },
      {
        "duration": 300,
        "start_time": "2025-05-24T15:22:52.534Z"
      },
      {
        "duration": 44,
        "start_time": "2025-05-24T15:22:52.836Z"
      },
      {
        "duration": 80,
        "start_time": "2025-05-24T15:22:52.882Z"
      },
      {
        "duration": 437,
        "start_time": "2025-05-24T15:22:52.964Z"
      },
      {
        "duration": 11,
        "start_time": "2025-05-24T15:22:53.403Z"
      },
      {
        "duration": 203,
        "start_time": "2025-05-24T15:22:53.415Z"
      },
      {
        "duration": 40,
        "start_time": "2025-05-24T15:22:53.621Z"
      },
      {
        "duration": 152,
        "start_time": "2025-05-24T15:22:53.663Z"
      },
      {
        "duration": 79,
        "start_time": "2025-05-24T15:22:53.816Z"
      },
      {
        "duration": 0,
        "start_time": "2025-05-24T15:22:53.896Z"
      },
      {
        "duration": 0,
        "start_time": "2025-05-24T15:22:53.898Z"
      },
      {
        "duration": 10,
        "start_time": "2025-05-24T15:23:00.380Z"
      },
      {
        "duration": 7406,
        "start_time": "2025-05-24T15:23:42.128Z"
      },
      {
        "duration": 430,
        "start_time": "2025-05-24T15:26:14.130Z"
      },
      {
        "duration": 85,
        "start_time": "2025-05-24T15:26:25.946Z"
      },
      {
        "duration": 314,
        "start_time": "2025-05-24T15:26:32.083Z"
      },
      {
        "duration": 162,
        "start_time": "2025-05-24T15:26:37.811Z"
      },
      {
        "duration": 261,
        "start_time": "2025-05-24T15:26:49.815Z"
      },
      {
        "duration": 116,
        "start_time": "2025-05-24T15:27:22.834Z"
      },
      {
        "duration": 140,
        "start_time": "2025-05-24T15:27:35.182Z"
      },
      {
        "duration": 137,
        "start_time": "2025-05-24T15:28:17.282Z"
      },
      {
        "duration": 138,
        "start_time": "2025-05-24T15:28:39.378Z"
      },
      {
        "duration": 139,
        "start_time": "2025-05-24T15:29:04.393Z"
      },
      {
        "duration": 18,
        "start_time": "2025-05-24T15:31:38.920Z"
      },
      {
        "duration": 158,
        "start_time": "2025-05-24T15:32:55.611Z"
      },
      {
        "duration": 520,
        "start_time": "2025-05-24T15:34:30.431Z"
      },
      {
        "duration": 36,
        "start_time": "2025-05-24T15:41:42.319Z"
      },
      {
        "duration": 9,
        "start_time": "2025-05-24T15:44:16.950Z"
      },
      {
        "duration": 9,
        "start_time": "2025-05-24T15:45:24.217Z"
      },
      {
        "duration": 10,
        "start_time": "2025-05-24T15:46:44.828Z"
      },
      {
        "duration": 28,
        "start_time": "2025-05-24T15:49:19.127Z"
      },
      {
        "duration": 39,
        "start_time": "2025-05-24T15:51:08.929Z"
      },
      {
        "duration": 16,
        "start_time": "2025-05-24T15:52:14.957Z"
      },
      {
        "duration": 7,
        "start_time": "2025-05-24T15:53:30.692Z"
      },
      {
        "duration": 3,
        "start_time": "2025-05-24T15:55:12.928Z"
      },
      {
        "duration": 3,
        "start_time": "2025-05-24T15:55:50.615Z"
      },
      {
        "duration": 3,
        "start_time": "2025-05-24T16:00:06.189Z"
      },
      {
        "duration": 77,
        "start_time": "2025-05-24T16:01:57.684Z"
      },
      {
        "duration": 4,
        "start_time": "2025-05-24T16:02:03.228Z"
      },
      {
        "duration": 3,
        "start_time": "2025-05-24T16:02:08.920Z"
      },
      {
        "duration": 9,
        "start_time": "2025-05-24T16:06:21.226Z"
      },
      {
        "duration": 7,
        "start_time": "2025-05-24T16:06:29.143Z"
      },
      {
        "duration": 7,
        "start_time": "2025-05-24T16:09:57.036Z"
      },
      {
        "duration": 7,
        "start_time": "2025-05-24T16:10:40.736Z"
      },
      {
        "duration": 8,
        "start_time": "2025-05-24T16:11:29.455Z"
      },
      {
        "duration": 126,
        "start_time": "2025-05-24T16:13:24.761Z"
      },
      {
        "duration": 115,
        "start_time": "2025-05-24T16:16:47.851Z"
      },
      {
        "duration": 7,
        "start_time": "2025-05-24T16:19:28.510Z"
      },
      {
        "duration": 7,
        "start_time": "2025-05-24T16:19:52.185Z"
      },
      {
        "duration": 107,
        "start_time": "2025-05-24T16:20:19.042Z"
      },
      {
        "duration": 106,
        "start_time": "2025-05-24T16:20:33.637Z"
      },
      {
        "duration": 9,
        "start_time": "2025-05-24T16:22:14.304Z"
      },
      {
        "duration": 508,
        "start_time": "2025-05-24T16:22:18.816Z"
      },
      {
        "duration": 454,
        "start_time": "2025-05-24T16:22:23.807Z"
      },
      {
        "duration": 15,
        "start_time": "2025-05-24T16:23:52.487Z"
      },
      {
        "duration": 40,
        "start_time": "2025-05-24T16:23:58.070Z"
      },
      {
        "duration": 11,
        "start_time": "2025-05-24T16:26:21.674Z"
      },
      {
        "duration": 58,
        "start_time": "2025-05-24T16:26:45.126Z"
      },
      {
        "duration": 20,
        "start_time": "2025-05-24T16:26:46.809Z"
      },
      {
        "duration": 36,
        "start_time": "2025-05-24T16:27:28.097Z"
      },
      {
        "duration": 934,
        "start_time": "2025-05-25T05:43:51.348Z"
      },
      {
        "duration": 2198,
        "start_time": "2025-05-25T05:43:52.285Z"
      },
      {
        "duration": 20,
        "start_time": "2025-05-25T05:43:54.485Z"
      },
      {
        "duration": 723,
        "start_time": "2025-05-25T05:43:54.507Z"
      },
      {
        "duration": 57,
        "start_time": "2025-05-25T05:43:55.233Z"
      },
      {
        "duration": 269,
        "start_time": "2025-05-25T05:43:55.292Z"
      },
      {
        "duration": 58,
        "start_time": "2025-05-25T05:43:55.564Z"
      },
      {
        "duration": 186,
        "start_time": "2025-05-25T05:43:55.624Z"
      },
      {
        "duration": 72,
        "start_time": "2025-05-25T05:43:55.812Z"
      },
      {
        "duration": 13,
        "start_time": "2025-05-25T05:43:55.886Z"
      },
      {
        "duration": 209,
        "start_time": "2025-05-25T05:43:55.901Z"
      },
      {
        "duration": 12,
        "start_time": "2025-05-25T05:43:56.112Z"
      },
      {
        "duration": 193,
        "start_time": "2025-05-25T05:43:56.125Z"
      },
      {
        "duration": 30,
        "start_time": "2025-05-25T05:43:56.321Z"
      },
      {
        "duration": 192,
        "start_time": "2025-05-25T05:43:56.354Z"
      },
      {
        "duration": 191,
        "start_time": "2025-05-25T05:43:56.548Z"
      },
      {
        "duration": 179,
        "start_time": "2025-05-25T05:43:56.741Z"
      },
      {
        "duration": 507,
        "start_time": "2025-05-25T05:43:56.922Z"
      },
      {
        "duration": 30,
        "start_time": "2025-05-25T05:43:57.431Z"
      },
      {
        "duration": 98,
        "start_time": "2025-05-25T05:43:57.470Z"
      },
      {
        "duration": 7,
        "start_time": "2025-05-25T05:43:57.570Z"
      },
      {
        "duration": 4,
        "start_time": "2025-05-25T05:43:57.583Z"
      },
      {
        "duration": 14,
        "start_time": "2025-05-25T05:43:57.588Z"
      },
      {
        "duration": 7,
        "start_time": "2025-05-25T05:43:57.604Z"
      },
      {
        "duration": 133,
        "start_time": "2025-05-25T05:43:57.612Z"
      },
      {
        "duration": 7,
        "start_time": "2025-05-25T05:43:57.747Z"
      },
      {
        "duration": 166,
        "start_time": "2025-05-25T05:43:57.755Z"
      },
      {
        "duration": 8,
        "start_time": "2025-05-25T05:43:57.922Z"
      },
      {
        "duration": 161,
        "start_time": "2025-05-25T05:43:57.932Z"
      },
      {
        "duration": 7,
        "start_time": "2025-05-25T05:43:58.095Z"
      },
      {
        "duration": 137,
        "start_time": "2025-05-25T05:43:58.104Z"
      },
      {
        "duration": 536,
        "start_time": "2025-05-25T05:43:58.243Z"
      },
      {
        "duration": 50,
        "start_time": "2025-05-25T05:43:58.781Z"
      },
      {
        "duration": 74,
        "start_time": "2025-05-25T05:43:58.833Z"
      },
      {
        "duration": 21,
        "start_time": "2025-05-25T05:43:58.909Z"
      },
      {
        "duration": 62,
        "start_time": "2025-05-25T05:43:58.931Z"
      },
      {
        "duration": 5,
        "start_time": "2025-05-25T05:43:58.995Z"
      },
      {
        "duration": 106,
        "start_time": "2025-05-25T05:48:31.014Z"
      },
      {
        "duration": 19,
        "start_time": "2025-05-25T05:48:39.418Z"
      },
      {
        "duration": 20,
        "start_time": "2025-05-25T05:49:00.983Z"
      },
      {
        "duration": 19,
        "start_time": "2025-05-25T05:49:32.725Z"
      },
      {
        "duration": 3,
        "start_time": "2025-05-25T05:49:47.510Z"
      },
      {
        "duration": 3,
        "start_time": "2025-05-25T05:49:54.361Z"
      },
      {
        "duration": 3,
        "start_time": "2025-05-25T05:50:08.114Z"
      },
      {
        "duration": 40,
        "start_time": "2025-05-25T05:53:53.055Z"
      },
      {
        "duration": 34,
        "start_time": "2025-05-25T05:54:37.743Z"
      },
      {
        "duration": 110,
        "start_time": "2025-05-25T05:56:54.057Z"
      },
      {
        "duration": 3,
        "start_time": "2025-05-25T05:56:58.333Z"
      },
      {
        "duration": 17,
        "start_time": "2025-05-25T06:00:02.472Z"
      },
      {
        "duration": 4,
        "start_time": "2025-05-25T06:00:09.788Z"
      },
      {
        "duration": 3,
        "start_time": "2025-05-25T06:02:03.334Z"
      },
      {
        "duration": 1899,
        "start_time": "2025-05-25T06:04:09.186Z"
      },
      {
        "duration": 11,
        "start_time": "2025-05-25T06:04:33.502Z"
      },
      {
        "duration": 556,
        "start_time": "2025-05-25T06:05:17.069Z"
      },
      {
        "duration": 47,
        "start_time": "2025-05-25T06:05:44.757Z"
      },
      {
        "duration": 220,
        "start_time": "2025-05-25T06:06:36.244Z"
      },
      {
        "duration": 50,
        "start_time": "2025-05-25T06:06:52.769Z"
      },
      {
        "duration": 162,
        "start_time": "2025-05-25T06:07:25.984Z"
      },
      {
        "duration": 63,
        "start_time": "2025-05-25T06:08:11.440Z"
      },
      {
        "duration": 13,
        "start_time": "2025-05-25T06:08:45.224Z"
      },
      {
        "duration": 194,
        "start_time": "2025-05-25T06:09:24.711Z"
      },
      {
        "duration": 11,
        "start_time": "2025-05-25T06:09:48.023Z"
      },
      {
        "duration": 249,
        "start_time": "2025-05-25T06:10:17.887Z"
      },
      {
        "duration": 30,
        "start_time": "2025-05-25T06:10:47.511Z"
      },
      {
        "duration": 173,
        "start_time": "2025-05-25T06:11:20.162Z"
      },
      {
        "duration": 165,
        "start_time": "2025-05-25T06:12:44.926Z"
      },
      {
        "duration": 168,
        "start_time": "2025-05-25T06:13:34.168Z"
      },
      {
        "duration": 71,
        "start_time": "2025-05-25T06:14:08.288Z"
      },
      {
        "duration": 16,
        "start_time": "2025-05-25T06:14:33.269Z"
      },
      {
        "duration": 4,
        "start_time": "2025-05-25T06:15:10.836Z"
      },
      {
        "duration": 10,
        "start_time": "2025-05-25T06:16:24.256Z"
      },
      {
        "duration": 8,
        "start_time": "2025-05-25T06:17:00.619Z"
      },
      {
        "duration": 130,
        "start_time": "2025-05-25T06:17:22.363Z"
      },
      {
        "duration": 8,
        "start_time": "2025-05-25T06:17:30.031Z"
      },
      {
        "duration": 7,
        "start_time": "2025-05-25T06:26:27.050Z"
      },
      {
        "duration": 125,
        "start_time": "2025-05-25T06:26:30.207Z"
      },
      {
        "duration": 42,
        "start_time": "2025-05-25T06:28:23.245Z"
      },
      {
        "duration": 53,
        "start_time": "2025-05-25T06:28:46.761Z"
      },
      {
        "duration": 21,
        "start_time": "2025-05-25T06:29:02.957Z"
      },
      {
        "duration": 39,
        "start_time": "2025-05-25T06:29:26.824Z"
      },
      {
        "duration": 36,
        "start_time": "2025-05-25T06:29:45.956Z"
      },
      {
        "duration": 4,
        "start_time": "2025-05-25T06:30:43.523Z"
      },
      {
        "duration": 11373,
        "start_time": "2025-05-25T06:32:45.727Z"
      },
      {
        "duration": 132,
        "start_time": "2025-05-25T06:37:41.084Z"
      },
      {
        "duration": 9,
        "start_time": "2025-05-25T06:47:39.007Z"
      },
      {
        "duration": 145,
        "start_time": "2025-05-25T06:50:59.301Z"
      },
      {
        "duration": 9,
        "start_time": "2025-05-25T06:51:19.945Z"
      },
      {
        "duration": 12,
        "start_time": "2025-05-25T06:52:19.644Z"
      },
      {
        "duration": 8,
        "start_time": "2025-05-25T06:52:29.652Z"
      },
      {
        "duration": 84,
        "start_time": "2025-05-25T06:55:46.222Z"
      },
      {
        "duration": 10,
        "start_time": "2025-05-25T06:55:52.322Z"
      },
      {
        "duration": 34,
        "start_time": "2025-05-25T07:07:13.768Z"
      },
      {
        "duration": 37,
        "start_time": "2025-05-25T08:18:30.082Z"
      },
      {
        "duration": 2,
        "start_time": "2025-05-25T08:18:47.726Z"
      },
      {
        "duration": 2505,
        "start_time": "2025-05-25T08:18:54.014Z"
      },
      {
        "duration": 2599,
        "start_time": "2025-05-25T08:19:41.818Z"
      },
      {
        "duration": 41,
        "start_time": "2025-05-25T08:21:25.828Z"
      },
      {
        "duration": 59,
        "start_time": "2025-05-25T08:21:42.032Z"
      },
      {
        "duration": 2925,
        "start_time": "2025-05-25T08:23:40.995Z"
      },
      {
        "duration": 53,
        "start_time": "2025-05-25T08:24:10.964Z"
      },
      {
        "duration": 40,
        "start_time": "2025-05-25T08:26:03.418Z"
      },
      {
        "duration": 56,
        "start_time": "2025-05-25T08:29:11.429Z"
      },
      {
        "duration": 46,
        "start_time": "2025-05-25T08:29:18.248Z"
      },
      {
        "duration": 41,
        "start_time": "2025-05-25T08:30:15.772Z"
      },
      {
        "duration": 40,
        "start_time": "2025-05-25T08:38:36.443Z"
      },
      {
        "duration": 1387,
        "start_time": "2025-05-25T08:39:15.919Z"
      },
      {
        "duration": 8,
        "start_time": "2025-05-25T08:40:11.335Z"
      },
      {
        "duration": 7,
        "start_time": "2025-05-25T08:42:23.669Z"
      },
      {
        "duration": 1031,
        "start_time": "2025-05-25T08:44:35.912Z"
      },
      {
        "duration": 61,
        "start_time": "2025-05-25T08:44:50.427Z"
      },
      {
        "duration": 8,
        "start_time": "2025-05-25T08:44:54.943Z"
      },
      {
        "duration": 14,
        "start_time": "2025-05-25T08:45:23.459Z"
      },
      {
        "duration": 6,
        "start_time": "2025-05-25T08:45:36.092Z"
      },
      {
        "duration": 1470,
        "start_time": "2025-06-03T05:04:58.262Z"
      },
      {
        "duration": 2160,
        "start_time": "2025-06-03T05:04:59.734Z"
      },
      {
        "duration": 15,
        "start_time": "2025-06-03T05:05:01.895Z"
      },
      {
        "duration": 623,
        "start_time": "2025-06-03T05:05:01.911Z"
      },
      {
        "duration": 41,
        "start_time": "2025-06-03T05:05:02.536Z"
      },
      {
        "duration": 247,
        "start_time": "2025-06-03T05:05:02.579Z"
      },
      {
        "duration": 49,
        "start_time": "2025-06-03T05:05:02.828Z"
      },
      {
        "duration": 162,
        "start_time": "2025-06-03T05:05:02.879Z"
      },
      {
        "duration": 53,
        "start_time": "2025-06-03T05:05:03.042Z"
      },
      {
        "duration": 24,
        "start_time": "2025-06-03T05:05:03.097Z"
      },
      {
        "duration": 333,
        "start_time": "2025-06-03T05:05:03.123Z"
      },
      {
        "duration": 11,
        "start_time": "2025-06-03T05:05:03.457Z"
      },
      {
        "duration": 299,
        "start_time": "2025-06-03T05:05:03.470Z"
      },
      {
        "duration": 27,
        "start_time": "2025-06-03T05:05:03.772Z"
      },
      {
        "duration": 293,
        "start_time": "2025-06-03T05:05:03.801Z"
      },
      {
        "duration": 157,
        "start_time": "2025-06-03T05:05:04.095Z"
      },
      {
        "duration": 139,
        "start_time": "2025-06-03T05:05:04.253Z"
      },
      {
        "duration": 157,
        "start_time": "2025-06-03T05:05:04.394Z"
      },
      {
        "duration": 31,
        "start_time": "2025-06-03T05:05:04.553Z"
      },
      {
        "duration": 103,
        "start_time": "2025-06-03T05:05:04.586Z"
      },
      {
        "duration": 7,
        "start_time": "2025-06-03T05:05:04.691Z"
      },
      {
        "duration": 32,
        "start_time": "2025-06-03T05:05:04.700Z"
      },
      {
        "duration": 31,
        "start_time": "2025-06-03T05:05:04.733Z"
      },
      {
        "duration": 39,
        "start_time": "2025-06-03T05:05:04.765Z"
      },
      {
        "duration": 152,
        "start_time": "2025-06-03T05:05:04.805Z"
      },
      {
        "duration": 7,
        "start_time": "2025-06-03T05:05:04.959Z"
      },
      {
        "duration": 246,
        "start_time": "2025-06-03T05:05:04.967Z"
      },
      {
        "duration": 6,
        "start_time": "2025-06-03T05:05:05.215Z"
      },
      {
        "duration": 137,
        "start_time": "2025-06-03T05:05:05.223Z"
      },
      {
        "duration": 7,
        "start_time": "2025-06-03T05:05:05.361Z"
      },
      {
        "duration": 134,
        "start_time": "2025-06-03T05:05:05.369Z"
      },
      {
        "duration": 550,
        "start_time": "2025-06-03T05:05:05.505Z"
      },
      {
        "duration": 42,
        "start_time": "2025-06-03T05:05:06.057Z"
      },
      {
        "duration": 172,
        "start_time": "2025-06-03T05:05:06.101Z"
      },
      {
        "duration": 196,
        "start_time": "2025-06-03T05:05:06.275Z"
      },
      {
        "duration": 49,
        "start_time": "2025-06-03T05:05:06.473Z"
      },
      {
        "duration": 35,
        "start_time": "2025-06-03T05:05:06.524Z"
      },
      {
        "duration": 7,
        "start_time": "2025-06-03T05:05:06.561Z"
      },
      {
        "duration": 31,
        "start_time": "2025-06-03T05:05:06.570Z"
      },
      {
        "duration": 44,
        "start_time": "2025-06-03T05:05:06.603Z"
      },
      {
        "duration": 3,
        "start_time": "2025-06-03T05:05:06.652Z"
      },
      {
        "duration": 11833,
        "start_time": "2025-06-03T05:05:06.657Z"
      },
      {
        "duration": 130,
        "start_time": "2025-06-03T05:06:17.633Z"
      },
      {
        "duration": 176,
        "start_time": "2025-06-03T05:06:55.165Z"
      },
      {
        "duration": 3,
        "start_time": "2025-06-03T05:10:04.823Z"
      },
      {
        "duration": 6,
        "start_time": "2025-06-03T05:19:22.413Z"
      },
      {
        "duration": 7,
        "start_time": "2025-06-03T05:19:51.804Z"
      },
      {
        "duration": 6,
        "start_time": "2025-06-03T05:23:50.683Z"
      },
      {
        "duration": 6,
        "start_time": "2025-06-03T05:25:02.579Z"
      },
      {
        "duration": 6,
        "start_time": "2025-06-03T05:25:43.129Z"
      },
      {
        "duration": 14,
        "start_time": "2025-06-03T05:26:22.178Z"
      },
      {
        "duration": 6,
        "start_time": "2025-06-03T05:27:05.208Z"
      },
      {
        "duration": 18,
        "start_time": "2025-06-03T05:30:38.955Z"
      },
      {
        "duration": 19,
        "start_time": "2025-06-03T05:30:39.403Z"
      },
      {
        "duration": 4,
        "start_time": "2025-06-03T05:31:44.619Z"
      },
      {
        "duration": 17,
        "start_time": "2025-06-03T05:33:51.650Z"
      },
      {
        "duration": 18,
        "start_time": "2025-06-03T05:33:56.666Z"
      },
      {
        "duration": 31,
        "start_time": "2025-06-03T05:34:10.621Z"
      },
      {
        "duration": 31,
        "start_time": "2025-06-03T05:34:25.045Z"
      },
      {
        "duration": 32,
        "start_time": "2025-06-03T05:34:46.657Z"
      },
      {
        "duration": 32,
        "start_time": "2025-06-03T05:34:56.249Z"
      },
      {
        "duration": 4,
        "start_time": "2025-06-03T05:37:38.320Z"
      },
      {
        "duration": 33,
        "start_time": "2025-06-03T05:58:25.616Z"
      },
      {
        "duration": 5,
        "start_time": "2025-06-03T05:58:50.760Z"
      },
      {
        "duration": 48,
        "start_time": "2025-06-03T07:17:30.357Z"
      },
      {
        "duration": 7,
        "start_time": "2025-06-03T07:17:36.802Z"
      },
      {
        "duration": 1394,
        "start_time": "2025-06-03T07:17:47.140Z"
      },
      {
        "duration": 3548,
        "start_time": "2025-06-03T07:17:48.536Z"
      },
      {
        "duration": 15,
        "start_time": "2025-06-03T07:17:52.086Z"
      },
      {
        "duration": 622,
        "start_time": "2025-06-03T07:17:52.103Z"
      },
      {
        "duration": 48,
        "start_time": "2025-06-03T07:17:52.727Z"
      },
      {
        "duration": 265,
        "start_time": "2025-06-03T07:17:52.776Z"
      },
      {
        "duration": 54,
        "start_time": "2025-06-03T07:17:53.043Z"
      },
      {
        "duration": 165,
        "start_time": "2025-06-03T07:17:53.098Z"
      },
      {
        "duration": 42,
        "start_time": "2025-06-03T07:17:53.265Z"
      },
      {
        "duration": 19,
        "start_time": "2025-06-03T07:17:53.310Z"
      },
      {
        "duration": 197,
        "start_time": "2025-06-03T07:17:53.330Z"
      },
      {
        "duration": 10,
        "start_time": "2025-06-03T07:17:53.529Z"
      },
      {
        "duration": 181,
        "start_time": "2025-06-03T07:17:53.541Z"
      },
      {
        "duration": 28,
        "start_time": "2025-06-03T07:17:53.724Z"
      },
      {
        "duration": 171,
        "start_time": "2025-06-03T07:17:53.753Z"
      },
      {
        "duration": 175,
        "start_time": "2025-06-03T07:17:53.926Z"
      },
      {
        "duration": 141,
        "start_time": "2025-06-03T07:17:54.103Z"
      },
      {
        "duration": 273,
        "start_time": "2025-06-03T07:17:54.247Z"
      },
      {
        "duration": 20,
        "start_time": "2025-06-03T07:17:54.522Z"
      },
      {
        "duration": 214,
        "start_time": "2025-06-03T07:17:54.544Z"
      },
      {
        "duration": 271,
        "start_time": "2025-06-03T07:17:54.760Z"
      },
      {
        "duration": 7,
        "start_time": "2025-06-03T07:17:55.032Z"
      },
      {
        "duration": 21,
        "start_time": "2025-06-03T07:17:55.040Z"
      },
      {
        "duration": 16,
        "start_time": "2025-06-03T07:17:55.063Z"
      },
      {
        "duration": 19,
        "start_time": "2025-06-03T07:17:55.081Z"
      },
      {
        "duration": 188,
        "start_time": "2025-06-03T07:17:55.103Z"
      },
      {
        "duration": 7,
        "start_time": "2025-06-03T07:17:55.292Z"
      },
      {
        "duration": 142,
        "start_time": "2025-06-03T07:17:55.303Z"
      },
      {
        "duration": 7,
        "start_time": "2025-06-03T07:17:55.447Z"
      },
      {
        "duration": 106,
        "start_time": "2025-06-03T07:17:55.461Z"
      },
      {
        "duration": 7,
        "start_time": "2025-06-03T07:17:55.568Z"
      },
      {
        "duration": 121,
        "start_time": "2025-06-03T07:17:55.577Z"
      },
      {
        "duration": 4329,
        "start_time": "2025-06-03T07:17:55.700Z"
      },
      {
        "duration": 53,
        "start_time": "2025-06-03T07:18:00.030Z"
      },
      {
        "duration": 151,
        "start_time": "2025-06-03T07:18:00.084Z"
      },
      {
        "duration": 40,
        "start_time": "2025-06-03T07:18:00.237Z"
      },
      {
        "duration": 82,
        "start_time": "2025-06-03T07:18:00.279Z"
      },
      {
        "duration": 43,
        "start_time": "2025-06-03T07:18:00.363Z"
      },
      {
        "duration": 94,
        "start_time": "2025-06-03T07:18:00.407Z"
      },
      {
        "duration": 223,
        "start_time": "2025-06-03T07:18:00.503Z"
      },
      {
        "duration": 20,
        "start_time": "2025-06-03T07:18:00.728Z"
      },
      {
        "duration": 12,
        "start_time": "2025-06-03T07:18:00.750Z"
      },
      {
        "duration": 73,
        "start_time": "2025-06-03T07:18:00.764Z"
      },
      {
        "duration": 135,
        "start_time": "2025-06-03T07:18:38.682Z"
      },
      {
        "duration": 234,
        "start_time": "2025-06-03T07:22:12.372Z"
      },
      {
        "duration": 434,
        "start_time": "2025-06-03T07:22:50.031Z"
      },
      {
        "duration": 1067,
        "start_time": "2025-06-03T07:22:57.792Z"
      },
      {
        "duration": 16,
        "start_time": "2025-06-03T07:26:13.498Z"
      },
      {
        "duration": 140,
        "start_time": "2025-06-03T07:26:15.305Z"
      },
      {
        "duration": 45,
        "start_time": "2025-06-03T07:26:15.630Z"
      },
      {
        "duration": 14,
        "start_time": "2025-06-03T07:26:16.079Z"
      },
      {
        "duration": 163,
        "start_time": "2025-06-03T07:26:16.291Z"
      },
      {
        "duration": 12,
        "start_time": "2025-06-03T07:26:18.794Z"
      },
      {
        "duration": 154,
        "start_time": "2025-06-03T07:26:19.467Z"
      },
      {
        "duration": 45,
        "start_time": "2025-06-03T07:26:30.286Z"
      },
      {
        "duration": 7,
        "start_time": "2025-06-03T07:27:47.504Z"
      },
      {
        "duration": 9,
        "start_time": "2025-06-03T07:28:02.204Z"
      },
      {
        "duration": 8,
        "start_time": "2025-06-03T07:28:04.464Z"
      },
      {
        "duration": 8,
        "start_time": "2025-06-03T07:28:13.491Z"
      },
      {
        "duration": 65,
        "start_time": "2025-06-04T13:29:09.814Z"
      },
      {
        "duration": 1547,
        "start_time": "2025-06-04T13:29:14.250Z"
      },
      {
        "duration": 2557,
        "start_time": "2025-06-04T13:29:15.799Z"
      },
      {
        "duration": 18,
        "start_time": "2025-06-04T13:29:18.366Z"
      },
      {
        "duration": 166,
        "start_time": "2025-06-04T13:29:18.386Z"
      },
      {
        "duration": 664,
        "start_time": "2025-06-04T13:29:18.556Z"
      },
      {
        "duration": 75,
        "start_time": "2025-06-04T13:29:19.222Z"
      },
      {
        "duration": 298,
        "start_time": "2025-06-04T13:29:19.298Z"
      },
      {
        "duration": 71,
        "start_time": "2025-06-04T13:29:19.597Z"
      },
      {
        "duration": 294,
        "start_time": "2025-06-04T13:29:19.671Z"
      },
      {
        "duration": 119,
        "start_time": "2025-06-04T13:29:19.967Z"
      },
      {
        "duration": 56,
        "start_time": "2025-06-04T13:29:20.088Z"
      },
      {
        "duration": 606,
        "start_time": "2025-06-04T13:29:20.146Z"
      },
      {
        "duration": 22,
        "start_time": "2025-06-04T13:29:20.757Z"
      },
      {
        "duration": 558,
        "start_time": "2025-06-04T13:29:20.783Z"
      },
      {
        "duration": 44,
        "start_time": "2025-06-04T13:29:21.344Z"
      },
      {
        "duration": 423,
        "start_time": "2025-06-04T13:29:21.390Z"
      },
      {
        "duration": 198,
        "start_time": "2025-06-04T13:29:21.815Z"
      },
      {
        "duration": 303,
        "start_time": "2025-06-04T13:29:22.015Z"
      },
      {
        "duration": 45,
        "start_time": "2025-06-04T13:29:22.320Z"
      },
      {
        "duration": 160,
        "start_time": "2025-06-04T13:29:22.369Z"
      },
      {
        "duration": 86,
        "start_time": "2025-06-04T13:29:22.530Z"
      },
      {
        "duration": 9,
        "start_time": "2025-06-04T13:29:22.619Z"
      },
      {
        "duration": 40,
        "start_time": "2025-06-04T13:29:22.630Z"
      },
      {
        "duration": 23,
        "start_time": "2025-06-04T13:29:22.672Z"
      },
      {
        "duration": 7,
        "start_time": "2025-06-04T13:29:22.697Z"
      },
      {
        "duration": 141,
        "start_time": "2025-06-04T13:29:22.706Z"
      },
      {
        "duration": 13,
        "start_time": "2025-06-04T13:29:22.850Z"
      },
      {
        "duration": 154,
        "start_time": "2025-06-04T13:29:22.866Z"
      },
      {
        "duration": 8,
        "start_time": "2025-06-04T13:29:23.022Z"
      },
      {
        "duration": 154,
        "start_time": "2025-06-04T13:29:23.031Z"
      },
      {
        "duration": 7,
        "start_time": "2025-06-04T13:29:23.187Z"
      },
      {
        "duration": 138,
        "start_time": "2025-06-04T13:29:23.196Z"
      },
      {
        "duration": 582,
        "start_time": "2025-06-04T13:29:23.336Z"
      },
      {
        "duration": 61,
        "start_time": "2025-06-04T13:29:23.920Z"
      },
      {
        "duration": 94,
        "start_time": "2025-06-04T13:29:23.983Z"
      },
      {
        "duration": 20,
        "start_time": "2025-06-04T13:29:24.078Z"
      },
      {
        "duration": 114,
        "start_time": "2025-06-04T13:29:24.100Z"
      },
      {
        "duration": 65,
        "start_time": "2025-06-04T13:29:24.217Z"
      },
      {
        "duration": 7,
        "start_time": "2025-06-04T13:29:24.284Z"
      },
      {
        "duration": 23,
        "start_time": "2025-06-04T13:29:24.293Z"
      },
      {
        "duration": 40,
        "start_time": "2025-06-04T13:29:24.320Z"
      },
      {
        "duration": 7,
        "start_time": "2025-06-04T13:29:24.362Z"
      },
      {
        "duration": 36,
        "start_time": "2025-06-04T13:29:24.371Z"
      },
      {
        "duration": 300,
        "start_time": "2025-06-04T13:31:25.277Z"
      },
      {
        "duration": 275,
        "start_time": "2025-06-04T13:31:45.289Z"
      },
      {
        "duration": 232,
        "start_time": "2025-06-04T13:32:24.865Z"
      },
      {
        "duration": 162,
        "start_time": "2025-06-04T13:33:13.032Z"
      },
      {
        "duration": 16,
        "start_time": "2025-06-04T13:34:00.764Z"
      },
      {
        "duration": 152,
        "start_time": "2025-06-04T13:34:49.009Z"
      },
      {
        "duration": 136,
        "start_time": "2025-06-04T13:35:04.419Z"
      },
      {
        "duration": 148,
        "start_time": "2025-06-04T13:35:24.150Z"
      },
      {
        "duration": 142,
        "start_time": "2025-06-04T13:35:30.231Z"
      },
      {
        "duration": 141,
        "start_time": "2025-06-04T13:36:00.378Z"
      },
      {
        "duration": 147,
        "start_time": "2025-06-04T13:36:14.306Z"
      },
      {
        "duration": 673,
        "start_time": "2025-06-04T13:39:49.091Z"
      },
      {
        "duration": 614,
        "start_time": "2025-06-04T13:39:57.884Z"
      },
      {
        "duration": 669,
        "start_time": "2025-06-04T13:40:11.516Z"
      },
      {
        "duration": 146,
        "start_time": "2025-06-04T13:41:03.829Z"
      },
      {
        "duration": 42,
        "start_time": "2025-06-04T13:41:29.775Z"
      },
      {
        "duration": 16,
        "start_time": "2025-06-04T13:41:39.071Z"
      },
      {
        "duration": 199,
        "start_time": "2025-06-04T13:41:55.340Z"
      },
      {
        "duration": 294,
        "start_time": "2025-06-04T13:42:18.707Z"
      },
      {
        "duration": 230,
        "start_time": "2025-06-04T13:42:25.519Z"
      },
      {
        "duration": 224,
        "start_time": "2025-06-04T13:42:30.575Z"
      },
      {
        "duration": 212,
        "start_time": "2025-06-04T13:42:35.802Z"
      },
      {
        "duration": 265,
        "start_time": "2025-06-04T13:42:40.946Z"
      },
      {
        "duration": 243,
        "start_time": "2025-06-04T13:42:45.619Z"
      },
      {
        "duration": 248,
        "start_time": "2025-06-04T13:42:51.634Z"
      },
      {
        "duration": 26,
        "start_time": "2025-06-04T13:43:55.730Z"
      },
      {
        "duration": 207,
        "start_time": "2025-06-04T13:44:11.574Z"
      },
      {
        "duration": 183,
        "start_time": "2025-06-04T13:46:29.294Z"
      },
      {
        "duration": 313,
        "start_time": "2025-06-04T13:46:32.791Z"
      },
      {
        "duration": 158,
        "start_time": "2025-06-04T13:49:08.639Z"
      },
      {
        "duration": 284,
        "start_time": "2025-06-04T13:49:15.047Z"
      },
      {
        "duration": 332,
        "start_time": "2025-06-04T13:49:34.658Z"
      },
      {
        "duration": 397,
        "start_time": "2025-06-04T13:49:48.690Z"
      },
      {
        "duration": 503,
        "start_time": "2025-06-04T13:51:04.119Z"
      },
      {
        "duration": 6,
        "start_time": "2025-06-04T13:52:00.913Z"
      },
      {
        "duration": 14,
        "start_time": "2025-06-04T13:52:37.142Z"
      },
      {
        "duration": 12,
        "start_time": "2025-06-04T13:58:53.616Z"
      },
      {
        "duration": 18,
        "start_time": "2025-06-04T13:59:34.555Z"
      },
      {
        "duration": 12,
        "start_time": "2025-06-04T14:00:03.648Z"
      },
      {
        "duration": 17,
        "start_time": "2025-06-04T14:01:13.377Z"
      },
      {
        "duration": 40,
        "start_time": "2025-06-04T14:01:25.762Z"
      },
      {
        "duration": 14,
        "start_time": "2025-06-04T14:03:49.088Z"
      },
      {
        "duration": 198,
        "start_time": "2025-06-04T14:03:54.688Z"
      },
      {
        "duration": 15,
        "start_time": "2025-06-04T14:04:01.037Z"
      },
      {
        "duration": 9,
        "start_time": "2025-06-04T14:04:12.708Z"
      },
      {
        "duration": 135,
        "start_time": "2025-06-04T14:04:13.684Z"
      },
      {
        "duration": 14,
        "start_time": "2025-06-04T14:04:19.841Z"
      },
      {
        "duration": 128,
        "start_time": "2025-06-04T14:05:28.091Z"
      },
      {
        "duration": 9,
        "start_time": "2025-06-04T14:05:28.556Z"
      },
      {
        "duration": 124,
        "start_time": "2025-06-04T14:05:29.167Z"
      },
      {
        "duration": 193,
        "start_time": "2025-06-04T14:08:39.878Z"
      },
      {
        "duration": 16,
        "start_time": "2025-06-04T14:08:51.557Z"
      },
      {
        "duration": 186,
        "start_time": "2025-06-04T14:08:52.594Z"
      },
      {
        "duration": 1262,
        "start_time": "2025-06-04T18:02:41.492Z"
      },
      {
        "duration": 2170,
        "start_time": "2025-06-04T18:02:42.756Z"
      },
      {
        "duration": 26,
        "start_time": "2025-06-04T18:02:44.928Z"
      },
      {
        "duration": 158,
        "start_time": "2025-06-04T18:02:44.956Z"
      },
      {
        "duration": 879,
        "start_time": "2025-06-04T18:02:45.116Z"
      },
      {
        "duration": 679,
        "start_time": "2025-06-04T18:02:45.997Z"
      },
      {
        "duration": 41,
        "start_time": "2025-06-04T18:02:46.677Z"
      },
      {
        "duration": 291,
        "start_time": "2025-06-04T18:02:46.719Z"
      },
      {
        "duration": 181,
        "start_time": "2025-06-04T18:02:47.012Z"
      },
      {
        "duration": 56,
        "start_time": "2025-06-04T18:02:47.196Z"
      },
      {
        "duration": 15,
        "start_time": "2025-06-04T18:02:47.254Z"
      },
      {
        "duration": 304,
        "start_time": "2025-06-04T18:02:47.271Z"
      },
      {
        "duration": 14,
        "start_time": "2025-06-04T18:02:47.577Z"
      },
      {
        "duration": 199,
        "start_time": "2025-06-04T18:02:47.593Z"
      },
      {
        "duration": 44,
        "start_time": "2025-06-04T18:02:47.794Z"
      },
      {
        "duration": 184,
        "start_time": "2025-06-04T18:02:47.840Z"
      },
      {
        "duration": 193,
        "start_time": "2025-06-04T18:02:48.026Z"
      },
      {
        "duration": 392,
        "start_time": "2025-06-04T18:02:48.221Z"
      },
      {
        "duration": 7,
        "start_time": "2025-06-04T18:02:48.615Z"
      },
      {
        "duration": 68,
        "start_time": "2025-06-04T18:02:48.624Z"
      },
      {
        "duration": 187,
        "start_time": "2025-06-04T18:02:48.694Z"
      },
      {
        "duration": 88,
        "start_time": "2025-06-04T18:02:48.883Z"
      },
      {
        "duration": 10,
        "start_time": "2025-06-04T18:02:48.972Z"
      },
      {
        "duration": 19,
        "start_time": "2025-06-04T18:02:48.985Z"
      },
      {
        "duration": 185,
        "start_time": "2025-06-04T18:02:49.007Z"
      },
      {
        "duration": 9,
        "start_time": "2025-06-04T18:02:49.193Z"
      },
      {
        "duration": 58,
        "start_time": "2025-06-04T18:02:49.204Z"
      },
      {
        "duration": 223,
        "start_time": "2025-06-04T18:02:49.266Z"
      },
      {
        "duration": 8,
        "start_time": "2025-06-04T18:02:49.491Z"
      },
      {
        "duration": 169,
        "start_time": "2025-06-04T18:02:49.501Z"
      },
      {
        "duration": 9,
        "start_time": "2025-06-04T18:02:49.672Z"
      },
      {
        "duration": 136,
        "start_time": "2025-06-04T18:02:49.683Z"
      },
      {
        "duration": 20,
        "start_time": "2025-06-04T18:02:49.821Z"
      },
      {
        "duration": 133,
        "start_time": "2025-06-04T18:02:49.845Z"
      },
      {
        "duration": 612,
        "start_time": "2025-06-04T18:02:49.980Z"
      },
      {
        "duration": 59,
        "start_time": "2025-06-04T18:02:50.594Z"
      },
      {
        "duration": 122,
        "start_time": "2025-06-04T18:02:50.655Z"
      },
      {
        "duration": 23,
        "start_time": "2025-06-04T18:02:50.779Z"
      },
      {
        "duration": 72,
        "start_time": "2025-06-04T18:02:50.804Z"
      },
      {
        "duration": 38,
        "start_time": "2025-06-04T18:02:50.878Z"
      },
      {
        "duration": 24,
        "start_time": "2025-06-04T18:02:50.918Z"
      },
      {
        "duration": 122,
        "start_time": "2025-06-04T18:02:50.945Z"
      },
      {
        "duration": 178,
        "start_time": "2025-06-04T18:02:51.069Z"
      },
      {
        "duration": 4,
        "start_time": "2025-06-04T18:02:51.249Z"
      },
      {
        "duration": 201,
        "start_time": "2025-06-04T18:02:51.255Z"
      }
    ],
    "colab": {
      "provenance": []
    },
    "kernelspec": {
      "display_name": "Python 3 (ipykernel)",
      "language": "python",
      "name": "python3"
    },
    "language_info": {
      "codemirror_mode": {
        "name": "ipython",
        "version": 3
      },
      "file_extension": ".py",
      "mimetype": "text/x-python",
      "name": "python",
      "nbconvert_exporter": "python",
      "pygments_lexer": "ipython3",
      "version": "3.9.5"
    },
    "toc": {
      "base_numbering": 1,
      "nav_menu": {},
      "number_sections": true,
      "sideBar": true,
      "skip_h1_title": true,
      "title_cell": "Table of Contents",
      "title_sidebar": "Contents",
      "toc_cell": false,
      "toc_position": {},
      "toc_section_display": true,
      "toc_window_display": false
    }
  },
  "nbformat": 4,
  "nbformat_minor": 1
}