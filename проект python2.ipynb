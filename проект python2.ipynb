{
  "metadata": {
    "kernelspec": {
      "display_name": "Python 3 (ipykernel)",
      "language": "python",
      "name": "python3"
    },
    "language_info": {
      "codemirror_mode": {
        "name": "ipython",
        "version": 3
      },
      "file_extension": ".py",
      "mimetype": "text/x-python",
      "name": "python",
      "nbconvert_exporter": "python",
      "pygments_lexer": "ipython3",
      "version": "3.9.5"
    },
    "ExecuteTimeLog": [
      {
        "duration": 440,
        "start_time": "2025-03-26T15:34:57.313Z"
      },
      {
        "duration": 94,
        "start_time": "2025-03-26T15:36:53.703Z"
      },
      {
        "duration": 1406,
        "start_time": "2025-03-26T15:37:22.374Z"
      },
      {
        "duration": 409,
        "start_time": "2025-03-26T15:38:56.941Z"
      },
      {
        "duration": 304,
        "start_time": "2025-03-26T15:38:57.468Z"
      },
      {
        "duration": 226,
        "start_time": "2025-03-26T15:38:58.305Z"
      },
      {
        "duration": 166,
        "start_time": "2025-03-26T15:38:58.881Z"
      },
      {
        "duration": 127,
        "start_time": "2025-03-26T15:38:59.649Z"
      },
      {
        "duration": 63,
        "start_time": "2025-03-26T15:44:19.261Z"
      },
      {
        "duration": 1173,
        "start_time": "2025-03-26T15:44:24.925Z"
      },
      {
        "duration": 556,
        "start_time": "2025-03-26T15:44:31.933Z"
      },
      {
        "duration": 325,
        "start_time": "2025-03-26T15:44:36.204Z"
      },
      {
        "duration": 452,
        "start_time": "2025-03-26T15:44:39.320Z"
      },
      {
        "duration": 108,
        "start_time": "2025-03-26T15:44:43.085Z"
      },
      {
        "duration": 198,
        "start_time": "2025-03-26T15:44:46.351Z"
      },
      {
        "duration": 111,
        "start_time": "2025-03-26T15:47:11.586Z"
      },
      {
        "duration": 98,
        "start_time": "2025-03-26T15:47:16.446Z"
      },
      {
        "duration": 92,
        "start_time": "2025-03-26T15:48:18.769Z"
      },
      {
        "duration": 93,
        "start_time": "2025-03-26T15:49:27.658Z"
      },
      {
        "duration": 94,
        "start_time": "2025-03-26T15:49:48.913Z"
      },
      {
        "duration": 99,
        "start_time": "2025-03-26T15:49:52.581Z"
      },
      {
        "duration": 97,
        "start_time": "2025-03-26T15:49:56.945Z"
      },
      {
        "duration": 65,
        "start_time": "2025-03-26T15:54:02.734Z"
      },
      {
        "duration": 10,
        "start_time": "2025-03-26T15:54:32.918Z"
      },
      {
        "duration": 7,
        "start_time": "2025-03-26T15:58:41.932Z"
      },
      {
        "duration": 15,
        "start_time": "2025-03-26T15:58:50.428Z"
      },
      {
        "duration": 16,
        "start_time": "2025-03-26T15:59:00.157Z"
      },
      {
        "duration": 1623,
        "start_time": "2025-03-26T16:00:07.432Z"
      },
      {
        "duration": 134,
        "start_time": "2025-03-26T16:00:43.603Z"
      },
      {
        "duration": 128,
        "start_time": "2025-03-26T16:01:13.443Z"
      },
      {
        "duration": 30,
        "start_time": "2025-03-26T16:01:52.987Z"
      },
      {
        "duration": 16,
        "start_time": "2025-03-26T16:02:31.930Z"
      },
      {
        "duration": 439,
        "start_time": "2025-03-28T06:34:21.932Z"
      },
      {
        "duration": 67,
        "start_time": "2025-03-28T06:34:33.592Z"
      },
      {
        "duration": 1113,
        "start_time": "2025-03-28T06:34:37.595Z"
      },
      {
        "duration": 349,
        "start_time": "2025-03-28T06:34:58.872Z"
      },
      {
        "duration": 566,
        "start_time": "2025-03-28T06:35:02.203Z"
      },
      {
        "duration": 339,
        "start_time": "2025-03-28T06:35:07.035Z"
      },
      {
        "duration": 142,
        "start_time": "2025-03-28T06:35:09.832Z"
      },
      {
        "duration": 139,
        "start_time": "2025-03-28T06:35:15.935Z"
      },
      {
        "duration": 15,
        "start_time": "2025-03-28T06:35:35.931Z"
      },
      {
        "duration": 145,
        "start_time": "2025-03-28T06:36:44.882Z"
      },
      {
        "duration": 34,
        "start_time": "2025-03-28T06:37:09.694Z"
      },
      {
        "duration": 17,
        "start_time": "2025-03-28T06:37:37.610Z"
      },
      {
        "duration": 92,
        "start_time": "2025-03-28T06:38:06.401Z"
      },
      {
        "duration": 403,
        "start_time": "2025-03-28T06:48:41.086Z"
      },
      {
        "duration": 80,
        "start_time": "2025-03-28T06:48:41.491Z"
      },
      {
        "duration": 1951,
        "start_time": "2025-03-28T06:48:41.573Z"
      },
      {
        "duration": 107,
        "start_time": "2025-03-28T06:48:43.525Z"
      },
      {
        "duration": 395,
        "start_time": "2025-03-28T06:48:43.635Z"
      },
      {
        "duration": 358,
        "start_time": "2025-03-28T06:48:44.032Z"
      },
      {
        "duration": 293,
        "start_time": "2025-03-28T06:48:44.392Z"
      },
      {
        "duration": 106,
        "start_time": "2025-03-28T06:48:44.687Z"
      },
      {
        "duration": 95,
        "start_time": "2025-03-28T06:48:44.794Z"
      },
      {
        "duration": 20,
        "start_time": "2025-03-28T06:48:44.890Z"
      },
      {
        "duration": 1206,
        "start_time": "2025-03-28T06:48:44.912Z"
      },
      {
        "duration": 0,
        "start_time": "2025-03-28T06:48:46.120Z"
      },
      {
        "duration": 0,
        "start_time": "2025-03-28T06:48:46.121Z"
      },
      {
        "duration": 149,
        "start_time": "2025-03-28T06:49:16.654Z"
      },
      {
        "duration": 408,
        "start_time": "2025-03-28T06:49:24.873Z"
      },
      {
        "duration": 87,
        "start_time": "2025-03-28T06:49:25.283Z"
      },
      {
        "duration": 1508,
        "start_time": "2025-03-28T06:49:25.372Z"
      },
      {
        "duration": 106,
        "start_time": "2025-03-28T06:49:26.882Z"
      },
      {
        "duration": 389,
        "start_time": "2025-03-28T06:49:26.991Z"
      },
      {
        "duration": 261,
        "start_time": "2025-03-28T06:49:27.382Z"
      },
      {
        "duration": 279,
        "start_time": "2025-03-28T06:49:27.646Z"
      },
      {
        "duration": 92,
        "start_time": "2025-03-28T06:49:27.927Z"
      },
      {
        "duration": 95,
        "start_time": "2025-03-28T06:49:28.021Z"
      },
      {
        "duration": 13,
        "start_time": "2025-03-28T06:49:28.118Z"
      },
      {
        "duration": 169,
        "start_time": "2025-03-28T06:49:28.133Z"
      },
      {
        "duration": 30,
        "start_time": "2025-03-28T06:49:28.304Z"
      },
      {
        "duration": 29,
        "start_time": "2025-03-28T06:49:28.336Z"
      },
      {
        "duration": 64,
        "start_time": "2025-03-28T06:58:41.657Z"
      },
      {
        "duration": 9,
        "start_time": "2025-03-28T06:59:01.977Z"
      },
      {
        "duration": 98,
        "start_time": "2025-03-28T06:59:31.724Z"
      },
      {
        "duration": 8,
        "start_time": "2025-03-28T06:59:44.648Z"
      },
      {
        "duration": 28,
        "start_time": "2025-03-28T07:00:57.619Z"
      },
      {
        "duration": 26,
        "start_time": "2025-03-28T07:03:56.951Z"
      },
      {
        "duration": 59,
        "start_time": "2025-03-28T07:04:18.546Z"
      },
      {
        "duration": 29,
        "start_time": "2025-03-28T07:05:42.950Z"
      },
      {
        "duration": 30,
        "start_time": "2025-03-28T07:05:48.358Z"
      },
      {
        "duration": 35,
        "start_time": "2025-03-28T07:05:52.193Z"
      },
      {
        "duration": 38,
        "start_time": "2025-03-28T07:06:14.436Z"
      },
      {
        "duration": 97,
        "start_time": "2025-03-28T07:11:38.230Z"
      },
      {
        "duration": 72,
        "start_time": "2025-03-28T07:11:54.810Z"
      },
      {
        "duration": 71,
        "start_time": "2025-03-28T07:12:02.414Z"
      },
      {
        "duration": 69,
        "start_time": "2025-03-28T07:12:16.059Z"
      },
      {
        "duration": 38,
        "start_time": "2025-03-28T07:19:25.130Z"
      },
      {
        "duration": 41,
        "start_time": "2025-03-28T07:19:35.194Z"
      },
      {
        "duration": 38,
        "start_time": "2025-03-28T07:20:31.418Z"
      },
      {
        "duration": 42,
        "start_time": "2025-03-28T07:20:48.025Z"
      },
      {
        "duration": 63,
        "start_time": "2025-03-28T07:42:03.518Z"
      },
      {
        "duration": 23,
        "start_time": "2025-03-28T07:42:34.190Z"
      },
      {
        "duration": 28,
        "start_time": "2025-03-28T07:42:38.610Z"
      },
      {
        "duration": 35,
        "start_time": "2025-03-28T07:42:51.062Z"
      },
      {
        "duration": 38,
        "start_time": "2025-03-28T07:45:06.295Z"
      },
      {
        "duration": 35,
        "start_time": "2025-03-28T07:45:23.355Z"
      },
      {
        "duration": 154,
        "start_time": "2025-03-28T07:46:13.111Z"
      },
      {
        "duration": 125,
        "start_time": "2025-03-28T07:48:58.846Z"
      },
      {
        "duration": 37,
        "start_time": "2025-03-28T07:49:43.918Z"
      },
      {
        "duration": 53,
        "start_time": "2025-03-28T07:49:58.661Z"
      },
      {
        "duration": 39,
        "start_time": "2025-03-28T07:50:32.505Z"
      },
      {
        "duration": 12,
        "start_time": "2025-03-28T08:46:27.172Z"
      },
      {
        "duration": 36,
        "start_time": "2025-03-28T08:46:45.093Z"
      },
      {
        "duration": 35,
        "start_time": "2025-03-28T08:48:08.592Z"
      },
      {
        "duration": 36,
        "start_time": "2025-03-28T08:49:01.279Z"
      },
      {
        "duration": 29,
        "start_time": "2025-03-28T08:49:32.159Z"
      },
      {
        "duration": 42,
        "start_time": "2025-03-28T08:49:49.255Z"
      },
      {
        "duration": 34,
        "start_time": "2025-03-28T08:50:18.575Z"
      },
      {
        "duration": 33,
        "start_time": "2025-03-28T08:50:32.438Z"
      },
      {
        "duration": 35,
        "start_time": "2025-03-28T08:51:01.782Z"
      },
      {
        "duration": 36,
        "start_time": "2025-03-28T08:51:18.122Z"
      },
      {
        "duration": 36,
        "start_time": "2025-03-28T08:51:36.129Z"
      },
      {
        "duration": 12,
        "start_time": "2025-03-28T08:52:16.456Z"
      },
      {
        "duration": 34,
        "start_time": "2025-03-28T08:52:21.362Z"
      },
      {
        "duration": 36,
        "start_time": "2025-03-28T08:53:32.584Z"
      },
      {
        "duration": 11,
        "start_time": "2025-03-28T08:53:36.937Z"
      },
      {
        "duration": 34,
        "start_time": "2025-03-28T08:53:46.713Z"
      },
      {
        "duration": 39,
        "start_time": "2025-03-28T12:43:11.726Z"
      },
      {
        "duration": 42,
        "start_time": "2025-03-28T12:43:48.606Z"
      },
      {
        "duration": 42,
        "start_time": "2025-03-28T12:47:22.951Z"
      },
      {
        "duration": 13,
        "start_time": "2025-03-28T12:47:24.147Z"
      },
      {
        "duration": 17,
        "start_time": "2025-03-28T12:47:26.234Z"
      },
      {
        "duration": 40,
        "start_time": "2025-03-28T12:48:14.559Z"
      },
      {
        "duration": 14,
        "start_time": "2025-03-28T12:48:22.738Z"
      },
      {
        "duration": 43,
        "start_time": "2025-03-28T12:48:53.055Z"
      },
      {
        "duration": 12,
        "start_time": "2025-03-28T12:48:55.810Z"
      },
      {
        "duration": 15,
        "start_time": "2025-03-28T12:48:56.322Z"
      },
      {
        "duration": 15,
        "start_time": "2025-03-28T12:55:02.962Z"
      },
      {
        "duration": 12,
        "start_time": "2025-03-28T12:55:31.443Z"
      },
      {
        "duration": 99,
        "start_time": "2025-03-28T13:00:44.103Z"
      },
      {
        "duration": 104,
        "start_time": "2025-03-28T13:02:59.279Z"
      },
      {
        "duration": 125,
        "start_time": "2025-03-28T13:03:07.839Z"
      },
      {
        "duration": 129,
        "start_time": "2025-03-28T13:03:21.011Z"
      },
      {
        "duration": 63,
        "start_time": "2025-03-28T13:07:24.441Z"
      },
      {
        "duration": 91,
        "start_time": "2025-03-28T13:07:50.124Z"
      },
      {
        "duration": 32,
        "start_time": "2025-03-28T13:07:50.444Z"
      },
      {
        "duration": 18,
        "start_time": "2025-03-28T13:09:01.824Z"
      },
      {
        "duration": 21,
        "start_time": "2025-03-28T13:09:17.926Z"
      },
      {
        "duration": 21,
        "start_time": "2025-03-28T13:09:49.798Z"
      },
      {
        "duration": 390,
        "start_time": "2025-03-29T08:01:35.881Z"
      },
      {
        "duration": 67,
        "start_time": "2025-03-29T08:01:36.273Z"
      },
      {
        "duration": 1239,
        "start_time": "2025-03-29T08:01:36.342Z"
      },
      {
        "duration": 101,
        "start_time": "2025-03-29T08:01:37.583Z"
      },
      {
        "duration": 412,
        "start_time": "2025-03-29T08:01:37.686Z"
      },
      {
        "duration": 238,
        "start_time": "2025-03-29T08:01:38.100Z"
      },
      {
        "duration": 298,
        "start_time": "2025-03-29T08:01:38.340Z"
      },
      {
        "duration": 126,
        "start_time": "2025-03-29T08:01:38.639Z"
      },
      {
        "duration": 157,
        "start_time": "2025-03-29T08:01:38.767Z"
      },
      {
        "duration": 15,
        "start_time": "2025-03-29T08:01:38.926Z"
      },
      {
        "duration": 1398,
        "start_time": "2025-03-29T08:01:38.942Z"
      },
      {
        "duration": 0,
        "start_time": "2025-03-29T08:01:40.342Z"
      },
      {
        "duration": 0,
        "start_time": "2025-03-29T08:01:40.344Z"
      },
      {
        "duration": 0,
        "start_time": "2025-03-29T08:01:40.345Z"
      },
      {
        "duration": 0,
        "start_time": "2025-03-29T08:01:40.346Z"
      },
      {
        "duration": 0,
        "start_time": "2025-03-29T08:01:40.347Z"
      },
      {
        "duration": 0,
        "start_time": "2025-03-29T08:01:40.348Z"
      },
      {
        "duration": 0,
        "start_time": "2025-03-29T08:01:40.349Z"
      },
      {
        "duration": 0,
        "start_time": "2025-03-29T08:01:40.350Z"
      },
      {
        "duration": 29,
        "start_time": "2025-03-29T08:02:00.157Z"
      },
      {
        "duration": 15,
        "start_time": "2025-03-29T08:02:00.749Z"
      },
      {
        "duration": 410,
        "start_time": "2025-03-29T08:03:14.465Z"
      },
      {
        "duration": 81,
        "start_time": "2025-03-29T08:03:14.877Z"
      },
      {
        "duration": 1372,
        "start_time": "2025-03-29T08:03:14.960Z"
      },
      {
        "duration": 102,
        "start_time": "2025-03-29T08:03:16.333Z"
      },
      {
        "duration": 343,
        "start_time": "2025-03-29T08:03:16.437Z"
      },
      {
        "duration": 311,
        "start_time": "2025-03-29T08:03:16.781Z"
      },
      {
        "duration": 393,
        "start_time": "2025-03-29T08:03:17.093Z"
      },
      {
        "duration": 82,
        "start_time": "2025-03-29T08:03:17.487Z"
      },
      {
        "duration": 91,
        "start_time": "2025-03-29T08:03:17.571Z"
      },
      {
        "duration": 13,
        "start_time": "2025-03-29T08:03:17.664Z"
      },
      {
        "duration": 189,
        "start_time": "2025-03-29T08:03:17.679Z"
      },
      {
        "duration": 29,
        "start_time": "2025-03-29T08:03:17.869Z"
      },
      {
        "duration": 15,
        "start_time": "2025-03-29T08:03:17.899Z"
      },
      {
        "duration": 86,
        "start_time": "2025-03-29T08:03:17.916Z"
      },
      {
        "duration": 12,
        "start_time": "2025-03-29T08:03:18.004Z"
      },
      {
        "duration": 53,
        "start_time": "2025-03-29T08:03:18.018Z"
      },
      {
        "duration": 77,
        "start_time": "2025-03-29T08:03:18.073Z"
      },
      {
        "duration": 39,
        "start_time": "2025-03-29T08:03:18.151Z"
      },
      {
        "duration": 84,
        "start_time": "2025-03-29T08:03:18.192Z"
      },
      {
        "duration": 84,
        "start_time": "2025-03-29T08:07:07.841Z"
      },
      {
        "duration": 40,
        "start_time": "2025-03-29T08:07:23.877Z"
      },
      {
        "duration": 84,
        "start_time": "2025-03-29T08:07:47.277Z"
      },
      {
        "duration": 136,
        "start_time": "2025-03-29T08:08:07.157Z"
      },
      {
        "duration": 80,
        "start_time": "2025-03-29T08:08:15.073Z"
      },
      {
        "duration": 312,
        "start_time": "2025-03-29T08:19:41.415Z"
      },
      {
        "duration": 306,
        "start_time": "2025-03-29T08:20:23.127Z"
      },
      {
        "duration": 14,
        "start_time": "2025-03-29T08:21:29.874Z"
      },
      {
        "duration": 18,
        "start_time": "2025-03-29T08:22:05.746Z"
      },
      {
        "duration": 17,
        "start_time": "2025-03-29T08:24:05.797Z"
      },
      {
        "duration": 11,
        "start_time": "2025-03-29T08:25:02.081Z"
      },
      {
        "duration": 84,
        "start_time": "2025-03-29T08:28:41.215Z"
      },
      {
        "duration": 86,
        "start_time": "2025-03-29T08:28:50.891Z"
      },
      {
        "duration": 1252,
        "start_time": "2025-03-29T08:32:31.478Z"
      },
      {
        "duration": 11,
        "start_time": "2025-03-29T08:32:40.474Z"
      },
      {
        "duration": 1332,
        "start_time": "2025-03-29T08:33:18.325Z"
      },
      {
        "duration": 156,
        "start_time": "2025-03-29T08:33:45.309Z"
      },
      {
        "duration": 34,
        "start_time": "2025-03-29T08:33:50.380Z"
      },
      {
        "duration": 12,
        "start_time": "2025-03-29T08:33:53.576Z"
      },
      {
        "duration": 10,
        "start_time": "2025-03-29T08:34:00.613Z"
      },
      {
        "duration": 10,
        "start_time": "2025-03-29T08:34:19.337Z"
      },
      {
        "duration": 362,
        "start_time": "2025-03-29T08:36:14.460Z"
      },
      {
        "duration": 174,
        "start_time": "2025-03-29T08:37:03.555Z"
      },
      {
        "duration": 203,
        "start_time": "2025-03-29T08:38:15.959Z"
      },
      {
        "duration": 142,
        "start_time": "2025-03-29T08:39:32.798Z"
      },
      {
        "duration": 105,
        "start_time": "2025-03-29T08:39:50.470Z"
      },
      {
        "duration": 143,
        "start_time": "2025-03-29T08:42:11.353Z"
      },
      {
        "duration": 142,
        "start_time": "2025-03-29T08:42:55.832Z"
      },
      {
        "duration": 122,
        "start_time": "2025-03-29T08:43:25.648Z"
      },
      {
        "duration": 124,
        "start_time": "2025-03-29T08:44:52.448Z"
      },
      {
        "duration": 128,
        "start_time": "2025-03-29T08:46:13.927Z"
      },
      {
        "duration": 150,
        "start_time": "2025-03-29T08:47:47.438Z"
      },
      {
        "duration": 137,
        "start_time": "2025-03-29T08:48:31.938Z"
      },
      {
        "duration": 101,
        "start_time": "2025-03-29T08:48:51.194Z"
      },
      {
        "duration": 10,
        "start_time": "2025-03-29T08:49:22.345Z"
      },
      {
        "duration": 196,
        "start_time": "2025-03-29T08:49:40.281Z"
      },
      {
        "duration": 104,
        "start_time": "2025-03-29T08:49:56.757Z"
      },
      {
        "duration": 139,
        "start_time": "2025-03-29T08:53:55.831Z"
      },
      {
        "duration": 21,
        "start_time": "2025-03-29T08:55:34.402Z"
      },
      {
        "duration": 160,
        "start_time": "2025-03-29T08:55:38.959Z"
      },
      {
        "duration": 131,
        "start_time": "2025-03-29T08:57:15.965Z"
      },
      {
        "duration": 127,
        "start_time": "2025-03-29T08:57:59.168Z"
      },
      {
        "duration": 124,
        "start_time": "2025-03-29T08:58:08.136Z"
      },
      {
        "duration": 126,
        "start_time": "2025-03-29T08:58:12.597Z"
      },
      {
        "duration": 863,
        "start_time": "2025-03-31T13:46:22.045Z"
      },
      {
        "duration": 73,
        "start_time": "2025-03-31T13:46:22.910Z"
      },
      {
        "duration": 1155,
        "start_time": "2025-03-31T13:46:22.985Z"
      },
      {
        "duration": 102,
        "start_time": "2025-03-31T13:46:24.142Z"
      },
      {
        "duration": 347,
        "start_time": "2025-03-31T13:46:24.247Z"
      },
      {
        "duration": 175,
        "start_time": "2025-03-31T13:46:24.596Z"
      },
      {
        "duration": 244,
        "start_time": "2025-03-31T13:46:24.773Z"
      },
      {
        "duration": 62,
        "start_time": "2025-03-31T13:46:25.018Z"
      },
      {
        "duration": 142,
        "start_time": "2025-03-31T13:46:25.082Z"
      },
      {
        "duration": 14,
        "start_time": "2025-03-31T13:46:25.225Z"
      },
      {
        "duration": 214,
        "start_time": "2025-03-31T13:46:25.241Z"
      },
      {
        "duration": 43,
        "start_time": "2025-03-31T13:46:25.457Z"
      },
      {
        "duration": 16,
        "start_time": "2025-03-31T13:46:25.502Z"
      },
      {
        "duration": 71,
        "start_time": "2025-03-31T13:46:25.521Z"
      },
      {
        "duration": 112,
        "start_time": "2025-03-31T13:46:25.593Z"
      },
      {
        "duration": 0,
        "start_time": "2025-03-31T13:46:25.706Z"
      },
      {
        "duration": 0,
        "start_time": "2025-03-31T13:46:25.708Z"
      },
      {
        "duration": 0,
        "start_time": "2025-03-31T13:46:25.709Z"
      },
      {
        "duration": 0,
        "start_time": "2025-03-31T13:46:25.710Z"
      },
      {
        "duration": 0,
        "start_time": "2025-03-31T13:46:25.712Z"
      },
      {
        "duration": 0,
        "start_time": "2025-03-31T13:46:25.714Z"
      },
      {
        "duration": 0,
        "start_time": "2025-03-31T13:46:25.772Z"
      },
      {
        "duration": 0,
        "start_time": "2025-03-31T13:46:25.773Z"
      },
      {
        "duration": 0,
        "start_time": "2025-03-31T13:46:25.775Z"
      },
      {
        "duration": 0,
        "start_time": "2025-03-31T13:46:25.776Z"
      },
      {
        "duration": 0,
        "start_time": "2025-03-31T13:46:25.777Z"
      },
      {
        "duration": 0,
        "start_time": "2025-03-31T13:46:25.779Z"
      },
      {
        "duration": 654,
        "start_time": "2025-03-31T13:50:58.266Z"
      },
      {
        "duration": 65,
        "start_time": "2025-03-31T13:50:58.922Z"
      },
      {
        "duration": 1218,
        "start_time": "2025-03-31T13:50:58.989Z"
      },
      {
        "duration": 203,
        "start_time": "2025-03-31T13:51:00.208Z"
      },
      {
        "duration": 599,
        "start_time": "2025-03-31T13:51:00.413Z"
      },
      {
        "duration": 301,
        "start_time": "2025-03-31T13:51:01.014Z"
      },
      {
        "duration": 358,
        "start_time": "2025-03-31T13:51:01.372Z"
      },
      {
        "duration": 138,
        "start_time": "2025-03-31T13:51:01.731Z"
      },
      {
        "duration": 156,
        "start_time": "2025-03-31T13:51:01.871Z"
      },
      {
        "duration": 15,
        "start_time": "2025-03-31T13:51:02.029Z"
      },
      {
        "duration": 283,
        "start_time": "2025-03-31T13:51:02.046Z"
      },
      {
        "duration": 29,
        "start_time": "2025-03-31T13:51:02.330Z"
      },
      {
        "duration": 27,
        "start_time": "2025-03-31T13:51:02.361Z"
      },
      {
        "duration": 85,
        "start_time": "2025-03-31T13:51:02.391Z"
      },
      {
        "duration": 73,
        "start_time": "2025-03-31T13:51:02.478Z"
      },
      {
        "duration": 0,
        "start_time": "2025-03-31T13:51:02.553Z"
      },
      {
        "duration": 0,
        "start_time": "2025-03-31T13:51:02.554Z"
      },
      {
        "duration": 0,
        "start_time": "2025-03-31T13:51:02.555Z"
      },
      {
        "duration": 0,
        "start_time": "2025-03-31T13:51:02.556Z"
      },
      {
        "duration": 0,
        "start_time": "2025-03-31T13:51:02.573Z"
      },
      {
        "duration": 0,
        "start_time": "2025-03-31T13:51:02.574Z"
      },
      {
        "duration": 0,
        "start_time": "2025-03-31T13:51:02.576Z"
      },
      {
        "duration": 0,
        "start_time": "2025-03-31T13:51:02.577Z"
      },
      {
        "duration": 0,
        "start_time": "2025-03-31T13:51:02.578Z"
      },
      {
        "duration": 0,
        "start_time": "2025-03-31T13:51:02.579Z"
      },
      {
        "duration": 0,
        "start_time": "2025-03-31T13:51:02.580Z"
      },
      {
        "duration": 0,
        "start_time": "2025-03-31T13:51:02.582Z"
      },
      {
        "duration": 45,
        "start_time": "2025-03-31T13:52:22.566Z"
      },
      {
        "duration": 92,
        "start_time": "2025-03-31T14:00:59.864Z"
      },
      {
        "duration": 12,
        "start_time": "2025-03-31T14:02:09.320Z"
      },
      {
        "duration": 11,
        "start_time": "2025-03-31T14:02:26.564Z"
      },
      {
        "duration": 5,
        "start_time": "2025-03-31T14:02:41.416Z"
      },
      {
        "duration": 13,
        "start_time": "2025-03-31T14:04:31.362Z"
      },
      {
        "duration": 47,
        "start_time": "2025-03-31T14:06:18.061Z"
      },
      {
        "duration": 90,
        "start_time": "2025-03-31T14:06:28.249Z"
      },
      {
        "duration": 15,
        "start_time": "2025-03-31T14:06:29.500Z"
      },
      {
        "duration": 45,
        "start_time": "2025-03-31T14:06:30.165Z"
      },
      {
        "duration": 23,
        "start_time": "2025-03-31T14:06:45.900Z"
      },
      {
        "duration": 12,
        "start_time": "2025-03-31T14:08:02.064Z"
      },
      {
        "duration": 13,
        "start_time": "2025-03-31T14:08:26.096Z"
      },
      {
        "duration": 13,
        "start_time": "2025-03-31T14:08:41.300Z"
      },
      {
        "duration": 14,
        "start_time": "2025-03-31T14:08:54.440Z"
      },
      {
        "duration": 17,
        "start_time": "2025-03-31T14:09:06.996Z"
      },
      {
        "duration": 6,
        "start_time": "2025-03-31T14:10:14.189Z"
      },
      {
        "duration": 11,
        "start_time": "2025-03-31T14:10:27.531Z"
      },
      {
        "duration": 13,
        "start_time": "2025-03-31T14:10:37.047Z"
      },
      {
        "duration": 11,
        "start_time": "2025-03-31T14:12:58.617Z"
      },
      {
        "duration": 9,
        "start_time": "2025-03-31T14:14:20.389Z"
      },
      {
        "duration": 11,
        "start_time": "2025-03-31T14:14:33.010Z"
      },
      {
        "duration": 1894,
        "start_time": "2025-03-31T14:15:07.280Z"
      },
      {
        "duration": 9,
        "start_time": "2025-03-31T14:18:04.019Z"
      },
      {
        "duration": 212,
        "start_time": "2025-03-31T14:18:14.771Z"
      },
      {
        "duration": 180,
        "start_time": "2025-03-31T14:18:35.072Z"
      },
      {
        "duration": 14387,
        "start_time": "2025-03-31T14:19:43.811Z"
      },
      {
        "duration": 18,
        "start_time": "2025-03-31T14:20:04.697Z"
      },
      {
        "duration": 17,
        "start_time": "2025-03-31T14:20:17.010Z"
      },
      {
        "duration": 687,
        "start_time": "2025-03-31T14:21:09.657Z"
      },
      {
        "duration": 69,
        "start_time": "2025-03-31T14:21:10.346Z"
      },
      {
        "duration": 2201,
        "start_time": "2025-03-31T14:21:10.417Z"
      },
      {
        "duration": 105,
        "start_time": "2025-03-31T14:21:12.620Z"
      },
      {
        "duration": 379,
        "start_time": "2025-03-31T14:21:12.727Z"
      },
      {
        "duration": 241,
        "start_time": "2025-03-31T14:21:13.107Z"
      },
      {
        "duration": 1832,
        "start_time": "2025-03-31T14:21:13.349Z"
      },
      {
        "duration": 66,
        "start_time": "2025-03-31T14:21:15.182Z"
      },
      {
        "duration": 1086,
        "start_time": "2025-03-31T14:21:15.250Z"
      },
      {
        "duration": 151,
        "start_time": "2025-03-31T14:21:16.338Z"
      },
      {
        "duration": 59,
        "start_time": "2025-03-31T14:21:16.491Z"
      },
      {
        "duration": 209,
        "start_time": "2025-03-31T14:21:16.552Z"
      },
      {
        "duration": 94,
        "start_time": "2025-03-31T14:21:16.763Z"
      },
      {
        "duration": 20,
        "start_time": "2025-03-31T14:21:16.860Z"
      },
      {
        "duration": 81,
        "start_time": "2025-03-31T14:21:16.881Z"
      },
      {
        "duration": 79,
        "start_time": "2025-03-31T14:21:16.964Z"
      },
      {
        "duration": 0,
        "start_time": "2025-03-31T14:21:17.044Z"
      },
      {
        "duration": 0,
        "start_time": "2025-03-31T14:21:17.046Z"
      },
      {
        "duration": 0,
        "start_time": "2025-03-31T14:21:17.048Z"
      },
      {
        "duration": 0,
        "start_time": "2025-03-31T14:21:17.049Z"
      },
      {
        "duration": 0,
        "start_time": "2025-03-31T14:21:17.050Z"
      },
      {
        "duration": 0,
        "start_time": "2025-03-31T14:21:17.051Z"
      },
      {
        "duration": 0,
        "start_time": "2025-03-31T14:21:17.052Z"
      },
      {
        "duration": 0,
        "start_time": "2025-03-31T14:21:17.053Z"
      },
      {
        "duration": 0,
        "start_time": "2025-03-31T14:21:17.073Z"
      },
      {
        "duration": 0,
        "start_time": "2025-03-31T14:21:17.074Z"
      },
      {
        "duration": 46,
        "start_time": "2025-03-31T14:21:32.389Z"
      },
      {
        "duration": 1696,
        "start_time": "2025-03-31T14:21:50.717Z"
      },
      {
        "duration": 16,
        "start_time": "2025-03-31T14:22:08.148Z"
      },
      {
        "duration": 777502,
        "start_time": "2025-03-31T14:29:01.838Z"
      },
      {
        "duration": 0,
        "start_time": "2025-03-31T14:41:59.342Z"
      },
      {
        "duration": 492,
        "start_time": "2025-03-31T14:42:09.021Z"
      },
      {
        "duration": 40,
        "start_time": "2025-03-31T14:43:28.001Z"
      },
      {
        "duration": 29246,
        "start_time": "2025-03-31T14:44:09.822Z"
      },
      {
        "duration": 22,
        "start_time": "2025-03-31T14:45:15.147Z"
      },
      {
        "duration": 162,
        "start_time": "2025-03-31T14:45:43.546Z"
      },
      {
        "duration": 15,
        "start_time": "2025-03-31T14:53:50.050Z"
      },
      {
        "duration": 19,
        "start_time": "2025-03-31T14:54:04.866Z"
      },
      {
        "duration": 22,
        "start_time": "2025-03-31T14:54:10.998Z"
      },
      {
        "duration": 22,
        "start_time": "2025-03-31T14:57:17.372Z"
      },
      {
        "duration": 5,
        "start_time": "2025-03-31T15:05:07.101Z"
      },
      {
        "duration": 4,
        "start_time": "2025-03-31T15:05:21.063Z"
      },
      {
        "duration": 5,
        "start_time": "2025-03-31T15:05:25.662Z"
      },
      {
        "duration": 3,
        "start_time": "2025-03-31T15:05:45.200Z"
      },
      {
        "duration": 69,
        "start_time": "2025-03-31T15:06:27.737Z"
      },
      {
        "duration": 69,
        "start_time": "2025-03-31T15:06:37.546Z"
      },
      {
        "duration": 65,
        "start_time": "2025-03-31T15:07:02.774Z"
      },
      {
        "duration": 4,
        "start_time": "2025-03-31T15:09:23.400Z"
      },
      {
        "duration": 25,
        "start_time": "2025-03-31T15:11:04.904Z"
      },
      {
        "duration": 178,
        "start_time": "2025-03-31T15:12:24.842Z"
      },
      {
        "duration": 119,
        "start_time": "2025-03-31T15:14:51.081Z"
      },
      {
        "duration": 55,
        "start_time": "2025-03-31T15:23:38.901Z"
      },
      {
        "duration": 60,
        "start_time": "2025-03-31T15:23:58.192Z"
      },
      {
        "duration": 51,
        "start_time": "2025-03-31T15:30:14.212Z"
      },
      {
        "duration": 59,
        "start_time": "2025-03-31T15:30:36.191Z"
      },
      {
        "duration": 15,
        "start_time": "2025-03-31T15:34:49.148Z"
      },
      {
        "duration": 30,
        "start_time": "2025-03-31T15:35:15.164Z"
      },
      {
        "duration": 13,
        "start_time": "2025-03-31T15:41:28.640Z"
      },
      {
        "duration": 34,
        "start_time": "2025-03-31T15:42:17.028Z"
      },
      {
        "duration": 12,
        "start_time": "2025-03-31T15:42:35.007Z"
      },
      {
        "duration": 17,
        "start_time": "2025-03-31T15:43:14.488Z"
      },
      {
        "duration": 42,
        "start_time": "2025-03-31T15:48:35.712Z"
      },
      {
        "duration": 31,
        "start_time": "2025-03-31T15:48:47.504Z"
      },
      {
        "duration": 5,
        "start_time": "2025-03-31T15:51:43.094Z"
      },
      {
        "duration": 15,
        "start_time": "2025-03-31T15:55:18.281Z"
      },
      {
        "duration": 10,
        "start_time": "2025-03-31T15:55:28.145Z"
      },
      {
        "duration": 14,
        "start_time": "2025-03-31T15:55:50.948Z"
      },
      {
        "duration": 14,
        "start_time": "2025-03-31T15:56:16.502Z"
      },
      {
        "duration": 14,
        "start_time": "2025-03-31T15:56:23.186Z"
      },
      {
        "duration": 37,
        "start_time": "2025-03-31T16:07:08.843Z"
      },
      {
        "duration": 35,
        "start_time": "2025-03-31T16:07:42.180Z"
      },
      {
        "duration": 15,
        "start_time": "2025-03-31T16:08:54.705Z"
      },
      {
        "duration": 46,
        "start_time": "2025-03-31T16:16:26.460Z"
      },
      {
        "duration": 31,
        "start_time": "2025-03-31T16:16:31.217Z"
      },
      {
        "duration": 39,
        "start_time": "2025-03-31T16:16:35.882Z"
      },
      {
        "duration": 29,
        "start_time": "2025-03-31T16:16:42.213Z"
      },
      {
        "duration": 38,
        "start_time": "2025-03-31T16:16:46.645Z"
      },
      {
        "duration": 33,
        "start_time": "2025-03-31T16:17:52.724Z"
      },
      {
        "duration": 1043,
        "start_time": "2025-03-31T16:20:05.807Z"
      },
      {
        "duration": 892,
        "start_time": "2025-03-31T16:20:35.331Z"
      },
      {
        "duration": 62,
        "start_time": "2025-03-31T16:21:47.842Z"
      },
      {
        "duration": 1184,
        "start_time": "2025-03-31T16:21:57.409Z"
      },
      {
        "duration": 70,
        "start_time": "2025-03-31T16:21:58.603Z"
      },
      {
        "duration": 1828,
        "start_time": "2025-03-31T16:21:58.682Z"
      },
      {
        "duration": 116,
        "start_time": "2025-03-31T16:22:00.512Z"
      },
      {
        "duration": 387,
        "start_time": "2025-03-31T16:22:00.630Z"
      },
      {
        "duration": 261,
        "start_time": "2025-03-31T16:22:01.018Z"
      },
      {
        "duration": 252,
        "start_time": "2025-03-31T16:22:01.283Z"
      },
      {
        "duration": 547,
        "start_time": "2025-03-31T16:22:01.536Z"
      },
      {
        "duration": 149,
        "start_time": "2025-03-31T16:22:02.087Z"
      },
      {
        "duration": 166,
        "start_time": "2025-03-31T16:22:02.238Z"
      },
      {
        "duration": 74,
        "start_time": "2025-03-31T16:22:02.405Z"
      },
      {
        "duration": 77,
        "start_time": "2025-03-31T16:22:02.488Z"
      },
      {
        "duration": 180,
        "start_time": "2025-03-31T16:22:02.566Z"
      },
      {
        "duration": 99,
        "start_time": "2025-03-31T16:22:02.748Z"
      },
      {
        "duration": 29,
        "start_time": "2025-03-31T16:22:02.850Z"
      },
      {
        "duration": 22,
        "start_time": "2025-03-31T16:22:02.884Z"
      },
      {
        "duration": 76,
        "start_time": "2025-03-31T16:22:02.907Z"
      },
      {
        "duration": 29,
        "start_time": "2025-03-31T16:22:02.985Z"
      },
      {
        "duration": 13,
        "start_time": "2025-03-31T16:22:03.016Z"
      },
      {
        "duration": 2,
        "start_time": "2025-03-31T16:22:03.031Z"
      },
      {
        "duration": 76,
        "start_time": "2025-03-31T16:22:03.035Z"
      },
      {
        "duration": 80,
        "start_time": "2025-03-31T16:22:03.112Z"
      },
      {
        "duration": 47,
        "start_time": "2025-03-31T16:22:03.194Z"
      },
      {
        "duration": 148,
        "start_time": "2025-03-31T16:22:22.353Z"
      },
      {
        "duration": 1472,
        "start_time": "2025-04-01T05:34:33.835Z"
      },
      {
        "duration": 74,
        "start_time": "2025-04-01T05:34:35.309Z"
      },
      {
        "duration": 2498,
        "start_time": "2025-04-01T05:34:35.384Z"
      },
      {
        "duration": 105,
        "start_time": "2025-04-01T05:34:37.884Z"
      },
      {
        "duration": 459,
        "start_time": "2025-04-01T05:34:37.991Z"
      },
      {
        "duration": 223,
        "start_time": "2025-04-01T05:34:38.452Z"
      },
      {
        "duration": 363,
        "start_time": "2025-04-01T05:34:38.676Z"
      },
      {
        "duration": 62,
        "start_time": "2025-04-01T05:34:39.041Z"
      },
      {
        "duration": 177,
        "start_time": "2025-04-01T05:34:39.104Z"
      },
      {
        "duration": 146,
        "start_time": "2025-04-01T05:34:39.283Z"
      },
      {
        "duration": 87,
        "start_time": "2025-04-01T05:34:39.431Z"
      },
      {
        "duration": 190,
        "start_time": "2025-04-01T05:34:39.519Z"
      },
      {
        "duration": 105,
        "start_time": "2025-04-01T05:34:39.711Z"
      },
      {
        "duration": 19,
        "start_time": "2025-04-01T05:34:39.820Z"
      },
      {
        "duration": 23,
        "start_time": "2025-04-01T05:34:39.842Z"
      },
      {
        "duration": 42,
        "start_time": "2025-04-01T05:34:39.867Z"
      },
      {
        "duration": 26,
        "start_time": "2025-04-01T05:34:39.910Z"
      },
      {
        "duration": 16,
        "start_time": "2025-04-01T05:34:39.937Z"
      },
      {
        "duration": 3,
        "start_time": "2025-04-01T05:34:39.954Z"
      },
      {
        "duration": 4,
        "start_time": "2025-04-01T05:34:39.959Z"
      },
      {
        "duration": 86,
        "start_time": "2025-04-01T05:34:39.964Z"
      },
      {
        "duration": 54,
        "start_time": "2025-04-01T05:34:40.052Z"
      },
      {
        "duration": 22,
        "start_time": "2025-04-01T05:47:28.737Z"
      },
      {
        "duration": 172,
        "start_time": "2025-04-01T05:48:28.815Z"
      },
      {
        "duration": 149,
        "start_time": "2025-04-01T05:48:52.450Z"
      },
      {
        "duration": 224,
        "start_time": "2025-04-01T05:49:02.282Z"
      },
      {
        "duration": 141,
        "start_time": "2025-04-01T05:50:10.527Z"
      },
      {
        "duration": 242,
        "start_time": "2025-04-01T05:50:16.746Z"
      },
      {
        "duration": 168,
        "start_time": "2025-04-01T05:50:28.029Z"
      },
      {
        "duration": 175,
        "start_time": "2025-04-01T05:50:36.345Z"
      },
      {
        "duration": 1171,
        "start_time": "2025-04-01T05:52:00.961Z"
      },
      {
        "duration": 65,
        "start_time": "2025-04-01T05:52:02.134Z"
      },
      {
        "duration": 1253,
        "start_time": "2025-04-01T05:52:02.201Z"
      },
      {
        "duration": 111,
        "start_time": "2025-04-01T05:52:03.456Z"
      },
      {
        "duration": 365,
        "start_time": "2025-04-01T05:52:03.569Z"
      },
      {
        "duration": 343,
        "start_time": "2025-04-01T05:52:03.936Z"
      },
      {
        "duration": 338,
        "start_time": "2025-04-01T05:52:04.280Z"
      },
      {
        "duration": 109,
        "start_time": "2025-04-01T05:52:04.619Z"
      },
      {
        "duration": 109,
        "start_time": "2025-04-01T05:52:04.730Z"
      },
      {
        "duration": 300,
        "start_time": "2025-04-01T05:52:04.841Z"
      },
      {
        "duration": 169,
        "start_time": "2025-04-01T05:52:05.143Z"
      },
      {
        "duration": 10,
        "start_time": "2025-04-01T05:52:05.313Z"
      },
      {
        "duration": 409,
        "start_time": "2025-04-01T05:52:05.324Z"
      },
      {
        "duration": 203,
        "start_time": "2025-04-01T05:52:05.736Z"
      },
      {
        "duration": 11,
        "start_time": "2025-04-01T05:52:05.941Z"
      },
      {
        "duration": 48,
        "start_time": "2025-04-01T05:52:05.954Z"
      },
      {
        "duration": 13,
        "start_time": "2025-04-01T05:52:06.003Z"
      },
      {
        "duration": 24,
        "start_time": "2025-04-01T05:52:06.018Z"
      },
      {
        "duration": 13,
        "start_time": "2025-04-01T05:52:06.044Z"
      },
      {
        "duration": 7,
        "start_time": "2025-04-01T05:52:06.058Z"
      },
      {
        "duration": 4,
        "start_time": "2025-04-01T05:52:06.067Z"
      },
      {
        "duration": 54,
        "start_time": "2025-04-01T05:52:06.104Z"
      },
      {
        "duration": 68,
        "start_time": "2025-04-01T05:52:06.160Z"
      },
      {
        "duration": 176,
        "start_time": "2025-04-01T05:56:54.019Z"
      },
      {
        "duration": 123,
        "start_time": "2025-04-01T05:57:04.345Z"
      },
      {
        "duration": 144,
        "start_time": "2025-04-01T06:06:50.287Z"
      },
      {
        "duration": 149,
        "start_time": "2025-04-01T06:07:08.774Z"
      },
      {
        "duration": 160,
        "start_time": "2025-04-01T06:07:14.316Z"
      },
      {
        "duration": 140,
        "start_time": "2025-04-01T06:07:19.116Z"
      },
      {
        "duration": 150,
        "start_time": "2025-04-01T06:07:23.540Z"
      },
      {
        "duration": 270,
        "start_time": "2025-04-01T06:07:29.028Z"
      },
      {
        "duration": 114,
        "start_time": "2025-04-01T06:07:33.932Z"
      },
      {
        "duration": 152,
        "start_time": "2025-04-01T06:08:41.073Z"
      },
      {
        "duration": 146,
        "start_time": "2025-04-01T06:11:51.685Z"
      },
      {
        "duration": 81,
        "start_time": "2025-04-01T06:20:50.659Z"
      },
      {
        "duration": 11,
        "start_time": "2025-04-01T06:20:55.593Z"
      },
      {
        "duration": 178,
        "start_time": "2025-04-01T06:21:00.673Z"
      },
      {
        "duration": 225,
        "start_time": "2025-04-01T06:23:41.604Z"
      },
      {
        "duration": 1222,
        "start_time": "2025-04-01T08:05:55.364Z"
      },
      {
        "duration": 133,
        "start_time": "2025-04-01T08:05:56.588Z"
      },
      {
        "duration": 1354,
        "start_time": "2025-04-01T08:05:56.723Z"
      },
      {
        "duration": 109,
        "start_time": "2025-04-01T08:05:58.079Z"
      },
      {
        "duration": 504,
        "start_time": "2025-04-01T08:05:58.190Z"
      },
      {
        "duration": 508,
        "start_time": "2025-04-01T08:05:58.696Z"
      },
      {
        "duration": 272,
        "start_time": "2025-04-01T08:05:59.206Z"
      },
      {
        "duration": 66,
        "start_time": "2025-04-01T08:05:59.480Z"
      },
      {
        "duration": 105,
        "start_time": "2025-04-01T08:05:59.548Z"
      },
      {
        "duration": 144,
        "start_time": "2025-04-01T08:05:59.654Z"
      },
      {
        "duration": 62,
        "start_time": "2025-04-01T08:05:59.799Z"
      },
      {
        "duration": 10,
        "start_time": "2025-04-01T08:05:59.862Z"
      },
      {
        "duration": 211,
        "start_time": "2025-04-01T08:05:59.873Z"
      },
      {
        "duration": 106,
        "start_time": "2025-04-01T08:06:00.087Z"
      },
      {
        "duration": 11,
        "start_time": "2025-04-01T08:06:00.195Z"
      },
      {
        "duration": 27,
        "start_time": "2025-04-01T08:06:00.208Z"
      },
      {
        "duration": 129,
        "start_time": "2025-04-01T08:06:00.238Z"
      },
      {
        "duration": 15,
        "start_time": "2025-04-01T08:06:00.369Z"
      },
      {
        "duration": 27,
        "start_time": "2025-04-01T08:06:00.386Z"
      },
      {
        "duration": 14,
        "start_time": "2025-04-01T08:06:00.415Z"
      },
      {
        "duration": 30,
        "start_time": "2025-04-01T08:06:00.430Z"
      },
      {
        "duration": 18,
        "start_time": "2025-04-01T08:06:00.462Z"
      },
      {
        "duration": 125,
        "start_time": "2025-04-01T08:06:00.481Z"
      },
      {
        "duration": 54,
        "start_time": "2025-04-01T08:06:00.608Z"
      },
      {
        "duration": 24,
        "start_time": "2025-04-01T08:08:55.539Z"
      },
      {
        "duration": 16,
        "start_time": "2025-04-01T08:08:59.958Z"
      },
      {
        "duration": 62,
        "start_time": "2025-04-03T06:33:29.664Z"
      },
      {
        "duration": 1895,
        "start_time": "2025-04-03T06:33:34.875Z"
      },
      {
        "duration": 118,
        "start_time": "2025-04-03T06:33:36.773Z"
      },
      {
        "duration": 1681,
        "start_time": "2025-04-03T06:33:36.893Z"
      },
      {
        "duration": 104,
        "start_time": "2025-04-03T06:33:38.576Z"
      },
      {
        "duration": 394,
        "start_time": "2025-04-03T06:33:38.683Z"
      },
      {
        "duration": 271,
        "start_time": "2025-04-03T06:33:39.079Z"
      },
      {
        "duration": 215,
        "start_time": "2025-04-03T06:33:39.361Z"
      },
      {
        "duration": 120,
        "start_time": "2025-04-03T06:33:39.578Z"
      },
      {
        "duration": 107,
        "start_time": "2025-04-03T06:33:39.700Z"
      },
      {
        "duration": 176,
        "start_time": "2025-04-03T06:33:39.808Z"
      },
      {
        "duration": 99,
        "start_time": "2025-04-03T06:33:39.986Z"
      },
      {
        "duration": 91,
        "start_time": "2025-04-03T06:33:40.086Z"
      },
      {
        "duration": 159,
        "start_time": "2025-04-03T06:33:40.179Z"
      },
      {
        "duration": 21,
        "start_time": "2025-04-03T06:33:40.341Z"
      },
      {
        "duration": 23,
        "start_time": "2025-04-03T06:33:40.364Z"
      },
      {
        "duration": 138,
        "start_time": "2025-04-03T06:33:40.389Z"
      },
      {
        "duration": 16,
        "start_time": "2025-04-03T06:33:40.528Z"
      },
      {
        "duration": 49,
        "start_time": "2025-04-03T06:33:40.545Z"
      },
      {
        "duration": 25,
        "start_time": "2025-04-03T06:33:40.596Z"
      },
      {
        "duration": 4,
        "start_time": "2025-04-03T06:33:40.623Z"
      },
      {
        "duration": 85,
        "start_time": "2025-04-03T06:33:40.629Z"
      },
      {
        "duration": 175,
        "start_time": "2025-04-03T06:33:40.716Z"
      },
      {
        "duration": 182,
        "start_time": "2025-04-03T06:33:40.892Z"
      },
      {
        "duration": 26,
        "start_time": "2025-04-03T06:34:11.446Z"
      },
      {
        "duration": 55,
        "start_time": "2025-04-03T06:34:22.042Z"
      },
      {
        "duration": 297,
        "start_time": "2025-04-03T06:34:56.914Z"
      },
      {
        "duration": 10,
        "start_time": "2025-04-03T06:35:12.881Z"
      },
      {
        "duration": 11,
        "start_time": "2025-04-03T06:35:18.825Z"
      },
      {
        "duration": 28,
        "start_time": "2025-04-03T06:35:22.157Z"
      },
      {
        "duration": 20,
        "start_time": "2025-04-03T06:35:42.277Z"
      },
      {
        "duration": 32,
        "start_time": "2025-04-03T06:36:08.425Z"
      },
      {
        "duration": 23,
        "start_time": "2025-04-03T06:36:08.937Z"
      },
      {
        "duration": 20,
        "start_time": "2025-04-03T06:38:33.173Z"
      },
      {
        "duration": 48,
        "start_time": "2025-04-03T06:46:16.572Z"
      },
      {
        "duration": 35,
        "start_time": "2025-04-03T06:46:31.088Z"
      },
      {
        "duration": 35,
        "start_time": "2025-04-03T06:46:55.131Z"
      },
      {
        "duration": 61,
        "start_time": "2025-04-03T07:46:08.985Z"
      },
      {
        "duration": 149,
        "start_time": "2025-04-03T07:48:05.107Z"
      },
      {
        "duration": 11,
        "start_time": "2025-04-03T07:52:10.270Z"
      },
      {
        "duration": 152,
        "start_time": "2025-04-03T08:00:16.410Z"
      },
      {
        "duration": 89,
        "start_time": "2025-04-03T08:09:28.178Z"
      },
      {
        "duration": 54,
        "start_time": "2025-04-03T08:10:29.343Z"
      },
      {
        "duration": 33,
        "start_time": "2025-04-03T08:10:34.886Z"
      },
      {
        "duration": 407,
        "start_time": "2025-04-03T08:21:13.578Z"
      },
      {
        "duration": 55,
        "start_time": "2025-04-03T08:21:23.771Z"
      },
      {
        "duration": 59,
        "start_time": "2025-04-03T08:22:23.261Z"
      },
      {
        "duration": 88,
        "start_time": "2025-04-03T08:27:51.215Z"
      },
      {
        "duration": 80,
        "start_time": "2025-04-03T08:28:02.375Z"
      },
      {
        "duration": 107,
        "start_time": "2025-04-03T08:29:20.439Z"
      },
      {
        "duration": 9,
        "start_time": "2025-04-03T08:29:54.575Z"
      },
      {
        "duration": 10,
        "start_time": "2025-04-03T08:34:32.140Z"
      },
      {
        "duration": 3,
        "start_time": "2025-04-03T08:36:03.126Z"
      },
      {
        "duration": 2,
        "start_time": "2025-04-03T08:36:21.859Z"
      },
      {
        "duration": 1528,
        "start_time": "2025-04-03T08:36:28.349Z"
      },
      {
        "duration": 3,
        "start_time": "2025-04-03T08:36:29.879Z"
      },
      {
        "duration": 190,
        "start_time": "2025-04-03T08:36:29.883Z"
      },
      {
        "duration": 1413,
        "start_time": "2025-04-03T08:36:30.075Z"
      },
      {
        "duration": 111,
        "start_time": "2025-04-03T08:36:31.491Z"
      },
      {
        "duration": 476,
        "start_time": "2025-04-03T08:36:31.605Z"
      },
      {
        "duration": 244,
        "start_time": "2025-04-03T08:36:32.083Z"
      },
      {
        "duration": 241,
        "start_time": "2025-04-03T08:36:32.329Z"
      },
      {
        "duration": 66,
        "start_time": "2025-04-03T08:36:32.573Z"
      },
      {
        "duration": 148,
        "start_time": "2025-04-03T08:36:32.641Z"
      },
      {
        "duration": 163,
        "start_time": "2025-04-03T08:36:32.791Z"
      },
      {
        "duration": 61,
        "start_time": "2025-04-03T08:36:32.956Z"
      },
      {
        "duration": 9,
        "start_time": "2025-04-03T08:36:33.019Z"
      },
      {
        "duration": 136,
        "start_time": "2025-04-03T08:36:33.031Z"
      },
      {
        "duration": 13,
        "start_time": "2025-04-03T08:36:33.168Z"
      },
      {
        "duration": 23,
        "start_time": "2025-04-03T08:36:33.183Z"
      },
      {
        "duration": 154,
        "start_time": "2025-04-03T08:36:33.208Z"
      },
      {
        "duration": 14,
        "start_time": "2025-04-03T08:36:33.364Z"
      },
      {
        "duration": 114,
        "start_time": "2025-04-03T08:36:33.380Z"
      },
      {
        "duration": 30,
        "start_time": "2025-04-03T08:36:33.496Z"
      },
      {
        "duration": 57,
        "start_time": "2025-04-03T08:36:33.528Z"
      },
      {
        "duration": 43,
        "start_time": "2025-04-03T08:36:33.587Z"
      },
      {
        "duration": 80,
        "start_time": "2025-04-03T08:36:33.632Z"
      },
      {
        "duration": 156,
        "start_time": "2025-04-03T08:36:33.714Z"
      },
      {
        "duration": 172,
        "start_time": "2025-04-03T08:36:33.872Z"
      },
      {
        "duration": 355,
        "start_time": "2025-04-03T08:36:34.046Z"
      },
      {
        "duration": 27,
        "start_time": "2025-04-03T08:36:34.403Z"
      },
      {
        "duration": 90,
        "start_time": "2025-04-03T08:36:34.431Z"
      },
      {
        "duration": 207,
        "start_time": "2025-04-03T08:36:34.523Z"
      },
      {
        "duration": 290,
        "start_time": "2025-04-03T08:36:34.732Z"
      },
      {
        "duration": 255,
        "start_time": "2025-04-03T08:36:35.024Z"
      },
      {
        "duration": 11,
        "start_time": "2025-04-03T08:36:35.281Z"
      },
      {
        "duration": 176,
        "start_time": "2025-04-03T08:36:35.294Z"
      },
      {
        "duration": 120,
        "start_time": "2025-04-03T08:36:35.472Z"
      },
      {
        "duration": 8,
        "start_time": "2025-04-03T08:36:35.594Z"
      },
      {
        "duration": 154,
        "start_time": "2025-04-03T08:37:21.323Z"
      },
      {
        "duration": 7,
        "start_time": "2025-04-03T08:41:24.448Z"
      },
      {
        "duration": 7,
        "start_time": "2025-04-03T08:42:46.631Z"
      },
      {
        "duration": 47,
        "start_time": "2025-04-04T06:08:54.836Z"
      },
      {
        "duration": 1339,
        "start_time": "2025-04-04T06:09:00.563Z"
      },
      {
        "duration": 3,
        "start_time": "2025-04-04T06:09:01.904Z"
      },
      {
        "duration": 161,
        "start_time": "2025-04-04T06:09:01.909Z"
      },
      {
        "duration": 1096,
        "start_time": "2025-04-04T06:09:02.073Z"
      },
      {
        "duration": 102,
        "start_time": "2025-04-04T06:09:03.176Z"
      },
      {
        "duration": 311,
        "start_time": "2025-04-04T06:09:03.280Z"
      },
      {
        "duration": 250,
        "start_time": "2025-04-04T06:09:03.592Z"
      },
      {
        "duration": 225,
        "start_time": "2025-04-04T06:09:03.844Z"
      },
      {
        "duration": 62,
        "start_time": "2025-04-04T06:09:04.076Z"
      },
      {
        "duration": 98,
        "start_time": "2025-04-04T06:09:04.140Z"
      },
      {
        "duration": 127,
        "start_time": "2025-04-04T06:09:04.239Z"
      },
      {
        "duration": 63,
        "start_time": "2025-04-04T06:09:04.368Z"
      },
      {
        "duration": 8,
        "start_time": "2025-04-04T06:09:04.432Z"
      },
      {
        "duration": 92,
        "start_time": "2025-04-04T06:09:04.443Z"
      },
      {
        "duration": 12,
        "start_time": "2025-04-04T06:09:04.536Z"
      },
      {
        "duration": 30,
        "start_time": "2025-04-04T06:09:04.549Z"
      },
      {
        "duration": 128,
        "start_time": "2025-04-04T06:09:04.581Z"
      },
      {
        "duration": 13,
        "start_time": "2025-04-04T06:09:04.711Z"
      },
      {
        "duration": 54,
        "start_time": "2025-04-04T06:09:04.726Z"
      },
      {
        "duration": 13,
        "start_time": "2025-04-04T06:09:04.782Z"
      },
      {
        "duration": 76,
        "start_time": "2025-04-04T06:09:04.796Z"
      },
      {
        "duration": 56,
        "start_time": "2025-04-04T06:09:04.874Z"
      },
      {
        "duration": 66,
        "start_time": "2025-04-04T06:09:04.931Z"
      },
      {
        "duration": 47,
        "start_time": "2025-04-04T06:09:04.998Z"
      },
      {
        "duration": 35,
        "start_time": "2025-04-04T06:09:05.047Z"
      },
      {
        "duration": 289,
        "start_time": "2025-04-04T06:09:05.084Z"
      },
      {
        "duration": 23,
        "start_time": "2025-04-04T06:09:05.377Z"
      },
      {
        "duration": 17,
        "start_time": "2025-04-04T06:09:05.402Z"
      },
      {
        "duration": 62,
        "start_time": "2025-04-04T06:09:05.421Z"
      },
      {
        "duration": 22,
        "start_time": "2025-04-04T06:09:05.484Z"
      },
      {
        "duration": 154,
        "start_time": "2025-04-04T06:09:05.507Z"
      },
      {
        "duration": 141,
        "start_time": "2025-04-04T06:09:05.662Z"
      },
      {
        "duration": 10,
        "start_time": "2025-04-04T06:09:05.805Z"
      },
      {
        "duration": 199,
        "start_time": "2025-04-04T06:09:05.817Z"
      },
      {
        "duration": 106,
        "start_time": "2025-04-04T06:09:06.017Z"
      },
      {
        "duration": 7,
        "start_time": "2025-04-04T06:09:06.124Z"
      },
      {
        "duration": 9,
        "start_time": "2025-04-04T06:12:38.573Z"
      },
      {
        "duration": 7,
        "start_time": "2025-04-04T06:18:03.359Z"
      },
      {
        "duration": 10,
        "start_time": "2025-04-04T06:18:38.395Z"
      },
      {
        "duration": 9,
        "start_time": "2025-04-04T06:21:06.801Z"
      },
      {
        "duration": 9,
        "start_time": "2025-04-04T06:21:18.441Z"
      },
      {
        "duration": 1127,
        "start_time": "2025-04-04T06:26:27.712Z"
      },
      {
        "duration": 2,
        "start_time": "2025-04-04T06:26:28.841Z"
      },
      {
        "duration": 100,
        "start_time": "2025-04-04T06:26:28.847Z"
      },
      {
        "duration": 1173,
        "start_time": "2025-04-04T06:26:28.949Z"
      },
      {
        "duration": 105,
        "start_time": "2025-04-04T06:26:30.124Z"
      },
      {
        "duration": 404,
        "start_time": "2025-04-04T06:26:30.231Z"
      },
      {
        "duration": 275,
        "start_time": "2025-04-04T06:26:30.636Z"
      },
      {
        "duration": 337,
        "start_time": "2025-04-04T06:26:30.913Z"
      },
      {
        "duration": 86,
        "start_time": "2025-04-04T06:26:31.252Z"
      },
      {
        "duration": 130,
        "start_time": "2025-04-04T06:26:31.339Z"
      },
      {
        "duration": 141,
        "start_time": "2025-04-04T06:26:31.470Z"
      },
      {
        "duration": 54,
        "start_time": "2025-04-04T06:26:31.613Z"
      },
      {
        "duration": 43,
        "start_time": "2025-04-04T06:26:31.675Z"
      },
      {
        "duration": 104,
        "start_time": "2025-04-04T06:26:31.720Z"
      },
      {
        "duration": 12,
        "start_time": "2025-04-04T06:26:31.826Z"
      },
      {
        "duration": 27,
        "start_time": "2025-04-04T06:26:31.839Z"
      },
      {
        "duration": 143,
        "start_time": "2025-04-04T06:26:31.868Z"
      },
      {
        "duration": 24,
        "start_time": "2025-04-04T06:26:32.013Z"
      },
      {
        "duration": 46,
        "start_time": "2025-04-04T06:26:32.040Z"
      },
      {
        "duration": 13,
        "start_time": "2025-04-04T06:26:32.088Z"
      },
      {
        "duration": 28,
        "start_time": "2025-04-04T06:26:32.103Z"
      },
      {
        "duration": 12,
        "start_time": "2025-04-04T06:26:32.132Z"
      },
      {
        "duration": 51,
        "start_time": "2025-04-04T06:26:32.145Z"
      },
      {
        "duration": 46,
        "start_time": "2025-04-04T06:26:32.197Z"
      },
      {
        "duration": 103,
        "start_time": "2025-04-04T06:26:32.244Z"
      },
      {
        "duration": 404,
        "start_time": "2025-04-04T06:26:32.348Z"
      },
      {
        "duration": 34,
        "start_time": "2025-04-04T06:26:32.753Z"
      },
      {
        "duration": 71,
        "start_time": "2025-04-04T06:26:32.788Z"
      },
      {
        "duration": 46,
        "start_time": "2025-04-04T06:26:32.860Z"
      },
      {
        "duration": 21,
        "start_time": "2025-04-04T06:26:32.908Z"
      },
      {
        "duration": 205,
        "start_time": "2025-04-04T06:26:32.930Z"
      },
      {
        "duration": 142,
        "start_time": "2025-04-04T06:26:33.136Z"
      },
      {
        "duration": 9,
        "start_time": "2025-04-04T06:26:33.280Z"
      },
      {
        "duration": 108,
        "start_time": "2025-04-04T06:26:33.291Z"
      },
      {
        "duration": 6,
        "start_time": "2025-04-04T06:26:33.400Z"
      },
      {
        "duration": 29,
        "start_time": "2025-04-04T06:26:33.408Z"
      },
      {
        "duration": 17,
        "start_time": "2025-04-04T06:26:33.439Z"
      },
      {
        "duration": 10,
        "start_time": "2025-04-04T06:26:33.457Z"
      },
      {
        "duration": 1076,
        "start_time": "2025-04-04T06:28:25.032Z"
      },
      {
        "duration": 4,
        "start_time": "2025-04-04T06:28:26.110Z"
      },
      {
        "duration": 71,
        "start_time": "2025-04-04T06:28:26.121Z"
      },
      {
        "duration": 1225,
        "start_time": "2025-04-04T06:28:26.194Z"
      },
      {
        "duration": 105,
        "start_time": "2025-04-04T06:28:27.421Z"
      },
      {
        "duration": 383,
        "start_time": "2025-04-04T06:28:27.528Z"
      },
      {
        "duration": 243,
        "start_time": "2025-04-04T06:28:27.912Z"
      },
      {
        "duration": 233,
        "start_time": "2025-04-04T06:28:28.157Z"
      },
      {
        "duration": 71,
        "start_time": "2025-04-04T06:28:28.392Z"
      },
      {
        "duration": 105,
        "start_time": "2025-04-04T06:28:28.465Z"
      },
      {
        "duration": 136,
        "start_time": "2025-04-04T06:28:28.572Z"
      },
      {
        "duration": 67,
        "start_time": "2025-04-04T06:28:28.710Z"
      },
      {
        "duration": 7,
        "start_time": "2025-04-04T06:28:28.779Z"
      },
      {
        "duration": 87,
        "start_time": "2025-04-04T06:28:28.789Z"
      },
      {
        "duration": 11,
        "start_time": "2025-04-04T06:28:28.878Z"
      },
      {
        "duration": 97,
        "start_time": "2025-04-04T06:28:28.890Z"
      },
      {
        "duration": 121,
        "start_time": "2025-04-04T06:28:28.988Z"
      },
      {
        "duration": 13,
        "start_time": "2025-04-04T06:28:29.111Z"
      },
      {
        "duration": 21,
        "start_time": "2025-04-04T06:28:29.125Z"
      },
      {
        "duration": 38,
        "start_time": "2025-04-04T06:28:29.147Z"
      },
      {
        "duration": 3,
        "start_time": "2025-04-04T06:28:29.186Z"
      },
      {
        "duration": 13,
        "start_time": "2025-04-04T06:28:29.190Z"
      },
      {
        "duration": 50,
        "start_time": "2025-04-04T06:28:29.204Z"
      },
      {
        "duration": 39,
        "start_time": "2025-04-04T06:28:29.256Z"
      },
      {
        "duration": 19,
        "start_time": "2025-04-04T06:28:29.296Z"
      },
      {
        "duration": 296,
        "start_time": "2025-04-04T06:28:29.317Z"
      },
      {
        "duration": 24,
        "start_time": "2025-04-04T06:28:29.615Z"
      },
      {
        "duration": 65,
        "start_time": "2025-04-04T06:28:29.641Z"
      },
      {
        "duration": 43,
        "start_time": "2025-04-04T06:28:29.708Z"
      },
      {
        "duration": 22,
        "start_time": "2025-04-04T06:28:29.752Z"
      },
      {
        "duration": 146,
        "start_time": "2025-04-04T06:28:29.776Z"
      },
      {
        "duration": 153,
        "start_time": "2025-04-04T06:28:29.923Z"
      },
      {
        "duration": 13,
        "start_time": "2025-04-04T06:28:30.078Z"
      },
      {
        "duration": 119,
        "start_time": "2025-04-04T06:28:30.092Z"
      },
      {
        "duration": 6,
        "start_time": "2025-04-04T06:28:30.213Z"
      },
      {
        "duration": 88,
        "start_time": "2025-04-04T06:28:30.220Z"
      },
      {
        "duration": 177,
        "start_time": "2025-04-04T06:28:30.309Z"
      },
      {
        "duration": 15,
        "start_time": "2025-04-04T06:28:30.488Z"
      },
      {
        "duration": 101,
        "start_time": "2025-04-04T06:33:38.283Z"
      },
      {
        "duration": 13,
        "start_time": "2025-04-04T06:33:53.746Z"
      },
      {
        "duration": 11,
        "start_time": "2025-04-04T06:34:24.795Z"
      },
      {
        "duration": 17,
        "start_time": "2025-04-04T06:35:42.753Z"
      },
      {
        "duration": 18,
        "start_time": "2025-04-04T06:36:03.242Z"
      },
      {
        "duration": 19,
        "start_time": "2025-04-04T06:37:37.633Z"
      },
      {
        "duration": 31,
        "start_time": "2025-04-04T06:39:08.409Z"
      },
      {
        "duration": 118,
        "start_time": "2025-04-04T06:40:58.796Z"
      },
      {
        "duration": 20,
        "start_time": "2025-04-04T06:43:31.262Z"
      },
      {
        "duration": 18,
        "start_time": "2025-04-04T06:43:51.722Z"
      },
      {
        "duration": 4,
        "start_time": "2025-04-04T06:50:32.718Z"
      },
      {
        "duration": 4,
        "start_time": "2025-04-04T06:51:08.306Z"
      },
      {
        "duration": 4,
        "start_time": "2025-04-04T06:51:30.662Z"
      },
      {
        "duration": 4,
        "start_time": "2025-04-04T07:05:10.603Z"
      },
      {
        "duration": 91,
        "start_time": "2025-04-04T07:07:53.500Z"
      },
      {
        "duration": 5,
        "start_time": "2025-04-04T07:08:40.516Z"
      },
      {
        "duration": 17,
        "start_time": "2025-04-04T07:11:04.549Z"
      },
      {
        "duration": 20,
        "start_time": "2025-04-04T07:11:08.078Z"
      },
      {
        "duration": 7,
        "start_time": "2025-04-04T07:14:25.773Z"
      },
      {
        "duration": 6,
        "start_time": "2025-04-04T07:14:57.914Z"
      },
      {
        "duration": 5,
        "start_time": "2025-04-04T07:15:11.876Z"
      },
      {
        "duration": 24,
        "start_time": "2025-04-04T07:17:43.483Z"
      },
      {
        "duration": 87,
        "start_time": "2025-04-04T07:20:29.720Z"
      },
      {
        "duration": 82,
        "start_time": "2025-04-04T07:20:37.412Z"
      },
      {
        "duration": 17,
        "start_time": "2025-04-04T07:23:39.722Z"
      },
      {
        "duration": 15,
        "start_time": "2025-04-04T07:23:49.122Z"
      },
      {
        "duration": 16,
        "start_time": "2025-04-04T07:23:52.681Z"
      },
      {
        "duration": 25,
        "start_time": "2025-04-04T07:28:08.166Z"
      },
      {
        "duration": 85,
        "start_time": "2025-04-04T07:39:09.954Z"
      },
      {
        "duration": 45,
        "start_time": "2025-04-04T07:39:47.931Z"
      },
      {
        "duration": 16,
        "start_time": "2025-04-04T07:40:08.911Z"
      },
      {
        "duration": 1291,
        "start_time": "2025-04-04T07:40:18.970Z"
      },
      {
        "duration": 110,
        "start_time": "2025-04-04T07:40:34.791Z"
      },
      {
        "duration": 311,
        "start_time": "2025-04-04T07:40:42.278Z"
      },
      {
        "duration": 126,
        "start_time": "2025-04-04T07:44:48.392Z"
      },
      {
        "duration": 140,
        "start_time": "2025-04-04T07:45:30.479Z"
      },
      {
        "duration": 115,
        "start_time": "2025-04-04T08:06:21.479Z"
      },
      {
        "duration": 149,
        "start_time": "2025-04-04T08:06:54.660Z"
      },
      {
        "duration": 162,
        "start_time": "2025-04-04T08:07:01.464Z"
      },
      {
        "duration": 171,
        "start_time": "2025-04-04T08:07:22.871Z"
      },
      {
        "duration": 218,
        "start_time": "2025-04-04T08:08:18.842Z"
      },
      {
        "duration": 1290,
        "start_time": "2025-04-04T08:13:54.422Z"
      },
      {
        "duration": 3,
        "start_time": "2025-04-04T08:13:55.714Z"
      },
      {
        "duration": 113,
        "start_time": "2025-04-04T08:13:55.719Z"
      },
      {
        "duration": 25,
        "start_time": "2025-04-04T08:13:55.833Z"
      },
      {
        "duration": 961,
        "start_time": "2025-04-04T08:13:55.861Z"
      },
      {
        "duration": 128,
        "start_time": "2025-04-04T08:13:56.824Z"
      },
      {
        "duration": 132,
        "start_time": "2025-04-04T08:13:56.954Z"
      },
      {
        "duration": 499,
        "start_time": "2025-04-04T08:13:57.087Z"
      },
      {
        "duration": 52,
        "start_time": "2025-04-04T08:13:57.588Z"
      },
      {
        "duration": 851,
        "start_time": "2025-04-04T08:13:57.642Z"
      },
      {
        "duration": 24,
        "start_time": "2025-04-04T08:13:58.495Z"
      },
      {
        "duration": 242,
        "start_time": "2025-04-04T08:13:58.521Z"
      },
      {
        "duration": 30,
        "start_time": "2025-04-04T08:13:58.765Z"
      },
      {
        "duration": 101,
        "start_time": "2025-04-04T08:13:58.811Z"
      },
      {
        "duration": 20,
        "start_time": "2025-04-04T08:13:58.914Z"
      },
      {
        "duration": 189,
        "start_time": "2025-04-04T08:13:58.935Z"
      },
      {
        "duration": 14,
        "start_time": "2025-04-04T08:13:59.125Z"
      },
      {
        "duration": 199,
        "start_time": "2025-04-04T08:13:59.140Z"
      },
      {
        "duration": 50,
        "start_time": "2025-04-04T08:13:59.341Z"
      },
      {
        "duration": 21,
        "start_time": "2025-04-04T08:13:59.392Z"
      },
      {
        "duration": 93,
        "start_time": "2025-04-04T08:13:59.415Z"
      },
      {
        "duration": 14,
        "start_time": "2025-04-04T08:13:59.509Z"
      },
      {
        "duration": 22,
        "start_time": "2025-04-04T08:13:59.524Z"
      },
      {
        "duration": 147,
        "start_time": "2025-04-04T08:13:59.547Z"
      },
      {
        "duration": 18,
        "start_time": "2025-04-04T08:13:59.695Z"
      },
      {
        "duration": 24,
        "start_time": "2025-04-04T08:13:59.715Z"
      },
      {
        "duration": 14,
        "start_time": "2025-04-04T08:13:59.740Z"
      },
      {
        "duration": 3,
        "start_time": "2025-04-04T08:13:59.756Z"
      },
      {
        "duration": 11,
        "start_time": "2025-04-04T08:13:59.761Z"
      },
      {
        "duration": 84,
        "start_time": "2025-04-04T08:13:59.774Z"
      },
      {
        "duration": 113,
        "start_time": "2025-04-04T08:13:59.860Z"
      },
      {
        "duration": 0,
        "start_time": "2025-04-04T08:13:59.975Z"
      },
      {
        "duration": 0,
        "start_time": "2025-04-04T08:13:59.976Z"
      },
      {
        "duration": 0,
        "start_time": "2025-04-04T08:13:59.977Z"
      },
      {
        "duration": 0,
        "start_time": "2025-04-04T08:13:59.978Z"
      },
      {
        "duration": 0,
        "start_time": "2025-04-04T08:13:59.979Z"
      },
      {
        "duration": 0,
        "start_time": "2025-04-04T08:13:59.980Z"
      },
      {
        "duration": 0,
        "start_time": "2025-04-04T08:13:59.981Z"
      },
      {
        "duration": 0,
        "start_time": "2025-04-04T08:13:59.982Z"
      },
      {
        "duration": 0,
        "start_time": "2025-04-04T08:13:59.983Z"
      },
      {
        "duration": 0,
        "start_time": "2025-04-04T08:13:59.984Z"
      },
      {
        "duration": 0,
        "start_time": "2025-04-04T08:13:59.985Z"
      },
      {
        "duration": 0,
        "start_time": "2025-04-04T08:13:59.986Z"
      },
      {
        "duration": 0,
        "start_time": "2025-04-04T08:14:00.007Z"
      },
      {
        "duration": 0,
        "start_time": "2025-04-04T08:14:00.008Z"
      },
      {
        "duration": 0,
        "start_time": "2025-04-04T08:14:00.009Z"
      },
      {
        "duration": 0,
        "start_time": "2025-04-04T08:14:00.010Z"
      },
      {
        "duration": 0,
        "start_time": "2025-04-04T08:14:00.012Z"
      },
      {
        "duration": 0,
        "start_time": "2025-04-04T08:14:00.013Z"
      },
      {
        "duration": 12,
        "start_time": "2025-04-04T08:14:58.879Z"
      },
      {
        "duration": 8,
        "start_time": "2025-04-04T08:15:04.204Z"
      },
      {
        "duration": 1379,
        "start_time": "2025-04-04T15:09:14.046Z"
      },
      {
        "duration": 3,
        "start_time": "2025-04-04T15:09:15.428Z"
      },
      {
        "duration": 60,
        "start_time": "2025-04-04T15:09:15.432Z"
      },
      {
        "duration": 20,
        "start_time": "2025-04-04T15:09:15.493Z"
      },
      {
        "duration": 1027,
        "start_time": "2025-04-04T15:09:15.515Z"
      },
      {
        "duration": 138,
        "start_time": "2025-04-04T15:09:16.544Z"
      },
      {
        "duration": 136,
        "start_time": "2025-04-04T15:09:16.683Z"
      },
      {
        "duration": 590,
        "start_time": "2025-04-04T15:09:16.821Z"
      },
      {
        "duration": 98,
        "start_time": "2025-04-04T15:09:17.412Z"
      },
      {
        "duration": 303,
        "start_time": "2025-04-04T15:09:17.511Z"
      },
      {
        "duration": 89,
        "start_time": "2025-04-04T15:09:17.816Z"
      },
      {
        "duration": 327,
        "start_time": "2025-04-04T15:09:17.907Z"
      },
      {
        "duration": 27,
        "start_time": "2025-04-04T15:09:18.235Z"
      },
      {
        "duration": 49,
        "start_time": "2025-04-04T15:09:18.265Z"
      },
      {
        "duration": 18,
        "start_time": "2025-04-04T15:09:18.316Z"
      },
      {
        "duration": 134,
        "start_time": "2025-04-04T15:09:18.336Z"
      },
      {
        "duration": 16,
        "start_time": "2025-04-04T15:09:18.471Z"
      },
      {
        "duration": 149,
        "start_time": "2025-04-04T15:09:18.489Z"
      },
      {
        "duration": 54,
        "start_time": "2025-04-04T15:09:18.639Z"
      },
      {
        "duration": 8,
        "start_time": "2025-04-04T15:09:18.695Z"
      },
      {
        "duration": 262,
        "start_time": "2025-04-04T15:09:18.705Z"
      },
      {
        "duration": 86,
        "start_time": "2025-04-04T15:09:18.969Z"
      },
      {
        "duration": 20,
        "start_time": "2025-04-04T15:09:19.057Z"
      },
      {
        "duration": 17,
        "start_time": "2025-04-04T15:09:19.078Z"
      },
      {
        "duration": 131,
        "start_time": "2025-04-04T15:09:19.097Z"
      },
      {
        "duration": 14,
        "start_time": "2025-04-04T15:09:19.230Z"
      },
      {
        "duration": 105,
        "start_time": "2025-04-04T15:09:19.245Z"
      },
      {
        "duration": 14,
        "start_time": "2025-04-04T15:09:19.352Z"
      },
      {
        "duration": 17,
        "start_time": "2025-04-04T15:09:19.368Z"
      },
      {
        "duration": 5,
        "start_time": "2025-04-04T15:09:19.387Z"
      },
      {
        "duration": 63,
        "start_time": "2025-04-04T15:09:19.394Z"
      },
      {
        "duration": 111,
        "start_time": "2025-04-04T15:09:19.458Z"
      },
      {
        "duration": 0,
        "start_time": "2025-04-04T15:09:19.571Z"
      },
      {
        "duration": 0,
        "start_time": "2025-04-04T15:09:19.572Z"
      },
      {
        "duration": 0,
        "start_time": "2025-04-04T15:09:19.576Z"
      },
      {
        "duration": 0,
        "start_time": "2025-04-04T15:09:19.577Z"
      },
      {
        "duration": 0,
        "start_time": "2025-04-04T15:09:19.578Z"
      },
      {
        "duration": 0,
        "start_time": "2025-04-04T15:09:19.579Z"
      },
      {
        "duration": 0,
        "start_time": "2025-04-04T15:09:19.580Z"
      },
      {
        "duration": 0,
        "start_time": "2025-04-04T15:09:19.581Z"
      },
      {
        "duration": 0,
        "start_time": "2025-04-04T15:09:19.582Z"
      },
      {
        "duration": 0,
        "start_time": "2025-04-04T15:09:19.583Z"
      },
      {
        "duration": 0,
        "start_time": "2025-04-04T15:09:19.584Z"
      },
      {
        "duration": 0,
        "start_time": "2025-04-04T15:09:19.585Z"
      },
      {
        "duration": 0,
        "start_time": "2025-04-04T15:09:19.586Z"
      },
      {
        "duration": 0,
        "start_time": "2025-04-04T15:09:19.587Z"
      },
      {
        "duration": 0,
        "start_time": "2025-04-04T15:09:19.588Z"
      },
      {
        "duration": 0,
        "start_time": "2025-04-04T15:09:19.589Z"
      },
      {
        "duration": 0,
        "start_time": "2025-04-04T15:09:19.590Z"
      },
      {
        "duration": 0,
        "start_time": "2025-04-04T15:09:19.591Z"
      },
      {
        "duration": 164,
        "start_time": "2025-04-04T15:10:04.775Z"
      },
      {
        "duration": 167,
        "start_time": "2025-04-04T15:10:57.606Z"
      },
      {
        "duration": 25,
        "start_time": "2025-04-04T15:11:26.422Z"
      },
      {
        "duration": 1234,
        "start_time": "2025-04-04T15:12:51.448Z"
      },
      {
        "duration": 3,
        "start_time": "2025-04-04T15:12:52.684Z"
      },
      {
        "duration": 82,
        "start_time": "2025-04-04T15:12:52.688Z"
      },
      {
        "duration": 19,
        "start_time": "2025-04-04T15:12:52.772Z"
      },
      {
        "duration": 1108,
        "start_time": "2025-04-04T15:12:52.793Z"
      },
      {
        "duration": 120,
        "start_time": "2025-04-04T15:12:53.903Z"
      },
      {
        "duration": 140,
        "start_time": "2025-04-04T15:12:54.025Z"
      },
      {
        "duration": 302,
        "start_time": "2025-04-04T15:12:54.167Z"
      },
      {
        "duration": 49,
        "start_time": "2025-04-04T15:12:54.470Z"
      },
      {
        "duration": 247,
        "start_time": "2025-04-04T15:12:54.521Z"
      },
      {
        "duration": 24,
        "start_time": "2025-04-04T15:12:54.769Z"
      },
      {
        "duration": 226,
        "start_time": "2025-04-04T15:12:54.794Z"
      },
      {
        "duration": 30,
        "start_time": "2025-04-04T15:12:55.023Z"
      },
      {
        "duration": 58,
        "start_time": "2025-04-04T15:12:55.057Z"
      },
      {
        "duration": 20,
        "start_time": "2025-04-04T15:12:55.117Z"
      },
      {
        "duration": 181,
        "start_time": "2025-04-04T15:12:55.138Z"
      },
      {
        "duration": 15,
        "start_time": "2025-04-04T15:12:55.321Z"
      },
      {
        "duration": 129,
        "start_time": "2025-04-04T15:12:55.338Z"
      },
      {
        "duration": 54,
        "start_time": "2025-04-04T15:12:55.469Z"
      },
      {
        "duration": 7,
        "start_time": "2025-04-04T15:12:55.525Z"
      },
      {
        "duration": 227,
        "start_time": "2025-04-04T15:12:55.534Z"
      },
      {
        "duration": 149,
        "start_time": "2025-04-04T15:12:55.763Z"
      },
      {
        "duration": 65,
        "start_time": "2025-04-04T15:12:55.914Z"
      },
      {
        "duration": 16,
        "start_time": "2025-04-04T15:12:55.981Z"
      },
      {
        "duration": 218,
        "start_time": "2025-04-04T15:12:55.999Z"
      },
      {
        "duration": 67,
        "start_time": "2025-04-04T15:12:56.218Z"
      },
      {
        "duration": 23,
        "start_time": "2025-04-04T15:12:56.286Z"
      },
      {
        "duration": 66,
        "start_time": "2025-04-04T15:12:56.310Z"
      },
      {
        "duration": 3,
        "start_time": "2025-04-04T15:12:56.378Z"
      },
      {
        "duration": 8,
        "start_time": "2025-04-04T15:12:56.383Z"
      },
      {
        "duration": 104,
        "start_time": "2025-04-04T15:12:56.392Z"
      },
      {
        "duration": 88,
        "start_time": "2025-04-04T15:12:56.498Z"
      },
      {
        "duration": 28,
        "start_time": "2025-04-04T15:12:56.588Z"
      },
      {
        "duration": 262,
        "start_time": "2025-04-04T15:12:56.619Z"
      },
      {
        "duration": 0,
        "start_time": "2025-04-04T15:12:56.883Z"
      },
      {
        "duration": 0,
        "start_time": "2025-04-04T15:12:56.884Z"
      },
      {
        "duration": 0,
        "start_time": "2025-04-04T15:12:56.885Z"
      },
      {
        "duration": 0,
        "start_time": "2025-04-04T15:12:56.886Z"
      },
      {
        "duration": 0,
        "start_time": "2025-04-04T15:12:56.887Z"
      },
      {
        "duration": 0,
        "start_time": "2025-04-04T15:12:56.888Z"
      },
      {
        "duration": 0,
        "start_time": "2025-04-04T15:12:56.889Z"
      },
      {
        "duration": 0,
        "start_time": "2025-04-04T15:12:56.889Z"
      },
      {
        "duration": 0,
        "start_time": "2025-04-04T15:12:56.890Z"
      },
      {
        "duration": 0,
        "start_time": "2025-04-04T15:12:56.891Z"
      },
      {
        "duration": 0,
        "start_time": "2025-04-04T15:12:56.892Z"
      },
      {
        "duration": 0,
        "start_time": "2025-04-04T15:12:56.894Z"
      },
      {
        "duration": 0,
        "start_time": "2025-04-04T15:12:56.894Z"
      },
      {
        "duration": 0,
        "start_time": "2025-04-04T15:12:56.895Z"
      },
      {
        "duration": 0,
        "start_time": "2025-04-04T15:12:56.896Z"
      },
      {
        "duration": 0,
        "start_time": "2025-04-04T15:12:56.897Z"
      },
      {
        "duration": 308,
        "start_time": "2025-04-04T15:13:15.272Z"
      },
      {
        "duration": 1126,
        "start_time": "2025-04-04T15:13:20.477Z"
      },
      {
        "duration": 3,
        "start_time": "2025-04-04T15:13:21.605Z"
      },
      {
        "duration": 48,
        "start_time": "2025-04-04T15:13:21.610Z"
      },
      {
        "duration": 20,
        "start_time": "2025-04-04T15:13:21.660Z"
      },
      {
        "duration": 929,
        "start_time": "2025-04-04T15:13:21.682Z"
      },
      {
        "duration": 124,
        "start_time": "2025-04-04T15:13:22.613Z"
      },
      {
        "duration": 143,
        "start_time": "2025-04-04T15:13:22.738Z"
      },
      {
        "duration": 348,
        "start_time": "2025-04-04T15:13:22.883Z"
      },
      {
        "duration": 54,
        "start_time": "2025-04-04T15:13:23.232Z"
      },
      {
        "duration": 395,
        "start_time": "2025-04-04T15:13:23.288Z"
      },
      {
        "duration": 24,
        "start_time": "2025-04-04T15:13:23.685Z"
      },
      {
        "duration": 262,
        "start_time": "2025-04-04T15:13:23.711Z"
      },
      {
        "duration": 29,
        "start_time": "2025-04-04T15:13:23.974Z"
      },
      {
        "duration": 56,
        "start_time": "2025-04-04T15:13:24.007Z"
      },
      {
        "duration": 20,
        "start_time": "2025-04-04T15:13:24.065Z"
      },
      {
        "duration": 66,
        "start_time": "2025-04-04T15:13:24.087Z"
      },
      {
        "duration": 14,
        "start_time": "2025-04-04T15:13:24.155Z"
      },
      {
        "duration": 130,
        "start_time": "2025-04-04T15:13:24.171Z"
      },
      {
        "duration": 53,
        "start_time": "2025-04-04T15:13:24.303Z"
      },
      {
        "duration": 8,
        "start_time": "2025-04-04T15:13:24.358Z"
      },
      {
        "duration": 246,
        "start_time": "2025-04-04T15:13:24.377Z"
      },
      {
        "duration": 87,
        "start_time": "2025-04-04T15:13:24.625Z"
      },
      {
        "duration": 13,
        "start_time": "2025-04-04T15:13:24.714Z"
      },
      {
        "duration": 15,
        "start_time": "2025-04-04T15:13:24.729Z"
      },
      {
        "duration": 132,
        "start_time": "2025-04-04T15:13:24.746Z"
      },
      {
        "duration": 15,
        "start_time": "2025-04-04T15:13:24.880Z"
      },
      {
        "duration": 24,
        "start_time": "2025-04-04T15:13:24.896Z"
      },
      {
        "duration": 14,
        "start_time": "2025-04-04T15:13:24.922Z"
      },
      {
        "duration": 95,
        "start_time": "2025-04-04T15:13:24.938Z"
      },
      {
        "duration": 24,
        "start_time": "2025-04-04T15:13:25.034Z"
      },
      {
        "duration": 69,
        "start_time": "2025-04-04T15:13:25.060Z"
      },
      {
        "duration": 27,
        "start_time": "2025-04-04T15:13:25.130Z"
      },
      {
        "duration": 31,
        "start_time": "2025-04-04T15:13:25.159Z"
      },
      {
        "duration": 331,
        "start_time": "2025-04-04T15:13:25.191Z"
      },
      {
        "duration": 28,
        "start_time": "2025-04-04T15:13:25.524Z"
      },
      {
        "duration": 32,
        "start_time": "2025-04-04T15:13:25.554Z"
      },
      {
        "duration": 55,
        "start_time": "2025-04-04T15:13:25.588Z"
      },
      {
        "duration": 33,
        "start_time": "2025-04-04T15:13:25.645Z"
      },
      {
        "duration": 295,
        "start_time": "2025-04-04T15:13:25.679Z"
      },
      {
        "duration": 175,
        "start_time": "2025-04-04T15:13:25.976Z"
      },
      {
        "duration": 11,
        "start_time": "2025-04-04T15:13:26.155Z"
      },
      {
        "duration": 111,
        "start_time": "2025-04-04T15:13:26.176Z"
      },
      {
        "duration": 0,
        "start_time": "2025-04-04T15:13:26.289Z"
      },
      {
        "duration": 0,
        "start_time": "2025-04-04T15:13:26.290Z"
      },
      {
        "duration": 0,
        "start_time": "2025-04-04T15:13:26.291Z"
      },
      {
        "duration": 0,
        "start_time": "2025-04-04T15:13:26.293Z"
      },
      {
        "duration": 0,
        "start_time": "2025-04-04T15:13:26.294Z"
      },
      {
        "duration": 0,
        "start_time": "2025-04-04T15:13:26.295Z"
      },
      {
        "duration": 0,
        "start_time": "2025-04-04T15:13:26.296Z"
      },
      {
        "duration": 0,
        "start_time": "2025-04-04T15:13:26.297Z"
      },
      {
        "duration": 17,
        "start_time": "2025-04-04T15:13:50.980Z"
      },
      {
        "duration": 107,
        "start_time": "2025-04-04T15:14:51.707Z"
      },
      {
        "duration": 1231,
        "start_time": "2025-04-04T15:16:15.666Z"
      },
      {
        "duration": 3,
        "start_time": "2025-04-04T15:16:16.899Z"
      },
      {
        "duration": 64,
        "start_time": "2025-04-04T15:16:16.904Z"
      },
      {
        "duration": 57,
        "start_time": "2025-04-04T15:16:16.969Z"
      },
      {
        "duration": 1115,
        "start_time": "2025-04-04T15:16:17.028Z"
      },
      {
        "duration": 114,
        "start_time": "2025-04-04T15:16:18.145Z"
      },
      {
        "duration": 142,
        "start_time": "2025-04-04T15:16:18.261Z"
      },
      {
        "duration": 319,
        "start_time": "2025-04-04T15:16:18.405Z"
      },
      {
        "duration": 58,
        "start_time": "2025-04-04T15:16:18.725Z"
      },
      {
        "duration": 220,
        "start_time": "2025-04-04T15:16:18.784Z"
      },
      {
        "duration": 23,
        "start_time": "2025-04-04T15:16:19.006Z"
      },
      {
        "duration": 449,
        "start_time": "2025-04-04T15:16:19.031Z"
      },
      {
        "duration": 31,
        "start_time": "2025-04-04T15:16:19.482Z"
      },
      {
        "duration": 101,
        "start_time": "2025-04-04T15:16:19.516Z"
      },
      {
        "duration": 65,
        "start_time": "2025-04-04T15:16:19.618Z"
      },
      {
        "duration": 211,
        "start_time": "2025-04-04T15:16:19.685Z"
      },
      {
        "duration": 13,
        "start_time": "2025-04-04T15:16:19.897Z"
      },
      {
        "duration": 383,
        "start_time": "2025-04-04T15:16:19.912Z"
      },
      {
        "duration": 106,
        "start_time": "2025-04-04T15:16:20.296Z"
      },
      {
        "duration": 8,
        "start_time": "2025-04-04T15:16:20.403Z"
      },
      {
        "duration": 407,
        "start_time": "2025-04-04T15:16:20.413Z"
      },
      {
        "duration": 195,
        "start_time": "2025-04-04T15:16:20.822Z"
      },
      {
        "duration": 65,
        "start_time": "2025-04-04T15:16:21.019Z"
      },
      {
        "duration": 42,
        "start_time": "2025-04-04T15:16:21.086Z"
      },
      {
        "duration": 263,
        "start_time": "2025-04-04T15:16:21.130Z"
      },
      {
        "duration": 17,
        "start_time": "2025-04-04T15:16:21.395Z"
      },
      {
        "duration": 81,
        "start_time": "2025-04-04T15:16:21.413Z"
      },
      {
        "duration": 13,
        "start_time": "2025-04-04T15:16:21.495Z"
      },
      {
        "duration": 16,
        "start_time": "2025-04-04T15:16:21.510Z"
      },
      {
        "duration": 51,
        "start_time": "2025-04-04T15:16:21.527Z"
      },
      {
        "duration": 103,
        "start_time": "2025-04-04T15:16:21.579Z"
      },
      {
        "duration": 129,
        "start_time": "2025-04-04T15:16:21.684Z"
      },
      {
        "duration": 39,
        "start_time": "2025-04-04T15:16:21.814Z"
      },
      {
        "duration": 340,
        "start_time": "2025-04-04T15:16:21.855Z"
      },
      {
        "duration": 24,
        "start_time": "2025-04-04T15:16:22.197Z"
      },
      {
        "duration": 18,
        "start_time": "2025-04-04T15:16:22.223Z"
      },
      {
        "duration": 62,
        "start_time": "2025-04-04T15:16:22.243Z"
      },
      {
        "duration": 22,
        "start_time": "2025-04-04T15:16:22.306Z"
      },
      {
        "duration": 176,
        "start_time": "2025-04-04T15:16:22.330Z"
      },
      {
        "duration": 175,
        "start_time": "2025-04-04T15:16:22.508Z"
      },
      {
        "duration": 11,
        "start_time": "2025-04-04T15:16:22.687Z"
      },
      {
        "duration": 115,
        "start_time": "2025-04-04T15:16:22.699Z"
      },
      {
        "duration": 6,
        "start_time": "2025-04-04T15:16:22.816Z"
      },
      {
        "duration": 23,
        "start_time": "2025-04-04T15:16:22.823Z"
      },
      {
        "duration": 130,
        "start_time": "2025-04-04T15:16:22.848Z"
      },
      {
        "duration": 0,
        "start_time": "2025-04-04T15:16:22.980Z"
      },
      {
        "duration": 0,
        "start_time": "2025-04-04T15:16:22.981Z"
      },
      {
        "duration": 0,
        "start_time": "2025-04-04T15:16:22.982Z"
      },
      {
        "duration": 0,
        "start_time": "2025-04-04T15:16:22.983Z"
      },
      {
        "duration": 0,
        "start_time": "2025-04-04T15:16:22.984Z"
      },
      {
        "duration": 16,
        "start_time": "2025-04-04T15:16:59.286Z"
      },
      {
        "duration": 17,
        "start_time": "2025-04-04T15:17:02.801Z"
      },
      {
        "duration": 17,
        "start_time": "2025-04-04T15:17:09.733Z"
      },
      {
        "duration": 1224,
        "start_time": "2025-04-04T15:17:17.154Z"
      },
      {
        "duration": 3,
        "start_time": "2025-04-04T15:17:18.380Z"
      },
      {
        "duration": 119,
        "start_time": "2025-04-04T15:17:18.384Z"
      },
      {
        "duration": 22,
        "start_time": "2025-04-04T15:17:18.505Z"
      },
      {
        "duration": 1133,
        "start_time": "2025-04-04T15:17:18.529Z"
      },
      {
        "duration": 134,
        "start_time": "2025-04-04T15:17:19.664Z"
      },
      {
        "duration": 139,
        "start_time": "2025-04-04T15:17:19.800Z"
      },
      {
        "duration": 323,
        "start_time": "2025-04-04T15:17:19.941Z"
      },
      {
        "duration": 48,
        "start_time": "2025-04-04T15:17:20.266Z"
      },
      {
        "duration": 175,
        "start_time": "2025-04-04T15:17:20.316Z"
      },
      {
        "duration": 27,
        "start_time": "2025-04-04T15:17:20.492Z"
      },
      {
        "duration": 189,
        "start_time": "2025-04-04T15:17:20.521Z"
      },
      {
        "duration": 33,
        "start_time": "2025-04-04T15:17:20.712Z"
      },
      {
        "duration": 100,
        "start_time": "2025-04-04T15:17:20.748Z"
      },
      {
        "duration": 22,
        "start_time": "2025-04-04T15:17:20.849Z"
      },
      {
        "duration": 75,
        "start_time": "2025-04-04T15:17:20.873Z"
      },
      {
        "duration": 15,
        "start_time": "2025-04-04T15:17:20.950Z"
      },
      {
        "duration": 197,
        "start_time": "2025-04-04T15:17:20.967Z"
      },
      {
        "duration": 53,
        "start_time": "2025-04-04T15:17:21.166Z"
      },
      {
        "duration": 8,
        "start_time": "2025-04-04T15:17:21.220Z"
      },
      {
        "duration": 225,
        "start_time": "2025-04-04T15:17:21.230Z"
      },
      {
        "duration": 93,
        "start_time": "2025-04-04T15:17:21.456Z"
      },
      {
        "duration": 12,
        "start_time": "2025-04-04T15:17:21.551Z"
      },
      {
        "duration": 32,
        "start_time": "2025-04-04T15:17:21.565Z"
      },
      {
        "duration": 115,
        "start_time": "2025-04-04T15:17:21.599Z"
      },
      {
        "duration": 14,
        "start_time": "2025-04-04T15:17:21.715Z"
      },
      {
        "duration": 105,
        "start_time": "2025-04-04T15:17:21.731Z"
      },
      {
        "duration": 22,
        "start_time": "2025-04-04T15:17:21.837Z"
      },
      {
        "duration": 32,
        "start_time": "2025-04-04T15:17:21.860Z"
      },
      {
        "duration": 95,
        "start_time": "2025-04-04T15:17:21.894Z"
      },
      {
        "duration": 93,
        "start_time": "2025-04-04T15:17:21.992Z"
      },
      {
        "duration": 62,
        "start_time": "2025-04-04T15:17:22.086Z"
      },
      {
        "duration": 23,
        "start_time": "2025-04-04T15:17:22.149Z"
      },
      {
        "duration": 361,
        "start_time": "2025-04-04T15:17:22.174Z"
      },
      {
        "duration": 26,
        "start_time": "2025-04-04T15:17:22.537Z"
      },
      {
        "duration": 30,
        "start_time": "2025-04-04T15:17:22.564Z"
      },
      {
        "duration": 94,
        "start_time": "2025-04-04T15:17:22.595Z"
      },
      {
        "duration": 42,
        "start_time": "2025-04-04T15:17:22.691Z"
      },
      {
        "duration": 213,
        "start_time": "2025-04-04T15:17:22.734Z"
      },
      {
        "duration": 166,
        "start_time": "2025-04-04T15:17:22.949Z"
      },
      {
        "duration": 11,
        "start_time": "2025-04-04T15:17:23.119Z"
      },
      {
        "duration": 119,
        "start_time": "2025-04-04T15:17:23.131Z"
      },
      {
        "duration": 7,
        "start_time": "2025-04-04T15:17:23.252Z"
      },
      {
        "duration": 133,
        "start_time": "2025-04-04T15:17:23.260Z"
      },
      {
        "duration": 41,
        "start_time": "2025-04-04T15:17:23.395Z"
      },
      {
        "duration": 28,
        "start_time": "2025-04-04T15:17:23.438Z"
      },
      {
        "duration": 25,
        "start_time": "2025-04-04T15:17:23.468Z"
      },
      {
        "duration": 16,
        "start_time": "2025-04-04T15:17:23.495Z"
      },
      {
        "duration": 32,
        "start_time": "2025-04-04T15:17:23.512Z"
      },
      {
        "duration": 157,
        "start_time": "2025-04-04T15:17:23.546Z"
      },
      {
        "duration": 35,
        "start_time": "2025-04-04T15:18:31.560Z"
      },
      {
        "duration": 30,
        "start_time": "2025-04-04T15:20:46.180Z"
      },
      {
        "duration": 1084,
        "start_time": "2025-04-04T15:25:43.032Z"
      },
      {
        "duration": 3,
        "start_time": "2025-04-04T15:25:44.118Z"
      },
      {
        "duration": 45,
        "start_time": "2025-04-04T15:25:44.123Z"
      },
      {
        "duration": 23,
        "start_time": "2025-04-04T15:25:44.170Z"
      },
      {
        "duration": 1040,
        "start_time": "2025-04-04T15:25:44.195Z"
      },
      {
        "duration": 122,
        "start_time": "2025-04-04T15:25:45.236Z"
      },
      {
        "duration": 138,
        "start_time": "2025-04-04T15:25:45.360Z"
      },
      {
        "duration": 340,
        "start_time": "2025-04-04T15:25:45.499Z"
      },
      {
        "duration": 72,
        "start_time": "2025-04-04T15:25:45.840Z"
      },
      {
        "duration": 180,
        "start_time": "2025-04-04T15:25:45.914Z"
      },
      {
        "duration": 24,
        "start_time": "2025-04-04T15:25:46.095Z"
      },
      {
        "duration": 338,
        "start_time": "2025-04-04T15:25:46.121Z"
      },
      {
        "duration": 36,
        "start_time": "2025-04-04T15:25:46.461Z"
      },
      {
        "duration": 76,
        "start_time": "2025-04-04T15:25:46.500Z"
      },
      {
        "duration": 20,
        "start_time": "2025-04-04T15:25:46.577Z"
      },
      {
        "duration": 76,
        "start_time": "2025-04-04T15:25:46.599Z"
      },
      {
        "duration": 13,
        "start_time": "2025-04-04T15:25:46.677Z"
      },
      {
        "duration": 133,
        "start_time": "2025-04-04T15:25:46.692Z"
      },
      {
        "duration": 52,
        "start_time": "2025-04-04T15:25:46.827Z"
      },
      {
        "duration": 7,
        "start_time": "2025-04-04T15:25:46.881Z"
      },
      {
        "duration": 195,
        "start_time": "2025-04-04T15:25:46.890Z"
      },
      {
        "duration": 90,
        "start_time": "2025-04-04T15:25:47.087Z"
      },
      {
        "duration": 12,
        "start_time": "2025-04-04T15:25:47.178Z"
      },
      {
        "duration": 42,
        "start_time": "2025-04-04T15:25:47.192Z"
      },
      {
        "duration": 116,
        "start_time": "2025-04-04T15:25:47.236Z"
      },
      {
        "duration": 23,
        "start_time": "2025-04-04T15:25:47.353Z"
      },
      {
        "duration": 69,
        "start_time": "2025-04-04T15:25:47.378Z"
      },
      {
        "duration": 31,
        "start_time": "2025-04-04T15:25:47.448Z"
      },
      {
        "duration": 8,
        "start_time": "2025-04-04T15:25:47.480Z"
      },
      {
        "duration": 12,
        "start_time": "2025-04-04T15:25:47.489Z"
      },
      {
        "duration": 99,
        "start_time": "2025-04-04T15:25:47.503Z"
      },
      {
        "duration": 78,
        "start_time": "2025-04-04T15:25:47.603Z"
      },
      {
        "duration": 20,
        "start_time": "2025-04-04T15:25:47.683Z"
      },
      {
        "duration": 589,
        "start_time": "2025-04-04T15:25:47.705Z"
      },
      {
        "duration": 82,
        "start_time": "2025-04-04T15:25:48.296Z"
      },
      {
        "duration": 19,
        "start_time": "2025-04-04T15:25:48.379Z"
      },
      {
        "duration": 119,
        "start_time": "2025-04-04T15:25:48.399Z"
      },
      {
        "duration": 75,
        "start_time": "2025-04-04T15:25:48.519Z"
      },
      {
        "duration": 90,
        "start_time": "2025-04-04T15:25:48.596Z"
      },
      {
        "duration": 31,
        "start_time": "2025-04-04T15:25:48.688Z"
      },
      {
        "duration": 314,
        "start_time": "2025-04-04T15:25:48.776Z"
      },
      {
        "duration": 319,
        "start_time": "2025-04-04T15:25:49.092Z"
      },
      {
        "duration": 64,
        "start_time": "2025-04-04T15:25:49.413Z"
      },
      {
        "duration": 139,
        "start_time": "2025-04-04T15:25:49.479Z"
      },
      {
        "duration": 64,
        "start_time": "2025-04-04T15:25:49.620Z"
      },
      {
        "duration": 7,
        "start_time": "2025-04-04T15:25:49.686Z"
      },
      {
        "duration": 19,
        "start_time": "2025-04-04T15:25:49.694Z"
      },
      {
        "duration": 64,
        "start_time": "2025-04-04T15:25:49.714Z"
      },
      {
        "duration": 26,
        "start_time": "2025-04-04T15:25:49.780Z"
      },
      {
        "duration": 76,
        "start_time": "2025-04-04T15:25:49.807Z"
      },
      {
        "duration": 8,
        "start_time": "2025-04-04T15:25:49.885Z"
      },
      {
        "duration": 291,
        "start_time": "2025-04-04T15:25:49.895Z"
      },
      {
        "duration": 1279,
        "start_time": "2025-04-04T18:26:35.066Z"
      },
      {
        "duration": 4,
        "start_time": "2025-04-04T18:26:36.347Z"
      },
      {
        "duration": 76,
        "start_time": "2025-04-04T18:26:36.352Z"
      },
      {
        "duration": 21,
        "start_time": "2025-04-04T18:26:36.430Z"
      },
      {
        "duration": 1238,
        "start_time": "2025-04-04T18:26:36.453Z"
      },
      {
        "duration": 124,
        "start_time": "2025-04-04T18:26:37.692Z"
      },
      {
        "duration": 183,
        "start_time": "2025-04-04T18:26:37.818Z"
      },
      {
        "duration": 677,
        "start_time": "2025-04-04T18:26:38.003Z"
      },
      {
        "duration": 133,
        "start_time": "2025-04-04T18:26:38.683Z"
      },
      {
        "duration": 401,
        "start_time": "2025-04-04T18:26:38.818Z"
      },
      {
        "duration": 85,
        "start_time": "2025-04-04T18:26:39.221Z"
      },
      {
        "duration": 830,
        "start_time": "2025-04-04T18:26:39.308Z"
      },
      {
        "duration": 36,
        "start_time": "2025-04-04T18:26:40.140Z"
      },
      {
        "duration": 51,
        "start_time": "2025-04-04T18:26:40.180Z"
      },
      {
        "duration": 65,
        "start_time": "2025-04-04T18:26:40.232Z"
      },
      {
        "duration": 115,
        "start_time": "2025-04-04T18:26:40.299Z"
      },
      {
        "duration": 14,
        "start_time": "2025-04-04T18:26:40.415Z"
      },
      {
        "duration": 140,
        "start_time": "2025-04-04T18:26:40.430Z"
      },
      {
        "duration": 56,
        "start_time": "2025-04-04T18:26:40.571Z"
      },
      {
        "duration": 10,
        "start_time": "2025-04-04T18:26:40.629Z"
      },
      {
        "duration": 293,
        "start_time": "2025-04-04T18:26:40.640Z"
      },
      {
        "duration": 143,
        "start_time": "2025-04-04T18:26:40.935Z"
      },
      {
        "duration": 21,
        "start_time": "2025-04-04T18:26:41.080Z"
      },
      {
        "duration": 28,
        "start_time": "2025-04-04T18:26:41.103Z"
      },
      {
        "duration": 202,
        "start_time": "2025-04-04T18:26:41.133Z"
      },
      {
        "duration": 14,
        "start_time": "2025-04-04T18:26:41.337Z"
      },
      {
        "duration": 40,
        "start_time": "2025-04-04T18:26:41.353Z"
      },
      {
        "duration": 16,
        "start_time": "2025-04-04T18:26:41.395Z"
      },
      {
        "duration": 3,
        "start_time": "2025-04-04T18:26:41.412Z"
      },
      {
        "duration": 4,
        "start_time": "2025-04-04T18:26:41.417Z"
      },
      {
        "duration": 88,
        "start_time": "2025-04-04T18:26:41.423Z"
      },
      {
        "duration": 29,
        "start_time": "2025-04-04T18:26:41.513Z"
      },
      {
        "duration": 20,
        "start_time": "2025-04-04T18:26:41.543Z"
      },
      {
        "duration": 625,
        "start_time": "2025-04-04T18:26:41.564Z"
      },
      {
        "duration": 85,
        "start_time": "2025-04-04T18:26:42.192Z"
      },
      {
        "duration": 29,
        "start_time": "2025-04-04T18:26:42.281Z"
      },
      {
        "duration": 170,
        "start_time": "2025-04-04T18:26:42.312Z"
      },
      {
        "duration": 26,
        "start_time": "2025-04-04T18:26:42.487Z"
      },
      {
        "duration": 97,
        "start_time": "2025-04-04T18:26:42.514Z"
      },
      {
        "duration": 34,
        "start_time": "2025-04-04T18:26:42.612Z"
      },
      {
        "duration": 202,
        "start_time": "2025-04-04T18:26:42.650Z"
      },
      {
        "duration": 276,
        "start_time": "2025-04-04T18:26:42.853Z"
      },
      {
        "duration": 53,
        "start_time": "2025-04-04T18:26:43.131Z"
      },
      {
        "duration": 139,
        "start_time": "2025-04-04T18:26:43.187Z"
      },
      {
        "duration": 7,
        "start_time": "2025-04-04T18:26:43.328Z"
      },
      {
        "duration": 14,
        "start_time": "2025-04-04T18:26:43.336Z"
      },
      {
        "duration": 31,
        "start_time": "2025-04-04T18:26:43.352Z"
      },
      {
        "duration": 21,
        "start_time": "2025-04-04T18:26:43.388Z"
      },
      {
        "duration": 28,
        "start_time": "2025-04-04T18:26:43.410Z"
      },
      {
        "duration": 10,
        "start_time": "2025-04-04T18:26:43.440Z"
      },
      {
        "duration": 32,
        "start_time": "2025-04-04T18:26:43.451Z"
      },
      {
        "duration": 151,
        "start_time": "2025-04-04T18:26:43.485Z"
      },
      {
        "duration": 1311,
        "start_time": "2025-04-05T05:57:51.476Z"
      },
      {
        "duration": 3,
        "start_time": "2025-04-05T05:57:52.790Z"
      },
      {
        "duration": 79,
        "start_time": "2025-04-05T05:57:52.795Z"
      },
      {
        "duration": 20,
        "start_time": "2025-04-05T05:57:52.876Z"
      },
      {
        "duration": 1058,
        "start_time": "2025-04-05T05:57:52.898Z"
      },
      {
        "duration": 123,
        "start_time": "2025-04-05T05:57:53.957Z"
      },
      {
        "duration": 126,
        "start_time": "2025-04-05T05:57:54.081Z"
      },
      {
        "duration": 439,
        "start_time": "2025-04-05T05:57:54.209Z"
      },
      {
        "duration": 63,
        "start_time": "2025-04-05T05:57:54.650Z"
      },
      {
        "duration": 242,
        "start_time": "2025-04-05T05:57:54.718Z"
      },
      {
        "duration": 25,
        "start_time": "2025-04-05T05:57:54.962Z"
      },
      {
        "duration": 231,
        "start_time": "2025-04-05T05:57:54.989Z"
      },
      {
        "duration": 29,
        "start_time": "2025-04-05T05:57:55.221Z"
      },
      {
        "duration": 65,
        "start_time": "2025-04-05T05:57:55.252Z"
      },
      {
        "duration": 93,
        "start_time": "2025-04-05T05:57:55.318Z"
      },
      {
        "duration": 109,
        "start_time": "2025-04-05T05:57:55.412Z"
      },
      {
        "duration": 13,
        "start_time": "2025-04-05T05:57:55.523Z"
      },
      {
        "duration": 141,
        "start_time": "2025-04-05T05:57:55.537Z"
      },
      {
        "duration": 52,
        "start_time": "2025-04-05T05:57:55.679Z"
      },
      {
        "duration": 7,
        "start_time": "2025-04-05T05:57:55.732Z"
      },
      {
        "duration": 190,
        "start_time": "2025-04-05T05:57:55.741Z"
      },
      {
        "duration": 94,
        "start_time": "2025-04-05T05:57:55.933Z"
      },
      {
        "duration": 11,
        "start_time": "2025-04-05T05:57:56.029Z"
      },
      {
        "duration": 30,
        "start_time": "2025-04-05T05:57:56.042Z"
      },
      {
        "duration": 116,
        "start_time": "2025-04-05T05:57:56.074Z"
      },
      {
        "duration": 15,
        "start_time": "2025-04-05T05:57:56.192Z"
      },
      {
        "duration": 48,
        "start_time": "2025-04-05T05:57:56.209Z"
      },
      {
        "duration": 17,
        "start_time": "2025-04-05T05:57:56.261Z"
      },
      {
        "duration": 2,
        "start_time": "2025-04-05T05:57:56.280Z"
      },
      {
        "duration": 4,
        "start_time": "2025-04-05T05:57:56.284Z"
      },
      {
        "duration": 52,
        "start_time": "2025-04-05T05:57:56.289Z"
      },
      {
        "duration": 67,
        "start_time": "2025-04-05T05:57:56.343Z"
      },
      {
        "duration": 20,
        "start_time": "2025-04-05T05:57:56.412Z"
      },
      {
        "duration": 304,
        "start_time": "2025-04-05T05:57:56.433Z"
      },
      {
        "duration": 33,
        "start_time": "2025-04-05T05:57:56.739Z"
      },
      {
        "duration": 18,
        "start_time": "2025-04-05T05:57:56.774Z"
      },
      {
        "duration": 44,
        "start_time": "2025-04-05T05:57:56.793Z"
      },
      {
        "duration": 42,
        "start_time": "2025-04-05T05:57:56.839Z"
      },
      {
        "duration": 35,
        "start_time": "2025-04-05T05:57:56.882Z"
      },
      {
        "duration": 31,
        "start_time": "2025-04-05T05:57:56.918Z"
      },
      {
        "duration": 194,
        "start_time": "2025-04-05T05:57:56.951Z"
      },
      {
        "duration": 184,
        "start_time": "2025-04-05T05:57:57.148Z"
      },
      {
        "duration": 10,
        "start_time": "2025-04-05T05:57:57.334Z"
      },
      {
        "duration": 134,
        "start_time": "2025-04-05T05:57:57.345Z"
      },
      {
        "duration": 6,
        "start_time": "2025-04-05T05:57:57.481Z"
      },
      {
        "duration": 4,
        "start_time": "2025-04-05T05:57:57.488Z"
      },
      {
        "duration": 18,
        "start_time": "2025-04-05T05:57:57.494Z"
      },
      {
        "duration": 16,
        "start_time": "2025-04-05T05:57:57.514Z"
      },
      {
        "duration": 128,
        "start_time": "2025-04-05T05:57:57.531Z"
      },
      {
        "duration": 0,
        "start_time": "2025-04-05T05:57:57.660Z"
      },
      {
        "duration": 0,
        "start_time": "2025-04-05T05:57:57.661Z"
      },
      {
        "duration": 0,
        "start_time": "2025-04-05T05:57:57.663Z"
      },
      {
        "duration": 0,
        "start_time": "2025-04-05T05:57:57.672Z"
      },
      {
        "duration": 35,
        "start_time": "2025-04-05T05:58:29.700Z"
      },
      {
        "duration": 34,
        "start_time": "2025-04-05T05:59:24.639Z"
      },
      {
        "duration": 5,
        "start_time": "2025-04-05T05:59:45.173Z"
      },
      {
        "duration": 6,
        "start_time": "2025-04-05T06:01:10.915Z"
      },
      {
        "duration": 16,
        "start_time": "2025-04-05T06:01:21.870Z"
      },
      {
        "duration": 4,
        "start_time": "2025-04-05T06:02:20.241Z"
      },
      {
        "duration": 5,
        "start_time": "2025-04-05T06:09:05.306Z"
      },
      {
        "duration": 978,
        "start_time": "2025-04-05T06:10:13.577Z"
      },
      {
        "duration": 81,
        "start_time": "2025-04-05T06:11:16.536Z"
      },
      {
        "duration": 14,
        "start_time": "2025-04-05T06:11:53.348Z"
      },
      {
        "duration": 83,
        "start_time": "2025-04-05T06:12:07.297Z"
      },
      {
        "duration": 9,
        "start_time": "2025-04-05T06:13:04.403Z"
      },
      {
        "duration": 12,
        "start_time": "2025-04-05T06:13:52.878Z"
      },
      {
        "duration": 1186,
        "start_time": "2025-04-05T06:14:05.605Z"
      },
      {
        "duration": 3,
        "start_time": "2025-04-05T06:14:06.793Z"
      },
      {
        "duration": 45,
        "start_time": "2025-04-05T06:14:06.797Z"
      },
      {
        "duration": 20,
        "start_time": "2025-04-05T06:14:06.844Z"
      },
      {
        "duration": 1110,
        "start_time": "2025-04-05T06:14:06.866Z"
      },
      {
        "duration": 124,
        "start_time": "2025-04-05T06:14:07.978Z"
      },
      {
        "duration": 137,
        "start_time": "2025-04-05T06:14:08.104Z"
      },
      {
        "duration": 383,
        "start_time": "2025-04-05T06:14:08.242Z"
      },
      {
        "duration": 55,
        "start_time": "2025-04-05T06:14:08.626Z"
      },
      {
        "duration": 238,
        "start_time": "2025-04-05T06:14:08.683Z"
      },
      {
        "duration": 24,
        "start_time": "2025-04-05T06:14:08.923Z"
      },
      {
        "duration": 254,
        "start_time": "2025-04-05T06:14:08.948Z"
      },
      {
        "duration": 29,
        "start_time": "2025-04-05T06:14:09.203Z"
      },
      {
        "duration": 53,
        "start_time": "2025-04-05T06:14:09.235Z"
      },
      {
        "duration": 20,
        "start_time": "2025-04-05T06:14:09.289Z"
      },
      {
        "duration": 152,
        "start_time": "2025-04-05T06:14:09.311Z"
      },
      {
        "duration": 14,
        "start_time": "2025-04-05T06:14:09.465Z"
      },
      {
        "duration": 129,
        "start_time": "2025-04-05T06:14:09.480Z"
      },
      {
        "duration": 50,
        "start_time": "2025-04-05T06:14:09.611Z"
      },
      {
        "duration": 17,
        "start_time": "2025-04-05T06:14:09.662Z"
      },
      {
        "duration": 191,
        "start_time": "2025-04-05T06:14:09.681Z"
      },
      {
        "duration": 101,
        "start_time": "2025-04-05T06:14:09.874Z"
      },
      {
        "duration": 13,
        "start_time": "2025-04-05T06:14:09.976Z"
      },
      {
        "duration": 18,
        "start_time": "2025-04-05T06:14:09.990Z"
      },
      {
        "duration": 134,
        "start_time": "2025-04-05T06:14:10.010Z"
      },
      {
        "duration": 15,
        "start_time": "2025-04-05T06:14:10.145Z"
      },
      {
        "duration": 51,
        "start_time": "2025-04-05T06:14:10.162Z"
      },
      {
        "duration": 14,
        "start_time": "2025-04-05T06:14:10.214Z"
      },
      {
        "duration": 3,
        "start_time": "2025-04-05T06:14:10.229Z"
      },
      {
        "duration": 4,
        "start_time": "2025-04-05T06:14:10.234Z"
      },
      {
        "duration": 60,
        "start_time": "2025-04-05T06:14:10.240Z"
      },
      {
        "duration": 29,
        "start_time": "2025-04-05T06:14:10.302Z"
      },
      {
        "duration": 20,
        "start_time": "2025-04-05T06:14:10.333Z"
      },
      {
        "duration": 327,
        "start_time": "2025-04-05T06:14:10.373Z"
      },
      {
        "duration": 24,
        "start_time": "2025-04-05T06:14:10.702Z"
      },
      {
        "duration": 88,
        "start_time": "2025-04-05T06:14:10.728Z"
      },
      {
        "duration": 43,
        "start_time": "2025-04-05T06:14:10.818Z"
      },
      {
        "duration": 23,
        "start_time": "2025-04-05T06:14:10.862Z"
      },
      {
        "duration": 41,
        "start_time": "2025-04-05T06:14:10.886Z"
      },
      {
        "duration": 50,
        "start_time": "2025-04-05T06:14:10.928Z"
      },
      {
        "duration": 168,
        "start_time": "2025-04-05T06:14:10.982Z"
      },
      {
        "duration": 174,
        "start_time": "2025-04-05T06:14:11.151Z"
      },
      {
        "duration": 10,
        "start_time": "2025-04-05T06:14:11.327Z"
      },
      {
        "duration": 190,
        "start_time": "2025-04-05T06:14:11.339Z"
      },
      {
        "duration": 7,
        "start_time": "2025-04-05T06:14:11.531Z"
      },
      {
        "duration": 5,
        "start_time": "2025-04-05T06:14:11.540Z"
      },
      {
        "duration": 41,
        "start_time": "2025-04-05T06:14:11.547Z"
      },
      {
        "duration": 16,
        "start_time": "2025-04-05T06:14:11.590Z"
      },
      {
        "duration": 14,
        "start_time": "2025-04-05T06:14:11.608Z"
      },
      {
        "duration": 51,
        "start_time": "2025-04-05T06:14:11.623Z"
      },
      {
        "duration": 10,
        "start_time": "2025-04-05T06:14:11.676Z"
      },
      {
        "duration": 8,
        "start_time": "2025-04-05T06:14:11.688Z"
      },
      {
        "duration": 131,
        "start_time": "2025-04-05T06:14:11.698Z"
      },
      {
        "duration": 121,
        "start_time": "2025-04-05T06:16:02.267Z"
      },
      {
        "duration": 748,
        "start_time": "2025-04-05T06:18:47.237Z"
      },
      {
        "duration": 5,
        "start_time": "2025-04-05T06:20:13.585Z"
      },
      {
        "duration": 1149,
        "start_time": "2025-04-05T06:24:12.932Z"
      },
      {
        "duration": 3,
        "start_time": "2025-04-05T06:24:14.083Z"
      },
      {
        "duration": 78,
        "start_time": "2025-04-05T06:24:14.087Z"
      },
      {
        "duration": 19,
        "start_time": "2025-04-05T06:24:14.166Z"
      },
      {
        "duration": 1148,
        "start_time": "2025-04-05T06:24:14.187Z"
      },
      {
        "duration": 115,
        "start_time": "2025-04-05T06:24:15.336Z"
      },
      {
        "duration": 130,
        "start_time": "2025-04-05T06:24:15.453Z"
      },
      {
        "duration": 382,
        "start_time": "2025-04-05T06:24:15.585Z"
      },
      {
        "duration": 46,
        "start_time": "2025-04-05T06:24:15.969Z"
      },
      {
        "duration": 282,
        "start_time": "2025-04-05T06:24:16.017Z"
      },
      {
        "duration": 24,
        "start_time": "2025-04-05T06:24:16.301Z"
      },
      {
        "duration": 252,
        "start_time": "2025-04-05T06:24:16.326Z"
      },
      {
        "duration": 27,
        "start_time": "2025-04-05T06:24:16.580Z"
      },
      {
        "duration": 69,
        "start_time": "2025-04-05T06:24:16.610Z"
      },
      {
        "duration": 18,
        "start_time": "2025-04-05T06:24:16.681Z"
      },
      {
        "duration": 125,
        "start_time": "2025-04-05T06:24:16.701Z"
      },
      {
        "duration": 12,
        "start_time": "2025-04-05T06:24:16.828Z"
      },
      {
        "duration": 116,
        "start_time": "2025-04-05T06:24:16.841Z"
      },
      {
        "duration": 53,
        "start_time": "2025-04-05T06:24:16.959Z"
      },
      {
        "duration": 7,
        "start_time": "2025-04-05T06:24:17.014Z"
      },
      {
        "duration": 193,
        "start_time": "2025-04-05T06:24:17.022Z"
      },
      {
        "duration": 93,
        "start_time": "2025-04-05T06:24:17.216Z"
      },
      {
        "duration": 11,
        "start_time": "2025-04-05T06:24:17.311Z"
      },
      {
        "duration": 145,
        "start_time": "2025-04-05T06:24:17.323Z"
      },
      {
        "duration": 110,
        "start_time": "2025-04-05T06:24:17.469Z"
      },
      {
        "duration": 14,
        "start_time": "2025-04-05T06:24:17.581Z"
      },
      {
        "duration": 27,
        "start_time": "2025-04-05T06:24:17.597Z"
      },
      {
        "duration": 12,
        "start_time": "2025-04-05T06:24:17.626Z"
      },
      {
        "duration": 3,
        "start_time": "2025-04-05T06:24:17.639Z"
      },
      {
        "duration": 30,
        "start_time": "2025-04-05T06:24:17.644Z"
      },
      {
        "duration": 49,
        "start_time": "2025-04-05T06:24:17.675Z"
      },
      {
        "duration": 25,
        "start_time": "2025-04-05T06:24:17.725Z"
      },
      {
        "duration": 36,
        "start_time": "2025-04-05T06:24:17.752Z"
      },
      {
        "duration": 309,
        "start_time": "2025-04-05T06:24:17.790Z"
      },
      {
        "duration": 23,
        "start_time": "2025-04-05T06:24:18.100Z"
      },
      {
        "duration": 17,
        "start_time": "2025-04-05T06:24:18.125Z"
      },
      {
        "duration": 62,
        "start_time": "2025-04-05T06:24:18.144Z"
      },
      {
        "duration": 21,
        "start_time": "2025-04-05T06:24:18.208Z"
      },
      {
        "duration": 48,
        "start_time": "2025-04-05T06:24:18.230Z"
      },
      {
        "duration": 31,
        "start_time": "2025-04-05T06:24:18.280Z"
      },
      {
        "duration": 162,
        "start_time": "2025-04-05T06:24:18.315Z"
      },
      {
        "duration": 159,
        "start_time": "2025-04-05T06:24:18.479Z"
      },
      {
        "duration": 10,
        "start_time": "2025-04-05T06:24:18.639Z"
      },
      {
        "duration": 107,
        "start_time": "2025-04-05T06:24:18.651Z"
      },
      {
        "duration": 13,
        "start_time": "2025-04-05T06:24:18.759Z"
      },
      {
        "duration": 47,
        "start_time": "2025-04-05T06:24:18.774Z"
      },
      {
        "duration": 17,
        "start_time": "2025-04-05T06:24:18.823Z"
      },
      {
        "duration": 14,
        "start_time": "2025-04-05T06:24:18.842Z"
      },
      {
        "duration": 12,
        "start_time": "2025-04-05T06:24:18.857Z"
      },
      {
        "duration": 23,
        "start_time": "2025-04-05T06:24:18.871Z"
      },
      {
        "duration": 8,
        "start_time": "2025-04-05T06:24:18.895Z"
      },
      {
        "duration": 7,
        "start_time": "2025-04-05T06:24:18.905Z"
      },
      {
        "duration": 125,
        "start_time": "2025-04-05T06:24:18.913Z"
      },
      {
        "duration": 1172,
        "start_time": "2025-04-05T10:01:03.754Z"
      },
      {
        "duration": 3,
        "start_time": "2025-04-05T10:01:04.928Z"
      },
      {
        "duration": 174,
        "start_time": "2025-04-05T10:01:04.933Z"
      },
      {
        "duration": 19,
        "start_time": "2025-04-05T10:01:05.109Z"
      },
      {
        "duration": 1247,
        "start_time": "2025-04-05T10:01:05.129Z"
      },
      {
        "duration": 123,
        "start_time": "2025-04-05T10:01:06.378Z"
      },
      {
        "duration": 133,
        "start_time": "2025-04-05T10:01:06.507Z"
      },
      {
        "duration": 396,
        "start_time": "2025-04-05T10:01:06.642Z"
      },
      {
        "duration": 45,
        "start_time": "2025-04-05T10:01:07.040Z"
      },
      {
        "duration": 266,
        "start_time": "2025-04-05T10:01:07.088Z"
      },
      {
        "duration": 25,
        "start_time": "2025-04-05T10:01:07.356Z"
      },
      {
        "duration": 309,
        "start_time": "2025-04-05T10:01:07.382Z"
      },
      {
        "duration": 34,
        "start_time": "2025-04-05T10:01:07.693Z"
      },
      {
        "duration": 86,
        "start_time": "2025-04-05T10:01:07.730Z"
      },
      {
        "duration": 20,
        "start_time": "2025-04-05T10:01:07.817Z"
      },
      {
        "duration": 145,
        "start_time": "2025-04-05T10:01:07.838Z"
      },
      {
        "duration": 13,
        "start_time": "2025-04-05T10:01:07.985Z"
      },
      {
        "duration": 122,
        "start_time": "2025-04-05T10:01:07.999Z"
      },
      {
        "duration": 50,
        "start_time": "2025-04-05T10:01:08.123Z"
      },
      {
        "duration": 8,
        "start_time": "2025-04-05T10:01:08.175Z"
      },
      {
        "duration": 205,
        "start_time": "2025-04-05T10:01:08.184Z"
      },
      {
        "duration": 90,
        "start_time": "2025-04-05T10:01:08.392Z"
      },
      {
        "duration": 23,
        "start_time": "2025-04-05T10:01:08.484Z"
      },
      {
        "duration": 16,
        "start_time": "2025-04-05T10:01:08.509Z"
      },
      {
        "duration": 137,
        "start_time": "2025-04-05T10:01:08.527Z"
      },
      {
        "duration": 15,
        "start_time": "2025-04-05T10:01:08.667Z"
      },
      {
        "duration": 41,
        "start_time": "2025-04-05T10:01:08.684Z"
      },
      {
        "duration": 14,
        "start_time": "2025-04-05T10:01:08.729Z"
      },
      {
        "duration": 3,
        "start_time": "2025-04-05T10:01:08.745Z"
      },
      {
        "duration": 78,
        "start_time": "2025-04-05T10:01:08.749Z"
      },
      {
        "duration": 49,
        "start_time": "2025-04-05T10:01:08.829Z"
      },
      {
        "duration": 26,
        "start_time": "2025-04-05T10:01:08.880Z"
      },
      {
        "duration": 19,
        "start_time": "2025-04-05T10:01:08.908Z"
      },
      {
        "duration": 279,
        "start_time": "2025-04-05T10:01:08.929Z"
      },
      {
        "duration": 24,
        "start_time": "2025-04-05T10:01:09.210Z"
      },
      {
        "duration": 18,
        "start_time": "2025-04-05T10:01:09.236Z"
      },
      {
        "duration": 62,
        "start_time": "2025-04-05T10:01:09.255Z"
      },
      {
        "duration": 22,
        "start_time": "2025-04-05T10:01:09.319Z"
      },
      {
        "duration": 34,
        "start_time": "2025-04-05T10:01:09.343Z"
      },
      {
        "duration": 54,
        "start_time": "2025-04-05T10:01:09.379Z"
      },
      {
        "duration": 164,
        "start_time": "2025-04-05T10:01:09.435Z"
      },
      {
        "duration": 171,
        "start_time": "2025-04-05T10:01:09.600Z"
      },
      {
        "duration": 11,
        "start_time": "2025-04-05T10:01:09.772Z"
      },
      {
        "duration": 103,
        "start_time": "2025-04-05T10:01:09.784Z"
      },
      {
        "duration": 19,
        "start_time": "2025-04-05T10:01:09.888Z"
      },
      {
        "duration": 6,
        "start_time": "2025-04-05T10:01:09.908Z"
      },
      {
        "duration": 28,
        "start_time": "2025-04-05T10:01:09.916Z"
      },
      {
        "duration": 16,
        "start_time": "2025-04-05T10:01:09.946Z"
      },
      {
        "duration": 11,
        "start_time": "2025-04-05T10:01:09.963Z"
      },
      {
        "duration": 52,
        "start_time": "2025-04-05T10:01:09.975Z"
      },
      {
        "duration": 10,
        "start_time": "2025-04-05T10:01:10.028Z"
      },
      {
        "duration": 10,
        "start_time": "2025-04-05T10:01:10.040Z"
      },
      {
        "duration": 149,
        "start_time": "2025-04-05T10:01:10.051Z"
      }
    ],
    "colab": {
      "provenance": []
    },
    "toc": {
      "base_numbering": 1,
      "nav_menu": {},
      "number_sections": true,
      "sideBar": true,
      "skip_h1_title": true,
      "title_cell": "Table of Contents",
      "title_sidebar": "Contents",
      "toc_cell": false,
      "toc_position": {
        "height": "calc(100% - 180px)",
        "left": "10px",
        "top": "150px",
        "width": "413.767px"
      },
      "toc_section_display": true,
      "toc_window_display": true
    }
  },
  "nbformat_minor": 4,
  "nbformat": 4,
  "cells": [
    {
      "cell_type": "markdown",
      "source": "# Проект: Исследование стартапов",
      "metadata": {
        "id": "4mJbK1knrJgz"
      }
    },
    {
      "cell_type": "markdown",
      "source": "\nСодержание:  \n- Шаг 1. Знакомство с данными: загрузка и первичная предобработка  \n- Шаг 2. Предобработка данных, предварительное исследование  \n- Шаг 3. Исследовательский анализ объединенных таблиц\n\n",
      "metadata": {}
    },
    {
      "cell_type": "markdown",
      "source": "\n## Шаг 1. Знакомство с данными: загрузка и первичная предобработка\n\n\n### 1.1. Вывод общей информации, исправление названия столбцов\n",
      "metadata": {
        "id": "xqr6uttCrJg0"
      }
    },
    {
      "cell_type": "code",
      "source": "# Импотируем библиотеки\nimport pandas as pd\nimport matplotlib.pyplot as plt\nimport seaborn as sns",
      "metadata": {
        "colab": {
          "base_uri": "https://localhost:8080/"
        },
        "id": "W_W4jRazrJg0",
        "outputId": "d2409aad-233f-4bb4-ec71-7da96594f9df",
        "vscode": {
          "languageId": "plaintext"
        }
      },
      "outputs": [],
      "execution_count": 1
    },
    {
      "cell_type": "code",
      "source": "pd.options.display.float_format = '{:.2f}'.format",
      "metadata": {},
      "outputs": [],
      "execution_count": 2
    },
    {
      "cell_type": "code",
      "source": "# Загружаем данные в переменную acquisition\nacquisition = pd.read_csv('https://code.s3.yandex.net/datasets/acquisition.csv')",
      "metadata": {
        "id": "oNqJ2qpRFebv",
        "scrolled": true
      },
      "outputs": [],
      "execution_count": 3
    },
    {
      "cell_type": "code",
      "source": "# Выводим первые строки и информацию о датафрейме\ndisplay(acquisition.head())\nacquisition.info()",
      "metadata": {},
      "outputs": [
        {
          "data": {
            "text/html": [
              "<div>\n",
              "<style scoped>\n",
              "    .dataframe tbody tr th:only-of-type {\n",
              "        vertical-align: middle;\n",
              "    }\n",
              "\n",
              "    .dataframe tbody tr th {\n",
              "        vertical-align: top;\n",
              "    }\n",
              "\n",
              "    .dataframe thead th {\n",
              "        text-align: right;\n",
              "    }\n",
              "</style>\n",
              "<table border=\"1\" class=\"dataframe\">\n",
              "  <thead>\n",
              "    <tr style=\"text-align: right;\">\n",
              "      <th></th>\n",
              "      <th>id</th>\n",
              "      <th>acquiring_company_id</th>\n",
              "      <th>acquired_company_id</th>\n",
              "      <th>term_code</th>\n",
              "      <th>price_amount</th>\n",
              "      <th>acquired_at</th>\n",
              "    </tr>\n",
              "  </thead>\n",
              "  <tbody>\n",
              "    <tr>\n",
              "      <th>0</th>\n",
              "      <td>1</td>\n",
              "      <td>11</td>\n",
              "      <td>10</td>\n",
              "      <td>NaN</td>\n",
              "      <td>20000000</td>\n",
              "      <td>2007-05-30</td>\n",
              "    </tr>\n",
              "    <tr>\n",
              "      <th>1</th>\n",
              "      <td>7</td>\n",
              "      <td>59</td>\n",
              "      <td>72</td>\n",
              "      <td>cash</td>\n",
              "      <td>60000000</td>\n",
              "      <td>2007-07-01</td>\n",
              "    </tr>\n",
              "    <tr>\n",
              "      <th>2</th>\n",
              "      <td>8</td>\n",
              "      <td>24</td>\n",
              "      <td>132</td>\n",
              "      <td>cash</td>\n",
              "      <td>280000000</td>\n",
              "      <td>2007-05-01</td>\n",
              "    </tr>\n",
              "    <tr>\n",
              "      <th>3</th>\n",
              "      <td>9</td>\n",
              "      <td>59</td>\n",
              "      <td>155</td>\n",
              "      <td>cash</td>\n",
              "      <td>100000000</td>\n",
              "      <td>2007-06-01</td>\n",
              "    </tr>\n",
              "    <tr>\n",
              "      <th>4</th>\n",
              "      <td>10</td>\n",
              "      <td>212</td>\n",
              "      <td>215</td>\n",
              "      <td>cash</td>\n",
              "      <td>25000000</td>\n",
              "      <td>2007-07-01</td>\n",
              "    </tr>\n",
              "  </tbody>\n",
              "</table>\n",
              "</div>"
            ],
            "text/plain": [
              "   id  acquiring_company_id  acquired_company_id term_code  price_amount  \\\n",
              "0   1                    11                   10       NaN      20000000   \n",
              "1   7                    59                   72      cash      60000000   \n",
              "2   8                    24                  132      cash     280000000   \n",
              "3   9                    59                  155      cash     100000000   \n",
              "4  10                   212                  215      cash      25000000   \n",
              "\n",
              "  acquired_at  \n",
              "0  2007-05-30  \n",
              "1  2007-07-01  \n",
              "2  2007-05-01  \n",
              "3  2007-06-01  \n",
              "4  2007-07-01  "
            ]
          },
          "metadata": {},
          "output_type": "display_data"
        },
        {
          "name": "stdout",
          "output_type": "stream",
          "text": "<class 'pandas.core.frame.DataFrame'>\n,RangeIndex: 9407 entries, 0 to 9406\n,Data columns (total 6 columns):\n, #   Column                Non-Null Count  Dtype \n,---  ------                --------------  ----- \n, 0   id                    9407 non-null   int64 \n, 1   acquiring_company_id  9407 non-null   int64 \n, 2   acquired_company_id   9407 non-null   int64 \n, 3   term_code             1831 non-null   object\n, 4   price_amount          9407 non-null   int64 \n, 5   acquired_at           9378 non-null   object\n,dtypes: int64(4), object(2)\n,memory usage: 441.1+ KB\n"
        }
      ],
      "execution_count": 4
    },
    {
      "cell_type": "markdown",
      "source": "В датафрейме acquisition всего 9407 строк и 6 столбцов. Довольно большое количество пропусков содержится в столбце term_code. Пропуски присутствуют также и в acquired_at, но их количество не такое значительное",
      "metadata": {}
    },
    {
      "cell_type": "code",
      "source": "# Загружаем данные в переменную company_and_rounds\ncompany_and_rounds = pd.read_csv('https://code.s3.yandex.net/datasets/company_and_rounds.csv')",
      "metadata": {
        "scrolled": true
      },
      "outputs": [],
      "execution_count": 5
    },
    {
      "cell_type": "code",
      "source": "# Выводим первые строки и информацию о датафрейме\ndisplay(company_and_rounds.head())\ncompany_and_rounds.info()",
      "metadata": {},
      "outputs": [
        {
          "data": {
            "text/html": [
              "<div>\n",
              "<style scoped>\n",
              "    .dataframe tbody tr th:only-of-type {\n",
              "        vertical-align: middle;\n",
              "    }\n",
              "\n",
              "    .dataframe tbody tr th {\n",
              "        vertical-align: top;\n",
              "    }\n",
              "\n",
              "    .dataframe thead th {\n",
              "        text-align: right;\n",
              "    }\n",
              "</style>\n",
              "<table border=\"1\" class=\"dataframe\">\n",
              "  <thead>\n",
              "    <tr style=\"text-align: right;\">\n",
              "      <th></th>\n",
              "      <th>company  ID</th>\n",
              "      <th>name</th>\n",
              "      <th>category  code</th>\n",
              "      <th>status</th>\n",
              "      <th>founded  at</th>\n",
              "      <th>closed  at</th>\n",
              "      <th>domain</th>\n",
              "      <th>network  username</th>\n",
              "      <th>country  code</th>\n",
              "      <th>investment  rounds</th>\n",
              "      <th>...</th>\n",
              "      <th>milestones</th>\n",
              "      <th>funding  round  id</th>\n",
              "      <th>company  id</th>\n",
              "      <th>funded  at</th>\n",
              "      <th>funding  round  type</th>\n",
              "      <th>raised  amount</th>\n",
              "      <th>pre  money  valuation</th>\n",
              "      <th>participants</th>\n",
              "      <th>is  first  round</th>\n",
              "      <th>is  last  round</th>\n",
              "    </tr>\n",
              "  </thead>\n",
              "  <tbody>\n",
              "    <tr>\n",
              "      <th>0</th>\n",
              "      <td>1.00</td>\n",
              "      <td>Wetpaint</td>\n",
              "      <td>web</td>\n",
              "      <td>operating</td>\n",
              "      <td>2005-10-17</td>\n",
              "      <td>NaN</td>\n",
              "      <td>wetpaint-inc.com</td>\n",
              "      <td>BachelrWetpaint</td>\n",
              "      <td>USA</td>\n",
              "      <td>0.00</td>\n",
              "      <td>...</td>\n",
              "      <td>5.00</td>\n",
              "      <td>888.00</td>\n",
              "      <td>1.00</td>\n",
              "      <td>2005-10-01</td>\n",
              "      <td>series-a</td>\n",
              "      <td>5250000.00</td>\n",
              "      <td>0.00</td>\n",
              "      <td>2.00</td>\n",
              "      <td>0.00</td>\n",
              "      <td>1.00</td>\n",
              "    </tr>\n",
              "    <tr>\n",
              "      <th>1</th>\n",
              "      <td>1.00</td>\n",
              "      <td>Wetpaint</td>\n",
              "      <td>web</td>\n",
              "      <td>operating</td>\n",
              "      <td>2005-10-17</td>\n",
              "      <td>NaN</td>\n",
              "      <td>wetpaint-inc.com</td>\n",
              "      <td>BachelrWetpaint</td>\n",
              "      <td>USA</td>\n",
              "      <td>0.00</td>\n",
              "      <td>...</td>\n",
              "      <td>5.00</td>\n",
              "      <td>889.00</td>\n",
              "      <td>1.00</td>\n",
              "      <td>2007-01-01</td>\n",
              "      <td>series-b</td>\n",
              "      <td>9500000.00</td>\n",
              "      <td>0.00</td>\n",
              "      <td>3.00</td>\n",
              "      <td>0.00</td>\n",
              "      <td>0.00</td>\n",
              "    </tr>\n",
              "    <tr>\n",
              "      <th>2</th>\n",
              "      <td>1.00</td>\n",
              "      <td>Wetpaint</td>\n",
              "      <td>web</td>\n",
              "      <td>operating</td>\n",
              "      <td>2005-10-17</td>\n",
              "      <td>NaN</td>\n",
              "      <td>wetpaint-inc.com</td>\n",
              "      <td>BachelrWetpaint</td>\n",
              "      <td>USA</td>\n",
              "      <td>0.00</td>\n",
              "      <td>...</td>\n",
              "      <td>5.00</td>\n",
              "      <td>2312.00</td>\n",
              "      <td>1.00</td>\n",
              "      <td>2008-05-19</td>\n",
              "      <td>series-c+</td>\n",
              "      <td>25000000.00</td>\n",
              "      <td>0.00</td>\n",
              "      <td>4.00</td>\n",
              "      <td>1.00</td>\n",
              "      <td>0.00</td>\n",
              "    </tr>\n",
              "    <tr>\n",
              "      <th>3</th>\n",
              "      <td>10.00</td>\n",
              "      <td>Flektor</td>\n",
              "      <td>games_video</td>\n",
              "      <td>acquired</td>\n",
              "      <td>NaN</td>\n",
              "      <td>NaN</td>\n",
              "      <td>flektor.com</td>\n",
              "      <td>NaN</td>\n",
              "      <td>USA</td>\n",
              "      <td>0.00</td>\n",
              "      <td>...</td>\n",
              "      <td>0.00</td>\n",
              "      <td>NaN</td>\n",
              "      <td>NaN</td>\n",
              "      <td>NaN</td>\n",
              "      <td>NaN</td>\n",
              "      <td>NaN</td>\n",
              "      <td>NaN</td>\n",
              "      <td>NaN</td>\n",
              "      <td>NaN</td>\n",
              "      <td>NaN</td>\n",
              "    </tr>\n",
              "    <tr>\n",
              "      <th>4</th>\n",
              "      <td>100.00</td>\n",
              "      <td>There</td>\n",
              "      <td>games_video</td>\n",
              "      <td>acquired</td>\n",
              "      <td>NaN</td>\n",
              "      <td>NaN</td>\n",
              "      <td>there.com</td>\n",
              "      <td>NaN</td>\n",
              "      <td>USA</td>\n",
              "      <td>0.00</td>\n",
              "      <td>...</td>\n",
              "      <td>4.00</td>\n",
              "      <td>NaN</td>\n",
              "      <td>NaN</td>\n",
              "      <td>NaN</td>\n",
              "      <td>NaN</td>\n",
              "      <td>NaN</td>\n",
              "      <td>NaN</td>\n",
              "      <td>NaN</td>\n",
              "      <td>NaN</td>\n",
              "      <td>NaN</td>\n",
              "    </tr>\n",
              "  </tbody>\n",
              "</table>\n",
              "<p>5 rows × 22 columns</p>\n",
              "</div>"
            ],
            "text/plain": [
              "   company  ID      name category  code     status founded  at closed  at  \\\n",
              "0         1.00  Wetpaint            web  operating  2005-10-17        NaN   \n",
              "1         1.00  Wetpaint            web  operating  2005-10-17        NaN   \n",
              "2         1.00  Wetpaint            web  operating  2005-10-17        NaN   \n",
              "3        10.00   Flektor    games_video   acquired         NaN        NaN   \n",
              "4       100.00     There    games_video   acquired         NaN        NaN   \n",
              "\n",
              "             domain network  username country  code  investment  rounds  ...  \\\n",
              "0  wetpaint-inc.com   BachelrWetpaint           USA                0.00  ...   \n",
              "1  wetpaint-inc.com   BachelrWetpaint           USA                0.00  ...   \n",
              "2  wetpaint-inc.com   BachelrWetpaint           USA                0.00  ...   \n",
              "3       flektor.com               NaN           USA                0.00  ...   \n",
              "4         there.com               NaN           USA                0.00  ...   \n",
              "\n",
              "   milestones  funding  round  id  company  id  funded  at  \\\n",
              "0        5.00              888.00         1.00  2005-10-01   \n",
              "1        5.00              889.00         1.00  2007-01-01   \n",
              "2        5.00             2312.00         1.00  2008-05-19   \n",
              "3        0.00                 NaN          NaN         NaN   \n",
              "4        4.00                 NaN          NaN         NaN   \n",
              "\n",
              "   funding  round  type raised  amount pre  money  valuation  participants  \\\n",
              "0              series-a     5250000.00                  0.00          2.00   \n",
              "1              series-b     9500000.00                  0.00          3.00   \n",
              "2             series-c+    25000000.00                  0.00          4.00   \n",
              "3                   NaN            NaN                   NaN           NaN   \n",
              "4                   NaN            NaN                   NaN           NaN   \n",
              "\n",
              "   is  first  round  is  last  round  \n",
              "0              0.00             1.00  \n",
              "1              0.00             0.00  \n",
              "2              1.00             0.00  \n",
              "3               NaN              NaN  \n",
              "4               NaN              NaN  \n",
              "\n",
              "[5 rows x 22 columns]"
            ]
          },
          "metadata": {},
          "output_type": "display_data"
        },
        {
          "name": "stdout",
          "output_type": "stream",
          "text": "<class 'pandas.core.frame.DataFrame'>\n,RangeIndex: 217774 entries, 0 to 217773\n,Data columns (total 22 columns):\n, #   Column                 Non-Null Count   Dtype  \n,---  ------                 --------------   -----  \n, 0   company  ID            217472 non-null  float64\n, 1   name                   217472 non-null  object \n, 2   category  code         143886 non-null  object \n, 3   status                 217472 non-null  object \n, 4   founded  at            109956 non-null  object \n, 5   closed  at             3449 non-null    object \n, 6   domain                 147159 non-null  object \n, 7   network  username      95534 non-null   object \n, 8   country  code          108607 non-null  object \n, 9   investment  rounds     217472 non-null  float64\n, 10  funding  rounds        217472 non-null  float64\n, 11  funding  total         217472 non-null  float64\n, 12  milestones             217472 non-null  float64\n, 13  funding  round  id     52928 non-null   float64\n, 14  company  id            52928 non-null   float64\n, 15  funded  at             52680 non-null   object \n, 16  funding  round  type   52928 non-null   object \n, 17  raised  amount         52928 non-null   float64\n, 18  pre  money  valuation  52928 non-null   float64\n, 19  participants           52928 non-null   float64\n, 20  is  first  round       52928 non-null   float64\n, 21  is  last  round        52928 non-null   float64\n,dtypes: float64(12), object(10)\n,memory usage: 36.6+ MB\n"
        }
      ],
      "execution_count": 6
    },
    {
      "cell_type": "markdown",
      "source": "В датафрейме company_and_rounds 217774 строки и 22 столбца. В данном случае огромное количество пропусков присутствует почти во всех столбцах, кроме company  ID, name, status, investment  rounds, funding  rounds,  funding  total, milestones. Также стоит обратить внимание, что в данных встречается два столбца, содержающих информацию об id компании - company ID и company id",
      "metadata": {}
    },
    {
      "cell_type": "code",
      "source": "# Приводим названия столбцов к типу snake case\ncompany_and_rounds.columns = company_and_rounds.columns.str.replace('  ','_')\ncompany_and_rounds = company_and_rounds.rename(columns={'company_ID': 'company_id_cr'})\ncompany_and_rounds.info()",
      "metadata": {
        "scrolled": true
      },
      "outputs": [
        {
          "name": "stdout",
          "output_type": "stream",
          "text": "<class 'pandas.core.frame.DataFrame'>\n,RangeIndex: 217774 entries, 0 to 217773\n,Data columns (total 22 columns):\n, #   Column               Non-Null Count   Dtype  \n,---  ------               --------------   -----  \n, 0   company_id_cr        217472 non-null  float64\n, 1   name                 217472 non-null  object \n, 2   category_code        143886 non-null  object \n, 3   status               217472 non-null  object \n, 4   founded_at           109956 non-null  object \n, 5   closed_at            3449 non-null    object \n, 6   domain               147159 non-null  object \n, 7   network_username     95534 non-null   object \n, 8   country_code         108607 non-null  object \n, 9   investment_rounds    217472 non-null  float64\n, 10  funding_rounds       217472 non-null  float64\n, 11  funding_total        217472 non-null  float64\n, 12  milestones           217472 non-null  float64\n, 13  funding_round_id     52928 non-null   float64\n, 14  company_id           52928 non-null   float64\n, 15  funded_at            52680 non-null   object \n, 16  funding_round_type   52928 non-null   object \n, 17  raised_amount        52928 non-null   float64\n, 18  pre_money_valuation  52928 non-null   float64\n, 19  participants         52928 non-null   float64\n, 20  is_first_round       52928 non-null   float64\n, 21  is_last_round        52928 non-null   float64\n,dtypes: float64(12), object(10)\n,memory usage: 36.6+ MB\n"
        }
      ],
      "execution_count": 7
    },
    {
      "cell_type": "code",
      "source": "# Загружаем данные в переменную people\npeople = pd.read_csv('https://code.s3.yandex.net/datasets/people.csv')",
      "metadata": {},
      "outputs": [],
      "execution_count": 8
    },
    {
      "cell_type": "code",
      "source": "# Выводим первые строки и информацию о датафрейме\ndisplay(people.head())\npeople.info()",
      "metadata": {},
      "outputs": [
        {
          "data": {
            "text/html": [
              "<div>\n",
              "<style scoped>\n",
              "    .dataframe tbody tr th:only-of-type {\n",
              "        vertical-align: middle;\n",
              "    }\n",
              "\n",
              "    .dataframe tbody tr th {\n",
              "        vertical-align: top;\n",
              "    }\n",
              "\n",
              "    .dataframe thead th {\n",
              "        text-align: right;\n",
              "    }\n",
              "</style>\n",
              "<table border=\"1\" class=\"dataframe\">\n",
              "  <thead>\n",
              "    <tr style=\"text-align: right;\">\n",
              "      <th></th>\n",
              "      <th>id</th>\n",
              "      <th>first_name</th>\n",
              "      <th>last_name</th>\n",
              "      <th>company_id</th>\n",
              "      <th>network_username</th>\n",
              "    </tr>\n",
              "  </thead>\n",
              "  <tbody>\n",
              "    <tr>\n",
              "      <th>0</th>\n",
              "      <td>10</td>\n",
              "      <td>Mark</td>\n",
              "      <td>Zuckerberg</td>\n",
              "      <td>5.00</td>\n",
              "      <td>NaN</td>\n",
              "    </tr>\n",
              "    <tr>\n",
              "      <th>1</th>\n",
              "      <td>100</td>\n",
              "      <td>Peter</td>\n",
              "      <td>Lester</td>\n",
              "      <td>27.00</td>\n",
              "      <td>NaN</td>\n",
              "    </tr>\n",
              "    <tr>\n",
              "      <th>2</th>\n",
              "      <td>1000</td>\n",
              "      <td>Dr. Steven</td>\n",
              "      <td>E. Saunders</td>\n",
              "      <td>292.00</td>\n",
              "      <td>NaN</td>\n",
              "    </tr>\n",
              "    <tr>\n",
              "      <th>3</th>\n",
              "      <td>10000</td>\n",
              "      <td>Neil</td>\n",
              "      <td>Capel</td>\n",
              "      <td>2526.00</td>\n",
              "      <td>NaN</td>\n",
              "    </tr>\n",
              "    <tr>\n",
              "      <th>4</th>\n",
              "      <td>100000</td>\n",
              "      <td>Sue</td>\n",
              "      <td>Pilsch</td>\n",
              "      <td>NaN</td>\n",
              "      <td>NaN</td>\n",
              "    </tr>\n",
              "  </tbody>\n",
              "</table>\n",
              "</div>"
            ],
            "text/plain": [
              "       id  first_name    last_name  company_id network_username\n",
              "0      10        Mark   Zuckerberg        5.00              NaN\n",
              "1     100       Peter       Lester       27.00              NaN\n",
              "2    1000  Dr. Steven  E. Saunders      292.00              NaN\n",
              "3   10000        Neil        Capel     2526.00              NaN\n",
              "4  100000         Sue       Pilsch         NaN              NaN"
            ]
          },
          "metadata": {},
          "output_type": "display_data"
        },
        {
          "name": "stdout",
          "output_type": "stream",
          "text": "<class 'pandas.core.frame.DataFrame'>\n,RangeIndex: 226709 entries, 0 to 226708\n,Data columns (total 5 columns):\n, #   Column            Non-Null Count   Dtype  \n,---  ------            --------------   -----  \n, 0   id                226709 non-null  int64  \n, 1   first_name        226704 non-null  object \n, 2   last_name         226708 non-null  object \n, 3   company_id        34615 non-null   float64\n, 4   network_username  38867 non-null   object \n,dtypes: float64(1), int64(1), object(3)\n,memory usage: 8.6+ MB\n"
        }
      ],
      "execution_count": 9
    },
    {
      "cell_type": "markdown",
      "source": "В датафрейме people 226709 строк и 5 столбцов. Наибольшее количество пропусков содержат столбцы company_id и network_username",
      "metadata": {}
    },
    {
      "cell_type": "code",
      "source": "# Загружаем данные в переменную education\neducation = pd.read_csv('https://code.s3.yandex.net/datasets/education.csv')",
      "metadata": {},
      "outputs": [],
      "execution_count": 10
    },
    {
      "cell_type": "code",
      "source": "# Выводим первые строки и информацию о датафрейме\ndisplay(education.head())\neducation.info()",
      "metadata": {},
      "outputs": [
        {
          "data": {
            "text/html": [
              "<div>\n",
              "<style scoped>\n",
              "    .dataframe tbody tr th:only-of-type {\n",
              "        vertical-align: middle;\n",
              "    }\n",
              "\n",
              "    .dataframe tbody tr th {\n",
              "        vertical-align: top;\n",
              "    }\n",
              "\n",
              "    .dataframe thead th {\n",
              "        text-align: right;\n",
              "    }\n",
              "</style>\n",
              "<table border=\"1\" class=\"dataframe\">\n",
              "  <thead>\n",
              "    <tr style=\"text-align: right;\">\n",
              "      <th></th>\n",
              "      <th>id</th>\n",
              "      <th>person_id</th>\n",
              "      <th>instituition</th>\n",
              "      <th>graduated_at</th>\n",
              "    </tr>\n",
              "  </thead>\n",
              "  <tbody>\n",
              "    <tr>\n",
              "      <th>0</th>\n",
              "      <td>1</td>\n",
              "      <td>6117</td>\n",
              "      <td>NaN</td>\n",
              "      <td>NaN</td>\n",
              "    </tr>\n",
              "    <tr>\n",
              "      <th>1</th>\n",
              "      <td>2</td>\n",
              "      <td>6136</td>\n",
              "      <td>Washington University, St. Louis</td>\n",
              "      <td>1990-01-01</td>\n",
              "    </tr>\n",
              "    <tr>\n",
              "      <th>2</th>\n",
              "      <td>3</td>\n",
              "      <td>6136</td>\n",
              "      <td>Boston University</td>\n",
              "      <td>1992-01-01</td>\n",
              "    </tr>\n",
              "    <tr>\n",
              "      <th>3</th>\n",
              "      <td>4</td>\n",
              "      <td>6005</td>\n",
              "      <td>University of Greenwich</td>\n",
              "      <td>2006-01-01</td>\n",
              "    </tr>\n",
              "    <tr>\n",
              "      <th>4</th>\n",
              "      <td>5</td>\n",
              "      <td>5832</td>\n",
              "      <td>Rice University</td>\n",
              "      <td>NaN</td>\n",
              "    </tr>\n",
              "  </tbody>\n",
              "</table>\n",
              "</div>"
            ],
            "text/plain": [
              "   id  person_id                      instituition graduated_at\n",
              "0   1       6117                               NaN          NaN\n",
              "1   2       6136  Washington University, St. Louis   1990-01-01\n",
              "2   3       6136                 Boston University   1992-01-01\n",
              "3   4       6005           University of Greenwich   2006-01-01\n",
              "4   5       5832                   Rice University          NaN"
            ]
          },
          "metadata": {},
          "output_type": "display_data"
        },
        {
          "name": "stdout",
          "output_type": "stream",
          "text": "<class 'pandas.core.frame.DataFrame'>\n,RangeIndex: 109610 entries, 0 to 109609\n,Data columns (total 4 columns):\n, #   Column        Non-Null Count   Dtype \n,---  ------        --------------   ----- \n, 0   id            109610 non-null  int64 \n, 1   person_id     109610 non-null  int64 \n, 2   instituition  109555 non-null  object\n, 3   graduated_at  58054 non-null   object\n,dtypes: int64(2), object(2)\n,memory usage: 3.3+ MB\n"
        }
      ],
      "execution_count": 11
    },
    {
      "cell_type": "markdown",
      "source": "В датафрейме education 109610 строк и 4 столбца. Наибольшее количество пропусков содержит столбец graduated_at",
      "metadata": {}
    },
    {
      "cell_type": "code",
      "source": "# Загружаем данные в переменную degrees\ndegrees = pd.read_csv('https://code.s3.yandex.net/datasets/degrees.csv')",
      "metadata": {},
      "outputs": [],
      "execution_count": 12
    },
    {
      "cell_type": "code",
      "source": "# Выводим первые строки и информацию о датафрейме\ndisplay(degrees.head())\ndegrees.info()",
      "metadata": {},
      "outputs": [
        {
          "data": {
            "text/html": [
              "<div>\n",
              "<style scoped>\n",
              "    .dataframe tbody tr th:only-of-type {\n",
              "        vertical-align: middle;\n",
              "    }\n",
              "\n",
              "    .dataframe tbody tr th {\n",
              "        vertical-align: top;\n",
              "    }\n",
              "\n",
              "    .dataframe thead th {\n",
              "        text-align: right;\n",
              "    }\n",
              "</style>\n",
              "<table border=\"1\" class=\"dataframe\">\n",
              "  <thead>\n",
              "    <tr style=\"text-align: right;\">\n",
              "      <th></th>\n",
              "      <th>id</th>\n",
              "      <th>object_id</th>\n",
              "      <th>degree_type</th>\n",
              "      <th>subject</th>\n",
              "    </tr>\n",
              "  </thead>\n",
              "  <tbody>\n",
              "    <tr>\n",
              "      <th>0</th>\n",
              "      <td>1</td>\n",
              "      <td>p:6117</td>\n",
              "      <td>MBA</td>\n",
              "      <td>NaN</td>\n",
              "    </tr>\n",
              "    <tr>\n",
              "      <th>1</th>\n",
              "      <td>2</td>\n",
              "      <td>p:6136</td>\n",
              "      <td>BA</td>\n",
              "      <td>English, French</td>\n",
              "    </tr>\n",
              "    <tr>\n",
              "      <th>2</th>\n",
              "      <td>3</td>\n",
              "      <td>p:6136</td>\n",
              "      <td>MS</td>\n",
              "      <td>Mass Communication</td>\n",
              "    </tr>\n",
              "    <tr>\n",
              "      <th>3</th>\n",
              "      <td>4</td>\n",
              "      <td>p:6005</td>\n",
              "      <td>MS</td>\n",
              "      <td>Internet Technology</td>\n",
              "    </tr>\n",
              "    <tr>\n",
              "      <th>4</th>\n",
              "      <td>5</td>\n",
              "      <td>p:5832</td>\n",
              "      <td>BCS</td>\n",
              "      <td>Computer Science, Psychology</td>\n",
              "    </tr>\n",
              "  </tbody>\n",
              "</table>\n",
              "</div>"
            ],
            "text/plain": [
              "   id object_id degree_type                       subject\n",
              "0   1    p:6117         MBA                           NaN\n",
              "1   2    p:6136          BA               English, French\n",
              "2   3    p:6136          MS            Mass Communication\n",
              "3   4    p:6005          MS           Internet Technology\n",
              "4   5    p:5832         BCS  Computer Science, Psychology"
            ]
          },
          "metadata": {},
          "output_type": "display_data"
        },
        {
          "name": "stdout",
          "output_type": "stream",
          "text": "<class 'pandas.core.frame.DataFrame'>\n,RangeIndex: 109610 entries, 0 to 109609\n,Data columns (total 4 columns):\n, #   Column       Non-Null Count   Dtype \n,---  ------       --------------   ----- \n, 0   id           109610 non-null  int64 \n, 1   object_id    109610 non-null  object\n, 2   degree_type  98392 non-null   object\n, 3   subject      81298 non-null   object\n,dtypes: int64(1), object(3)\n,memory usage: 3.3+ MB\n"
        }
      ],
      "execution_count": 13
    },
    {
      "cell_type": "markdown",
      "source": "В датафрейме degrees 109610 строк и 4 столбца. Наибольшее количество пропусков содержат столбцы degree_type и subject",
      "metadata": {}
    },
    {
      "cell_type": "code",
      "source": "# Загружаем данные в переменную fund\nfund = pd.read_csv('https://code.s3.yandex.net/datasets/fund.csv')",
      "metadata": {},
      "outputs": [],
      "execution_count": 14
    },
    {
      "cell_type": "code",
      "source": "# Выводим первые строки и информацию о датафрейме\ndisplay(fund.head())\nfund.info()",
      "metadata": {},
      "outputs": [
        {
          "data": {
            "text/html": [
              "<div>\n",
              "<style scoped>\n",
              "    .dataframe tbody tr th:only-of-type {\n",
              "        vertical-align: middle;\n",
              "    }\n",
              "\n",
              "    .dataframe tbody tr th {\n",
              "        vertical-align: top;\n",
              "    }\n",
              "\n",
              "    .dataframe thead th {\n",
              "        text-align: right;\n",
              "    }\n",
              "</style>\n",
              "<table border=\"1\" class=\"dataframe\">\n",
              "  <thead>\n",
              "    <tr style=\"text-align: right;\">\n",
              "      <th></th>\n",
              "      <th>id</th>\n",
              "      <th>name</th>\n",
              "      <th>founded_at</th>\n",
              "      <th>domain</th>\n",
              "      <th>network_username</th>\n",
              "      <th>country_code</th>\n",
              "      <th>investment_rounds</th>\n",
              "      <th>invested_companies</th>\n",
              "      <th>milestones</th>\n",
              "    </tr>\n",
              "  </thead>\n",
              "  <tbody>\n",
              "    <tr>\n",
              "      <th>0</th>\n",
              "      <td>13131</td>\n",
              "      <td>NaN</td>\n",
              "      <td>NaN</td>\n",
              "      <td>NaN</td>\n",
              "      <td>NaN</td>\n",
              "      <td>NaN</td>\n",
              "      <td>0</td>\n",
              "      <td>0</td>\n",
              "      <td>0</td>\n",
              "    </tr>\n",
              "    <tr>\n",
              "      <th>1</th>\n",
              "      <td>1</td>\n",
              "      <td>Greylock Partners</td>\n",
              "      <td>1965-01-01</td>\n",
              "      <td>greylock.com</td>\n",
              "      <td>greylockvc</td>\n",
              "      <td>USA</td>\n",
              "      <td>307</td>\n",
              "      <td>196</td>\n",
              "      <td>0</td>\n",
              "    </tr>\n",
              "    <tr>\n",
              "      <th>2</th>\n",
              "      <td>10</td>\n",
              "      <td>Mission Ventures</td>\n",
              "      <td>1996-01-01</td>\n",
              "      <td>missionventures.com</td>\n",
              "      <td>NaN</td>\n",
              "      <td>USA</td>\n",
              "      <td>58</td>\n",
              "      <td>33</td>\n",
              "      <td>0</td>\n",
              "    </tr>\n",
              "    <tr>\n",
              "      <th>3</th>\n",
              "      <td>100</td>\n",
              "      <td>Kapor Enterprises, Inc.</td>\n",
              "      <td>NaN</td>\n",
              "      <td>kei.com</td>\n",
              "      <td>NaN</td>\n",
              "      <td>USA</td>\n",
              "      <td>2</td>\n",
              "      <td>1</td>\n",
              "      <td>0</td>\n",
              "    </tr>\n",
              "    <tr>\n",
              "      <th>4</th>\n",
              "      <td>1000</td>\n",
              "      <td>Speed Ventures</td>\n",
              "      <td>NaN</td>\n",
              "      <td>NaN</td>\n",
              "      <td>NaN</td>\n",
              "      <td>NaN</td>\n",
              "      <td>0</td>\n",
              "      <td>0</td>\n",
              "      <td>1</td>\n",
              "    </tr>\n",
              "  </tbody>\n",
              "</table>\n",
              "</div>"
            ],
            "text/plain": [
              "      id                     name  founded_at               domain  \\\n",
              "0  13131                      NaN         NaN                  NaN   \n",
              "1      1        Greylock Partners  1965-01-01         greylock.com   \n",
              "2     10         Mission Ventures  1996-01-01  missionventures.com   \n",
              "3    100  Kapor Enterprises, Inc.         NaN              kei.com   \n",
              "4   1000           Speed Ventures         NaN                  NaN   \n",
              "\n",
              "  network_username country_code  investment_rounds  invested_companies  \\\n",
              "0              NaN          NaN                  0                   0   \n",
              "1       greylockvc          USA                307                 196   \n",
              "2              NaN          USA                 58                  33   \n",
              "3              NaN          USA                  2                   1   \n",
              "4              NaN          NaN                  0                   0   \n",
              "\n",
              "   milestones  \n",
              "0           0  \n",
              "1           0  \n",
              "2           0  \n",
              "3           0  \n",
              "4           1  "
            ]
          },
          "metadata": {},
          "output_type": "display_data"
        },
        {
          "name": "stdout",
          "output_type": "stream",
          "text": "<class 'pandas.core.frame.DataFrame'>\n,RangeIndex: 11652 entries, 0 to 11651\n,Data columns (total 9 columns):\n, #   Column              Non-Null Count  Dtype \n,---  ------              --------------  ----- \n, 0   id                  11652 non-null  int64 \n, 1   name                11650 non-null  object\n, 2   founded_at          4605 non-null   object\n, 3   domain              7362 non-null   object\n, 4   network_username    2149 non-null   object\n, 5   country_code        7053 non-null   object\n, 6   investment_rounds   11652 non-null  int64 \n, 7   invested_companies  11652 non-null  int64 \n, 8   milestones          11652 non-null  int64 \n,dtypes: int64(4), object(5)\n,memory usage: 819.4+ KB\n"
        }
      ],
      "execution_count": 15
    },
    {
      "cell_type": "markdown",
      "source": "В датафрейме fund 11652 строки и 9 столбцов. Наибольшее количество пропусков содержат столбцы founded_at, domain, network_username, country_code",
      "metadata": {}
    },
    {
      "cell_type": "code",
      "source": "# Загружаем данные в переменную investment\ninvestment = pd.read_csv('https://code.s3.yandex.net/datasets/investment.csv')",
      "metadata": {},
      "outputs": [],
      "execution_count": 16
    },
    {
      "cell_type": "code",
      "source": "# Выводим первые строки и информацию о датафрейме\ndisplay(investment.head())\ninvestment.info()",
      "metadata": {},
      "outputs": [
        {
          "data": {
            "text/html": [
              "<div>\n",
              "<style scoped>\n",
              "    .dataframe tbody tr th:only-of-type {\n",
              "        vertical-align: middle;\n",
              "    }\n",
              "\n",
              "    .dataframe tbody tr th {\n",
              "        vertical-align: top;\n",
              "    }\n",
              "\n",
              "    .dataframe thead th {\n",
              "        text-align: right;\n",
              "    }\n",
              "</style>\n",
              "<table border=\"1\" class=\"dataframe\">\n",
              "  <thead>\n",
              "    <tr style=\"text-align: right;\">\n",
              "      <th></th>\n",
              "      <th>id</th>\n",
              "      <th>funding_round_id</th>\n",
              "      <th>company_id</th>\n",
              "      <th>fund_id</th>\n",
              "    </tr>\n",
              "  </thead>\n",
              "  <tbody>\n",
              "    <tr>\n",
              "      <th>0</th>\n",
              "      <td>1</td>\n",
              "      <td>1</td>\n",
              "      <td>4</td>\n",
              "      <td>1</td>\n",
              "    </tr>\n",
              "    <tr>\n",
              "      <th>1</th>\n",
              "      <td>2</td>\n",
              "      <td>1</td>\n",
              "      <td>4</td>\n",
              "      <td>2</td>\n",
              "    </tr>\n",
              "    <tr>\n",
              "      <th>2</th>\n",
              "      <td>3</td>\n",
              "      <td>3</td>\n",
              "      <td>5</td>\n",
              "      <td>4</td>\n",
              "    </tr>\n",
              "    <tr>\n",
              "      <th>3</th>\n",
              "      <td>4</td>\n",
              "      <td>4</td>\n",
              "      <td>5</td>\n",
              "      <td>1</td>\n",
              "    </tr>\n",
              "    <tr>\n",
              "      <th>4</th>\n",
              "      <td>5</td>\n",
              "      <td>4</td>\n",
              "      <td>5</td>\n",
              "      <td>5</td>\n",
              "    </tr>\n",
              "  </tbody>\n",
              "</table>\n",
              "</div>"
            ],
            "text/plain": [
              "   id  funding_round_id  company_id  fund_id\n",
              "0   1                 1           4        1\n",
              "1   2                 1           4        2\n",
              "2   3                 3           5        4\n",
              "3   4                 4           5        1\n",
              "4   5                 4           5        5"
            ]
          },
          "metadata": {},
          "output_type": "display_data"
        },
        {
          "name": "stdout",
          "output_type": "stream",
          "text": "<class 'pandas.core.frame.DataFrame'>\n,RangeIndex: 61403 entries, 0 to 61402\n,Data columns (total 4 columns):\n, #   Column            Non-Null Count  Dtype\n,---  ------            --------------  -----\n, 0   id                61403 non-null  int64\n, 1   funding_round_id  61403 non-null  int64\n, 2   company_id        61403 non-null  int64\n, 3   fund_id           61403 non-null  int64\n,dtypes: int64(4)\n,memory usage: 1.9 MB\n"
        }
      ],
      "execution_count": 17
    },
    {
      "cell_type": "markdown",
      "source": "В датафрейме investment 61403 строки и 4 столбца. Пропусков в данных нет",
      "metadata": {}
    },
    {
      "cell_type": "markdown",
      "source": "### 1.2. Смена типов и анализ пропусков\n",
      "metadata": {
        "id": "mg2gEwh0rJg0"
      }
    },
    {
      "cell_type": "code",
      "source": "# Меняем тип данных в столбцах, содержащих информацию о дате\nacquisition['acquired_at'] = pd.to_datetime(acquisition['acquired_at'])\ncompany_and_rounds['founded_at'] = pd.to_datetime(company_and_rounds['founded_at'])\ncompany_and_rounds['funded_at'] = pd.to_datetime(company_and_rounds['funded_at'])\neducation['graduated_at'] = pd.to_datetime(education['graduated_at'])\nfund['founded_at'] = pd.to_datetime(fund['founded_at'])",
      "metadata": {
        "id": "FsL0A8RBrJg1",
        "vscode": {
          "languageId": "plaintext"
        }
      },
      "outputs": [],
      "execution_count": 18
    },
    {
      "cell_type": "markdown",
      "source": "Были выгружены данные, также осуществлена проверка названий столбцов: в датафрейме company_and_rounds названия были приведены к стилю snake case. Далее были изменены типы данных в столбцах, содержащих информацию о дате. Стоит упомянуть и довольно большое количество пропусков почти в каждом датафрейме, что может негативно повлиять на дальнейший анализ\n",
      "metadata": {}
    },
    {
      "cell_type": "markdown",
      "source": "## Шаг 2. Предобработка данных, предварительное исследование",
      "metadata": {
        "id": "u60cHsn6rJg1"
      }
    },
    {
      "cell_type": "markdown",
      "source": "\n### 2.1. Раунды финансирования по годам\n",
      "metadata": {
        "id": "g2bHIIjcrJg1"
      }
    },
    {
      "cell_type": "code",
      "source": "# Выделяем год из даты, делаем сводную таблицу по году, количеству раундов и сумме финансирования\ncompany_and_rounds['year'] = company_and_rounds['funded_at'].dt.year\ntable = pd.pivot_table(company_and_rounds, index='year', values=['raised_amount', 'funding_rounds'], aggfunc={'raised_amount': 'median', 'funding_rounds': 'count'})\ndisplay(table)",
      "metadata": {
        "id": "Cf5IjfOQrJg1",
        "vscode": {
          "languageId": "plaintext"
        }
      },
      "outputs": [
        {
          "data": {
            "text/html": [
              "<div>\n",
              "<style scoped>\n",
              "    .dataframe tbody tr th:only-of-type {\n",
              "        vertical-align: middle;\n",
              "    }\n",
              "\n",
              "    .dataframe tbody tr th {\n",
              "        vertical-align: top;\n",
              "    }\n",
              "\n",
              "    .dataframe thead th {\n",
              "        text-align: right;\n",
              "    }\n",
              "</style>\n",
              "<table border=\"1\" class=\"dataframe\">\n",
              "  <thead>\n",
              "    <tr style=\"text-align: right;\">\n",
              "      <th></th>\n",
              "      <th>funding_rounds</th>\n",
              "      <th>raised_amount</th>\n",
              "    </tr>\n",
              "    <tr>\n",
              "      <th>year</th>\n",
              "      <th></th>\n",
              "      <th></th>\n",
              "    </tr>\n",
              "  </thead>\n",
              "  <tbody>\n",
              "    <tr>\n",
              "      <th>1960.00</th>\n",
              "      <td>9</td>\n",
              "      <td>0.00</td>\n",
              "    </tr>\n",
              "    <tr>\n",
              "      <th>1973.00</th>\n",
              "      <td>1</td>\n",
              "      <td>0.00</td>\n",
              "    </tr>\n",
              "    <tr>\n",
              "      <th>1974.00</th>\n",
              "      <td>2</td>\n",
              "      <td>0.00</td>\n",
              "    </tr>\n",
              "    <tr>\n",
              "      <th>1984.00</th>\n",
              "      <td>3</td>\n",
              "      <td>41000.00</td>\n",
              "    </tr>\n",
              "    <tr>\n",
              "      <th>1985.00</th>\n",
              "      <td>1</td>\n",
              "      <td>0.00</td>\n",
              "    </tr>\n",
              "    <tr>\n",
              "      <th>1987.00</th>\n",
              "      <td>2</td>\n",
              "      <td>1250000.00</td>\n",
              "    </tr>\n",
              "    <tr>\n",
              "      <th>1989.00</th>\n",
              "      <td>1</td>\n",
              "      <td>15000.00</td>\n",
              "    </tr>\n",
              "    <tr>\n",
              "      <th>1990.00</th>\n",
              "      <td>1</td>\n",
              "      <td>1000000.00</td>\n",
              "    </tr>\n",
              "    <tr>\n",
              "      <th>1992.00</th>\n",
              "      <td>1</td>\n",
              "      <td>2000000.00</td>\n",
              "    </tr>\n",
              "    <tr>\n",
              "      <th>1993.00</th>\n",
              "      <td>2</td>\n",
              "      <td>62500.00</td>\n",
              "    </tr>\n",
              "    <tr>\n",
              "      <th>1994.00</th>\n",
              "      <td>2</td>\n",
              "      <td>6700000.00</td>\n",
              "    </tr>\n",
              "    <tr>\n",
              "      <th>1995.00</th>\n",
              "      <td>7</td>\n",
              "      <td>2000000.00</td>\n",
              "    </tr>\n",
              "    <tr>\n",
              "      <th>1996.00</th>\n",
              "      <td>7</td>\n",
              "      <td>12500.00</td>\n",
              "    </tr>\n",
              "    <tr>\n",
              "      <th>1997.00</th>\n",
              "      <td>9</td>\n",
              "      <td>3300000.00</td>\n",
              "    </tr>\n",
              "    <tr>\n",
              "      <th>1998.00</th>\n",
              "      <td>29</td>\n",
              "      <td>100000.00</td>\n",
              "    </tr>\n",
              "    <tr>\n",
              "      <th>1999.00</th>\n",
              "      <td>76</td>\n",
              "      <td>2000000.00</td>\n",
              "    </tr>\n",
              "    <tr>\n",
              "      <th>2000.00</th>\n",
              "      <td>125</td>\n",
              "      <td>4200000.00</td>\n",
              "    </tr>\n",
              "    <tr>\n",
              "      <th>2001.00</th>\n",
              "      <td>95</td>\n",
              "      <td>3000000.00</td>\n",
              "    </tr>\n",
              "    <tr>\n",
              "      <th>2002.00</th>\n",
              "      <td>115</td>\n",
              "      <td>4200000.00</td>\n",
              "    </tr>\n",
              "    <tr>\n",
              "      <th>2003.00</th>\n",
              "      <td>154</td>\n",
              "      <td>3000000.00</td>\n",
              "    </tr>\n",
              "    <tr>\n",
              "      <th>2004.00</th>\n",
              "      <td>286</td>\n",
              "      <td>5000000.00</td>\n",
              "    </tr>\n",
              "    <tr>\n",
              "      <th>2005.00</th>\n",
              "      <td>1624</td>\n",
              "      <td>5500000.00</td>\n",
              "    </tr>\n",
              "    <tr>\n",
              "      <th>2006.00</th>\n",
              "      <td>2409</td>\n",
              "      <td>5000000.00</td>\n",
              "    </tr>\n",
              "    <tr>\n",
              "      <th>2007.00</th>\n",
              "      <td>3220</td>\n",
              "      <td>3973320.00</td>\n",
              "    </tr>\n",
              "    <tr>\n",
              "      <th>2008.00</th>\n",
              "      <td>3735</td>\n",
              "      <td>3110000.00</td>\n",
              "    </tr>\n",
              "    <tr>\n",
              "      <th>2009.00</th>\n",
              "      <td>4112</td>\n",
              "      <td>2000000.00</td>\n",
              "    </tr>\n",
              "    <tr>\n",
              "      <th>2010.00</th>\n",
              "      <td>6194</td>\n",
              "      <td>1602500.00</td>\n",
              "    </tr>\n",
              "    <tr>\n",
              "      <th>2011.00</th>\n",
              "      <td>9162</td>\n",
              "      <td>1200000.00</td>\n",
              "    </tr>\n",
              "    <tr>\n",
              "      <th>2012.00</th>\n",
              "      <td>9956</td>\n",
              "      <td>1000000.00</td>\n",
              "    </tr>\n",
              "    <tr>\n",
              "      <th>2013.00</th>\n",
              "      <td>11042</td>\n",
              "      <td>1200000.00</td>\n",
              "    </tr>\n",
              "  </tbody>\n",
              "</table>\n",
              "</div>"
            ],
            "text/plain": [
              "         funding_rounds  raised_amount\n",
              "year                                  \n",
              "1960.00               9           0.00\n",
              "1973.00               1           0.00\n",
              "1974.00               2           0.00\n",
              "1984.00               3       41000.00\n",
              "1985.00               1           0.00\n",
              "1987.00               2     1250000.00\n",
              "1989.00               1       15000.00\n",
              "1990.00               1     1000000.00\n",
              "1992.00               1     2000000.00\n",
              "1993.00               2       62500.00\n",
              "1994.00               2     6700000.00\n",
              "1995.00               7     2000000.00\n",
              "1996.00               7       12500.00\n",
              "1997.00               9     3300000.00\n",
              "1998.00              29      100000.00\n",
              "1999.00              76     2000000.00\n",
              "2000.00             125     4200000.00\n",
              "2001.00              95     3000000.00\n",
              "2002.00             115     4200000.00\n",
              "2003.00             154     3000000.00\n",
              "2004.00             286     5000000.00\n",
              "2005.00            1624     5500000.00\n",
              "2006.00            2409     5000000.00\n",
              "2007.00            3220     3973320.00\n",
              "2008.00            3735     3110000.00\n",
              "2009.00            4112     2000000.00\n",
              "2010.00            6194     1602500.00\n",
              "2011.00            9162     1200000.00\n",
              "2012.00            9956     1000000.00\n",
              "2013.00           11042     1200000.00"
            ]
          },
          "metadata": {},
          "output_type": "display_data"
        }
      ],
      "execution_count": 19
    },
    {
      "cell_type": "code",
      "source": "# Оставляем только те строки, где количество раундов больше 50\ntable_more_50 = table[table['funding_rounds']>50]\ndisplay(table_more_50)",
      "metadata": {},
      "outputs": [
        {
          "data": {
            "text/html": [
              "<div>\n",
              "<style scoped>\n",
              "    .dataframe tbody tr th:only-of-type {\n",
              "        vertical-align: middle;\n",
              "    }\n",
              "\n",
              "    .dataframe tbody tr th {\n",
              "        vertical-align: top;\n",
              "    }\n",
              "\n",
              "    .dataframe thead th {\n",
              "        text-align: right;\n",
              "    }\n",
              "</style>\n",
              "<table border=\"1\" class=\"dataframe\">\n",
              "  <thead>\n",
              "    <tr style=\"text-align: right;\">\n",
              "      <th></th>\n",
              "      <th>funding_rounds</th>\n",
              "      <th>raised_amount</th>\n",
              "    </tr>\n",
              "    <tr>\n",
              "      <th>year</th>\n",
              "      <th></th>\n",
              "      <th></th>\n",
              "    </tr>\n",
              "  </thead>\n",
              "  <tbody>\n",
              "    <tr>\n",
              "      <th>1999.00</th>\n",
              "      <td>76</td>\n",
              "      <td>2000000.00</td>\n",
              "    </tr>\n",
              "    <tr>\n",
              "      <th>2000.00</th>\n",
              "      <td>125</td>\n",
              "      <td>4200000.00</td>\n",
              "    </tr>\n",
              "    <tr>\n",
              "      <th>2001.00</th>\n",
              "      <td>95</td>\n",
              "      <td>3000000.00</td>\n",
              "    </tr>\n",
              "    <tr>\n",
              "      <th>2002.00</th>\n",
              "      <td>115</td>\n",
              "      <td>4200000.00</td>\n",
              "    </tr>\n",
              "    <tr>\n",
              "      <th>2003.00</th>\n",
              "      <td>154</td>\n",
              "      <td>3000000.00</td>\n",
              "    </tr>\n",
              "    <tr>\n",
              "      <th>2004.00</th>\n",
              "      <td>286</td>\n",
              "      <td>5000000.00</td>\n",
              "    </tr>\n",
              "    <tr>\n",
              "      <th>2005.00</th>\n",
              "      <td>1624</td>\n",
              "      <td>5500000.00</td>\n",
              "    </tr>\n",
              "    <tr>\n",
              "      <th>2006.00</th>\n",
              "      <td>2409</td>\n",
              "      <td>5000000.00</td>\n",
              "    </tr>\n",
              "    <tr>\n",
              "      <th>2007.00</th>\n",
              "      <td>3220</td>\n",
              "      <td>3973320.00</td>\n",
              "    </tr>\n",
              "    <tr>\n",
              "      <th>2008.00</th>\n",
              "      <td>3735</td>\n",
              "      <td>3110000.00</td>\n",
              "    </tr>\n",
              "    <tr>\n",
              "      <th>2009.00</th>\n",
              "      <td>4112</td>\n",
              "      <td>2000000.00</td>\n",
              "    </tr>\n",
              "    <tr>\n",
              "      <th>2010.00</th>\n",
              "      <td>6194</td>\n",
              "      <td>1602500.00</td>\n",
              "    </tr>\n",
              "    <tr>\n",
              "      <th>2011.00</th>\n",
              "      <td>9162</td>\n",
              "      <td>1200000.00</td>\n",
              "    </tr>\n",
              "    <tr>\n",
              "      <th>2012.00</th>\n",
              "      <td>9956</td>\n",
              "      <td>1000000.00</td>\n",
              "    </tr>\n",
              "    <tr>\n",
              "      <th>2013.00</th>\n",
              "      <td>11042</td>\n",
              "      <td>1200000.00</td>\n",
              "    </tr>\n",
              "  </tbody>\n",
              "</table>\n",
              "</div>"
            ],
            "text/plain": [
              "         funding_rounds  raised_amount\n",
              "year                                  \n",
              "1999.00              76     2000000.00\n",
              "2000.00             125     4200000.00\n",
              "2001.00              95     3000000.00\n",
              "2002.00             115     4200000.00\n",
              "2003.00             154     3000000.00\n",
              "2004.00             286     5000000.00\n",
              "2005.00            1624     5500000.00\n",
              "2006.00            2409     5000000.00\n",
              "2007.00            3220     3973320.00\n",
              "2008.00            3735     3110000.00\n",
              "2009.00            4112     2000000.00\n",
              "2010.00            6194     1602500.00\n",
              "2011.00            9162     1200000.00\n",
              "2012.00            9956     1000000.00\n",
              "2013.00           11042     1200000.00"
            ]
          },
          "metadata": {},
          "output_type": "display_data"
        }
      ],
      "execution_count": 20
    },
    {
      "cell_type": "code",
      "source": "table_more_50['raised_amount'].plot(kind='bar', title='Распределение размера средств по годам', xlabel='Год', ylabel='Размер средств', )\nplt.show()",
      "metadata": {},
      "outputs": [
        {
          "data": {
            "image/png": "[encoded data removed]",
            "text/plain": [
              "<Figure size 432x288 with 1 Axes>"
            ]
          },
          "metadata": {
            "needs_background": "light"
          },
          "output_type": "display_data"
        }
      ],
      "execution_count": 21
    },
    {
      "cell_type": "markdown",
      "source": "В 2005 году типичный размер собранных в рамках одного раунда средств был максимален и составил 5 500 000. В 2013 году было зафиксировано наибольшее количество раундов (11042), при этом типичный размер средств один из самых низких по сравнению с другими годами (1 200 000)",
      "metadata": {
        "id": "Z92DzKMMFdKW"
      }
    },
    {
      "cell_type": "markdown",
      "source": "\n### 2.2. Люди и их образование\n",
      "metadata": {
        "id": "45if1en1rJg2"
      }
    },
    {
      "cell_type": "code",
      "source": "# Объединяем два датафрейма: people и education, меняем столбцы с одинаковыми названиями\npeople_and_education = people.merge(education, left_on='id', right_on='person_id', how='inner')\npeople_and_education = people_and_education.rename(columns={'id_x': 'id_employee', 'id_y': 'id_education'})\ndisplay(people_and_education)",
      "metadata": {
        "scrolled": true
      },
      "outputs": [
        {
          "data": {
            "text/html": [
              "<div>\n",
              "<style scoped>\n",
              "    .dataframe tbody tr th:only-of-type {\n",
              "        vertical-align: middle;\n",
              "    }\n",
              "\n",
              "    .dataframe tbody tr th {\n",
              "        vertical-align: top;\n",
              "    }\n",
              "\n",
              "    .dataframe thead th {\n",
              "        text-align: right;\n",
              "    }\n",
              "</style>\n",
              "<table border=\"1\" class=\"dataframe\">\n",
              "  <thead>\n",
              "    <tr style=\"text-align: right;\">\n",
              "      <th></th>\n",
              "      <th>id_employee</th>\n",
              "      <th>first_name</th>\n",
              "      <th>last_name</th>\n",
              "      <th>company_id</th>\n",
              "      <th>network_username</th>\n",
              "      <th>id_education</th>\n",
              "      <th>person_id</th>\n",
              "      <th>instituition</th>\n",
              "      <th>graduated_at</th>\n",
              "    </tr>\n",
              "  </thead>\n",
              "  <tbody>\n",
              "    <tr>\n",
              "      <th>0</th>\n",
              "      <td>10</td>\n",
              "      <td>Mark</td>\n",
              "      <td>Zuckerberg</td>\n",
              "      <td>5.00</td>\n",
              "      <td>NaN</td>\n",
              "      <td>2415</td>\n",
              "      <td>10</td>\n",
              "      <td>Harvard University</td>\n",
              "      <td>NaT</td>\n",
              "    </tr>\n",
              "    <tr>\n",
              "      <th>1</th>\n",
              "      <td>100006</td>\n",
              "      <td>Courtney</td>\n",
              "      <td>Homer</td>\n",
              "      <td>81558.00</td>\n",
              "      <td>jobsbostontech</td>\n",
              "      <td>83604</td>\n",
              "      <td>100006</td>\n",
              "      <td>MIT Sloan School of Management</td>\n",
              "      <td>2004-01-01</td>\n",
              "    </tr>\n",
              "    <tr>\n",
              "      <th>2</th>\n",
              "      <td>100013</td>\n",
              "      <td>Umesh</td>\n",
              "      <td>Singh</td>\n",
              "      <td>NaN</td>\n",
              "      <td>NaN</td>\n",
              "      <td>36786</td>\n",
              "      <td>100013</td>\n",
              "      <td>Rutgers University</td>\n",
              "      <td>NaT</td>\n",
              "    </tr>\n",
              "    <tr>\n",
              "      <th>3</th>\n",
              "      <td>100013</td>\n",
              "      <td>Umesh</td>\n",
              "      <td>Singh</td>\n",
              "      <td>NaN</td>\n",
              "      <td>NaN</td>\n",
              "      <td>36787</td>\n",
              "      <td>100013</td>\n",
              "      <td>University of Mumbai</td>\n",
              "      <td>NaT</td>\n",
              "    </tr>\n",
              "    <tr>\n",
              "      <th>4</th>\n",
              "      <td>100018</td>\n",
              "      <td>Adam</td>\n",
              "      <td>Beckerman</td>\n",
              "      <td>148554.00</td>\n",
              "      <td>adam_beckerman</td>\n",
              "      <td>14433</td>\n",
              "      <td>100018</td>\n",
              "      <td>Columbia University, Business School</td>\n",
              "      <td>2004-01-01</td>\n",
              "    </tr>\n",
              "    <tr>\n",
              "      <th>...</th>\n",
              "      <td>...</td>\n",
              "      <td>...</td>\n",
              "      <td>...</td>\n",
              "      <td>...</td>\n",
              "      <td>...</td>\n",
              "      <td>...</td>\n",
              "      <td>...</td>\n",
              "      <td>...</td>\n",
              "      <td>...</td>\n",
              "    </tr>\n",
              "    <tr>\n",
              "      <th>109051</th>\n",
              "      <td>99997</td>\n",
              "      <td>Peter</td>\n",
              "      <td>Lalonde</td>\n",
              "      <td>83651.00</td>\n",
              "      <td>peterlalonde</td>\n",
              "      <td>69682</td>\n",
              "      <td>99997</td>\n",
              "      <td>University of Ottawa</td>\n",
              "      <td>1993-01-01</td>\n",
              "    </tr>\n",
              "    <tr>\n",
              "      <th>109052</th>\n",
              "      <td>99997</td>\n",
              "      <td>Peter</td>\n",
              "      <td>Lalonde</td>\n",
              "      <td>83651.00</td>\n",
              "      <td>peterlalonde</td>\n",
              "      <td>69683</td>\n",
              "      <td>99997</td>\n",
              "      <td>Concordia University</td>\n",
              "      <td>1991-01-01</td>\n",
              "    </tr>\n",
              "    <tr>\n",
              "      <th>109053</th>\n",
              "      <td>99997</td>\n",
              "      <td>Peter</td>\n",
              "      <td>Lalonde</td>\n",
              "      <td>83651.00</td>\n",
              "      <td>peterlalonde</td>\n",
              "      <td>69684</td>\n",
              "      <td>99997</td>\n",
              "      <td>John Abbott College</td>\n",
              "      <td>1989-01-01</td>\n",
              "    </tr>\n",
              "    <tr>\n",
              "      <th>109054</th>\n",
              "      <td>174088</td>\n",
              "      <td>Dr. Ray</td>\n",
              "      <td>Woods</td>\n",
              "      <td>188200.00</td>\n",
              "      <td>network</td>\n",
              "      <td>25958</td>\n",
              "      <td>174088</td>\n",
              "      <td>Sydney University Medical School</td>\n",
              "      <td>1982-01-01</td>\n",
              "    </tr>\n",
              "    <tr>\n",
              "      <th>109055</th>\n",
              "      <td>118386</td>\n",
              "      <td>Ricardo</td>\n",
              "      <td>Durand</td>\n",
              "      <td>143419.00</td>\n",
              "      <td>itechsocialnet</td>\n",
              "      <td>18871</td>\n",
              "      <td>118386</td>\n",
              "      <td>ESCS</td>\n",
              "      <td>2004-01-01</td>\n",
              "    </tr>\n",
              "  </tbody>\n",
              "</table>\n",
              "<p>109056 rows × 9 columns</p>\n",
              "</div>"
            ],
            "text/plain": [
              "        id_employee first_name   last_name  company_id network_username  \\\n",
              "0                10       Mark  Zuckerberg        5.00              NaN   \n",
              "1            100006   Courtney       Homer    81558.00   jobsbostontech   \n",
              "2            100013      Umesh       Singh         NaN              NaN   \n",
              "3            100013      Umesh       Singh         NaN              NaN   \n",
              "4            100018       Adam   Beckerman   148554.00   adam_beckerman   \n",
              "...             ...        ...         ...         ...              ...   \n",
              "109051        99997      Peter     Lalonde    83651.00     peterlalonde   \n",
              "109052        99997      Peter     Lalonde    83651.00     peterlalonde   \n",
              "109053        99997      Peter     Lalonde    83651.00     peterlalonde   \n",
              "109054       174088    Dr. Ray       Woods   188200.00          network   \n",
              "109055       118386    Ricardo      Durand   143419.00   itechsocialnet   \n",
              "\n",
              "        id_education  person_id                          instituition  \\\n",
              "0               2415         10                    Harvard University   \n",
              "1              83604     100006        MIT Sloan School of Management   \n",
              "2              36786     100013                    Rutgers University   \n",
              "3              36787     100013                  University of Mumbai   \n",
              "4              14433     100018  Columbia University, Business School   \n",
              "...              ...        ...                                   ...   \n",
              "109051         69682      99997                  University of Ottawa   \n",
              "109052         69683      99997                  Concordia University   \n",
              "109053         69684      99997                   John Abbott College   \n",
              "109054         25958     174088      Sydney University Medical School   \n",
              "109055         18871     118386                                  ESCS   \n",
              "\n",
              "       graduated_at  \n",
              "0               NaT  \n",
              "1        2004-01-01  \n",
              "2               NaT  \n",
              "3               NaT  \n",
              "4        2004-01-01  \n",
              "...             ...  \n",
              "109051   1993-01-01  \n",
              "109052   1991-01-01  \n",
              "109053   1989-01-01  \n",
              "109054   1982-01-01  \n",
              "109055   2004-01-01  \n",
              "\n",
              "[109056 rows x 9 columns]"
            ]
          },
          "metadata": {},
          "output_type": "display_data"
        }
      ],
      "execution_count": 22
    },
    {
      "cell_type": "code",
      "source": "# Ищем количество и долю сотрудников, у которых есть информация об образовании (в столбце instituition или graduated_at)\npeople_and_education['int_and_grad'] = people_and_education['instituition'].isna() | people_and_education['graduated_at'].isna()\nmean_p_e = people_and_education['int_and_grad'].mean()\nprint(people_and_education['int_and_grad'].sum())\nprint(mean_p_e)",
      "metadata": {},
      "outputs": [
        {
          "name": "stdout",
          "output_type": "stream",
          "text": "51400\n,0.4713174882629108\n"
        }
      ],
      "execution_count": 23
    },
    {
      "cell_type": "code",
      "source": "# Делаем сводную таблицу по количеству сотрудников в компаниях\ngroupby_pe = people_and_education.groupby('company_id')['id_employee'].count().reset_index()\ngroupby_pe = groupby_pe.sort_values(by='id_employee', ascending=False)\ndisplay(groupby_pe)",
      "metadata": {},
      "outputs": [
        {
          "data": {
            "text/html": [
              "<div>\n",
              "<style scoped>\n",
              "    .dataframe tbody tr th:only-of-type {\n",
              "        vertical-align: middle;\n",
              "    }\n",
              "\n",
              "    .dataframe tbody tr th {\n",
              "        vertical-align: top;\n",
              "    }\n",
              "\n",
              "    .dataframe thead th {\n",
              "        text-align: right;\n",
              "    }\n",
              "</style>\n",
              "<table border=\"1\" class=\"dataframe\">\n",
              "  <thead>\n",
              "    <tr style=\"text-align: right;\">\n",
              "      <th></th>\n",
              "      <th>company_id</th>\n",
              "      <th>id_employee</th>\n",
              "    </tr>\n",
              "  </thead>\n",
              "  <tbody>\n",
              "    <tr>\n",
              "      <th>36</th>\n",
              "      <td>59.00</td>\n",
              "      <td>300</td>\n",
              "    </tr>\n",
              "    <tr>\n",
              "      <th>20</th>\n",
              "      <td>29.00</td>\n",
              "      <td>181</td>\n",
              "    </tr>\n",
              "    <tr>\n",
              "      <th>532</th>\n",
              "      <td>1242.00</td>\n",
              "      <td>155</td>\n",
              "    </tr>\n",
              "    <tr>\n",
              "      <th>12099</th>\n",
              "      <td>231067.00</td>\n",
              "      <td>97</td>\n",
              "    </tr>\n",
              "    <tr>\n",
              "      <th>1185</th>\n",
              "      <td>4175.00</td>\n",
              "      <td>82</td>\n",
              "    </tr>\n",
              "    <tr>\n",
              "      <th>...</th>\n",
              "      <td>...</td>\n",
              "      <td>...</td>\n",
              "    </tr>\n",
              "    <tr>\n",
              "      <th>8208</th>\n",
              "      <td>137440.00</td>\n",
              "      <td>1</td>\n",
              "    </tr>\n",
              "    <tr>\n",
              "      <th>8206</th>\n",
              "      <td>137219.00</td>\n",
              "      <td>1</td>\n",
              "    </tr>\n",
              "    <tr>\n",
              "      <th>3486</th>\n",
              "      <td>28216.00</td>\n",
              "      <td>1</td>\n",
              "    </tr>\n",
              "    <tr>\n",
              "      <th>8204</th>\n",
              "      <td>137182.00</td>\n",
              "      <td>1</td>\n",
              "    </tr>\n",
              "    <tr>\n",
              "      <th>6709</th>\n",
              "      <td>68746.00</td>\n",
              "      <td>1</td>\n",
              "    </tr>\n",
              "  </tbody>\n",
              "</table>\n",
              "<p>13419 rows × 2 columns</p>\n",
              "</div>"
            ],
            "text/plain": [
              "       company_id  id_employee\n",
              "36          59.00          300\n",
              "20          29.00          181\n",
              "532       1242.00          155\n",
              "12099   231067.00           97\n",
              "1185      4175.00           82\n",
              "...           ...          ...\n",
              "8208    137440.00            1\n",
              "8206    137219.00            1\n",
              "3486     28216.00            1\n",
              "8204    137182.00            1\n",
              "6709     68746.00            1\n",
              "\n",
              "[13419 rows x 2 columns]"
            ]
          },
          "metadata": {},
          "output_type": "display_data"
        }
      ],
      "execution_count": 24
    },
    {
      "cell_type": "code",
      "source": "# Строим диаграмму размаха по количеству сотрудников в компаниях\ngroupby_pe.boxplot(column='id_employee', vert=False, figsize=(15, 3))\nplt.show()",
      "metadata": {},
      "outputs": [
        {
          "data": {
            "image/png": "[encoded data removed]",
            "text/plain": [
              "<Figure size 1080x216 with 1 Axes>"
            ]
          },
          "metadata": {
            "needs_background": "light"
          },
          "output_type": "display_data"
        }
      ],
      "execution_count": 25
    },
    {
      "cell_type": "markdown",
      "source": "В данных обнаружилось много компаний с одним сотрдуников, можно предположить, что это индивидуальные предприниматели. Я решила выделить их в отдельную категорию \"ИП\". Другие три категории будут содержать информацию о том, маленькая, средняя или большая это компания. Границы групп были выбраны от 1 до 10, от 10 до 50, от 50 до 300.",
      "metadata": {}
    },
    {
      "cell_type": "code",
      "source": "# Делим компании на категории по количеству сотрудников\ngroupby_pe['category'] = pd.cut(groupby_pe['id_employee'], bins=[0, 1, 10, 50, 300], labels=['ИП', 'Маленькая', 'Средняя', 'Большая'])\ndisplay(groupby_pe)",
      "metadata": {},
      "outputs": [
        {
          "data": {
            "text/html": [
              "<div>\n",
              "<style scoped>\n",
              "    .dataframe tbody tr th:only-of-type {\n",
              "        vertical-align: middle;\n",
              "    }\n",
              "\n",
              "    .dataframe tbody tr th {\n",
              "        vertical-align: top;\n",
              "    }\n",
              "\n",
              "    .dataframe thead th {\n",
              "        text-align: right;\n",
              "    }\n",
              "</style>\n",
              "<table border=\"1\" class=\"dataframe\">\n",
              "  <thead>\n",
              "    <tr style=\"text-align: right;\">\n",
              "      <th></th>\n",
              "      <th>company_id</th>\n",
              "      <th>id_employee</th>\n",
              "      <th>category</th>\n",
              "    </tr>\n",
              "  </thead>\n",
              "  <tbody>\n",
              "    <tr>\n",
              "      <th>36</th>\n",
              "      <td>59.00</td>\n",
              "      <td>300</td>\n",
              "      <td>Большая</td>\n",
              "    </tr>\n",
              "    <tr>\n",
              "      <th>20</th>\n",
              "      <td>29.00</td>\n",
              "      <td>181</td>\n",
              "      <td>Большая</td>\n",
              "    </tr>\n",
              "    <tr>\n",
              "      <th>532</th>\n",
              "      <td>1242.00</td>\n",
              "      <td>155</td>\n",
              "      <td>Большая</td>\n",
              "    </tr>\n",
              "    <tr>\n",
              "      <th>12099</th>\n",
              "      <td>231067.00</td>\n",
              "      <td>97</td>\n",
              "      <td>Большая</td>\n",
              "    </tr>\n",
              "    <tr>\n",
              "      <th>1185</th>\n",
              "      <td>4175.00</td>\n",
              "      <td>82</td>\n",
              "      <td>Большая</td>\n",
              "    </tr>\n",
              "    <tr>\n",
              "      <th>...</th>\n",
              "      <td>...</td>\n",
              "      <td>...</td>\n",
              "      <td>...</td>\n",
              "    </tr>\n",
              "    <tr>\n",
              "      <th>8208</th>\n",
              "      <td>137440.00</td>\n",
              "      <td>1</td>\n",
              "      <td>ИП</td>\n",
              "    </tr>\n",
              "    <tr>\n",
              "      <th>8206</th>\n",
              "      <td>137219.00</td>\n",
              "      <td>1</td>\n",
              "      <td>ИП</td>\n",
              "    </tr>\n",
              "    <tr>\n",
              "      <th>3486</th>\n",
              "      <td>28216.00</td>\n",
              "      <td>1</td>\n",
              "      <td>ИП</td>\n",
              "    </tr>\n",
              "    <tr>\n",
              "      <th>8204</th>\n",
              "      <td>137182.00</td>\n",
              "      <td>1</td>\n",
              "      <td>ИП</td>\n",
              "    </tr>\n",
              "    <tr>\n",
              "      <th>6709</th>\n",
              "      <td>68746.00</td>\n",
              "      <td>1</td>\n",
              "      <td>ИП</td>\n",
              "    </tr>\n",
              "  </tbody>\n",
              "</table>\n",
              "<p>13419 rows × 3 columns</p>\n",
              "</div>"
            ],
            "text/plain": [
              "       company_id  id_employee category\n",
              "36          59.00          300  Большая\n",
              "20          29.00          181  Большая\n",
              "532       1242.00          155  Большая\n",
              "12099   231067.00           97  Большая\n",
              "1185      4175.00           82  Большая\n",
              "...           ...          ...      ...\n",
              "8208    137440.00            1       ИП\n",
              "8206    137219.00            1       ИП\n",
              "3486     28216.00            1       ИП\n",
              "8204    137182.00            1       ИП\n",
              "6709     68746.00            1       ИП\n",
              "\n",
              "[13419 rows x 3 columns]"
            ]
          },
          "metadata": {},
          "output_type": "display_data"
        }
      ],
      "execution_count": 26
    },
    {
      "cell_type": "code",
      "source": "# Вычисляем долю сотрудников, имеющих информацию об образовании в каждой категории компаний\ngroupby_pe['share'] =  people_and_education.groupby('company_id')['int_and_grad'].mean()\ndisplay(groupby_pe)",
      "metadata": {},
      "outputs": [
        {
          "data": {
            "text/html": [
              "<div>\n",
              "<style scoped>\n",
              "    .dataframe tbody tr th:only-of-type {\n",
              "        vertical-align: middle;\n",
              "    }\n",
              "\n",
              "    .dataframe tbody tr th {\n",
              "        vertical-align: top;\n",
              "    }\n",
              "\n",
              "    .dataframe thead th {\n",
              "        text-align: right;\n",
              "    }\n",
              "</style>\n",
              "<table border=\"1\" class=\"dataframe\">\n",
              "  <thead>\n",
              "    <tr style=\"text-align: right;\">\n",
              "      <th></th>\n",
              "      <th>company_id</th>\n",
              "      <th>id_employee</th>\n",
              "      <th>category</th>\n",
              "      <th>share</th>\n",
              "    </tr>\n",
              "  </thead>\n",
              "  <tbody>\n",
              "    <tr>\n",
              "      <th>36</th>\n",
              "      <td>59.00</td>\n",
              "      <td>300</td>\n",
              "      <td>Большая</td>\n",
              "      <td>0.00</td>\n",
              "    </tr>\n",
              "    <tr>\n",
              "      <th>20</th>\n",
              "      <td>29.00</td>\n",
              "      <td>181</td>\n",
              "      <td>Большая</td>\n",
              "      <td>0.54</td>\n",
              "    </tr>\n",
              "    <tr>\n",
              "      <th>532</th>\n",
              "      <td>1242.00</td>\n",
              "      <td>155</td>\n",
              "      <td>Большая</td>\n",
              "      <td>NaN</td>\n",
              "    </tr>\n",
              "    <tr>\n",
              "      <th>12099</th>\n",
              "      <td>231067.00</td>\n",
              "      <td>97</td>\n",
              "      <td>Большая</td>\n",
              "      <td>1.00</td>\n",
              "    </tr>\n",
              "    <tr>\n",
              "      <th>1185</th>\n",
              "      <td>4175.00</td>\n",
              "      <td>82</td>\n",
              "      <td>Большая</td>\n",
              "      <td>NaN</td>\n",
              "    </tr>\n",
              "    <tr>\n",
              "      <th>...</th>\n",
              "      <td>...</td>\n",
              "      <td>...</td>\n",
              "      <td>...</td>\n",
              "      <td>...</td>\n",
              "    </tr>\n",
              "    <tr>\n",
              "      <th>8208</th>\n",
              "      <td>137440.00</td>\n",
              "      <td>1</td>\n",
              "      <td>ИП</td>\n",
              "      <td>NaN</td>\n",
              "    </tr>\n",
              "    <tr>\n",
              "      <th>8206</th>\n",
              "      <td>137219.00</td>\n",
              "      <td>1</td>\n",
              "      <td>ИП</td>\n",
              "      <td>NaN</td>\n",
              "    </tr>\n",
              "    <tr>\n",
              "      <th>3486</th>\n",
              "      <td>28216.00</td>\n",
              "      <td>1</td>\n",
              "      <td>ИП</td>\n",
              "      <td>1.00</td>\n",
              "    </tr>\n",
              "    <tr>\n",
              "      <th>8204</th>\n",
              "      <td>137182.00</td>\n",
              "      <td>1</td>\n",
              "      <td>ИП</td>\n",
              "      <td>NaN</td>\n",
              "    </tr>\n",
              "    <tr>\n",
              "      <th>6709</th>\n",
              "      <td>68746.00</td>\n",
              "      <td>1</td>\n",
              "      <td>ИП</td>\n",
              "      <td>NaN</td>\n",
              "    </tr>\n",
              "  </tbody>\n",
              "</table>\n",
              "<p>13419 rows × 4 columns</p>\n",
              "</div>"
            ],
            "text/plain": [
              "       company_id  id_employee category  share\n",
              "36          59.00          300  Большая   0.00\n",
              "20          29.00          181  Большая   0.54\n",
              "532       1242.00          155  Большая    NaN\n",
              "12099   231067.00           97  Большая   1.00\n",
              "1185      4175.00           82  Большая    NaN\n",
              "...           ...          ...      ...    ...\n",
              "8208    137440.00            1       ИП    NaN\n",
              "8206    137219.00            1       ИП    NaN\n",
              "3486     28216.00            1       ИП   1.00\n",
              "8204    137182.00            1       ИП    NaN\n",
              "6709     68746.00            1       ИП    NaN\n",
              "\n",
              "[13419 rows x 4 columns]"
            ]
          },
          "metadata": {},
          "output_type": "display_data"
        }
      ],
      "execution_count": 27
    },
    {
      "cell_type": "code",
      "source": "# Сортируем значения по доле сотрудников, имеющих информацию об образовании\nsort_groupby_pe = groupby_pe.sort_values(by='share', ascending=False)\ndisplay(sort_groupby_pe)",
      "metadata": {
        "id": "4FC98Pd-FcmG",
        "scrolled": true
      },
      "outputs": [
        {
          "data": {
            "text/html": [
              "<div>\n",
              "<style scoped>\n",
              "    .dataframe tbody tr th:only-of-type {\n",
              "        vertical-align: middle;\n",
              "    }\n",
              "\n",
              "    .dataframe tbody tr th {\n",
              "        vertical-align: top;\n",
              "    }\n",
              "\n",
              "    .dataframe thead th {\n",
              "        text-align: right;\n",
              "    }\n",
              "</style>\n",
              "<table border=\"1\" class=\"dataframe\">\n",
              "  <thead>\n",
              "    <tr style=\"text-align: right;\">\n",
              "      <th></th>\n",
              "      <th>company_id</th>\n",
              "      <th>id_employee</th>\n",
              "      <th>category</th>\n",
              "      <th>share</th>\n",
              "    </tr>\n",
              "  </thead>\n",
              "  <tbody>\n",
              "    <tr>\n",
              "      <th>3486</th>\n",
              "      <td>28216.00</td>\n",
              "      <td>1</td>\n",
              "      <td>ИП</td>\n",
              "      <td>1.00</td>\n",
              "    </tr>\n",
              "    <tr>\n",
              "      <th>3133</th>\n",
              "      <td>23283.00</td>\n",
              "      <td>3</td>\n",
              "      <td>Маленькая</td>\n",
              "      <td>1.00</td>\n",
              "    </tr>\n",
              "    <tr>\n",
              "      <th>12806</th>\n",
              "      <td>262587.00</td>\n",
              "      <td>1</td>\n",
              "      <td>ИП</td>\n",
              "      <td>1.00</td>\n",
              "    </tr>\n",
              "    <tr>\n",
              "      <th>557</th>\n",
              "      <td>1319.00</td>\n",
              "      <td>1</td>\n",
              "      <td>ИП</td>\n",
              "      <td>1.00</td>\n",
              "    </tr>\n",
              "    <tr>\n",
              "      <th>8900</th>\n",
              "      <td>151922.00</td>\n",
              "      <td>3</td>\n",
              "      <td>Маленькая</td>\n",
              "      <td>1.00</td>\n",
              "    </tr>\n",
              "    <tr>\n",
              "      <th>...</th>\n",
              "      <td>...</td>\n",
              "      <td>...</td>\n",
              "      <td>...</td>\n",
              "      <td>...</td>\n",
              "    </tr>\n",
              "    <tr>\n",
              "      <th>8209</th>\n",
              "      <td>137445.00</td>\n",
              "      <td>1</td>\n",
              "      <td>ИП</td>\n",
              "      <td>NaN</td>\n",
              "    </tr>\n",
              "    <tr>\n",
              "      <th>8208</th>\n",
              "      <td>137440.00</td>\n",
              "      <td>1</td>\n",
              "      <td>ИП</td>\n",
              "      <td>NaN</td>\n",
              "    </tr>\n",
              "    <tr>\n",
              "      <th>8206</th>\n",
              "      <td>137219.00</td>\n",
              "      <td>1</td>\n",
              "      <td>ИП</td>\n",
              "      <td>NaN</td>\n",
              "    </tr>\n",
              "    <tr>\n",
              "      <th>8204</th>\n",
              "      <td>137182.00</td>\n",
              "      <td>1</td>\n",
              "      <td>ИП</td>\n",
              "      <td>NaN</td>\n",
              "    </tr>\n",
              "    <tr>\n",
              "      <th>6709</th>\n",
              "      <td>68746.00</td>\n",
              "      <td>1</td>\n",
              "      <td>ИП</td>\n",
              "      <td>NaN</td>\n",
              "    </tr>\n",
              "  </tbody>\n",
              "</table>\n",
              "<p>13419 rows × 4 columns</p>\n",
              "</div>"
            ],
            "text/plain": [
              "       company_id  id_employee   category  share\n",
              "3486     28216.00            1         ИП   1.00\n",
              "3133     23283.00            3  Маленькая   1.00\n",
              "12806   262587.00            1         ИП   1.00\n",
              "557       1319.00            1         ИП   1.00\n",
              "8900    151922.00            3  Маленькая   1.00\n",
              "...           ...          ...        ...    ...\n",
              "8209    137445.00            1         ИП    NaN\n",
              "8208    137440.00            1         ИП    NaN\n",
              "8206    137219.00            1         ИП    NaN\n",
              "8204    137182.00            1         ИП    NaN\n",
              "6709     68746.00            1         ИП    NaN\n",
              "\n",
              "[13419 rows x 4 columns]"
            ]
          },
          "metadata": {},
          "output_type": "display_data"
        }
      ],
      "execution_count": 28
    },
    {
      "cell_type": "markdown",
      "source": "Таблица degrees может быть использована для выполнения задачи, но можно обойтись и без нее, тем более стоит учесть, что в ней содержатся пропуски в нужных нам столбцах",
      "metadata": {}
    },
    {
      "cell_type": "markdown",
      "source": "### 2.3. Объединять или не объединять — вот в чём вопрос\n\nНекоторые названия столбцов встречаются в датасетах чаще других. В результате предварительной проверки датасетов было выяснено, что столбец `company_id` подходит для объединения данных.\n\n- Установите, подходит ли для объединения данных столбец `network_username`, который встречается в нескольких датасетах. Нам необходимо понимать, дублируется ли для разных датасетов информация в столбцах с таким названием, и если да — то насколько часто.\n- Оцените, можно ли использовать столбцы с именем `network_username` для объединения данных.",
      "metadata": {
        "id": "Lz7qjM32xglW"
      }
    },
    {
      "cell_type": "code",
      "source": "# Найдем количество строк в датафрейме company_and_rounds\nprint(len(company_and_rounds))",
      "metadata": {
        "scrolled": true
      },
      "outputs": [
        {
          "name": "stdout",
          "output_type": "stream",
          "text": "217774\n"
        }
      ],
      "execution_count": 29
    },
    {
      "cell_type": "code",
      "source": "# Найдем количество строк в датафрейме people\nprint(len(people))",
      "metadata": {},
      "outputs": [
        {
          "name": "stdout",
          "output_type": "stream",
          "text": "226709\n"
        }
      ],
      "execution_count": 30
    },
    {
      "cell_type": "code",
      "source": "# Найдем количество совпадающих строк в столбцах network_username в датафреймах company_and_rounds и people\nlen(set(company_and_rounds['network_username']).intersection(set(people['network_username'])))",
      "metadata": {
        "id": "zyI3rt0rxg1O"
      },
      "outputs": [
        {
          "data": {
            "text/plain": [
              "2200"
            ]
          },
          "execution_count": 31,
          "metadata": {},
          "output_type": "execute_result"
        }
      ],
      "execution_count": 31
    },
    {
      "cell_type": "markdown",
      "source": "В датафрейме company_and_rounds всего 217.774 строки, в датафрейме people - 226.709. Благодаря методу intersection() удалось установить количество совпадающих в обоих датафреймах строк, их количество составило 2200. Таким образом, столбцы network_username лучше не использовать для объединения данных",
      "metadata": {
        "id": "_7gjdrGOFcB2"
      }
    },
    {
      "cell_type": "markdown",
      "source": "\n### 2.4. Проблемный датасет и причина возникновения пропусков\n\nВо время собственного анализа данных у заказчика больше всего вопросов возникло к датасету `company_and_rounds.csv`. В нём много пропусков как раз в информации о раундах, которая заказчику важна.\n\n- Любым удобным способом приведите данные в вид, который позволит в дальнейшем проводить анализ в разрезе отдельных компаний. Обратите внимание на структуру датасета, порядок и названия столбцов, проанализируйте значения.\n\nПо гипотезе заказчика данные по компаниям из этой таблицы раньше хранились иначе, более удобным для исследования образом.\n\n- Максимальным образом сохраняя данные, сохранив их связность и исключив возможные возникающие при этом ошибки, подготовьте данные так, чтобы удобно было отобрать компании по параметрам и рассчитать показатели из расчёта на одну компанию без промежуточных агрегаций.",
      "metadata": {
        "id": "EHcODomVrJg1"
      }
    },
    {
      "cell_type": "markdown",
      "source": "Можно заметить, что в датафрейме содержится два столбца, содержащих информацию об id компании (company_ID и company_id). В целом, в датафрейме представлена информация о компаниях и о раундах, и в одной части присутствует больше информации о данных про компанию, а в другой - про раунды. Есть вероятность, что это были две отдельные таблицы, которые \"склеили\", поэтому разделим их",
      "metadata": {}
    },
    {
      "cell_type": "code",
      "source": "# Создаем отдельный датафрйем company с информацией о компаниях\ncompany = company_and_rounds[['company_id_cr', 'name', 'category_code', 'status', \n                             'founded_at', 'closed_at', 'domain', \n                             'network_username', 'country_code', \n                             'investment_rounds', 'funding_rounds', \n                            'funding_total', 'milestones']]\ndisplay(company.head())\n",
      "metadata": {},
      "outputs": [
        {
          "data": {
            "text/html": [
              "<div>\n",
              "<style scoped>\n",
              "    .dataframe tbody tr th:only-of-type {\n",
              "        vertical-align: middle;\n",
              "    }\n",
              "\n",
              "    .dataframe tbody tr th {\n",
              "        vertical-align: top;\n",
              "    }\n",
              "\n",
              "    .dataframe thead th {\n",
              "        text-align: right;\n",
              "    }\n",
              "</style>\n",
              "<table border=\"1\" class=\"dataframe\">\n",
              "  <thead>\n",
              "    <tr style=\"text-align: right;\">\n",
              "      <th></th>\n",
              "      <th>company_id_cr</th>\n",
              "      <th>name</th>\n",
              "      <th>category_code</th>\n",
              "      <th>status</th>\n",
              "      <th>founded_at</th>\n",
              "      <th>closed_at</th>\n",
              "      <th>domain</th>\n",
              "      <th>network_username</th>\n",
              "      <th>country_code</th>\n",
              "      <th>investment_rounds</th>\n",
              "      <th>funding_rounds</th>\n",
              "      <th>funding_total</th>\n",
              "      <th>milestones</th>\n",
              "    </tr>\n",
              "  </thead>\n",
              "  <tbody>\n",
              "    <tr>\n",
              "      <th>0</th>\n",
              "      <td>1.00</td>\n",
              "      <td>Wetpaint</td>\n",
              "      <td>web</td>\n",
              "      <td>operating</td>\n",
              "      <td>2005-10-17</td>\n",
              "      <td>NaN</td>\n",
              "      <td>wetpaint-inc.com</td>\n",
              "      <td>BachelrWetpaint</td>\n",
              "      <td>USA</td>\n",
              "      <td>0.00</td>\n",
              "      <td>3.00</td>\n",
              "      <td>39750000.00</td>\n",
              "      <td>5.00</td>\n",
              "    </tr>\n",
              "    <tr>\n",
              "      <th>1</th>\n",
              "      <td>1.00</td>\n",
              "      <td>Wetpaint</td>\n",
              "      <td>web</td>\n",
              "      <td>operating</td>\n",
              "      <td>2005-10-17</td>\n",
              "      <td>NaN</td>\n",
              "      <td>wetpaint-inc.com</td>\n",
              "      <td>BachelrWetpaint</td>\n",
              "      <td>USA</td>\n",
              "      <td>0.00</td>\n",
              "      <td>3.00</td>\n",
              "      <td>39750000.00</td>\n",
              "      <td>5.00</td>\n",
              "    </tr>\n",
              "    <tr>\n",
              "      <th>2</th>\n",
              "      <td>1.00</td>\n",
              "      <td>Wetpaint</td>\n",
              "      <td>web</td>\n",
              "      <td>operating</td>\n",
              "      <td>2005-10-17</td>\n",
              "      <td>NaN</td>\n",
              "      <td>wetpaint-inc.com</td>\n",
              "      <td>BachelrWetpaint</td>\n",
              "      <td>USA</td>\n",
              "      <td>0.00</td>\n",
              "      <td>3.00</td>\n",
              "      <td>39750000.00</td>\n",
              "      <td>5.00</td>\n",
              "    </tr>\n",
              "    <tr>\n",
              "      <th>3</th>\n",
              "      <td>10.00</td>\n",
              "      <td>Flektor</td>\n",
              "      <td>games_video</td>\n",
              "      <td>acquired</td>\n",
              "      <td>NaT</td>\n",
              "      <td>NaN</td>\n",
              "      <td>flektor.com</td>\n",
              "      <td>NaN</td>\n",
              "      <td>USA</td>\n",
              "      <td>0.00</td>\n",
              "      <td>0.00</td>\n",
              "      <td>0.00</td>\n",
              "      <td>0.00</td>\n",
              "    </tr>\n",
              "    <tr>\n",
              "      <th>4</th>\n",
              "      <td>100.00</td>\n",
              "      <td>There</td>\n",
              "      <td>games_video</td>\n",
              "      <td>acquired</td>\n",
              "      <td>NaT</td>\n",
              "      <td>NaN</td>\n",
              "      <td>there.com</td>\n",
              "      <td>NaN</td>\n",
              "      <td>USA</td>\n",
              "      <td>0.00</td>\n",
              "      <td>0.00</td>\n",
              "      <td>0.00</td>\n",
              "      <td>4.00</td>\n",
              "    </tr>\n",
              "  </tbody>\n",
              "</table>\n",
              "</div>"
            ],
            "text/plain": [
              "   company_id_cr      name category_code     status founded_at closed_at  \\\n",
              "0           1.00  Wetpaint           web  operating 2005-10-17       NaN   \n",
              "1           1.00  Wetpaint           web  operating 2005-10-17       NaN   \n",
              "2           1.00  Wetpaint           web  operating 2005-10-17       NaN   \n",
              "3          10.00   Flektor   games_video   acquired        NaT       NaN   \n",
              "4         100.00     There   games_video   acquired        NaT       NaN   \n",
              "\n",
              "             domain network_username country_code  investment_rounds  \\\n",
              "0  wetpaint-inc.com  BachelrWetpaint          USA               0.00   \n",
              "1  wetpaint-inc.com  BachelrWetpaint          USA               0.00   \n",
              "2  wetpaint-inc.com  BachelrWetpaint          USA               0.00   \n",
              "3       flektor.com              NaN          USA               0.00   \n",
              "4         there.com              NaN          USA               0.00   \n",
              "\n",
              "   funding_rounds  funding_total  milestones  \n",
              "0            3.00    39750000.00        5.00  \n",
              "1            3.00    39750000.00        5.00  \n",
              "2            3.00    39750000.00        5.00  \n",
              "3            0.00           0.00        0.00  \n",
              "4            0.00           0.00        4.00  "
            ]
          },
          "metadata": {},
          "output_type": "display_data"
        }
      ],
      "execution_count": 32
    },
    {
      "cell_type": "code",
      "source": "# Создаем отдельный датафрйем rounds с информацией о раундах финансирования\nrounds = company_and_rounds[['company_id_cr', 'raised_amount', 'funding_round_id', \n                            'funded_at', 'funding_round_type', 'pre_money_valuation', \n                            'participants', 'is_first_round', \n                            'is_last_round', 'year']]\ndisplay(rounds.head())",
      "metadata": {},
      "outputs": [
        {
          "data": {
            "text/html": [
              "<div>\n",
              "<style scoped>\n",
              "    .dataframe tbody tr th:only-of-type {\n",
              "        vertical-align: middle;\n",
              "    }\n",
              "\n",
              "    .dataframe tbody tr th {\n",
              "        vertical-align: top;\n",
              "    }\n",
              "\n",
              "    .dataframe thead th {\n",
              "        text-align: right;\n",
              "    }\n",
              "</style>\n",
              "<table border=\"1\" class=\"dataframe\">\n",
              "  <thead>\n",
              "    <tr style=\"text-align: right;\">\n",
              "      <th></th>\n",
              "      <th>company_id_cr</th>\n",
              "      <th>raised_amount</th>\n",
              "      <th>funding_round_id</th>\n",
              "      <th>funded_at</th>\n",
              "      <th>funding_round_type</th>\n",
              "      <th>pre_money_valuation</th>\n",
              "      <th>participants</th>\n",
              "      <th>is_first_round</th>\n",
              "      <th>is_last_round</th>\n",
              "      <th>year</th>\n",
              "    </tr>\n",
              "  </thead>\n",
              "  <tbody>\n",
              "    <tr>\n",
              "      <th>0</th>\n",
              "      <td>1.00</td>\n",
              "      <td>5250000.00</td>\n",
              "      <td>888.00</td>\n",
              "      <td>2005-10-01</td>\n",
              "      <td>series-a</td>\n",
              "      <td>0.00</td>\n",
              "      <td>2.00</td>\n",
              "      <td>0.00</td>\n",
              "      <td>1.00</td>\n",
              "      <td>2005.00</td>\n",
              "    </tr>\n",
              "    <tr>\n",
              "      <th>1</th>\n",
              "      <td>1.00</td>\n",
              "      <td>9500000.00</td>\n",
              "      <td>889.00</td>\n",
              "      <td>2007-01-01</td>\n",
              "      <td>series-b</td>\n",
              "      <td>0.00</td>\n",
              "      <td>3.00</td>\n",
              "      <td>0.00</td>\n",
              "      <td>0.00</td>\n",
              "      <td>2007.00</td>\n",
              "    </tr>\n",
              "    <tr>\n",
              "      <th>2</th>\n",
              "      <td>1.00</td>\n",
              "      <td>25000000.00</td>\n",
              "      <td>2312.00</td>\n",
              "      <td>2008-05-19</td>\n",
              "      <td>series-c+</td>\n",
              "      <td>0.00</td>\n",
              "      <td>4.00</td>\n",
              "      <td>1.00</td>\n",
              "      <td>0.00</td>\n",
              "      <td>2008.00</td>\n",
              "    </tr>\n",
              "    <tr>\n",
              "      <th>3</th>\n",
              "      <td>10.00</td>\n",
              "      <td>NaN</td>\n",
              "      <td>NaN</td>\n",
              "      <td>NaT</td>\n",
              "      <td>NaN</td>\n",
              "      <td>NaN</td>\n",
              "      <td>NaN</td>\n",
              "      <td>NaN</td>\n",
              "      <td>NaN</td>\n",
              "      <td>NaN</td>\n",
              "    </tr>\n",
              "    <tr>\n",
              "      <th>4</th>\n",
              "      <td>100.00</td>\n",
              "      <td>NaN</td>\n",
              "      <td>NaN</td>\n",
              "      <td>NaT</td>\n",
              "      <td>NaN</td>\n",
              "      <td>NaN</td>\n",
              "      <td>NaN</td>\n",
              "      <td>NaN</td>\n",
              "      <td>NaN</td>\n",
              "      <td>NaN</td>\n",
              "    </tr>\n",
              "  </tbody>\n",
              "</table>\n",
              "</div>"
            ],
            "text/plain": [
              "   company_id_cr  raised_amount  funding_round_id  funded_at  \\\n",
              "0           1.00     5250000.00            888.00 2005-10-01   \n",
              "1           1.00     9500000.00            889.00 2007-01-01   \n",
              "2           1.00    25000000.00           2312.00 2008-05-19   \n",
              "3          10.00            NaN               NaN        NaT   \n",
              "4         100.00            NaN               NaN        NaT   \n",
              "\n",
              "  funding_round_type  pre_money_valuation  participants  is_first_round  \\\n",
              "0           series-a                 0.00          2.00            0.00   \n",
              "1           series-b                 0.00          3.00            0.00   \n",
              "2          series-c+                 0.00          4.00            1.00   \n",
              "3                NaN                  NaN           NaN             NaN   \n",
              "4                NaN                  NaN           NaN             NaN   \n",
              "\n",
              "   is_last_round    year  \n",
              "0           1.00 2005.00  \n",
              "1           0.00 2007.00  \n",
              "2           0.00 2008.00  \n",
              "3            NaN     NaN  \n",
              "4            NaN     NaN  "
            ]
          },
          "metadata": {},
          "output_type": "display_data"
        }
      ],
      "execution_count": 33
    },
    {
      "cell_type": "code",
      "source": "# Удаляем дубликаты в датафрейме company\ncompany=company_and_rounds.drop_duplicates(subset=['company_id_cr', 'name', 'category_code', 'status', \n                             'founded_at', 'closed_at', 'domain', \n                             'network_username', 'country_code', 'investment_rounds', 'funding_rounds', \n                            'funding_total', 'milestones'], keep='first')",
      "metadata": {},
      "outputs": [],
      "execution_count": 34
    },
    {
      "cell_type": "code",
      "source": "# Выводим информацию о пропусках в датафрейме rounds\ndisplay(rounds[rounds['funding_round_type'].isna()].head()) ",
      "metadata": {
        "scrolled": true
      },
      "outputs": [
        {
          "data": {
            "text/html": [
              "<div>\n",
              "<style scoped>\n",
              "    .dataframe tbody tr th:only-of-type {\n",
              "        vertical-align: middle;\n",
              "    }\n",
              "\n",
              "    .dataframe tbody tr th {\n",
              "        vertical-align: top;\n",
              "    }\n",
              "\n",
              "    .dataframe thead th {\n",
              "        text-align: right;\n",
              "    }\n",
              "</style>\n",
              "<table border=\"1\" class=\"dataframe\">\n",
              "  <thead>\n",
              "    <tr style=\"text-align: right;\">\n",
              "      <th></th>\n",
              "      <th>company_id_cr</th>\n",
              "      <th>raised_amount</th>\n",
              "      <th>funding_round_id</th>\n",
              "      <th>funded_at</th>\n",
              "      <th>funding_round_type</th>\n",
              "      <th>pre_money_valuation</th>\n",
              "      <th>participants</th>\n",
              "      <th>is_first_round</th>\n",
              "      <th>is_last_round</th>\n",
              "      <th>year</th>\n",
              "    </tr>\n",
              "  </thead>\n",
              "  <tbody>\n",
              "    <tr>\n",
              "      <th>3</th>\n",
              "      <td>10.00</td>\n",
              "      <td>NaN</td>\n",
              "      <td>NaN</td>\n",
              "      <td>NaT</td>\n",
              "      <td>NaN</td>\n",
              "      <td>NaN</td>\n",
              "      <td>NaN</td>\n",
              "      <td>NaN</td>\n",
              "      <td>NaN</td>\n",
              "      <td>NaN</td>\n",
              "    </tr>\n",
              "    <tr>\n",
              "      <th>4</th>\n",
              "      <td>100.00</td>\n",
              "      <td>NaN</td>\n",
              "      <td>NaN</td>\n",
              "      <td>NaT</td>\n",
              "      <td>NaN</td>\n",
              "      <td>NaN</td>\n",
              "      <td>NaN</td>\n",
              "      <td>NaN</td>\n",
              "      <td>NaN</td>\n",
              "      <td>NaN</td>\n",
              "    </tr>\n",
              "    <tr>\n",
              "      <th>5</th>\n",
              "      <td>10000.00</td>\n",
              "      <td>NaN</td>\n",
              "      <td>NaN</td>\n",
              "      <td>NaT</td>\n",
              "      <td>NaN</td>\n",
              "      <td>NaN</td>\n",
              "      <td>NaN</td>\n",
              "      <td>NaN</td>\n",
              "      <td>NaN</td>\n",
              "      <td>NaN</td>\n",
              "    </tr>\n",
              "    <tr>\n",
              "      <th>6</th>\n",
              "      <td>10001.00</td>\n",
              "      <td>NaN</td>\n",
              "      <td>NaN</td>\n",
              "      <td>NaT</td>\n",
              "      <td>NaN</td>\n",
              "      <td>NaN</td>\n",
              "      <td>NaN</td>\n",
              "      <td>NaN</td>\n",
              "      <td>NaN</td>\n",
              "      <td>NaN</td>\n",
              "    </tr>\n",
              "    <tr>\n",
              "      <th>7</th>\n",
              "      <td>10002.00</td>\n",
              "      <td>NaN</td>\n",
              "      <td>NaN</td>\n",
              "      <td>NaT</td>\n",
              "      <td>NaN</td>\n",
              "      <td>NaN</td>\n",
              "      <td>NaN</td>\n",
              "      <td>NaN</td>\n",
              "      <td>NaN</td>\n",
              "      <td>NaN</td>\n",
              "    </tr>\n",
              "  </tbody>\n",
              "</table>\n",
              "</div>"
            ],
            "text/plain": [
              "   company_id_cr  raised_amount  funding_round_id funded_at  \\\n",
              "3          10.00            NaN               NaN       NaT   \n",
              "4         100.00            NaN               NaN       NaT   \n",
              "5       10000.00            NaN               NaN       NaT   \n",
              "6       10001.00            NaN               NaN       NaT   \n",
              "7       10002.00            NaN               NaN       NaT   \n",
              "\n",
              "  funding_round_type  pre_money_valuation  participants  is_first_round  \\\n",
              "3                NaN                  NaN           NaN             NaN   \n",
              "4                NaN                  NaN           NaN             NaN   \n",
              "5                NaN                  NaN           NaN             NaN   \n",
              "6                NaN                  NaN           NaN             NaN   \n",
              "7                NaN                  NaN           NaN             NaN   \n",
              "\n",
              "   is_last_round  year  \n",
              "3            NaN   NaN  \n",
              "4            NaN   NaN  \n",
              "5            NaN   NaN  \n",
              "6            NaN   NaN  \n",
              "7            NaN   NaN  "
            ]
          },
          "metadata": {},
          "output_type": "display_data"
        }
      ],
      "execution_count": 35
    },
    {
      "cell_type": "code",
      "source": "# Удаляем пропуски в столбце funding_round_type\nrounds=rounds.dropna(subset=['funding_round_type'])",
      "metadata": {},
      "outputs": [],
      "execution_count": 36
    },
    {
      "cell_type": "raw",
      "source": "#КОД РЕВЬЮЕРА\n#Делаем отдельную таблицу по компаниям\ndf_company = df_company_and_rounds[['company_id_found', 'name', 'category_code', 'status', \n                             'founded_at', 'closed_at', 'domain', \n                             'network_username', 'country_code', \n                             'investment_rounds', 'funding_rounds', \n                            'funding_total', 'milestones']]\n#Убираем дубли записей\ndf_company=df_company_and_rounds.drop_duplicates(subset=['company_id_found', 'name', 'category_code', 'status', \n                             'founded_at', 'closed_at', 'domain', \n                             'network_username', 'country_code', 'investment_rounds', 'funding_rounds', \n                            'funding_total', 'milestones'], keep='first')\n#Делаем отдельную таблицу по раундам инвестирования\ndf_rounds = df_company_and_rounds[['company_id_found', 'raised_amount', 'funding_round_id', \n                            'funded_at', 'funding_round_type', 'pre_money_valuation', \n                            'participants', 'is_first_round', \n                            'is_last_round', 'funded_year']]\n#смоторим пропуски\ndisplay(df_rounds[df_rounds['funding_round_type'].isna()].head()) \n\n#убираем пропуски по колонке\ndf_rounds=df_rounds.dropna(subset=['funding_round_type'])\n",
      "metadata": {}
    },
    {
      "cell_type": "markdown",
      "source": "\n## Шаг 3. Исследовательский анализ объединённых таблиц\n\n",
      "metadata": {
        "id": "bmVYhphNrJg2"
      }
    },
    {
      "cell_type": "markdown",
      "source": "\n### 3.1. Объединение данных\n\nОбъедините данные для ответа на вопросы заказчика, которые касаются интересующих его компаний. Заказчика прежде всего интересуют те компании, которые меняли или готовы менять владельцев. Получение инвестиций или финансирования, по мнению заказчика, означает интерес к покупке или продаже компании.\n\nВ качестве основы для объединённой таблицы возьмите данные из обработанного датасета `company_and_rounds.csv` — выберите только те компании, у которых указаны значения `funding_rounds` или `investment_rounds` больше нуля, или те, у которых в колонке `status` указано `acquired`. В результирующей таблице должно получиться порядка 40 тысяч компаний.\n\nПроверьте полноту и корректность получившейся таблицы. Далее работайте только с этими данными.",
      "metadata": {
        "id": "3Di6tCT3rJg2"
      }
    },
    {
      "cell_type": "code",
      "source": "# Фильруем датафрейм company_and_rounds по указанным условиям\ncompany_and_rounds_new = company_and_rounds[(company_and_rounds['funding_rounds']>0) \n                                        | (company_and_rounds['investment_rounds']>0) \n                                        | (company_and_rounds['status'] == 'acquired')]\ncount_unique = company_and_rounds_new['name'].nunique()\nprint(f'Количество компаний: {count_unique}')",
      "metadata": {
        "id": "kuV1b5MXFg3_"
      },
      "outputs": [
        {
          "name": "stdout",
          "output_type": "stream",
          "text": "Количество компаний: 40747\n"
        }
      ],
      "execution_count": 37
    },
    {
      "cell_type": "code",
      "source": "# Выводим первые строки\ndisplay(company_and_rounds_new.head(10))",
      "metadata": {
        "id": "93v3fEX5FgtP",
        "scrolled": true
      },
      "outputs": [
        {
          "data": {
            "text/html": [
              "<div>\n",
              "<style scoped>\n",
              "    .dataframe tbody tr th:only-of-type {\n",
              "        vertical-align: middle;\n",
              "    }\n",
              "\n",
              "    .dataframe tbody tr th {\n",
              "        vertical-align: top;\n",
              "    }\n",
              "\n",
              "    .dataframe thead th {\n",
              "        text-align: right;\n",
              "    }\n",
              "</style>\n",
              "<table border=\"1\" class=\"dataframe\">\n",
              "  <thead>\n",
              "    <tr style=\"text-align: right;\">\n",
              "      <th></th>\n",
              "      <th>company_id_cr</th>\n",
              "      <th>name</th>\n",
              "      <th>category_code</th>\n",
              "      <th>status</th>\n",
              "      <th>founded_at</th>\n",
              "      <th>closed_at</th>\n",
              "      <th>domain</th>\n",
              "      <th>network_username</th>\n",
              "      <th>country_code</th>\n",
              "      <th>investment_rounds</th>\n",
              "      <th>...</th>\n",
              "      <th>funding_round_id</th>\n",
              "      <th>company_id</th>\n",
              "      <th>funded_at</th>\n",
              "      <th>funding_round_type</th>\n",
              "      <th>raised_amount</th>\n",
              "      <th>pre_money_valuation</th>\n",
              "      <th>participants</th>\n",
              "      <th>is_first_round</th>\n",
              "      <th>is_last_round</th>\n",
              "      <th>year</th>\n",
              "    </tr>\n",
              "  </thead>\n",
              "  <tbody>\n",
              "    <tr>\n",
              "      <th>0</th>\n",
              "      <td>1.00</td>\n",
              "      <td>Wetpaint</td>\n",
              "      <td>web</td>\n",
              "      <td>operating</td>\n",
              "      <td>2005-10-17</td>\n",
              "      <td>NaN</td>\n",
              "      <td>wetpaint-inc.com</td>\n",
              "      <td>BachelrWetpaint</td>\n",
              "      <td>USA</td>\n",
              "      <td>0.00</td>\n",
              "      <td>...</td>\n",
              "      <td>888.00</td>\n",
              "      <td>1.00</td>\n",
              "      <td>2005-10-01</td>\n",
              "      <td>series-a</td>\n",
              "      <td>5250000.00</td>\n",
              "      <td>0.00</td>\n",
              "      <td>2.00</td>\n",
              "      <td>0.00</td>\n",
              "      <td>1.00</td>\n",
              "      <td>2005.00</td>\n",
              "    </tr>\n",
              "    <tr>\n",
              "      <th>1</th>\n",
              "      <td>1.00</td>\n",
              "      <td>Wetpaint</td>\n",
              "      <td>web</td>\n",
              "      <td>operating</td>\n",
              "      <td>2005-10-17</td>\n",
              "      <td>NaN</td>\n",
              "      <td>wetpaint-inc.com</td>\n",
              "      <td>BachelrWetpaint</td>\n",
              "      <td>USA</td>\n",
              "      <td>0.00</td>\n",
              "      <td>...</td>\n",
              "      <td>889.00</td>\n",
              "      <td>1.00</td>\n",
              "      <td>2007-01-01</td>\n",
              "      <td>series-b</td>\n",
              "      <td>9500000.00</td>\n",
              "      <td>0.00</td>\n",
              "      <td>3.00</td>\n",
              "      <td>0.00</td>\n",
              "      <td>0.00</td>\n",
              "      <td>2007.00</td>\n",
              "    </tr>\n",
              "    <tr>\n",
              "      <th>2</th>\n",
              "      <td>1.00</td>\n",
              "      <td>Wetpaint</td>\n",
              "      <td>web</td>\n",
              "      <td>operating</td>\n",
              "      <td>2005-10-17</td>\n",
              "      <td>NaN</td>\n",
              "      <td>wetpaint-inc.com</td>\n",
              "      <td>BachelrWetpaint</td>\n",
              "      <td>USA</td>\n",
              "      <td>0.00</td>\n",
              "      <td>...</td>\n",
              "      <td>2312.00</td>\n",
              "      <td>1.00</td>\n",
              "      <td>2008-05-19</td>\n",
              "      <td>series-c+</td>\n",
              "      <td>25000000.00</td>\n",
              "      <td>0.00</td>\n",
              "      <td>4.00</td>\n",
              "      <td>1.00</td>\n",
              "      <td>0.00</td>\n",
              "      <td>2008.00</td>\n",
              "    </tr>\n",
              "    <tr>\n",
              "      <th>3</th>\n",
              "      <td>10.00</td>\n",
              "      <td>Flektor</td>\n",
              "      <td>games_video</td>\n",
              "      <td>acquired</td>\n",
              "      <td>NaT</td>\n",
              "      <td>NaN</td>\n",
              "      <td>flektor.com</td>\n",
              "      <td>NaN</td>\n",
              "      <td>USA</td>\n",
              "      <td>0.00</td>\n",
              "      <td>...</td>\n",
              "      <td>NaN</td>\n",
              "      <td>NaN</td>\n",
              "      <td>NaT</td>\n",
              "      <td>NaN</td>\n",
              "      <td>NaN</td>\n",
              "      <td>NaN</td>\n",
              "      <td>NaN</td>\n",
              "      <td>NaN</td>\n",
              "      <td>NaN</td>\n",
              "      <td>NaN</td>\n",
              "    </tr>\n",
              "    <tr>\n",
              "      <th>4</th>\n",
              "      <td>100.00</td>\n",
              "      <td>There</td>\n",
              "      <td>games_video</td>\n",
              "      <td>acquired</td>\n",
              "      <td>NaT</td>\n",
              "      <td>NaN</td>\n",
              "      <td>there.com</td>\n",
              "      <td>NaN</td>\n",
              "      <td>USA</td>\n",
              "      <td>0.00</td>\n",
              "      <td>...</td>\n",
              "      <td>NaN</td>\n",
              "      <td>NaN</td>\n",
              "      <td>NaT</td>\n",
              "      <td>NaN</td>\n",
              "      <td>NaN</td>\n",
              "      <td>NaN</td>\n",
              "      <td>NaN</td>\n",
              "      <td>NaN</td>\n",
              "      <td>NaN</td>\n",
              "      <td>NaN</td>\n",
              "    </tr>\n",
              "    <tr>\n",
              "      <th>15</th>\n",
              "      <td>1001.00</td>\n",
              "      <td>FriendFeed</td>\n",
              "      <td>web</td>\n",
              "      <td>acquired</td>\n",
              "      <td>2007-10-01</td>\n",
              "      <td>NaN</td>\n",
              "      <td>friendfeed.com</td>\n",
              "      <td>friendfeed</td>\n",
              "      <td>USA</td>\n",
              "      <td>0.00</td>\n",
              "      <td>...</td>\n",
              "      <td>1644.00</td>\n",
              "      <td>1001.00</td>\n",
              "      <td>2008-02-26</td>\n",
              "      <td>series-a</td>\n",
              "      <td>5000000.00</td>\n",
              "      <td>0.00</td>\n",
              "      <td>3.00</td>\n",
              "      <td>1.00</td>\n",
              "      <td>1.00</td>\n",
              "      <td>2008.00</td>\n",
              "    </tr>\n",
              "    <tr>\n",
              "      <th>20</th>\n",
              "      <td>10014.00</td>\n",
              "      <td>Mobclix</td>\n",
              "      <td>mobile</td>\n",
              "      <td>acquired</td>\n",
              "      <td>2008-03-01</td>\n",
              "      <td>NaN</td>\n",
              "      <td>mobclix.com</td>\n",
              "      <td>mobclix</td>\n",
              "      <td>USA</td>\n",
              "      <td>0.00</td>\n",
              "      <td>...</td>\n",
              "      <td>6682.00</td>\n",
              "      <td>10014.00</td>\n",
              "      <td>2008-09-01</td>\n",
              "      <td>angel</td>\n",
              "      <td>0.00</td>\n",
              "      <td>0.00</td>\n",
              "      <td>1.00</td>\n",
              "      <td>1.00</td>\n",
              "      <td>1.00</td>\n",
              "      <td>2008.00</td>\n",
              "    </tr>\n",
              "    <tr>\n",
              "      <th>21</th>\n",
              "      <td>10015.00</td>\n",
              "      <td>Fitbit</td>\n",
              "      <td>health</td>\n",
              "      <td>operating</td>\n",
              "      <td>2007-10-01</td>\n",
              "      <td>NaN</td>\n",
              "      <td>fitbit.com</td>\n",
              "      <td>fitbit</td>\n",
              "      <td>USA</td>\n",
              "      <td>0.00</td>\n",
              "      <td>...</td>\n",
              "      <td>3619.00</td>\n",
              "      <td>10015.00</td>\n",
              "      <td>2008-10-10</td>\n",
              "      <td>series-a</td>\n",
              "      <td>2000000.00</td>\n",
              "      <td>0.00</td>\n",
              "      <td>2.00</td>\n",
              "      <td>0.00</td>\n",
              "      <td>1.00</td>\n",
              "      <td>2008.00</td>\n",
              "    </tr>\n",
              "    <tr>\n",
              "      <th>22</th>\n",
              "      <td>10015.00</td>\n",
              "      <td>Fitbit</td>\n",
              "      <td>health</td>\n",
              "      <td>operating</td>\n",
              "      <td>2007-10-01</td>\n",
              "      <td>NaN</td>\n",
              "      <td>fitbit.com</td>\n",
              "      <td>fitbit</td>\n",
              "      <td>USA</td>\n",
              "      <td>0.00</td>\n",
              "      <td>...</td>\n",
              "      <td>18213.00</td>\n",
              "      <td>10015.00</td>\n",
              "      <td>2010-09-10</td>\n",
              "      <td>series-b</td>\n",
              "      <td>9000000.00</td>\n",
              "      <td>0.00</td>\n",
              "      <td>4.00</td>\n",
              "      <td>0.00</td>\n",
              "      <td>0.00</td>\n",
              "      <td>2010.00</td>\n",
              "    </tr>\n",
              "    <tr>\n",
              "      <th>23</th>\n",
              "      <td>10015.00</td>\n",
              "      <td>Fitbit</td>\n",
              "      <td>health</td>\n",
              "      <td>operating</td>\n",
              "      <td>2007-10-01</td>\n",
              "      <td>NaN</td>\n",
              "      <td>fitbit.com</td>\n",
              "      <td>fitbit</td>\n",
              "      <td>USA</td>\n",
              "      <td>0.00</td>\n",
              "      <td>...</td>\n",
              "      <td>27747.00</td>\n",
              "      <td>10015.00</td>\n",
              "      <td>2012-01-24</td>\n",
              "      <td>series-c+</td>\n",
              "      <td>12000000.00</td>\n",
              "      <td>0.00</td>\n",
              "      <td>4.00</td>\n",
              "      <td>0.00</td>\n",
              "      <td>0.00</td>\n",
              "      <td>2012.00</td>\n",
              "    </tr>\n",
              "  </tbody>\n",
              "</table>\n",
              "<p>10 rows × 23 columns</p>\n",
              "</div>"
            ],
            "text/plain": [
              "    company_id_cr        name category_code     status founded_at closed_at  \\\n",
              "0            1.00    Wetpaint           web  operating 2005-10-17       NaN   \n",
              "1            1.00    Wetpaint           web  operating 2005-10-17       NaN   \n",
              "2            1.00    Wetpaint           web  operating 2005-10-17       NaN   \n",
              "3           10.00     Flektor   games_video   acquired        NaT       NaN   \n",
              "4          100.00       There   games_video   acquired        NaT       NaN   \n",
              "15        1001.00  FriendFeed           web   acquired 2007-10-01       NaN   \n",
              "20       10014.00     Mobclix        mobile   acquired 2008-03-01       NaN   \n",
              "21       10015.00      Fitbit        health  operating 2007-10-01       NaN   \n",
              "22       10015.00      Fitbit        health  operating 2007-10-01       NaN   \n",
              "23       10015.00      Fitbit        health  operating 2007-10-01       NaN   \n",
              "\n",
              "              domain network_username country_code  investment_rounds  ...  \\\n",
              "0   wetpaint-inc.com  BachelrWetpaint          USA               0.00  ...   \n",
              "1   wetpaint-inc.com  BachelrWetpaint          USA               0.00  ...   \n",
              "2   wetpaint-inc.com  BachelrWetpaint          USA               0.00  ...   \n",
              "3        flektor.com              NaN          USA               0.00  ...   \n",
              "4          there.com              NaN          USA               0.00  ...   \n",
              "15    friendfeed.com       friendfeed          USA               0.00  ...   \n",
              "20       mobclix.com          mobclix          USA               0.00  ...   \n",
              "21        fitbit.com           fitbit          USA               0.00  ...   \n",
              "22        fitbit.com           fitbit          USA               0.00  ...   \n",
              "23        fitbit.com           fitbit          USA               0.00  ...   \n",
              "\n",
              "    funding_round_id  company_id  funded_at  funding_round_type  \\\n",
              "0             888.00        1.00 2005-10-01            series-a   \n",
              "1             889.00        1.00 2007-01-01            series-b   \n",
              "2            2312.00        1.00 2008-05-19           series-c+   \n",
              "3                NaN         NaN        NaT                 NaN   \n",
              "4                NaN         NaN        NaT                 NaN   \n",
              "15           1644.00     1001.00 2008-02-26            series-a   \n",
              "20           6682.00    10014.00 2008-09-01               angel   \n",
              "21           3619.00    10015.00 2008-10-10            series-a   \n",
              "22          18213.00    10015.00 2010-09-10            series-b   \n",
              "23          27747.00    10015.00 2012-01-24           series-c+   \n",
              "\n",
              "    raised_amount pre_money_valuation participants  is_first_round  \\\n",
              "0      5250000.00                0.00         2.00            0.00   \n",
              "1      9500000.00                0.00         3.00            0.00   \n",
              "2     25000000.00                0.00         4.00            1.00   \n",
              "3             NaN                 NaN          NaN             NaN   \n",
              "4             NaN                 NaN          NaN             NaN   \n",
              "15     5000000.00                0.00         3.00            1.00   \n",
              "20           0.00                0.00         1.00            1.00   \n",
              "21     2000000.00                0.00         2.00            0.00   \n",
              "22     9000000.00                0.00         4.00            0.00   \n",
              "23    12000000.00                0.00         4.00            0.00   \n",
              "\n",
              "    is_last_round    year  \n",
              "0            1.00 2005.00  \n",
              "1            0.00 2007.00  \n",
              "2            0.00 2008.00  \n",
              "3             NaN     NaN  \n",
              "4             NaN     NaN  \n",
              "15           1.00 2008.00  \n",
              "20           1.00 2008.00  \n",
              "21           1.00 2008.00  \n",
              "22           0.00 2010.00  \n",
              "23           0.00 2012.00  \n",
              "\n",
              "[10 rows x 23 columns]"
            ]
          },
          "metadata": {},
          "output_type": "display_data"
        }
      ],
      "execution_count": 38
    },
    {
      "cell_type": "code",
      "source": "# Выведем информацию о датафрейме\ncompany_and_rounds_new.info()",
      "metadata": {},
      "outputs": [
        {
          "name": "stdout",
          "output_type": "stream",
          "text": "<class 'pandas.core.frame.DataFrame'>\n,Int64Index: 61666 entries, 0 to 217471\n,Data columns (total 23 columns):\n, #   Column               Non-Null Count  Dtype         \n,---  ------               --------------  -----         \n, 0   company_id_cr        61666 non-null  float64       \n, 1   name                 61666 non-null  object        \n, 2   category_code        56015 non-null  object        \n, 3   status               61666 non-null  object        \n, 4   founded_at           46536 non-null  datetime64[ns]\n, 5   closed_at            2957 non-null   object        \n, 6   domain               56368 non-null  object        \n, 7   network_username     35793 non-null  object        \n, 8   country_code         55359 non-null  object        \n, 9   investment_rounds    61666 non-null  float64       \n, 10  funding_rounds       61666 non-null  float64       \n, 11  funding_total        61666 non-null  float64       \n, 12  milestones           61666 non-null  float64       \n, 13  funding_round_id     52626 non-null  float64       \n, 14  company_id           52626 non-null  float64       \n, 15  funded_at            52382 non-null  datetime64[ns]\n, 16  funding_round_type   52626 non-null  object        \n, 17  raised_amount        52626 non-null  float64       \n, 18  pre_money_valuation  52626 non-null  float64       \n, 19  participants         52626 non-null  float64       \n, 20  is_first_round       52626 non-null  float64       \n, 21  is_last_round        52626 non-null  float64       \n, 22  year                 52382 non-null  float64       \n,dtypes: datetime64[ns](2), float64(13), object(8)\n,memory usage: 11.3+ MB\n"
        }
      ],
      "execution_count": 39
    },
    {
      "cell_type": "markdown",
      "source": "Датафрейм содержит 61666 строк и 23 столбца, в большинстве из которых можно наблюдать пропуски",
      "metadata": {}
    },
    {
      "cell_type": "code",
      "source": "company_and_rounds_new.isna().sum()/len(company_and_rounds_new)",
      "metadata": {},
      "outputs": [
        {
          "data": {
            "text/plain": [
              "company_id_cr         0.00\n",
              "name                  0.00\n",
              "category_code         0.09\n",
              "status                0.00\n",
              "founded_at            0.25\n",
              "closed_at             0.95\n",
              "domain                0.09\n",
              "network_username      0.42\n",
              "country_code          0.10\n",
              "investment_rounds     0.00\n",
              "funding_rounds        0.00\n",
              "funding_total         0.00\n",
              "milestones            0.00\n",
              "funding_round_id      0.15\n",
              "company_id            0.15\n",
              "funded_at             0.15\n",
              "funding_round_type    0.15\n",
              "raised_amount         0.15\n",
              "pre_money_valuation   0.15\n",
              "participants          0.15\n",
              "is_first_round        0.15\n",
              "is_last_round         0.15\n",
              "year                  0.15\n",
              "dtype: float64"
            ]
          },
          "execution_count": 40,
          "metadata": {},
          "output_type": "execute_result"
        }
      ],
      "execution_count": 40
    },
    {
      "cell_type": "markdown",
      "source": "Столбцы network_username с инфорацией о нике компании в сети и closed_at с информацией о дате закрытия содержат наибольшее количество пропущенных значений, а именно 42% и 95%, но во втором случае это объясняется тем, что, возможно, компания пока не закрыта, соответственно, дата закрытия не может быть указана",
      "metadata": {}
    },
    {
      "cell_type": "markdown",
      "source": "\n### 3.2. Анализ выбросов\n\nЗаказчика интересует обычный для рассматриваемого периода размер средств, который предоставлялся компаниям.\n\n- По предобработанному столбцу `funding_total` графическим способом оцените, какой размер общего финансирования для одной компании будет типичным, а какой — выбивающимся.\n- В процессе расчёта значений обратите внимание, например, на показатели, возвращаемые методом `.describe()`, — объясните их. Применимы ли к таким данным обычные способы нахождения типичных значений?",
      "metadata": {
        "id": "DFHINkV3rJg2"
      }
    },
    {
      "cell_type": "code",
      "source": "# Строим диаграмму размаха для столбца funding_total\ncompany_and_rounds_new.boxplot(column='funding_total', vert=False)\nplt.title('Распределение значений общего размера финансирования')\nplt.ylabel('Общий размер финансирования')\nplt.show()",
      "metadata": {},
      "outputs": [
        {
          "data": {
            "image/png": "[encoded data removed]",
            "text/plain": [
              "<Figure size 432x288 with 1 Axes>"
            ]
          },
          "metadata": {
            "needs_background": "light"
          },
          "output_type": "display_data"
        }
      ],
      "execution_count": 41
    },
    {
      "cell_type": "code",
      "source": "# Строим диаграмму размаха для столбца funding_total без учета выбросов\ncompany_and_rounds_new.boxplot(column='funding_total', vert=False, showfliers=False)\nplt.title('Распределение значений общего размера финансирования')\nplt.ylabel('Общий размер финансирования')\nplt.show()",
      "metadata": {
        "id": "8jm75fKXrJg2",
        "scrolled": true,
        "vscode": {
          "languageId": "plaintext"
        }
      },
      "outputs": [
        {
          "data": {
            "image/png": "[encoded data removed]",
            "text/plain": [
              "<Figure size 432x288 with 1 Axes>"
            ]
          },
          "metadata": {
            "needs_background": "light"
          },
          "output_type": "display_data"
        }
      ],
      "execution_count": 42
    },
    {
      "cell_type": "code",
      "source": "# Рассмотрим статистические показатели для столбца funding_total\ncompany_and_rounds_new['funding_total'].describe()",
      "metadata": {
        "id": "S1jrfr7rFhcw",
        "scrolled": true
      },
      "outputs": [
        {
          "data": {
            "text/plain": [
              "count        61666.00\n",
              "mean      21146234.18\n",
              "std       90130450.99\n",
              "min              0.00\n",
              "25%          60000.00\n",
              "50%        2490000.00\n",
              "75%       15948800.00\n",
              "max     5700000000.00\n",
              "Name: funding_total, dtype: float64"
            ]
          },
          "execution_count": 43,
          "metadata": {},
          "output_type": "execute_result"
        }
      ],
      "execution_count": 43
    },
    {
      "cell_type": "markdown",
      "source": "Типичный размер общего финансирования можно оценить по медиане, в данном случае она равна 2 490 000. Те значения, которые выходят за границы усов графика (1 и 3 квартили - 60 000 и 15 948 800), являются выбросами, то есть выбивающимися",
      "metadata": {}
    },
    {
      "cell_type": "markdown",
      "source": "\n### 3.3. Куплены забесплатно?\n\n- Исследуйте компании, которые были проданы за ноль или за один доллар, и при этом известно, что у них был ненулевой общий объём финансирования.\n\n- Рассчитайте аналитически верхнюю и нижнюю границу выбросов для столбца `funding_total` и укажите, каким процентилям границы соответствуют.",
      "metadata": {
        "id": "JqkRAQrIrJg2"
      }
    },
    {
      "cell_type": "code",
      "source": "# Объединяем датафреймы company_and_rounds_new и acquisition\ndf = company_and_rounds_new.merge(acquisition, left_on='company_id_cr', right_on='acquired_company_id', how='left')\ndf_ifs = df[((df['price_amount'] == 0) \n            |(df['price_amount'] == 1))\n            & (df['funding_total']>0)]\ndisplay(df_ifs.head(10))",
      "metadata": {
        "id": "wJHXCBwwrJg2",
        "vscode": {
          "languageId": "plaintext"
        }
      },
      "outputs": [
        {
          "data": {
            "text/html": [
              "<div>\n",
              "<style scoped>\n",
              "    .dataframe tbody tr th:only-of-type {\n",
              "        vertical-align: middle;\n",
              "    }\n",
              "\n",
              "    .dataframe tbody tr th {\n",
              "        vertical-align: top;\n",
              "    }\n",
              "\n",
              "    .dataframe thead th {\n",
              "        text-align: right;\n",
              "    }\n",
              "</style>\n",
              "<table border=\"1\" class=\"dataframe\">\n",
              "  <thead>\n",
              "    <tr style=\"text-align: right;\">\n",
              "      <th></th>\n",
              "      <th>company_id_cr</th>\n",
              "      <th>name</th>\n",
              "      <th>category_code</th>\n",
              "      <th>status</th>\n",
              "      <th>founded_at</th>\n",
              "      <th>closed_at</th>\n",
              "      <th>domain</th>\n",
              "      <th>network_username</th>\n",
              "      <th>country_code</th>\n",
              "      <th>investment_rounds</th>\n",
              "      <th>...</th>\n",
              "      <th>participants</th>\n",
              "      <th>is_first_round</th>\n",
              "      <th>is_last_round</th>\n",
              "      <th>year</th>\n",
              "      <th>id</th>\n",
              "      <th>acquiring_company_id</th>\n",
              "      <th>acquired_company_id</th>\n",
              "      <th>term_code</th>\n",
              "      <th>price_amount</th>\n",
              "      <th>acquired_at</th>\n",
              "    </tr>\n",
              "  </thead>\n",
              "  <tbody>\n",
              "    <tr>\n",
              "      <th>38</th>\n",
              "      <td>10054.00</td>\n",
              "      <td>Jumptap</td>\n",
              "      <td>mobile</td>\n",
              "      <td>acquired</td>\n",
              "      <td>2005-01-01</td>\n",
              "      <td>NaN</td>\n",
              "      <td>jumptap.com</td>\n",
              "      <td>jumptap</td>\n",
              "      <td>USA</td>\n",
              "      <td>0.00</td>\n",
              "      <td>...</td>\n",
              "      <td>6.00</td>\n",
              "      <td>0.00</td>\n",
              "      <td>0.00</td>\n",
              "      <td>2008.00</td>\n",
              "      <td>9288.00</td>\n",
              "      <td>23283.00</td>\n",
              "      <td>10054.00</td>\n",
              "      <td>cash_and_stock</td>\n",
              "      <td>0.00</td>\n",
              "      <td>2013-08-13</td>\n",
              "    </tr>\n",
              "    <tr>\n",
              "      <th>39</th>\n",
              "      <td>10054.00</td>\n",
              "      <td>Jumptap</td>\n",
              "      <td>mobile</td>\n",
              "      <td>acquired</td>\n",
              "      <td>2005-01-01</td>\n",
              "      <td>NaN</td>\n",
              "      <td>jumptap.com</td>\n",
              "      <td>jumptap</td>\n",
              "      <td>USA</td>\n",
              "      <td>0.00</td>\n",
              "      <td>...</td>\n",
              "      <td>2.00</td>\n",
              "      <td>0.00</td>\n",
              "      <td>1.00</td>\n",
              "      <td>2005.00</td>\n",
              "      <td>9288.00</td>\n",
              "      <td>23283.00</td>\n",
              "      <td>10054.00</td>\n",
              "      <td>cash_and_stock</td>\n",
              "      <td>0.00</td>\n",
              "      <td>2013-08-13</td>\n",
              "    </tr>\n",
              "    <tr>\n",
              "      <th>40</th>\n",
              "      <td>10054.00</td>\n",
              "      <td>Jumptap</td>\n",
              "      <td>mobile</td>\n",
              "      <td>acquired</td>\n",
              "      <td>2005-01-01</td>\n",
              "      <td>NaN</td>\n",
              "      <td>jumptap.com</td>\n",
              "      <td>jumptap</td>\n",
              "      <td>USA</td>\n",
              "      <td>0.00</td>\n",
              "      <td>...</td>\n",
              "      <td>3.00</td>\n",
              "      <td>0.00</td>\n",
              "      <td>0.00</td>\n",
              "      <td>2005.00</td>\n",
              "      <td>9288.00</td>\n",
              "      <td>23283.00</td>\n",
              "      <td>10054.00</td>\n",
              "      <td>cash_and_stock</td>\n",
              "      <td>0.00</td>\n",
              "      <td>2013-08-13</td>\n",
              "    </tr>\n",
              "    <tr>\n",
              "      <th>41</th>\n",
              "      <td>10054.00</td>\n",
              "      <td>Jumptap</td>\n",
              "      <td>mobile</td>\n",
              "      <td>acquired</td>\n",
              "      <td>2005-01-01</td>\n",
              "      <td>NaN</td>\n",
              "      <td>jumptap.com</td>\n",
              "      <td>jumptap</td>\n",
              "      <td>USA</td>\n",
              "      <td>0.00</td>\n",
              "      <td>...</td>\n",
              "      <td>4.00</td>\n",
              "      <td>0.00</td>\n",
              "      <td>0.00</td>\n",
              "      <td>2006.00</td>\n",
              "      <td>9288.00</td>\n",
              "      <td>23283.00</td>\n",
              "      <td>10054.00</td>\n",
              "      <td>cash_and_stock</td>\n",
              "      <td>0.00</td>\n",
              "      <td>2013-08-13</td>\n",
              "    </tr>\n",
              "    <tr>\n",
              "      <th>42</th>\n",
              "      <td>10054.00</td>\n",
              "      <td>Jumptap</td>\n",
              "      <td>mobile</td>\n",
              "      <td>acquired</td>\n",
              "      <td>2005-01-01</td>\n",
              "      <td>NaN</td>\n",
              "      <td>jumptap.com</td>\n",
              "      <td>jumptap</td>\n",
              "      <td>USA</td>\n",
              "      <td>0.00</td>\n",
              "      <td>...</td>\n",
              "      <td>6.00</td>\n",
              "      <td>0.00</td>\n",
              "      <td>0.00</td>\n",
              "      <td>2011.00</td>\n",
              "      <td>9288.00</td>\n",
              "      <td>23283.00</td>\n",
              "      <td>10054.00</td>\n",
              "      <td>cash_and_stock</td>\n",
              "      <td>0.00</td>\n",
              "      <td>2013-08-13</td>\n",
              "    </tr>\n",
              "    <tr>\n",
              "      <th>43</th>\n",
              "      <td>10054.00</td>\n",
              "      <td>Jumptap</td>\n",
              "      <td>mobile</td>\n",
              "      <td>acquired</td>\n",
              "      <td>2005-01-01</td>\n",
              "      <td>NaN</td>\n",
              "      <td>jumptap.com</td>\n",
              "      <td>jumptap</td>\n",
              "      <td>USA</td>\n",
              "      <td>0.00</td>\n",
              "      <td>...</td>\n",
              "      <td>0.00</td>\n",
              "      <td>0.00</td>\n",
              "      <td>0.00</td>\n",
              "      <td>2011.00</td>\n",
              "      <td>9288.00</td>\n",
              "      <td>23283.00</td>\n",
              "      <td>10054.00</td>\n",
              "      <td>cash_and_stock</td>\n",
              "      <td>0.00</td>\n",
              "      <td>2013-08-13</td>\n",
              "    </tr>\n",
              "    <tr>\n",
              "      <th>44</th>\n",
              "      <td>10054.00</td>\n",
              "      <td>Jumptap</td>\n",
              "      <td>mobile</td>\n",
              "      <td>acquired</td>\n",
              "      <td>2005-01-01</td>\n",
              "      <td>NaN</td>\n",
              "      <td>jumptap.com</td>\n",
              "      <td>jumptap</td>\n",
              "      <td>USA</td>\n",
              "      <td>0.00</td>\n",
              "      <td>...</td>\n",
              "      <td>6.00</td>\n",
              "      <td>1.00</td>\n",
              "      <td>0.00</td>\n",
              "      <td>2012.00</td>\n",
              "      <td>9288.00</td>\n",
              "      <td>23283.00</td>\n",
              "      <td>10054.00</td>\n",
              "      <td>cash_and_stock</td>\n",
              "      <td>0.00</td>\n",
              "      <td>2013-08-13</td>\n",
              "    </tr>\n",
              "    <tr>\n",
              "      <th>99</th>\n",
              "      <td>101312.00</td>\n",
              "      <td>SideTour</td>\n",
              "      <td>web</td>\n",
              "      <td>acquired</td>\n",
              "      <td>2011-06-01</td>\n",
              "      <td>NaN</td>\n",
              "      <td>sidetour.com</td>\n",
              "      <td>sidetour</td>\n",
              "      <td>USA</td>\n",
              "      <td>0.00</td>\n",
              "      <td>...</td>\n",
              "      <td>3.00</td>\n",
              "      <td>0.00</td>\n",
              "      <td>0.00</td>\n",
              "      <td>2011.00</td>\n",
              "      <td>9653.00</td>\n",
              "      <td>11391.00</td>\n",
              "      <td>101312.00</td>\n",
              "      <td>NaN</td>\n",
              "      <td>0.00</td>\n",
              "      <td>2013-09-18</td>\n",
              "    </tr>\n",
              "    <tr>\n",
              "      <th>100</th>\n",
              "      <td>101312.00</td>\n",
              "      <td>SideTour</td>\n",
              "      <td>web</td>\n",
              "      <td>acquired</td>\n",
              "      <td>2011-06-01</td>\n",
              "      <td>NaN</td>\n",
              "      <td>sidetour.com</td>\n",
              "      <td>sidetour</td>\n",
              "      <td>USA</td>\n",
              "      <td>0.00</td>\n",
              "      <td>...</td>\n",
              "      <td>2.00</td>\n",
              "      <td>1.00</td>\n",
              "      <td>0.00</td>\n",
              "      <td>2013.00</td>\n",
              "      <td>9653.00</td>\n",
              "      <td>11391.00</td>\n",
              "      <td>101312.00</td>\n",
              "      <td>NaN</td>\n",
              "      <td>0.00</td>\n",
              "      <td>2013-09-18</td>\n",
              "    </tr>\n",
              "    <tr>\n",
              "      <th>101</th>\n",
              "      <td>101312.00</td>\n",
              "      <td>SideTour</td>\n",
              "      <td>web</td>\n",
              "      <td>acquired</td>\n",
              "      <td>2011-06-01</td>\n",
              "      <td>NaN</td>\n",
              "      <td>sidetour.com</td>\n",
              "      <td>sidetour</td>\n",
              "      <td>USA</td>\n",
              "      <td>0.00</td>\n",
              "      <td>...</td>\n",
              "      <td>1.00</td>\n",
              "      <td>0.00</td>\n",
              "      <td>1.00</td>\n",
              "      <td>2011.00</td>\n",
              "      <td>9653.00</td>\n",
              "      <td>11391.00</td>\n",
              "      <td>101312.00</td>\n",
              "      <td>NaN</td>\n",
              "      <td>0.00</td>\n",
              "      <td>2013-09-18</td>\n",
              "    </tr>\n",
              "  </tbody>\n",
              "</table>\n",
              "<p>10 rows × 29 columns</p>\n",
              "</div>"
            ],
            "text/plain": [
              "     company_id_cr      name category_code    status founded_at closed_at  \\\n",
              "38        10054.00   Jumptap        mobile  acquired 2005-01-01       NaN   \n",
              "39        10054.00   Jumptap        mobile  acquired 2005-01-01       NaN   \n",
              "40        10054.00   Jumptap        mobile  acquired 2005-01-01       NaN   \n",
              "41        10054.00   Jumptap        mobile  acquired 2005-01-01       NaN   \n",
              "42        10054.00   Jumptap        mobile  acquired 2005-01-01       NaN   \n",
              "43        10054.00   Jumptap        mobile  acquired 2005-01-01       NaN   \n",
              "44        10054.00   Jumptap        mobile  acquired 2005-01-01       NaN   \n",
              "99       101312.00  SideTour           web  acquired 2011-06-01       NaN   \n",
              "100      101312.00  SideTour           web  acquired 2011-06-01       NaN   \n",
              "101      101312.00  SideTour           web  acquired 2011-06-01       NaN   \n",
              "\n",
              "           domain network_username country_code  investment_rounds  ...  \\\n",
              "38    jumptap.com          jumptap          USA               0.00  ...   \n",
              "39    jumptap.com          jumptap          USA               0.00  ...   \n",
              "40    jumptap.com          jumptap          USA               0.00  ...   \n",
              "41    jumptap.com          jumptap          USA               0.00  ...   \n",
              "42    jumptap.com          jumptap          USA               0.00  ...   \n",
              "43    jumptap.com          jumptap          USA               0.00  ...   \n",
              "44    jumptap.com          jumptap          USA               0.00  ...   \n",
              "99   sidetour.com         sidetour          USA               0.00  ...   \n",
              "100  sidetour.com         sidetour          USA               0.00  ...   \n",
              "101  sidetour.com         sidetour          USA               0.00  ...   \n",
              "\n",
              "     participants  is_first_round  is_last_round    year      id  \\\n",
              "38           6.00            0.00           0.00 2008.00 9288.00   \n",
              "39           2.00            0.00           1.00 2005.00 9288.00   \n",
              "40           3.00            0.00           0.00 2005.00 9288.00   \n",
              "41           4.00            0.00           0.00 2006.00 9288.00   \n",
              "42           6.00            0.00           0.00 2011.00 9288.00   \n",
              "43           0.00            0.00           0.00 2011.00 9288.00   \n",
              "44           6.00            1.00           0.00 2012.00 9288.00   \n",
              "99           3.00            0.00           0.00 2011.00 9653.00   \n",
              "100          2.00            1.00           0.00 2013.00 9653.00   \n",
              "101          1.00            0.00           1.00 2011.00 9653.00   \n",
              "\n",
              "    acquiring_company_id acquired_company_id       term_code  price_amount  \\\n",
              "38              23283.00            10054.00  cash_and_stock          0.00   \n",
              "39              23283.00            10054.00  cash_and_stock          0.00   \n",
              "40              23283.00            10054.00  cash_and_stock          0.00   \n",
              "41              23283.00            10054.00  cash_and_stock          0.00   \n",
              "42              23283.00            10054.00  cash_and_stock          0.00   \n",
              "43              23283.00            10054.00  cash_and_stock          0.00   \n",
              "44              23283.00            10054.00  cash_and_stock          0.00   \n",
              "99              11391.00           101312.00             NaN          0.00   \n",
              "100             11391.00           101312.00             NaN          0.00   \n",
              "101             11391.00           101312.00             NaN          0.00   \n",
              "\n",
              "     acquired_at  \n",
              "38    2013-08-13  \n",
              "39    2013-08-13  \n",
              "40    2013-08-13  \n",
              "41    2013-08-13  \n",
              "42    2013-08-13  \n",
              "43    2013-08-13  \n",
              "44    2013-08-13  \n",
              "99    2013-09-18  \n",
              "100   2013-09-18  \n",
              "101   2013-09-18  \n",
              "\n",
              "[10 rows x 29 columns]"
            ]
          },
          "metadata": {},
          "output_type": "display_data"
        }
      ],
      "execution_count": 44
    },
    {
      "cell_type": "code",
      "source": "# Находим 1 и 3 квартили и IQR\nq_1 = df_ifs['funding_total'].quantile(0.25)\nq_3 = df_ifs['funding_total'].quantile(0.75)\niqr_finding = q_3 - q_1\nlower_finding = q_1 - 1.5 * iqr_finding\nupper_finding = q_3 + 1.5 * iqr_finding\nprint(f'Нижняя граница (первый квартиль): {lower_finding}')\nprint(f'Верхняя граница (третий квартиль): {upper_finding}')",
      "metadata": {},
      "outputs": [
        {
          "name": "stdout",
          "output_type": "stream",
          "text": "Нижняя граница (первый квартиль): -30133950.0\n,Верхняя граница (третий квартиль): 58223250.0\n"
        }
      ],
      "execution_count": 45
    },
    {
      "cell_type": "code",
      "source": "# Находим процентиль, соответствующий верхней границе выбросов\nupper = df_ifs['funding_total'][df_ifs['funding_total'] <= upper_finding].count()/len(df_ifs)*100\nprint(f'Процентиль, соответствующий верхней границе выбросов: {upper:.2f}')",
      "metadata": {},
      "outputs": [
        {
          "name": "stdout",
          "output_type": "stream",
          "text": "Процентиль, соответствующий верхней границе выбросов: 92.81\n"
        }
      ],
      "execution_count": 46
    },
    {
      "cell_type": "markdown",
      "source": "\n### 3.4. Цены стартапов по категориям\n\nКатегории стартапов с типично высокими ценами покупки стартапов и значительным разбросом цен могут быть привлекательными для крупных инвесторов, которые готовы к высоким рискам ради потенциально больших доходов. Среди категорий стартапов выделите категории стартапов, характеризующиеся:\n\n- типично высокими ценами;\n- и наибольшим разбросом цен за стартап.\n\nОбъясните, почему решили составить топ именно из такого числа категорий и почему рассчитывали именно так.",
      "metadata": {
        "id": "mEiWpROjrJg2"
      }
    },
    {
      "cell_type": "code",
      "source": "# Группируем данные по категориям по цене и выделяем топ-5 по типично высоким ценам\ngroupby_median = df.groupby('category_code')['price_amount'].agg(['median', 'std']).reset_index()\ngroupby_median_sort = groupby_median.sort_values(ascending=False, by='median')\ndisplay(groupby_median_sort.head(5))",
      "metadata": {
        "id": "jQ09dYUWrJg2",
        "vscode": {
          "languageId": "plaintext"
        }
      },
      "outputs": [
        {
          "data": {
            "text/html": [
              "<div>\n",
              "<style scoped>\n",
              "    .dataframe tbody tr th:only-of-type {\n",
              "        vertical-align: middle;\n",
              "    }\n",
              "\n",
              "    .dataframe tbody tr th {\n",
              "        vertical-align: top;\n",
              "    }\n",
              "\n",
              "    .dataframe thead th {\n",
              "        text-align: right;\n",
              "    }\n",
              "</style>\n",
              "<table border=\"1\" class=\"dataframe\">\n",
              "  <thead>\n",
              "    <tr style=\"text-align: right;\">\n",
              "      <th></th>\n",
              "      <th>category_code</th>\n",
              "      <th>median</th>\n",
              "      <th>std</th>\n",
              "    </tr>\n",
              "  </thead>\n",
              "  <tbody>\n",
              "    <tr>\n",
              "      <th>24</th>\n",
              "      <td>nanotech</td>\n",
              "      <td>584000000.00</td>\n",
              "      <td>NaN</td>\n",
              "    </tr>\n",
              "    <tr>\n",
              "      <th>32</th>\n",
              "      <td>real_estate</td>\n",
              "      <td>40000000.00</td>\n",
              "      <td>2129788210.65</td>\n",
              "    </tr>\n",
              "    <tr>\n",
              "      <th>19</th>\n",
              "      <td>manufacturing</td>\n",
              "      <td>40000000.00</td>\n",
              "      <td>947980006.15</td>\n",
              "    </tr>\n",
              "    <tr>\n",
              "      <th>30</th>\n",
              "      <td>photo_video</td>\n",
              "      <td>40000000.00</td>\n",
              "      <td>339090315.44</td>\n",
              "    </tr>\n",
              "    <tr>\n",
              "      <th>2</th>\n",
              "      <td>automotive</td>\n",
              "      <td>21500000.00</td>\n",
              "      <td>2147833365.67</td>\n",
              "    </tr>\n",
              "  </tbody>\n",
              "</table>\n",
              "</div>"
            ],
            "text/plain": [
              "    category_code       median           std\n",
              "24       nanotech 584000000.00           NaN\n",
              "32    real_estate  40000000.00 2129788210.65\n",
              "19  manufacturing  40000000.00  947980006.15\n",
              "30    photo_video  40000000.00  339090315.44\n",
              "2      automotive  21500000.00 2147833365.67"
            ]
          },
          "metadata": {},
          "output_type": "display_data"
        }
      ],
      "execution_count": 47
    },
    {
      "cell_type": "code",
      "source": "# Группируем данные по категориям по цене и выделяем топ-5 по наибольшему разбросу цен\ngroupby_std = df.groupby('category_code')['price_amount'].agg(['median', 'std']).reset_index()\ngroupby_std_sort = groupby_std.sort_values(ascending=False, by='std')\ndisplay(groupby_std_sort.head(5))",
      "metadata": {},
      "outputs": [
        {
          "data": {
            "text/html": [
              "<div>\n",
              "<style scoped>\n",
              "    .dataframe tbody tr th:only-of-type {\n",
              "        vertical-align: middle;\n",
              "    }\n",
              "\n",
              "    .dataframe tbody tr th {\n",
              "        vertical-align: top;\n",
              "    }\n",
              "\n",
              "    .dataframe thead th {\n",
              "        text-align: right;\n",
              "    }\n",
              "</style>\n",
              "<table border=\"1\" class=\"dataframe\">\n",
              "  <thead>\n",
              "    <tr style=\"text-align: right;\">\n",
              "      <th></th>\n",
              "      <th>category_code</th>\n",
              "      <th>median</th>\n",
              "      <th>std</th>\n",
              "    </tr>\n",
              "  </thead>\n",
              "  <tbody>\n",
              "    <tr>\n",
              "      <th>9</th>\n",
              "      <td>enterprise</td>\n",
              "      <td>0.00</td>\n",
              "      <td>104163452703.60</td>\n",
              "    </tr>\n",
              "    <tr>\n",
              "      <th>31</th>\n",
              "      <td>public_relations</td>\n",
              "      <td>0.00</td>\n",
              "      <td>3802535900.24</td>\n",
              "    </tr>\n",
              "    <tr>\n",
              "      <th>2</th>\n",
              "      <td>automotive</td>\n",
              "      <td>21500000.00</td>\n",
              "      <td>2147833365.67</td>\n",
              "    </tr>\n",
              "    <tr>\n",
              "      <th>32</th>\n",
              "      <td>real_estate</td>\n",
              "      <td>40000000.00</td>\n",
              "      <td>2129788210.65</td>\n",
              "    </tr>\n",
              "    <tr>\n",
              "      <th>3</th>\n",
              "      <td>biotech</td>\n",
              "      <td>17600000.00</td>\n",
              "      <td>1336462342.85</td>\n",
              "    </tr>\n",
              "  </tbody>\n",
              "</table>\n",
              "</div>"
            ],
            "text/plain": [
              "       category_code      median             std\n",
              "9         enterprise        0.00 104163452703.60\n",
              "31  public_relations        0.00   3802535900.24\n",
              "2         automotive 21500000.00   2147833365.67\n",
              "32       real_estate 40000000.00   2129788210.65\n",
              "3            biotech 17600000.00   1336462342.85"
            ]
          },
          "metadata": {},
          "output_type": "display_data"
        }
      ],
      "execution_count": 48
    },
    {
      "cell_type": "markdown",
      "source": "Было принято сделать топ-5 компаний по типично высоким ценам и по наибольшему разбросу цен, так как хотелось показать самые высокие значения. Среди категорий с самыми высокими типичными ценами - nanotech, real_estate, manufacturing, photo_video, automotive. А среди тех, где наибольший разброс цен - enterprise, public_relations, automotive, real_estate, biotech. Можно заметить, что оба раза встречаются такие категории, как automotive и real_estate",
      "metadata": {
        "id": "eF1aULm5FjfY"
      }
    },
    {
      "cell_type": "markdown",
      "source": "\n### 3.5. Сколько раундов продержится стартап перед покупкой\n\n- Необходимо проанализировать столбец `funding_rounds`. Исследуйте значения столбца. Заказчика интересует типичное значение количества раундов для каждого возможного статуса стартапа.\n- Постройте график, который отображает, сколько в среднем раундов финансирования проходило для стартапов из каждой группы. Сделайте выводы.",
      "metadata": {
        "id": "ADOfyVY_rJg3"
      }
    },
    {
      "cell_type": "code",
      "source": "# Оставим только те компании, у которых количество раундов больше 0\ncompany_and_rounds_new = company_and_rounds_new[company_and_rounds_new['funding_rounds']>0]",
      "metadata": {},
      "outputs": [],
      "execution_count": 49
    },
    {
      "cell_type": "code",
      "source": "groupby_describe = company_and_rounds_new.groupby('status')['funding_rounds'].describe()\ndisplay(groupby_describe)",
      "metadata": {},
      "outputs": [
        {
          "data": {
            "text/html": [
              "<div>\n",
              "<style scoped>\n",
              "    .dataframe tbody tr th:only-of-type {\n",
              "        vertical-align: middle;\n",
              "    }\n",
              "\n",
              "    .dataframe tbody tr th {\n",
              "        vertical-align: top;\n",
              "    }\n",
              "\n",
              "    .dataframe thead th {\n",
              "        text-align: right;\n",
              "    }\n",
              "</style>\n",
              "<table border=\"1\" class=\"dataframe\">\n",
              "  <thead>\n",
              "    <tr style=\"text-align: right;\">\n",
              "      <th></th>\n",
              "      <th>count</th>\n",
              "      <th>mean</th>\n",
              "      <th>std</th>\n",
              "      <th>min</th>\n",
              "      <th>25%</th>\n",
              "      <th>50%</th>\n",
              "      <th>75%</th>\n",
              "      <th>max</th>\n",
              "    </tr>\n",
              "    <tr>\n",
              "      <th>status</th>\n",
              "      <th></th>\n",
              "      <th></th>\n",
              "      <th></th>\n",
              "      <th></th>\n",
              "      <th></th>\n",
              "      <th></th>\n",
              "      <th></th>\n",
              "      <th></th>\n",
              "    </tr>\n",
              "  </thead>\n",
              "  <tbody>\n",
              "    <tr>\n",
              "      <th>acquired</th>\n",
              "      <td>4918.00</td>\n",
              "      <td>2.76</td>\n",
              "      <td>1.79</td>\n",
              "      <td>1.00</td>\n",
              "      <td>1.00</td>\n",
              "      <td>2.00</td>\n",
              "      <td>4.00</td>\n",
              "      <td>12.00</td>\n",
              "    </tr>\n",
              "    <tr>\n",
              "      <th>closed</th>\n",
              "      <td>2890.00</td>\n",
              "      <td>1.89</td>\n",
              "      <td>1.34</td>\n",
              "      <td>1.00</td>\n",
              "      <td>1.00</td>\n",
              "      <td>1.00</td>\n",
              "      <td>2.00</td>\n",
              "      <td>8.00</td>\n",
              "    </tr>\n",
              "    <tr>\n",
              "      <th>ipo</th>\n",
              "      <td>1238.00</td>\n",
              "      <td>4.47</td>\n",
              "      <td>3.18</td>\n",
              "      <td>1.00</td>\n",
              "      <td>2.00</td>\n",
              "      <td>4.00</td>\n",
              "      <td>6.00</td>\n",
              "      <td>13.00</td>\n",
              "    </tr>\n",
              "    <tr>\n",
              "      <th>operating</th>\n",
              "      <td>43580.00</td>\n",
              "      <td>2.49</td>\n",
              "      <td>1.87</td>\n",
              "      <td>1.00</td>\n",
              "      <td>1.00</td>\n",
              "      <td>2.00</td>\n",
              "      <td>3.00</td>\n",
              "      <td>15.00</td>\n",
              "    </tr>\n",
              "  </tbody>\n",
              "</table>\n",
              "</div>"
            ],
            "text/plain": [
              "             count  mean  std  min  25%  50%  75%   max\n",
              "status                                                 \n",
              "acquired   4918.00  2.76 1.79 1.00 1.00 2.00 4.00 12.00\n",
              "closed     2890.00  1.89 1.34 1.00 1.00 1.00 2.00  8.00\n",
              "ipo        1238.00  4.47 3.18 1.00 2.00 4.00 6.00 13.00\n",
              "operating 43580.00  2.49 1.87 1.00 1.00 2.00 3.00 15.00"
            ]
          },
          "metadata": {},
          "output_type": "display_data"
        }
      ],
      "execution_count": 50
    },
    {
      "cell_type": "code",
      "source": "# Группируем данные по статусу по типичному количеству раундов\ngroupby_car = company_and_rounds_new.groupby('status')['funding_rounds'].median()\ndisplay(groupby_car)",
      "metadata": {
        "id": "hgXMPC4WrJg3",
        "vscode": {
          "languageId": "plaintext"
        }
      },
      "outputs": [
        {
          "data": {
            "text/plain": [
              "status\n",
              "acquired    2.00\n",
              "closed      1.00\n",
              "ipo         4.00\n",
              "operating   2.00\n",
              "Name: funding_rounds, dtype: float64"
            ]
          },
          "metadata": {},
          "output_type": "display_data"
        }
      ],
      "execution_count": 51
    },
    {
      "cell_type": "code",
      "source": "# Группируем данные по статусу по среднему количеству раундов\ngroupby_mean = company_and_rounds_new.groupby('status')['funding_rounds'].mean()\ndisplay(groupby_mean)",
      "metadata": {
        "id": "pV3e7kw5Fj1Y",
        "scrolled": true
      },
      "outputs": [
        {
          "data": {
            "text/plain": [
              "status\n",
              "acquired    2.76\n",
              "closed      1.89\n",
              "ipo         4.47\n",
              "operating   2.49\n",
              "Name: funding_rounds, dtype: float64"
            ]
          },
          "metadata": {},
          "output_type": "display_data"
        }
      ],
      "execution_count": 52
    },
    {
      "cell_type": "code",
      "source": "# Визуализируем среднее количество раундов по статусам\ngroupby_mean.plot(kind='bar', xlabel='Статус', ylabel='Количество раундов', title='Распределение количества раундов компаний по статусам')\nplt.show()",
      "metadata": {},
      "outputs": [
        {
          "data": {
            "image/png": "[encoded data removed]",
            "text/plain": [
              "<Figure size 432x288 with 1 Axes>"
            ]
          },
          "metadata": {
            "needs_background": "light"
          },
          "output_type": "display_data"
        }
      ],
      "execution_count": 53
    },
    {
      "cell_type": "markdown",
      "source": "Можно заметить, что компаний со статусом ipo меньше остальных (1238), при этом среднее значение количества раундов является наибольшим среди всех категорий (4.47). У этого же статуса типичное значение раундов наибольшее (4), это говорит о том, что именно этот статус компаний привлекает больше раундов финансирования. Но стоит учесть и то, что у ipo стандартное отклонение равняется 3.18, это указывает на, что, возможно, из-за наличия как успехов, так и менее удачных компаний, риски все таки присутствуют.",
      "metadata": {}
    },
    {
      "cell_type": "markdown",
      "source": "\n## Шаг 4. Итоговый вывод и рекомендации\n\n",
      "metadata": {
        "id": "VAFEZ2HBrJg3"
      }
    },
    {
      "cell_type": "markdown",
      "source": "Сначала была осуществлена выгрузка данных, проверка названий столбцов, приведение к стилю snake case. Далее были изменены типы данных в столбцах, содержащих информацию о дате. В большинстве датафреймов обнаружилось значительное количество пропусков, что, несомненно, на мой взгляд, оказало влияние на результаты. \n\nПредварительное исследование состояло из:\n- составления сводной таблицы по годам и сумме финансирования, что позволило сделать вывод о том, что в 2005 году наблюдался максимальный размер собранных средств\n- проверки информации о сотрудниках и их образовании, которая показала, что доля сотрудников, у которых присутствует данная информация, составила 0.47 (51 400). Также компании были разделены на 4 категории: ИП, маленькие, средние и большие по количеству сотрудников \n- проверки возможности объединения по столбцу network_username (в результате выяснилось, что лучше не использовать данный столбец для объединения, поскольку количество совпадающих строк равняется 2200 при общем количестве строк более 200 000 в каждом датафрейме)\n- разделения датафрейма company_and_rounds на два отдельных датафрейма, которые содержат информацию о компаниях и о раундах. После были удалены дубликаты и пропуски по колонке funding_round_type\n\nИсследовательский анализ начался с фильтрации датафрейма company_and_rounds по количеству раундов (>0) и по статусу компаний (acquired)\nДалее была построена диаграмму размаха для столбца funding_total, где было выявлено большое количество выбросов. Также выяснилось, что типичный размер финансирования равен 2 490 000, а значения, превышающие 15 948 800, являются выбивающимися \nПосле группировки компаний по категориям был выделен топ-5 по типично высоким ценам и по наибольшему размаху цен, и выяснилось, что в обоих топах повторяются категории automotive и real_estate\nИсследование столбца funding_rounds по статистическим показателям показало, что компаний со статусом ipo меньше остальных, при этом среднее значение количества раундов является наибольшим среди всех категорий (4.47). У этого же статуса типичное значение раундов наибольшее (4), это говорит о том, что именно этот статус компаний привлекает больше раундов финансирования. Но стоит учесть и то, что у ipo стандартное отклонение равняется 3.30, это указывает на, что, возможно, из-за наличия как успехов, так и менее удачных компаний, риски все таки присутствуют",
      "metadata": {}
    }
  ]
}