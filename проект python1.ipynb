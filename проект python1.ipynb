{
  "metadata": {
    "kernelspec": {
      "display_name": "Python 3 (ipykernel)",
      "language": "python",
      "name": "python3"
    },
    "language_info": {
      "codemirror_mode": {
        "name": "ipython",
        "version": 3
      },
      "file_extension": ".py",
      "mimetype": "text/x-python",
      "name": "python",
      "nbconvert_exporter": "python",
      "pygments_lexer": "ipython3",
      "version": "3.9.5"
    },
    "ExecuteTimeLog": [
      {
        "duration": 437,
        "start_time": "2025-03-15T05:14:48.275Z"
      },
      {
        "duration": 3,
        "start_time": "2025-03-15T05:16:31.533Z"
      },
      {
        "duration": 195,
        "start_time": "2025-03-15T05:16:31.954Z"
      },
      {
        "duration": 61,
        "start_time": "2025-03-15T05:16:32.770Z"
      },
      {
        "duration": 17,
        "start_time": "2025-03-15T05:16:45.885Z"
      },
      {
        "duration": 11,
        "start_time": "2025-03-15T05:16:54.289Z"
      },
      {
        "duration": 37,
        "start_time": "2025-03-15T05:24:41.596Z"
      },
      {
        "duration": 15,
        "start_time": "2025-03-15T05:24:52.141Z"
      },
      {
        "duration": 14,
        "start_time": "2025-03-15T05:29:25.731Z"
      },
      {
        "duration": 70,
        "start_time": "2025-03-15T05:42:36.244Z"
      },
      {
        "duration": 11,
        "start_time": "2025-03-15T05:42:56.732Z"
      },
      {
        "duration": 12,
        "start_time": "2025-03-15T05:43:07.784Z"
      },
      {
        "duration": 13,
        "start_time": "2025-03-15T05:43:28.307Z"
      },
      {
        "duration": 7,
        "start_time": "2025-03-15T05:46:22.606Z"
      },
      {
        "duration": 6,
        "start_time": "2025-03-15T05:46:38.578Z"
      },
      {
        "duration": 16,
        "start_time": "2025-03-15T05:46:49.573Z"
      },
      {
        "duration": 17,
        "start_time": "2025-03-15T05:48:25.137Z"
      },
      {
        "duration": 89,
        "start_time": "2025-03-15T05:51:18.560Z"
      },
      {
        "duration": 77,
        "start_time": "2025-03-15T05:51:30.352Z"
      },
      {
        "duration": 23,
        "start_time": "2025-03-15T05:51:38.607Z"
      },
      {
        "duration": 19,
        "start_time": "2025-03-15T05:53:58.890Z"
      },
      {
        "duration": 20,
        "start_time": "2025-03-15T05:54:18.842Z"
      },
      {
        "duration": 416,
        "start_time": "2025-03-15T06:01:43.518Z"
      },
      {
        "duration": 496,
        "start_time": "2025-03-15T06:01:58.986Z"
      },
      {
        "duration": 392,
        "start_time": "2025-03-15T06:02:50.122Z"
      },
      {
        "duration": 381,
        "start_time": "2025-03-15T06:02:56.466Z"
      },
      {
        "duration": 527,
        "start_time": "2025-03-15T06:05:21.121Z"
      },
      {
        "duration": 424,
        "start_time": "2025-03-15T06:05:52.876Z"
      },
      {
        "duration": 79,
        "start_time": "2025-03-15T06:13:40.865Z"
      },
      {
        "duration": 127,
        "start_time": "2025-03-15T06:13:47.353Z"
      },
      {
        "duration": 399,
        "start_time": "2025-03-15T06:13:54.979Z"
      },
      {
        "duration": 45,
        "start_time": "2025-03-15T06:49:33.363Z"
      },
      {
        "duration": 385,
        "start_time": "2025-03-15T06:49:46.927Z"
      },
      {
        "duration": 80,
        "start_time": "2025-03-15T06:52:56.245Z"
      },
      {
        "duration": 496,
        "start_time": "2025-03-15T06:52:59.784Z"
      },
      {
        "duration": 403,
        "start_time": "2025-03-15T06:53:04.129Z"
      },
      {
        "duration": 4,
        "start_time": "2025-03-15T06:55:07.444Z"
      },
      {
        "duration": 7,
        "start_time": "2025-03-15T06:55:35.871Z"
      },
      {
        "duration": 14,
        "start_time": "2025-03-15T06:57:44.275Z"
      },
      {
        "duration": 389,
        "start_time": "2025-03-18T05:49:02.787Z"
      },
      {
        "duration": 207,
        "start_time": "2025-03-18T05:49:03.220Z"
      },
      {
        "duration": 103,
        "start_time": "2025-03-18T05:49:03.596Z"
      },
      {
        "duration": 15,
        "start_time": "2025-03-18T05:49:04.646Z"
      },
      {
        "duration": 11,
        "start_time": "2025-03-18T05:49:09.170Z"
      },
      {
        "duration": 35,
        "start_time": "2025-03-18T05:49:15.258Z"
      },
      {
        "duration": 13,
        "start_time": "2025-03-18T05:49:19.302Z"
      },
      {
        "duration": 10,
        "start_time": "2025-03-18T05:49:22.130Z"
      },
      {
        "duration": 13,
        "start_time": "2025-03-18T05:49:22.717Z"
      },
      {
        "duration": 17,
        "start_time": "2025-03-18T05:51:58.038Z"
      },
      {
        "duration": 361,
        "start_time": "2025-03-18T05:52:48.093Z"
      },
      {
        "duration": 51,
        "start_time": "2025-03-18T05:55:55.434Z"
      },
      {
        "duration": 64,
        "start_time": "2025-03-18T05:57:27.171Z"
      },
      {
        "duration": 9,
        "start_time": "2025-03-18T05:57:34.156Z"
      },
      {
        "duration": 10,
        "start_time": "2025-03-18T05:58:09.765Z"
      },
      {
        "duration": 46,
        "start_time": "2025-03-18T05:58:28.772Z"
      },
      {
        "duration": 9,
        "start_time": "2025-03-18T06:00:54.900Z"
      },
      {
        "duration": 7,
        "start_time": "2025-03-18T06:01:16.382Z"
      },
      {
        "duration": 10,
        "start_time": "2025-03-18T06:01:20.489Z"
      },
      {
        "duration": 10,
        "start_time": "2025-03-18T06:01:31.021Z"
      },
      {
        "duration": 19,
        "start_time": "2025-03-18T06:13:15.586Z"
      },
      {
        "duration": 9,
        "start_time": "2025-03-18T06:13:45.117Z"
      },
      {
        "duration": 618,
        "start_time": "2025-03-18T06:19:19.558Z"
      },
      {
        "duration": 144,
        "start_time": "2025-03-18T06:19:33.372Z"
      },
      {
        "duration": 121,
        "start_time": "2025-03-18T06:20:34.744Z"
      },
      {
        "duration": 147,
        "start_time": "2025-03-18T06:20:42.958Z"
      },
      {
        "duration": 191,
        "start_time": "2025-03-18T06:20:56.108Z"
      },
      {
        "duration": 141,
        "start_time": "2025-03-18T06:21:03.624Z"
      },
      {
        "duration": 144,
        "start_time": "2025-03-18T06:21:09.651Z"
      },
      {
        "duration": 142,
        "start_time": "2025-03-18T06:22:00.639Z"
      },
      {
        "duration": 150,
        "start_time": "2025-03-18T06:23:02.495Z"
      },
      {
        "duration": 166,
        "start_time": "2025-03-18T06:23:13.463Z"
      },
      {
        "duration": 173,
        "start_time": "2025-03-18T06:25:29.648Z"
      },
      {
        "duration": 131,
        "start_time": "2025-03-18T06:28:06.251Z"
      },
      {
        "duration": 127,
        "start_time": "2025-03-18T06:28:42.093Z"
      },
      {
        "duration": 151,
        "start_time": "2025-03-18T06:30:02.297Z"
      },
      {
        "duration": 138,
        "start_time": "2025-03-18T06:30:20.316Z"
      },
      {
        "duration": 208,
        "start_time": "2025-03-18T06:34:02.297Z"
      },
      {
        "duration": 198,
        "start_time": "2025-03-18T06:34:07.798Z"
      },
      {
        "duration": 193,
        "start_time": "2025-03-18T06:34:21.193Z"
      },
      {
        "duration": 2533,
        "start_time": "2025-03-18T06:39:27.338Z"
      },
      {
        "duration": 15,
        "start_time": "2025-03-18T06:42:53.417Z"
      },
      {
        "duration": 188,
        "start_time": "2025-03-18T07:17:22.732Z"
      },
      {
        "duration": 10,
        "start_time": "2025-03-18T07:17:50.512Z"
      },
      {
        "duration": 9,
        "start_time": "2025-03-18T07:18:00.820Z"
      },
      {
        "duration": 2095,
        "start_time": "2025-03-18T07:18:45.128Z"
      },
      {
        "duration": 1955,
        "start_time": "2025-03-18T07:19:28.696Z"
      },
      {
        "duration": 137,
        "start_time": "2025-03-18T07:20:08.700Z"
      },
      {
        "duration": 1465,
        "start_time": "2025-03-18T07:20:58.579Z"
      },
      {
        "duration": 144,
        "start_time": "2025-03-18T07:22:06.223Z"
      },
      {
        "duration": 288,
        "start_time": "2025-03-18T07:25:03.211Z"
      },
      {
        "duration": 20,
        "start_time": "2025-03-18T07:25:27.495Z"
      },
      {
        "duration": 121,
        "start_time": "2025-03-18T07:25:40.247Z"
      },
      {
        "duration": 256,
        "start_time": "2025-03-18T07:26:27.169Z"
      },
      {
        "duration": 123,
        "start_time": "2025-03-18T07:26:53.159Z"
      },
      {
        "duration": 19,
        "start_time": "2025-03-18T07:27:27.614Z"
      },
      {
        "duration": 13,
        "start_time": "2025-03-18T07:28:50.549Z"
      },
      {
        "duration": 208,
        "start_time": "2025-03-18T07:28:55.912Z"
      },
      {
        "duration": 331,
        "start_time": "2025-03-18T07:29:27.200Z"
      },
      {
        "duration": 7,
        "start_time": "2025-03-18T07:38:35.300Z"
      },
      {
        "duration": 768,
        "start_time": "2025-03-18T07:38:58.481Z"
      },
      {
        "duration": 198,
        "start_time": "2025-03-18T07:39:06.795Z"
      },
      {
        "duration": 235,
        "start_time": "2025-03-18T07:39:17.208Z"
      },
      {
        "duration": 197,
        "start_time": "2025-03-18T07:40:21.795Z"
      },
      {
        "duration": 113,
        "start_time": "2025-03-18T07:42:23.279Z"
      },
      {
        "duration": 204,
        "start_time": "2025-03-18T07:43:35.109Z"
      },
      {
        "duration": 101,
        "start_time": "2025-03-18T07:44:33.357Z"
      },
      {
        "duration": 114,
        "start_time": "2025-03-18T07:44:42.912Z"
      },
      {
        "duration": 55,
        "start_time": "2025-03-19T15:13:16.624Z"
      },
      {
        "duration": 403,
        "start_time": "2025-03-19T15:13:23.751Z"
      },
      {
        "duration": 116,
        "start_time": "2025-03-19T15:13:24.156Z"
      },
      {
        "duration": 66,
        "start_time": "2025-03-19T15:13:24.326Z"
      },
      {
        "duration": 14,
        "start_time": "2025-03-19T15:13:24.647Z"
      },
      {
        "duration": 10,
        "start_time": "2025-03-19T15:13:24.908Z"
      },
      {
        "duration": 34,
        "start_time": "2025-03-19T15:13:27.867Z"
      },
      {
        "duration": 13,
        "start_time": "2025-03-19T15:13:30.863Z"
      },
      {
        "duration": 15,
        "start_time": "2025-03-19T15:13:34.610Z"
      },
      {
        "duration": 9,
        "start_time": "2025-03-19T15:14:08.961Z"
      },
      {
        "duration": 11,
        "start_time": "2025-03-19T15:14:09.798Z"
      },
      {
        "duration": 14,
        "start_time": "2025-03-19T15:14:12.906Z"
      },
      {
        "duration": 16,
        "start_time": "2025-03-19T15:14:15.668Z"
      },
      {
        "duration": 6,
        "start_time": "2025-03-19T15:14:15.957Z"
      },
      {
        "duration": 9,
        "start_time": "2025-03-19T15:14:16.234Z"
      },
      {
        "duration": 534,
        "start_time": "2025-03-19T15:14:20.665Z"
      },
      {
        "duration": 182,
        "start_time": "2025-03-19T15:14:24.482Z"
      },
      {
        "duration": 222,
        "start_time": "2025-03-19T15:14:27.126Z"
      },
      {
        "duration": 655,
        "start_time": "2025-03-19T15:14:33.101Z"
      },
      {
        "duration": 3,
        "start_time": "2025-03-19T15:21:25.563Z"
      },
      {
        "duration": 138,
        "start_time": "2025-03-19T15:21:39.112Z"
      },
      {
        "duration": 182,
        "start_time": "2025-03-19T15:21:48.935Z"
      },
      {
        "duration": 198,
        "start_time": "2025-03-19T15:21:55.288Z"
      },
      {
        "duration": 110,
        "start_time": "2025-03-19T15:22:05.000Z"
      },
      {
        "duration": 86,
        "start_time": "2025-03-19T15:22:27.683Z"
      },
      {
        "duration": 87,
        "start_time": "2025-03-19T15:22:49.414Z"
      },
      {
        "duration": 87,
        "start_time": "2025-03-19T15:23:03.667Z"
      },
      {
        "duration": 177,
        "start_time": "2025-03-19T15:23:12.202Z"
      },
      {
        "duration": 200,
        "start_time": "2025-03-19T15:23:46.011Z"
      },
      {
        "duration": 104,
        "start_time": "2025-03-19T15:25:37.808Z"
      },
      {
        "duration": 189,
        "start_time": "2025-03-19T15:26:36.828Z"
      },
      {
        "duration": 205,
        "start_time": "2025-03-19T15:26:43.508Z"
      },
      {
        "duration": 223,
        "start_time": "2025-03-19T15:26:50.272Z"
      },
      {
        "duration": 16,
        "start_time": "2025-03-19T15:27:06.480Z"
      },
      {
        "duration": 14,
        "start_time": "2025-03-19T15:27:14.212Z"
      },
      {
        "duration": 228,
        "start_time": "2025-03-19T15:27:22.840Z"
      },
      {
        "duration": 259,
        "start_time": "2025-03-19T15:27:43.863Z"
      },
      {
        "duration": 228,
        "start_time": "2025-03-19T15:27:59.471Z"
      },
      {
        "duration": 301,
        "start_time": "2025-03-19T15:34:14.315Z"
      },
      {
        "duration": 103,
        "start_time": "2025-03-19T15:36:20.038Z"
      },
      {
        "duration": 104,
        "start_time": "2025-03-19T15:40:50.715Z"
      },
      {
        "duration": 110,
        "start_time": "2025-03-19T15:41:54.308Z"
      },
      {
        "duration": 8,
        "start_time": "2025-03-19T15:49:24.397Z"
      },
      {
        "duration": 8,
        "start_time": "2025-03-19T15:54:33.666Z"
      },
      {
        "duration": 110,
        "start_time": "2025-03-19T15:57:13.577Z"
      },
      {
        "duration": 161,
        "start_time": "2025-03-19T16:01:01.021Z"
      },
      {
        "duration": 140,
        "start_time": "2025-03-19T16:08:59.346Z"
      },
      {
        "duration": 11,
        "start_time": "2025-03-19T16:23:38.232Z"
      },
      {
        "duration": 9,
        "start_time": "2025-03-19T16:23:55.216Z"
      },
      {
        "duration": 9,
        "start_time": "2025-03-19T16:24:20.736Z"
      },
      {
        "duration": 9,
        "start_time": "2025-03-19T16:26:23.219Z"
      },
      {
        "duration": 3201,
        "start_time": "2025-03-19T16:27:15.467Z"
      },
      {
        "duration": 968,
        "start_time": "2025-03-19T16:29:21.733Z"
      },
      {
        "duration": 2,
        "start_time": "2025-03-19T16:29:37.629Z"
      },
      {
        "duration": 156,
        "start_time": "2025-03-19T16:29:37.773Z"
      },
      {
        "duration": 89,
        "start_time": "2025-03-19T16:29:37.931Z"
      },
      {
        "duration": 14,
        "start_time": "2025-03-19T16:29:38.022Z"
      },
      {
        "duration": 11,
        "start_time": "2025-03-19T16:29:38.108Z"
      },
      {
        "duration": 33,
        "start_time": "2025-03-19T16:29:38.961Z"
      },
      {
        "duration": 14,
        "start_time": "2025-03-19T16:29:39.201Z"
      },
      {
        "duration": 14,
        "start_time": "2025-03-19T16:29:39.441Z"
      },
      {
        "duration": 9,
        "start_time": "2025-03-19T16:29:39.681Z"
      },
      {
        "duration": 12,
        "start_time": "2025-03-19T16:29:39.841Z"
      },
      {
        "duration": 15,
        "start_time": "2025-03-19T16:29:40.081Z"
      },
      {
        "duration": 16,
        "start_time": "2025-03-19T16:29:40.353Z"
      },
      {
        "duration": 6,
        "start_time": "2025-03-19T16:29:40.625Z"
      },
      {
        "duration": 10,
        "start_time": "2025-03-19T16:29:40.897Z"
      },
      {
        "duration": 261,
        "start_time": "2025-03-19T16:29:41.869Z"
      },
      {
        "duration": 167,
        "start_time": "2025-03-19T16:29:42.132Z"
      },
      {
        "duration": 202,
        "start_time": "2025-03-19T16:29:42.677Z"
      },
      {
        "duration": 211,
        "start_time": "2025-03-19T16:29:42.967Z"
      },
      {
        "duration": 106,
        "start_time": "2025-03-19T16:29:43.429Z"
      },
      {
        "duration": 311,
        "start_time": "2025-03-19T16:29:43.733Z"
      },
      {
        "duration": 109,
        "start_time": "2025-03-19T16:29:44.180Z"
      },
      {
        "duration": 9,
        "start_time": "2025-03-19T16:29:44.484Z"
      },
      {
        "duration": 235,
        "start_time": "2025-03-19T16:29:45.033Z"
      },
      {
        "duration": 130,
        "start_time": "2025-03-19T16:29:45.642Z"
      },
      {
        "duration": 945,
        "start_time": "2025-03-19T16:30:26.365Z"
      },
      {
        "duration": 8,
        "start_time": "2025-03-19T16:31:03.688Z"
      },
      {
        "duration": 379,
        "start_time": "2025-03-20T09:49:44.159Z"
      },
      {
        "duration": 226,
        "start_time": "2025-03-20T09:49:44.539Z"
      },
      {
        "duration": 97,
        "start_time": "2025-03-20T09:49:44.767Z"
      },
      {
        "duration": 13,
        "start_time": "2025-03-20T09:49:44.866Z"
      },
      {
        "duration": 11,
        "start_time": "2025-03-20T09:49:45.106Z"
      },
      {
        "duration": 33,
        "start_time": "2025-03-20T09:49:45.891Z"
      },
      {
        "duration": 14,
        "start_time": "2025-03-20T09:49:46.242Z"
      },
      {
        "duration": 17,
        "start_time": "2025-03-20T09:49:46.610Z"
      },
      {
        "duration": 10,
        "start_time": "2025-03-20T09:49:47.042Z"
      },
      {
        "duration": 12,
        "start_time": "2025-03-20T09:49:47.170Z"
      },
      {
        "duration": 14,
        "start_time": "2025-03-20T09:49:47.434Z"
      },
      {
        "duration": 16,
        "start_time": "2025-03-20T09:49:47.723Z"
      },
      {
        "duration": 6,
        "start_time": "2025-03-20T09:49:48.014Z"
      },
      {
        "duration": 9,
        "start_time": "2025-03-20T09:49:48.286Z"
      },
      {
        "duration": 404,
        "start_time": "2025-03-20T09:49:48.986Z"
      },
      {
        "duration": 155,
        "start_time": "2025-03-20T09:49:49.392Z"
      },
      {
        "duration": 196,
        "start_time": "2025-03-20T09:49:49.548Z"
      },
      {
        "duration": 197,
        "start_time": "2025-03-20T09:49:49.821Z"
      },
      {
        "duration": 162,
        "start_time": "2025-03-20T09:49:50.274Z"
      },
      {
        "duration": 709,
        "start_time": "2025-03-20T09:49:50.574Z"
      },
      {
        "duration": 125,
        "start_time": "2025-03-20T09:49:51.289Z"
      },
      {
        "duration": 9,
        "start_time": "2025-03-20T09:49:53.217Z"
      },
      {
        "duration": 231,
        "start_time": "2025-03-20T09:49:53.841Z"
      },
      {
        "duration": 134,
        "start_time": "2025-03-20T09:49:55.726Z"
      },
      {
        "duration": 10,
        "start_time": "2025-03-20T09:50:01.238Z"
      },
      {
        "duration": 12,
        "start_time": "2025-03-20T09:51:30.674Z"
      },
      {
        "duration": 1161,
        "start_time": "2025-03-20T09:55:45.623Z"
      },
      {
        "duration": 1070,
        "start_time": "2025-03-20T09:56:15.359Z"
      },
      {
        "duration": 1304,
        "start_time": "2025-03-20T09:58:39.385Z"
      },
      {
        "duration": 2,
        "start_time": "2025-03-20T09:59:08.214Z"
      },
      {
        "duration": 146,
        "start_time": "2025-03-20T09:59:09.086Z"
      },
      {
        "duration": 62,
        "start_time": "2025-03-20T09:59:09.244Z"
      },
      {
        "duration": 35,
        "start_time": "2025-03-20T09:59:10.238Z"
      },
      {
        "duration": 8,
        "start_time": "2025-03-20T09:59:10.478Z"
      },
      {
        "duration": 39,
        "start_time": "2025-03-20T09:59:11.729Z"
      },
      {
        "duration": 11,
        "start_time": "2025-03-20T09:59:12.034Z"
      },
      {
        "duration": 12,
        "start_time": "2025-03-20T09:59:12.386Z"
      },
      {
        "duration": 8,
        "start_time": "2025-03-20T09:59:12.689Z"
      },
      {
        "duration": 9,
        "start_time": "2025-03-20T09:59:12.817Z"
      },
      {
        "duration": 13,
        "start_time": "2025-03-20T09:59:13.233Z"
      },
      {
        "duration": 15,
        "start_time": "2025-03-20T09:59:13.505Z"
      },
      {
        "duration": 5,
        "start_time": "2025-03-20T09:59:13.862Z"
      },
      {
        "duration": 8,
        "start_time": "2025-03-20T09:59:14.122Z"
      },
      {
        "duration": 1082,
        "start_time": "2025-03-20T09:59:15.413Z"
      },
      {
        "duration": 187,
        "start_time": "2025-03-20T09:59:16.497Z"
      },
      {
        "duration": 155,
        "start_time": "2025-03-20T09:59:16.685Z"
      },
      {
        "duration": 182,
        "start_time": "2025-03-20T09:59:16.841Z"
      },
      {
        "duration": 111,
        "start_time": "2025-03-20T09:59:17.025Z"
      },
      {
        "duration": 1531,
        "start_time": "2025-03-20T09:59:17.338Z"
      },
      {
        "duration": 99,
        "start_time": "2025-03-20T09:59:20.149Z"
      },
      {
        "duration": 8,
        "start_time": "2025-03-20T09:59:22.314Z"
      },
      {
        "duration": 143,
        "start_time": "2025-03-20T09:59:24.073Z"
      },
      {
        "duration": 125,
        "start_time": "2025-03-20T09:59:27.701Z"
      },
      {
        "duration": 16,
        "start_time": "2025-03-20T10:13:07.074Z"
      },
      {
        "duration": 23,
        "start_time": "2025-03-20T10:13:43.322Z"
      },
      {
        "duration": 10,
        "start_time": "2025-03-20T10:13:55.014Z"
      },
      {
        "duration": 13,
        "start_time": "2025-03-20T10:14:20.849Z"
      },
      {
        "duration": 16,
        "start_time": "2025-03-20T10:15:12.946Z"
      },
      {
        "duration": 23,
        "start_time": "2025-03-20T10:15:58.513Z"
      },
      {
        "duration": 18,
        "start_time": "2025-03-20T10:18:23.423Z"
      },
      {
        "duration": 18,
        "start_time": "2025-03-20T10:20:40.437Z"
      },
      {
        "duration": 20,
        "start_time": "2025-03-20T10:22:05.113Z"
      },
      {
        "duration": 16,
        "start_time": "2025-03-20T10:22:32.704Z"
      },
      {
        "duration": 1499,
        "start_time": "2025-03-20T10:25:18.120Z"
      },
      {
        "duration": 24,
        "start_time": "2025-03-20T10:25:28.772Z"
      },
      {
        "duration": 23,
        "start_time": "2025-03-20T10:25:37.431Z"
      },
      {
        "duration": 1359,
        "start_time": "2025-03-20T10:25:41.539Z"
      },
      {
        "duration": 17,
        "start_time": "2025-03-20T10:26:37.707Z"
      },
      {
        "duration": 13,
        "start_time": "2025-03-20T10:29:46.836Z"
      },
      {
        "duration": 19,
        "start_time": "2025-03-20T10:30:37.942Z"
      },
      {
        "duration": 19,
        "start_time": "2025-03-20T10:31:07.610Z"
      },
      {
        "duration": 66245,
        "start_time": "2025-03-20T10:32:26.543Z"
      },
      {
        "duration": 66249,
        "start_time": "2025-03-20T10:33:32.790Z"
      },
      {
        "duration": 20,
        "start_time": "2025-03-20T10:40:12.537Z"
      },
      {
        "duration": 217,
        "start_time": "2025-03-20T10:40:27.740Z"
      },
      {
        "duration": 235,
        "start_time": "2025-03-20T10:43:14.596Z"
      },
      {
        "duration": 14,
        "start_time": "2025-03-20T10:48:20.986Z"
      },
      {
        "duration": 12,
        "start_time": "2025-03-20T10:58:44.913Z"
      },
      {
        "duration": 22,
        "start_time": "2025-03-20T10:59:35.672Z"
      },
      {
        "duration": 192,
        "start_time": "2025-03-20T10:59:41.312Z"
      },
      {
        "duration": 182,
        "start_time": "2025-03-20T11:00:31.412Z"
      },
      {
        "duration": 40214,
        "start_time": "2025-03-20T11:01:48.332Z"
      },
      {
        "duration": 33541,
        "start_time": "2025-03-20T11:02:28.548Z"
      },
      {
        "duration": 148,
        "start_time": "2025-03-20T11:03:31.884Z"
      },
      {
        "duration": 1758,
        "start_time": "2025-03-20T11:05:10.884Z"
      },
      {
        "duration": 3,
        "start_time": "2025-03-20T11:08:39.931Z"
      },
      {
        "duration": 131,
        "start_time": "2025-03-20T11:08:40.347Z"
      },
      {
        "duration": 86,
        "start_time": "2025-03-20T11:08:40.506Z"
      },
      {
        "duration": 32,
        "start_time": "2025-03-20T11:08:40.683Z"
      },
      {
        "duration": 8,
        "start_time": "2025-03-20T11:08:40.859Z"
      },
      {
        "duration": 42,
        "start_time": "2025-03-20T11:08:42.779Z"
      },
      {
        "duration": 13,
        "start_time": "2025-03-20T11:08:43.134Z"
      },
      {
        "duration": 14,
        "start_time": "2025-03-20T11:08:43.502Z"
      },
      {
        "duration": 9,
        "start_time": "2025-03-20T11:08:43.759Z"
      },
      {
        "duration": 11,
        "start_time": "2025-03-20T11:08:43.887Z"
      },
      {
        "duration": 13,
        "start_time": "2025-03-20T11:08:44.174Z"
      },
      {
        "duration": 15,
        "start_time": "2025-03-20T11:08:44.447Z"
      },
      {
        "duration": 5,
        "start_time": "2025-03-20T11:08:44.718Z"
      },
      {
        "duration": 8,
        "start_time": "2025-03-20T11:08:44.991Z"
      },
      {
        "duration": 826,
        "start_time": "2025-03-20T11:08:45.710Z"
      },
      {
        "duration": 236,
        "start_time": "2025-03-20T11:08:46.538Z"
      },
      {
        "duration": 169,
        "start_time": "2025-03-20T11:08:46.775Z"
      },
      {
        "duration": 207,
        "start_time": "2025-03-20T11:08:46.946Z"
      },
      {
        "duration": 115,
        "start_time": "2025-03-20T11:08:47.236Z"
      },
      {
        "duration": 1668,
        "start_time": "2025-03-20T11:08:48.663Z"
      },
      {
        "duration": 0,
        "start_time": "2025-03-20T11:08:50.332Z"
      },
      {
        "duration": 10,
        "start_time": "2025-03-20T11:08:52.738Z"
      },
      {
        "duration": 146,
        "start_time": "2025-03-20T11:08:53.515Z"
      },
      {
        "duration": 131,
        "start_time": "2025-03-20T11:08:57.539Z"
      },
      {
        "duration": 26,
        "start_time": "2025-03-20T11:09:01.414Z"
      },
      {
        "duration": 172,
        "start_time": "2025-03-20T11:09:04.243Z"
      },
      {
        "duration": 190,
        "start_time": "2025-03-20T11:09:36.527Z"
      },
      {
        "duration": 39864,
        "start_time": "2025-03-20T11:11:22.231Z"
      },
      {
        "duration": 2,
        "start_time": "2025-03-20T11:18:57.709Z"
      },
      {
        "duration": 146,
        "start_time": "2025-03-20T11:21:32.778Z"
      },
      {
        "duration": 12,
        "start_time": "2025-03-20T11:22:53.159Z"
      },
      {
        "duration": 144,
        "start_time": "2025-03-20T11:23:15.203Z"
      },
      {
        "duration": 136,
        "start_time": "2025-03-20T11:24:29.959Z"
      },
      {
        "duration": 86,
        "start_time": "2025-03-20T11:25:03.063Z"
      },
      {
        "duration": 76,
        "start_time": "2025-03-20T11:25:09.551Z"
      },
      {
        "duration": 138,
        "start_time": "2025-03-20T11:25:37.878Z"
      },
      {
        "duration": 78,
        "start_time": "2025-03-20T11:26:14.534Z"
      },
      {
        "duration": 141,
        "start_time": "2025-03-20T11:27:10.326Z"
      },
      {
        "duration": 22,
        "start_time": "2025-03-20T11:28:09.426Z"
      },
      {
        "duration": 155,
        "start_time": "2025-03-20T11:29:02.013Z"
      },
      {
        "duration": 176,
        "start_time": "2025-03-20T11:29:10.749Z"
      },
      {
        "duration": 127,
        "start_time": "2025-03-20T11:59:59.497Z"
      },
      {
        "duration": 147,
        "start_time": "2025-03-20T12:00:15.972Z"
      },
      {
        "duration": 135,
        "start_time": "2025-03-20T12:01:32.676Z"
      },
      {
        "duration": 126,
        "start_time": "2025-03-20T12:01:54.383Z"
      },
      {
        "duration": 23,
        "start_time": "2025-03-20T12:02:25.431Z"
      },
      {
        "duration": 143,
        "start_time": "2025-03-20T12:02:51.991Z"
      },
      {
        "duration": 21,
        "start_time": "2025-03-20T12:18:28.917Z"
      },
      {
        "duration": 179,
        "start_time": "2025-03-20T12:18:38.583Z"
      },
      {
        "duration": 156,
        "start_time": "2025-03-20T12:18:55.976Z"
      },
      {
        "duration": 21,
        "start_time": "2025-03-20T12:19:07.736Z"
      },
      {
        "duration": 148,
        "start_time": "2025-03-20T12:19:20.361Z"
      },
      {
        "duration": 33205,
        "start_time": "2025-03-20T12:20:08.084Z"
      },
      {
        "duration": 156,
        "start_time": "2025-03-20T12:21:20.179Z"
      },
      {
        "duration": 182,
        "start_time": "2025-03-20T12:22:39.896Z"
      },
      {
        "duration": 152,
        "start_time": "2025-03-20T12:22:58.944Z"
      },
      {
        "duration": 423,
        "start_time": "2025-03-21T09:54:08.918Z"
      },
      {
        "duration": 112,
        "start_time": "2025-03-21T09:54:09.462Z"
      },
      {
        "duration": 89,
        "start_time": "2025-03-21T09:54:09.790Z"
      },
      {
        "duration": 16,
        "start_time": "2025-03-21T09:54:13.034Z"
      },
      {
        "duration": 11,
        "start_time": "2025-03-21T09:54:13.186Z"
      },
      {
        "duration": 36,
        "start_time": "2025-03-21T09:54:13.826Z"
      },
      {
        "duration": 14,
        "start_time": "2025-03-21T09:54:14.378Z"
      },
      {
        "duration": 14,
        "start_time": "2025-03-21T09:54:14.686Z"
      },
      {
        "duration": 10,
        "start_time": "2025-03-21T09:54:14.958Z"
      },
      {
        "duration": 13,
        "start_time": "2025-03-21T09:54:15.086Z"
      },
      {
        "duration": 15,
        "start_time": "2025-03-21T09:54:15.342Z"
      },
      {
        "duration": 17,
        "start_time": "2025-03-21T09:54:15.566Z"
      },
      {
        "duration": 7,
        "start_time": "2025-03-21T09:54:15.806Z"
      },
      {
        "duration": 10,
        "start_time": "2025-03-21T09:54:16.173Z"
      },
      {
        "duration": 412,
        "start_time": "2025-03-21T09:54:16.927Z"
      },
      {
        "duration": 167,
        "start_time": "2025-03-21T09:54:17.341Z"
      },
      {
        "duration": 202,
        "start_time": "2025-03-21T09:54:17.510Z"
      },
      {
        "duration": 206,
        "start_time": "2025-03-21T09:54:17.786Z"
      },
      {
        "duration": 167,
        "start_time": "2025-03-21T09:54:18.238Z"
      },
      {
        "duration": 783,
        "start_time": "2025-03-21T09:54:18.559Z"
      },
      {
        "duration": 121,
        "start_time": "2025-03-21T09:54:19.345Z"
      },
      {
        "duration": 10,
        "start_time": "2025-03-21T09:54:20.646Z"
      },
      {
        "duration": 216,
        "start_time": "2025-03-21T09:54:22.434Z"
      },
      {
        "duration": 145,
        "start_time": "2025-03-21T09:54:24.746Z"
      },
      {
        "duration": 30,
        "start_time": "2025-03-21T09:54:30.147Z"
      },
      {
        "duration": 198,
        "start_time": "2025-03-21T09:54:31.086Z"
      },
      {
        "duration": 177,
        "start_time": "2025-03-21T09:54:32.334Z"
      },
      {
        "duration": 187,
        "start_time": "2025-03-21T09:58:08.347Z"
      },
      {
        "duration": 177,
        "start_time": "2025-03-21T09:58:24.426Z"
      },
      {
        "duration": 0,
        "start_time": "2025-03-21T10:04:44.426Z"
      },
      {
        "duration": 189,
        "start_time": "2025-03-21T10:04:46.181Z"
      },
      {
        "duration": 137,
        "start_time": "2025-03-21T10:07:59.484Z"
      },
      {
        "duration": 207,
        "start_time": "2025-03-21T10:09:33.454Z"
      },
      {
        "duration": 16,
        "start_time": "2025-03-21T10:14:45.343Z"
      },
      {
        "duration": 9,
        "start_time": "2025-03-21T10:15:36.418Z"
      },
      {
        "duration": 12,
        "start_time": "2025-03-21T10:18:00.608Z"
      },
      {
        "duration": 24,
        "start_time": "2025-03-21T10:18:10.356Z"
      },
      {
        "duration": 24,
        "start_time": "2025-03-21T10:20:10.883Z"
      },
      {
        "duration": 207,
        "start_time": "2025-03-21T10:44:08.609Z"
      },
      {
        "duration": 204,
        "start_time": "2025-03-21T10:44:19.415Z"
      },
      {
        "duration": 426,
        "start_time": "2025-03-21T11:39:23.312Z"
      },
      {
        "duration": 119,
        "start_time": "2025-03-21T11:39:23.739Z"
      },
      {
        "duration": 53,
        "start_time": "2025-03-21T11:39:23.859Z"
      },
      {
        "duration": 34,
        "start_time": "2025-03-21T11:39:23.914Z"
      },
      {
        "duration": 14,
        "start_time": "2025-03-21T11:39:23.949Z"
      },
      {
        "duration": 47,
        "start_time": "2025-03-21T11:39:23.965Z"
      },
      {
        "duration": 29,
        "start_time": "2025-03-21T11:39:24.013Z"
      },
      {
        "duration": 16,
        "start_time": "2025-03-21T11:39:24.044Z"
      },
      {
        "duration": 13,
        "start_time": "2025-03-21T11:39:24.062Z"
      },
      {
        "duration": 11,
        "start_time": "2025-03-21T11:39:24.078Z"
      },
      {
        "duration": 51,
        "start_time": "2025-03-21T11:39:24.090Z"
      },
      {
        "duration": 48,
        "start_time": "2025-03-21T11:39:24.143Z"
      },
      {
        "duration": 86,
        "start_time": "2025-03-21T11:39:24.194Z"
      },
      {
        "duration": 6,
        "start_time": "2025-03-21T11:39:24.282Z"
      },
      {
        "duration": 70,
        "start_time": "2025-03-21T11:39:24.289Z"
      },
      {
        "duration": 234,
        "start_time": "2025-03-21T11:39:24.361Z"
      },
      {
        "duration": 170,
        "start_time": "2025-03-21T11:39:24.597Z"
      },
      {
        "duration": 194,
        "start_time": "2025-03-21T11:39:24.768Z"
      },
      {
        "duration": 236,
        "start_time": "2025-03-21T11:39:24.964Z"
      },
      {
        "duration": 119,
        "start_time": "2025-03-21T11:39:25.203Z"
      },
      {
        "duration": 774,
        "start_time": "2025-03-21T11:39:25.323Z"
      },
      {
        "duration": 147,
        "start_time": "2025-03-21T11:39:26.099Z"
      },
      {
        "duration": 8,
        "start_time": "2025-03-21T11:39:26.248Z"
      },
      {
        "duration": 178,
        "start_time": "2025-03-21T11:39:26.258Z"
      },
      {
        "duration": 161,
        "start_time": "2025-03-21T11:39:26.437Z"
      },
      {
        "duration": 114,
        "start_time": "2025-03-21T11:43:09.875Z"
      },
      {
        "duration": 12,
        "start_time": "2025-03-21T11:46:55.036Z"
      },
      {
        "duration": 3720,
        "start_time": "2025-03-21T11:47:09.570Z"
      },
      {
        "duration": 361,
        "start_time": "2025-03-21T12:02:35.299Z"
      },
      {
        "duration": 138,
        "start_time": "2025-03-21T12:02:35.663Z"
      },
      {
        "duration": 61,
        "start_time": "2025-03-21T12:02:35.802Z"
      },
      {
        "duration": 14,
        "start_time": "2025-03-21T12:02:35.864Z"
      },
      {
        "duration": 52,
        "start_time": "2025-03-21T12:02:35.879Z"
      },
      {
        "duration": 117,
        "start_time": "2025-03-21T12:02:35.932Z"
      },
      {
        "duration": 14,
        "start_time": "2025-03-21T12:02:36.051Z"
      },
      {
        "duration": 23,
        "start_time": "2025-03-21T12:02:36.067Z"
      },
      {
        "duration": 9,
        "start_time": "2025-03-21T12:02:36.092Z"
      },
      {
        "duration": 17,
        "start_time": "2025-03-21T12:02:36.103Z"
      },
      {
        "duration": 27,
        "start_time": "2025-03-21T12:02:36.121Z"
      },
      {
        "duration": 29,
        "start_time": "2025-03-21T12:02:36.150Z"
      },
      {
        "duration": 17,
        "start_time": "2025-03-21T12:02:36.181Z"
      },
      {
        "duration": 19,
        "start_time": "2025-03-21T12:02:36.200Z"
      },
      {
        "duration": 17,
        "start_time": "2025-03-21T12:02:36.221Z"
      },
      {
        "duration": 450,
        "start_time": "2025-03-21T12:02:36.248Z"
      },
      {
        "duration": 157,
        "start_time": "2025-03-21T12:02:36.699Z"
      },
      {
        "duration": 195,
        "start_time": "2025-03-21T12:02:36.858Z"
      },
      {
        "duration": 215,
        "start_time": "2025-03-21T12:02:37.055Z"
      },
      {
        "duration": 118,
        "start_time": "2025-03-21T12:02:37.272Z"
      },
      {
        "duration": 974,
        "start_time": "2025-03-21T12:02:37.392Z"
      },
      {
        "duration": 292,
        "start_time": "2025-03-21T12:02:38.367Z"
      },
      {
        "duration": 8,
        "start_time": "2025-03-21T12:02:38.661Z"
      },
      {
        "duration": 388,
        "start_time": "2025-03-21T12:02:38.670Z"
      },
      {
        "duration": 313,
        "start_time": "2025-03-21T12:02:39.059Z"
      },
      {
        "duration": 46,
        "start_time": "2025-03-21T12:33:49.914Z"
      },
      {
        "duration": 398,
        "start_time": "2025-03-21T12:36:45.502Z"
      },
      {
        "duration": 400,
        "start_time": "2025-03-21T12:54:06.046Z"
      },
      {
        "duration": 141,
        "start_time": "2025-03-21T12:54:06.448Z"
      },
      {
        "duration": 39,
        "start_time": "2025-03-21T12:54:06.590Z"
      },
      {
        "duration": 13,
        "start_time": "2025-03-21T12:54:06.631Z"
      },
      {
        "duration": 10,
        "start_time": "2025-03-21T12:54:06.646Z"
      },
      {
        "duration": 34,
        "start_time": "2025-03-21T12:54:06.657Z"
      },
      {
        "duration": 7,
        "start_time": "2025-03-21T12:54:06.693Z"
      },
      {
        "duration": 35,
        "start_time": "2025-03-21T12:54:06.702Z"
      },
      {
        "duration": 16,
        "start_time": "2025-03-21T12:54:06.739Z"
      },
      {
        "duration": 10,
        "start_time": "2025-03-21T12:54:06.757Z"
      },
      {
        "duration": 31,
        "start_time": "2025-03-21T12:54:06.768Z"
      },
      {
        "duration": 318,
        "start_time": "2025-03-21T12:54:06.800Z"
      },
      {
        "duration": 23,
        "start_time": "2025-03-21T12:54:07.120Z"
      },
      {
        "duration": 29,
        "start_time": "2025-03-21T12:54:07.147Z"
      },
      {
        "duration": 15,
        "start_time": "2025-03-21T12:54:07.178Z"
      },
      {
        "duration": 10,
        "start_time": "2025-03-21T12:54:07.195Z"
      },
      {
        "duration": 38,
        "start_time": "2025-03-21T12:54:07.206Z"
      },
      {
        "duration": 5,
        "start_time": "2025-03-21T12:54:07.246Z"
      },
      {
        "duration": 3,
        "start_time": "2025-03-21T12:54:07.252Z"
      },
      {
        "duration": 180,
        "start_time": "2025-03-21T12:54:07.257Z"
      },
      {
        "duration": 193,
        "start_time": "2025-03-21T12:54:07.439Z"
      },
      {
        "duration": 212,
        "start_time": "2025-03-21T12:54:07.634Z"
      },
      {
        "duration": 178,
        "start_time": "2025-03-21T12:54:07.847Z"
      },
      {
        "duration": 680,
        "start_time": "2025-03-21T12:54:08.026Z"
      },
      {
        "duration": 110,
        "start_time": "2025-03-21T12:54:08.708Z"
      },
      {
        "duration": 20,
        "start_time": "2025-03-21T12:54:08.819Z"
      },
      {
        "duration": 211,
        "start_time": "2025-03-21T12:54:08.841Z"
      },
      {
        "duration": 143,
        "start_time": "2025-03-21T12:54:09.054Z"
      },
      {
        "duration": 47,
        "start_time": "2025-03-21T13:25:04.724Z"
      },
      {
        "duration": 7,
        "start_time": "2025-03-21T13:25:14.236Z"
      },
      {
        "duration": 393,
        "start_time": "2025-03-21T13:25:20.354Z"
      },
      {
        "duration": 114,
        "start_time": "2025-03-21T13:25:20.749Z"
      },
      {
        "duration": 69,
        "start_time": "2025-03-21T13:25:20.865Z"
      },
      {
        "duration": 12,
        "start_time": "2025-03-21T13:25:20.935Z"
      },
      {
        "duration": 10,
        "start_time": "2025-03-21T13:25:20.949Z"
      },
      {
        "duration": 33,
        "start_time": "2025-03-21T13:25:20.960Z"
      },
      {
        "duration": 5,
        "start_time": "2025-03-21T13:25:20.995Z"
      },
      {
        "duration": 44,
        "start_time": "2025-03-21T13:25:21.002Z"
      },
      {
        "duration": 15,
        "start_time": "2025-03-21T13:25:21.047Z"
      },
      {
        "duration": 9,
        "start_time": "2025-03-21T13:25:21.063Z"
      },
      {
        "duration": 10,
        "start_time": "2025-03-21T13:25:21.073Z"
      },
      {
        "duration": 309,
        "start_time": "2025-03-21T13:25:21.085Z"
      },
      {
        "duration": 14,
        "start_time": "2025-03-21T13:25:21.396Z"
      },
      {
        "duration": 33,
        "start_time": "2025-03-21T13:25:21.413Z"
      },
      {
        "duration": 12,
        "start_time": "2025-03-21T13:25:21.447Z"
      },
      {
        "duration": 5,
        "start_time": "2025-03-21T13:25:21.461Z"
      },
      {
        "duration": 8,
        "start_time": "2025-03-21T13:25:21.467Z"
      },
      {
        "duration": 5,
        "start_time": "2025-03-21T13:25:21.476Z"
      },
      {
        "duration": 12,
        "start_time": "2025-03-21T13:25:21.483Z"
      },
      {
        "duration": 2,
        "start_time": "2025-03-21T13:25:21.496Z"
      },
      {
        "duration": 182,
        "start_time": "2025-03-21T13:25:21.500Z"
      },
      {
        "duration": 190,
        "start_time": "2025-03-21T13:25:21.684Z"
      },
      {
        "duration": 203,
        "start_time": "2025-03-21T13:25:21.876Z"
      },
      {
        "duration": 165,
        "start_time": "2025-03-21T13:25:22.080Z"
      },
      {
        "duration": 667,
        "start_time": "2025-03-21T13:25:22.247Z"
      },
      {
        "duration": 114,
        "start_time": "2025-03-21T13:25:22.916Z"
      },
      {
        "duration": 7,
        "start_time": "2025-03-21T13:25:23.032Z"
      },
      {
        "duration": 216,
        "start_time": "2025-03-21T13:25:23.041Z"
      },
      {
        "duration": 138,
        "start_time": "2025-03-21T13:25:23.259Z"
      },
      {
        "duration": 372,
        "start_time": "2025-03-21T15:16:49.087Z"
      },
      {
        "duration": 193,
        "start_time": "2025-03-21T15:16:50.052Z"
      },
      {
        "duration": 55,
        "start_time": "2025-03-21T15:16:50.540Z"
      },
      {
        "duration": 14,
        "start_time": "2025-03-21T15:16:52.396Z"
      },
      {
        "duration": 12,
        "start_time": "2025-03-21T15:16:55.007Z"
      },
      {
        "duration": 74,
        "start_time": "2025-03-21T15:16:55.860Z"
      },
      {
        "duration": 18,
        "start_time": "2025-03-21T15:17:14.688Z"
      },
      {
        "duration": 10,
        "start_time": "2025-03-21T15:17:21.080Z"
      },
      {
        "duration": 7,
        "start_time": "2025-03-21T15:27:27.898Z"
      },
      {
        "duration": 32,
        "start_time": "2025-03-21T15:27:39.609Z"
      },
      {
        "duration": 5,
        "start_time": "2025-03-21T15:27:44.329Z"
      },
      {
        "duration": 15,
        "start_time": "2025-03-21T15:29:56.276Z"
      },
      {
        "duration": 17,
        "start_time": "2025-03-21T15:29:58.648Z"
      },
      {
        "duration": 16,
        "start_time": "2025-03-21T15:30:10.990Z"
      },
      {
        "duration": 9,
        "start_time": "2025-03-21T15:30:22.305Z"
      },
      {
        "duration": 36,
        "start_time": "2025-03-21T15:30:23.042Z"
      },
      {
        "duration": 1344,
        "start_time": "2025-03-21T15:34:39.829Z"
      },
      {
        "duration": 15,
        "start_time": "2025-03-21T15:34:57.660Z"
      },
      {
        "duration": 27,
        "start_time": "2025-03-21T15:35:01.221Z"
      },
      {
        "duration": 13,
        "start_time": "2025-03-21T15:35:03.086Z"
      },
      {
        "duration": 6,
        "start_time": "2025-03-21T15:35:04.832Z"
      },
      {
        "duration": 10,
        "start_time": "2025-03-21T15:35:06.840Z"
      },
      {
        "duration": 6,
        "start_time": "2025-03-21T15:35:09.456Z"
      },
      {
        "duration": 6,
        "start_time": "2025-03-21T15:35:17.644Z"
      },
      {
        "duration": 5,
        "start_time": "2025-03-21T15:35:38.621Z"
      },
      {
        "duration": 430,
        "start_time": "2025-03-21T15:36:21.367Z"
      },
      {
        "duration": 8,
        "start_time": "2025-03-21T15:37:11.748Z"
      },
      {
        "duration": 20,
        "start_time": "2025-03-21T15:38:33.060Z"
      },
      {
        "duration": 7,
        "start_time": "2025-03-21T15:38:57.936Z"
      },
      {
        "duration": 6,
        "start_time": "2025-03-21T15:42:42.986Z"
      },
      {
        "duration": 9,
        "start_time": "2025-03-21T15:42:47.626Z"
      },
      {
        "duration": 131,
        "start_time": "2025-03-21T15:43:26.485Z"
      },
      {
        "duration": 115,
        "start_time": "2025-03-21T15:43:47.094Z"
      },
      {
        "duration": 174,
        "start_time": "2025-03-21T15:45:58.894Z"
      },
      {
        "duration": 12,
        "start_time": "2025-03-21T15:46:18.001Z"
      },
      {
        "duration": 10,
        "start_time": "2025-03-21T15:46:49.976Z"
      },
      {
        "duration": 99,
        "start_time": "2025-03-21T15:46:55.784Z"
      },
      {
        "duration": 173,
        "start_time": "2025-03-21T15:47:25.644Z"
      },
      {
        "duration": 214,
        "start_time": "2025-03-21T15:48:06.012Z"
      },
      {
        "duration": 180,
        "start_time": "2025-03-21T15:48:22.879Z"
      },
      {
        "duration": 184,
        "start_time": "2025-03-21T15:48:55.031Z"
      },
      {
        "duration": 187,
        "start_time": "2025-03-21T15:49:12.935Z"
      },
      {
        "duration": 195,
        "start_time": "2025-03-21T15:50:07.947Z"
      },
      {
        "duration": 5,
        "start_time": "2025-03-21T15:50:12.059Z"
      },
      {
        "duration": 191,
        "start_time": "2025-03-21T15:51:49.315Z"
      },
      {
        "duration": 185,
        "start_time": "2025-03-21T15:51:56.054Z"
      },
      {
        "duration": 192,
        "start_time": "2025-03-21T15:53:59.045Z"
      },
      {
        "duration": 176,
        "start_time": "2025-03-21T15:54:20.492Z"
      },
      {
        "duration": 181,
        "start_time": "2025-03-21T15:54:26.929Z"
      },
      {
        "duration": 197,
        "start_time": "2025-03-21T15:55:18.000Z"
      },
      {
        "duration": 261,
        "start_time": "2025-03-21T15:55:19.924Z"
      },
      {
        "duration": 7,
        "start_time": "2025-03-21T15:55:30.835Z"
      },
      {
        "duration": 5,
        "start_time": "2025-03-21T15:56:04.052Z"
      },
      {
        "duration": 5,
        "start_time": "2025-03-21T15:56:25.372Z"
      },
      {
        "duration": 5,
        "start_time": "2025-03-21T15:56:53.875Z"
      },
      {
        "duration": 6,
        "start_time": "2025-03-21T15:57:04.407Z"
      },
      {
        "duration": 116,
        "start_time": "2025-03-21T15:57:34.580Z"
      },
      {
        "duration": 118,
        "start_time": "2025-03-21T15:58:41.071Z"
      },
      {
        "duration": 512,
        "start_time": "2025-03-21T16:00:01.466Z"
      },
      {
        "duration": 47,
        "start_time": "2025-03-21T16:00:57.653Z"
      },
      {
        "duration": 314,
        "start_time": "2025-03-21T16:02:21.690Z"
      },
      {
        "duration": 141,
        "start_time": "2025-03-21T16:04:03.274Z"
      },
      {
        "duration": 186,
        "start_time": "2025-03-21T16:04:54.681Z"
      },
      {
        "duration": 8,
        "start_time": "2025-03-21T16:06:36.321Z"
      },
      {
        "duration": 8,
        "start_time": "2025-03-21T16:06:42.034Z"
      },
      {
        "duration": 6,
        "start_time": "2025-03-21T16:06:45.321Z"
      },
      {
        "duration": 0,
        "start_time": "2025-03-21T16:09:06.483Z"
      },
      {
        "duration": 14,
        "start_time": "2025-03-21T16:09:44.264Z"
      },
      {
        "duration": 37,
        "start_time": "2025-03-21T16:09:55.880Z"
      },
      {
        "duration": 23,
        "start_time": "2025-03-21T16:10:01.800Z"
      },
      {
        "duration": 21,
        "start_time": "2025-03-21T16:10:56.766Z"
      },
      {
        "duration": 7,
        "start_time": "2025-03-21T16:11:08.080Z"
      },
      {
        "duration": 14,
        "start_time": "2025-03-21T16:11:38.300Z"
      },
      {
        "duration": 4,
        "start_time": "2025-03-21T16:12:08.440Z"
      },
      {
        "duration": 10,
        "start_time": "2025-03-21T16:12:17.352Z"
      },
      {
        "duration": 6,
        "start_time": "2025-03-21T16:12:45.695Z"
      },
      {
        "duration": 6,
        "start_time": "2025-03-21T16:13:09.704Z"
      },
      {
        "duration": 12,
        "start_time": "2025-03-21T16:13:57.299Z"
      },
      {
        "duration": 8,
        "start_time": "2025-03-21T16:14:24.235Z"
      },
      {
        "duration": 24,
        "start_time": "2025-03-21T16:15:26.819Z"
      },
      {
        "duration": 8,
        "start_time": "2025-03-21T16:15:43.083Z"
      },
      {
        "duration": 9,
        "start_time": "2025-03-21T16:15:53.654Z"
      },
      {
        "duration": 10,
        "start_time": "2025-03-21T16:16:08.038Z"
      },
      {
        "duration": 9,
        "start_time": "2025-03-21T16:16:17.821Z"
      },
      {
        "duration": 8,
        "start_time": "2025-03-21T16:16:22.586Z"
      },
      {
        "duration": 13,
        "start_time": "2025-03-21T16:17:15.581Z"
      },
      {
        "duration": 11,
        "start_time": "2025-03-21T16:17:21.462Z"
      },
      {
        "duration": 246,
        "start_time": "2025-03-21T16:19:12.505Z"
      },
      {
        "duration": 7,
        "start_time": "2025-03-21T16:21:49.008Z"
      },
      {
        "duration": 9,
        "start_time": "2025-03-21T16:22:04.756Z"
      },
      {
        "duration": 22,
        "start_time": "2025-03-21T16:22:20.076Z"
      },
      {
        "duration": 8,
        "start_time": "2025-03-21T16:22:25.548Z"
      },
      {
        "duration": 133,
        "start_time": "2025-03-21T16:23:21.331Z"
      },
      {
        "duration": 24,
        "start_time": "2025-03-21T16:23:36.470Z"
      },
      {
        "duration": 137,
        "start_time": "2025-03-21T16:26:14.343Z"
      },
      {
        "duration": 143,
        "start_time": "2025-03-21T16:27:01.605Z"
      },
      {
        "duration": 127,
        "start_time": "2025-03-21T16:28:14.521Z"
      },
      {
        "duration": 112,
        "start_time": "2025-03-21T16:28:40.396Z"
      },
      {
        "duration": 138,
        "start_time": "2025-03-21T16:28:52.188Z"
      },
      {
        "duration": 93,
        "start_time": "2025-03-21T16:29:57.156Z"
      },
      {
        "duration": 399,
        "start_time": "2025-03-21T16:30:07.980Z"
      },
      {
        "duration": 134,
        "start_time": "2025-03-21T16:30:22.696Z"
      },
      {
        "duration": 153,
        "start_time": "2025-03-21T16:31:14.732Z"
      },
      {
        "duration": 145,
        "start_time": "2025-03-21T16:31:20.835Z"
      },
      {
        "duration": 12,
        "start_time": "2025-03-21T16:31:32.584Z"
      },
      {
        "duration": 148,
        "start_time": "2025-03-21T16:31:44.128Z"
      },
      {
        "duration": 21428,
        "start_time": "2025-03-21T16:33:35.171Z"
      },
      {
        "duration": 146,
        "start_time": "2025-03-21T16:34:01.987Z"
      },
      {
        "duration": 166,
        "start_time": "2025-03-21T16:37:33.925Z"
      },
      {
        "duration": 126,
        "start_time": "2025-03-21T16:37:52.280Z"
      },
      {
        "duration": 395,
        "start_time": "2025-03-21T16:39:01.876Z"
      },
      {
        "duration": 142,
        "start_time": "2025-03-21T16:39:10.012Z"
      },
      {
        "duration": 128,
        "start_time": "2025-03-21T16:39:23.476Z"
      },
      {
        "duration": 146,
        "start_time": "2025-03-21T16:39:55.095Z"
      },
      {
        "duration": 134,
        "start_time": "2025-03-21T16:41:29.043Z"
      },
      {
        "duration": 138,
        "start_time": "2025-03-21T16:41:57.367Z"
      },
      {
        "duration": 141,
        "start_time": "2025-03-21T16:42:02.867Z"
      },
      {
        "duration": 205,
        "start_time": "2025-03-21T16:43:51.506Z"
      },
      {
        "duration": 231,
        "start_time": "2025-03-21T16:44:06.147Z"
      },
      {
        "duration": 11,
        "start_time": "2025-03-21T16:46:14.765Z"
      },
      {
        "duration": 185,
        "start_time": "2025-03-21T16:46:19.562Z"
      },
      {
        "duration": 15,
        "start_time": "2025-03-21T16:47:05.293Z"
      },
      {
        "duration": 16,
        "start_time": "2025-03-21T16:47:25.196Z"
      },
      {
        "duration": 15,
        "start_time": "2025-03-21T16:47:56.573Z"
      },
      {
        "duration": 14,
        "start_time": "2025-03-21T16:48:10.789Z"
      },
      {
        "duration": 394,
        "start_time": "2025-03-21T16:48:24.508Z"
      },
      {
        "duration": 130,
        "start_time": "2025-03-21T16:48:46.852Z"
      },
      {
        "duration": 12,
        "start_time": "2025-03-21T16:48:55.780Z"
      },
      {
        "duration": 13,
        "start_time": "2025-03-21T16:49:12.992Z"
      },
      {
        "duration": 15,
        "start_time": "2025-03-21T16:49:23.139Z"
      },
      {
        "duration": 14,
        "start_time": "2025-03-21T16:50:16.100Z"
      },
      {
        "duration": 125,
        "start_time": "2025-03-21T16:50:36.187Z"
      },
      {
        "duration": 14,
        "start_time": "2025-03-21T16:54:32.161Z"
      },
      {
        "duration": 22,
        "start_time": "2025-03-21T16:54:44.177Z"
      },
      {
        "duration": 22,
        "start_time": "2025-03-21T16:55:00.810Z"
      },
      {
        "duration": 103,
        "start_time": "2025-03-21T16:55:26.965Z"
      },
      {
        "duration": 110,
        "start_time": "2025-03-21T16:55:41.525Z"
      },
      {
        "duration": 113,
        "start_time": "2025-03-21T16:55:53.253Z"
      },
      {
        "duration": 114,
        "start_time": "2025-03-21T16:58:51.904Z"
      },
      {
        "duration": 137,
        "start_time": "2025-03-21T16:59:11.384Z"
      },
      {
        "duration": 110,
        "start_time": "2025-03-21T17:02:01.047Z"
      },
      {
        "duration": 10,
        "start_time": "2025-03-21T17:04:08.946Z"
      },
      {
        "duration": 145,
        "start_time": "2025-03-21T17:04:49.788Z"
      },
      {
        "duration": 5,
        "start_time": "2025-03-21T17:04:53.793Z"
      },
      {
        "duration": 10,
        "start_time": "2025-03-21T17:10:24.666Z"
      },
      {
        "duration": 141,
        "start_time": "2025-03-21T17:10:31.439Z"
      },
      {
        "duration": 28,
        "start_time": "2025-03-21T17:10:44.471Z"
      },
      {
        "duration": 3718,
        "start_time": "2025-03-21T17:14:53.020Z"
      },
      {
        "duration": 4,
        "start_time": "2025-03-21T17:15:02.737Z"
      },
      {
        "duration": 49,
        "start_time": "2025-03-21T17:25:10.162Z"
      },
      {
        "duration": 1199,
        "start_time": "2025-03-21T17:25:27.297Z"
      },
      {
        "duration": 120,
        "start_time": "2025-03-21T17:25:28.498Z"
      },
      {
        "duration": 49,
        "start_time": "2025-03-21T17:25:28.619Z"
      },
      {
        "duration": 14,
        "start_time": "2025-03-21T17:25:28.670Z"
      },
      {
        "duration": 14,
        "start_time": "2025-03-21T17:25:29.714Z"
      },
      {
        "duration": 11,
        "start_time": "2025-03-21T17:25:31.245Z"
      },
      {
        "duration": 9,
        "start_time": "2025-03-21T17:25:31.710Z"
      },
      {
        "duration": 28,
        "start_time": "2025-03-21T17:25:34.489Z"
      },
      {
        "duration": 6,
        "start_time": "2025-03-21T17:25:39.129Z"
      },
      {
        "duration": 14,
        "start_time": "2025-03-21T17:25:39.681Z"
      },
      {
        "duration": 14,
        "start_time": "2025-03-21T17:25:42.526Z"
      },
      {
        "duration": 17,
        "start_time": "2025-03-21T17:25:42.926Z"
      },
      {
        "duration": 9,
        "start_time": "2025-03-21T17:25:46.218Z"
      },
      {
        "duration": 11,
        "start_time": "2025-03-21T17:25:46.538Z"
      },
      {
        "duration": 58,
        "start_time": "2025-03-21T17:25:49.094Z"
      },
      {
        "duration": 15,
        "start_time": "2025-03-21T17:25:53.453Z"
      },
      {
        "duration": 25,
        "start_time": "2025-03-21T17:25:59.269Z"
      },
      {
        "duration": 13,
        "start_time": "2025-03-21T17:25:59.741Z"
      },
      {
        "duration": 6,
        "start_time": "2025-03-21T17:26:01.994Z"
      },
      {
        "duration": 10,
        "start_time": "2025-03-21T17:26:03.673Z"
      },
      {
        "duration": 7,
        "start_time": "2025-03-21T17:26:05.605Z"
      },
      {
        "duration": 5,
        "start_time": "2025-03-21T17:26:06.101Z"
      },
      {
        "duration": 6,
        "start_time": "2025-03-21T17:26:08.042Z"
      },
      {
        "duration": 4,
        "start_time": "2025-03-21T17:26:08.610Z"
      },
      {
        "duration": 6,
        "start_time": "2025-03-21T17:26:13.517Z"
      },
      {
        "duration": 6,
        "start_time": "2025-03-21T17:26:13.978Z"
      },
      {
        "duration": 149,
        "start_time": "2025-03-21T17:26:14.346Z"
      },
      {
        "duration": 6,
        "start_time": "2025-03-21T17:26:17.805Z"
      },
      {
        "duration": 7,
        "start_time": "2025-03-21T17:26:18.293Z"
      },
      {
        "duration": 163,
        "start_time": "2025-03-21T17:26:18.749Z"
      },
      {
        "duration": 172,
        "start_time": "2025-03-21T17:26:20.466Z"
      },
      {
        "duration": 184,
        "start_time": "2025-03-21T17:26:23.398Z"
      },
      {
        "duration": 5,
        "start_time": "2025-03-21T17:26:23.734Z"
      },
      {
        "duration": 182,
        "start_time": "2025-03-21T17:26:24.110Z"
      },
      {
        "duration": 6,
        "start_time": "2025-03-21T17:26:26.098Z"
      },
      {
        "duration": 113,
        "start_time": "2025-03-21T17:26:28.593Z"
      },
      {
        "duration": 203,
        "start_time": "2025-03-21T17:26:30.197Z"
      },
      {
        "duration": 229,
        "start_time": "2025-03-21T17:26:33.194Z"
      },
      {
        "duration": 114,
        "start_time": "2025-03-21T17:26:38.953Z"
      },
      {
        "duration": 9,
        "start_time": "2025-03-21T17:26:41.413Z"
      },
      {
        "duration": 168,
        "start_time": "2025-03-21T17:26:43.817Z"
      },
      {
        "duration": 9,
        "start_time": "2025-03-21T17:26:47.236Z"
      },
      {
        "duration": 133,
        "start_time": "2025-03-21T17:26:47.645Z"
      },
      {
        "duration": 7,
        "start_time": "2025-03-21T17:26:49.712Z"
      },
      {
        "duration": 30,
        "start_time": "2025-03-21T17:26:50.177Z"
      },
      {
        "duration": 77,
        "start_time": "2025-03-21T17:26:53.925Z"
      },
      {
        "duration": 1467,
        "start_time": "2025-03-22T04:31:54.737Z"
      },
      {
        "duration": 3,
        "start_time": "2025-03-22T04:32:12.981Z"
      },
      {
        "duration": 133,
        "start_time": "2025-03-22T04:32:15.609Z"
      },
      {
        "duration": 117,
        "start_time": "2025-03-22T04:32:16.049Z"
      },
      {
        "duration": 13,
        "start_time": "2025-03-22T04:32:17.665Z"
      },
      {
        "duration": 14,
        "start_time": "2025-03-22T04:32:19.750Z"
      },
      {
        "duration": 11,
        "start_time": "2025-03-22T04:32:19.997Z"
      },
      {
        "duration": 12,
        "start_time": "2025-03-22T04:32:20.373Z"
      },
      {
        "duration": 40,
        "start_time": "2025-03-22T04:32:23.049Z"
      },
      {
        "duration": 5,
        "start_time": "2025-03-22T04:32:26.365Z"
      },
      {
        "duration": 5,
        "start_time": "2025-03-22T04:32:26.709Z"
      },
      {
        "duration": 20,
        "start_time": "2025-03-22T04:32:27.061Z"
      },
      {
        "duration": 20,
        "start_time": "2025-03-22T04:32:29.593Z"
      },
      {
        "duration": 23,
        "start_time": "2025-03-22T04:32:29.929Z"
      },
      {
        "duration": 13,
        "start_time": "2025-03-22T04:32:32.980Z"
      },
      {
        "duration": 16,
        "start_time": "2025-03-22T04:32:33.240Z"
      },
      {
        "duration": 69,
        "start_time": "2025-03-22T04:32:35.735Z"
      },
      {
        "duration": 14,
        "start_time": "2025-03-22T04:32:36.040Z"
      },
      {
        "duration": 16,
        "start_time": "2025-03-22T04:32:40.991Z"
      },
      {
        "duration": 8,
        "start_time": "2025-03-22T04:32:43.173Z"
      },
      {
        "duration": 10,
        "start_time": "2025-03-22T04:32:44.845Z"
      },
      {
        "duration": 6,
        "start_time": "2025-03-22T04:32:47.320Z"
      },
      {
        "duration": 5,
        "start_time": "2025-03-22T04:32:48.748Z"
      },
      {
        "duration": 6,
        "start_time": "2025-03-22T04:32:54.451Z"
      },
      {
        "duration": 6,
        "start_time": "2025-03-22T04:32:54.948Z"
      },
      {
        "duration": 153,
        "start_time": "2025-03-22T04:32:55.460Z"
      },
      {
        "duration": 7,
        "start_time": "2025-03-22T04:32:59.771Z"
      },
      {
        "duration": 7,
        "start_time": "2025-03-22T04:33:00.076Z"
      },
      {
        "duration": 182,
        "start_time": "2025-03-22T04:33:00.643Z"
      },
      {
        "duration": 183,
        "start_time": "2025-03-22T04:33:01.739Z"
      },
      {
        "duration": 196,
        "start_time": "2025-03-22T04:33:05.587Z"
      },
      {
        "duration": 5,
        "start_time": "2025-03-22T04:33:06.452Z"
      },
      {
        "duration": 186,
        "start_time": "2025-03-22T04:33:07.768Z"
      },
      {
        "duration": 6,
        "start_time": "2025-03-22T04:33:10.280Z"
      },
      {
        "duration": 117,
        "start_time": "2025-03-22T04:33:13.668Z"
      },
      {
        "duration": 243,
        "start_time": "2025-03-22T04:33:17.600Z"
      },
      {
        "duration": 191,
        "start_time": "2025-03-22T04:33:20.728Z"
      },
      {
        "duration": 8,
        "start_time": "2025-03-22T04:33:23.620Z"
      },
      {
        "duration": 189,
        "start_time": "2025-03-22T04:33:26.820Z"
      },
      {
        "duration": 8,
        "start_time": "2025-03-22T04:33:31.144Z"
      },
      {
        "duration": 147,
        "start_time": "2025-03-22T04:33:31.640Z"
      },
      {
        "duration": 6,
        "start_time": "2025-03-22T04:33:33.640Z"
      },
      {
        "duration": 31,
        "start_time": "2025-03-22T04:33:34.181Z"
      },
      {
        "duration": 25,
        "start_time": "2025-03-22T04:34:09.700Z"
      },
      {
        "duration": 233,
        "start_time": "2025-03-22T04:34:10.372Z"
      },
      {
        "duration": 192,
        "start_time": "2025-03-22T04:34:37.207Z"
      },
      {
        "duration": 220,
        "start_time": "2025-03-22T04:34:43.960Z"
      },
      {
        "duration": 13,
        "start_time": "2025-03-22T04:36:48.607Z"
      },
      {
        "duration": 14,
        "start_time": "2025-03-22T04:36:57.138Z"
      },
      {
        "duration": 193,
        "start_time": "2025-03-22T04:37:30.450Z"
      },
      {
        "duration": 146,
        "start_time": "2025-03-22T04:37:53.685Z"
      },
      {
        "duration": 188,
        "start_time": "2025-03-22T04:38:31.344Z"
      },
      {
        "duration": 5,
        "start_time": "2025-03-22T04:38:40.253Z"
      },
      {
        "duration": 41,
        "start_time": "2025-03-22T04:38:47.913Z"
      },
      {
        "duration": 184,
        "start_time": "2025-03-22T04:39:21.592Z"
      },
      {
        "duration": 5,
        "start_time": "2025-03-22T04:39:46.852Z"
      },
      {
        "duration": 187,
        "start_time": "2025-03-22T04:40:11.049Z"
      },
      {
        "duration": 277,
        "start_time": "2025-03-22T04:40:25.037Z"
      },
      {
        "duration": 127,
        "start_time": "2025-03-22T04:41:57.879Z"
      },
      {
        "duration": 13,
        "start_time": "2025-03-22T04:42:23.026Z"
      },
      {
        "duration": 139,
        "start_time": "2025-03-22T04:43:43.458Z"
      },
      {
        "duration": 9,
        "start_time": "2025-03-22T04:56:06.319Z"
      },
      {
        "duration": 198,
        "start_time": "2025-03-22T04:57:58.100Z"
      },
      {
        "duration": 20,
        "start_time": "2025-03-22T04:58:33.027Z"
      },
      {
        "duration": 15,
        "start_time": "2025-03-22T04:58:49.259Z"
      },
      {
        "duration": 202,
        "start_time": "2025-03-22T04:58:54.623Z"
      },
      {
        "duration": 185,
        "start_time": "2025-03-22T05:00:23.698Z"
      },
      {
        "duration": 207,
        "start_time": "2025-03-22T05:00:29.606Z"
      },
      {
        "duration": 207,
        "start_time": "2025-03-22T05:00:43.643Z"
      },
      {
        "duration": 14,
        "start_time": "2025-03-22T05:00:53.090Z"
      },
      {
        "duration": 21,
        "start_time": "2025-03-22T05:01:13.370Z"
      },
      {
        "duration": 14,
        "start_time": "2025-03-22T05:01:45.281Z"
      },
      {
        "duration": 21,
        "start_time": "2025-03-22T05:02:53.129Z"
      },
      {
        "duration": 208,
        "start_time": "2025-03-22T05:03:03.092Z"
      },
      {
        "duration": 15,
        "start_time": "2025-03-22T05:03:49.187Z"
      },
      {
        "duration": 30,
        "start_time": "2025-03-22T05:04:11.920Z"
      },
      {
        "duration": 15,
        "start_time": "2025-03-22T05:04:19.751Z"
      },
      {
        "duration": 20,
        "start_time": "2025-03-22T05:04:33.032Z"
      },
      {
        "duration": 213,
        "start_time": "2025-03-22T05:05:59.515Z"
      },
      {
        "duration": 223,
        "start_time": "2025-03-22T05:06:18.978Z"
      },
      {
        "duration": 316,
        "start_time": "2025-03-22T05:06:27.842Z"
      },
      {
        "duration": 234,
        "start_time": "2025-03-22T05:06:31.567Z"
      },
      {
        "duration": 1036,
        "start_time": "2025-03-22T05:08:34.797Z"
      },
      {
        "duration": 1517,
        "start_time": "2025-03-22T05:08:55.469Z"
      },
      {
        "duration": 18,
        "start_time": "2025-03-22T05:10:01.357Z"
      },
      {
        "duration": 15,
        "start_time": "2025-03-22T05:10:13.389Z"
      },
      {
        "duration": 1481,
        "start_time": "2025-03-22T05:10:20.721Z"
      },
      {
        "duration": 188,
        "start_time": "2025-03-22T05:10:29.412Z"
      },
      {
        "duration": 1208,
        "start_time": "2025-03-22T05:10:42.476Z"
      },
      {
        "duration": 169,
        "start_time": "2025-03-22T05:11:49.047Z"
      },
      {
        "duration": 194,
        "start_time": "2025-03-22T05:11:57.911Z"
      },
      {
        "duration": 189,
        "start_time": "2025-03-22T05:12:05.767Z"
      },
      {
        "duration": 95,
        "start_time": "2025-03-22T05:12:52.287Z"
      },
      {
        "duration": 918,
        "start_time": "2025-03-22T05:12:59.839Z"
      },
      {
        "duration": 205,
        "start_time": "2025-03-22T05:14:56.941Z"
      },
      {
        "duration": 1047,
        "start_time": "2025-03-22T05:16:19.521Z"
      },
      {
        "duration": 160,
        "start_time": "2025-03-22T05:17:14.044Z"
      },
      {
        "duration": 15,
        "start_time": "2025-03-22T05:17:42.904Z"
      },
      {
        "duration": 155,
        "start_time": "2025-03-22T05:17:49.065Z"
      },
      {
        "duration": 146,
        "start_time": "2025-03-22T05:18:15.688Z"
      },
      {
        "duration": 8,
        "start_time": "2025-03-22T05:18:20.620Z"
      },
      {
        "duration": 5,
        "start_time": "2025-03-22T05:18:34.207Z"
      },
      {
        "duration": 210,
        "start_time": "2025-03-22T05:19:28.056Z"
      },
      {
        "duration": 292,
        "start_time": "2025-03-22T05:24:23.853Z"
      },
      {
        "duration": 132,
        "start_time": "2025-03-22T05:24:44.480Z"
      },
      {
        "duration": 174,
        "start_time": "2025-03-22T05:26:34.146Z"
      },
      {
        "duration": 168,
        "start_time": "2025-03-22T05:26:52.719Z"
      },
      {
        "duration": 23,
        "start_time": "2025-03-22T05:27:55.781Z"
      },
      {
        "duration": 293,
        "start_time": "2025-03-22T05:28:02.970Z"
      },
      {
        "duration": 245,
        "start_time": "2025-03-22T05:28:08.313Z"
      },
      {
        "duration": 30,
        "start_time": "2025-03-22T05:28:32.414Z"
      },
      {
        "duration": 222,
        "start_time": "2025-03-22T05:28:57.610Z"
      },
      {
        "duration": 9,
        "start_time": "2025-03-22T05:29:28.792Z"
      },
      {
        "duration": 216,
        "start_time": "2025-03-22T05:29:36.774Z"
      },
      {
        "duration": 237,
        "start_time": "2025-03-22T05:29:46.029Z"
      },
      {
        "duration": 253,
        "start_time": "2025-03-22T05:29:55.508Z"
      },
      {
        "duration": 242,
        "start_time": "2025-03-22T05:30:04.312Z"
      },
      {
        "duration": 430,
        "start_time": "2025-03-22T05:30:11.196Z"
      },
      {
        "duration": 242,
        "start_time": "2025-03-22T05:30:18.541Z"
      },
      {
        "duration": 220,
        "start_time": "2025-03-22T05:30:23.149Z"
      },
      {
        "duration": 252,
        "start_time": "2025-03-22T05:32:00.288Z"
      },
      {
        "duration": 250,
        "start_time": "2025-03-22T05:32:17.151Z"
      },
      {
        "duration": 236,
        "start_time": "2025-03-22T05:32:49.091Z"
      },
      {
        "duration": 247,
        "start_time": "2025-03-22T05:33:31.927Z"
      },
      {
        "duration": 32,
        "start_time": "2025-03-22T05:33:52.217Z"
      },
      {
        "duration": 242,
        "start_time": "2025-03-22T05:33:54.467Z"
      },
      {
        "duration": 240,
        "start_time": "2025-03-22T05:33:57.238Z"
      },
      {
        "duration": 287,
        "start_time": "2025-03-22T05:37:21.212Z"
      },
      {
        "duration": 221,
        "start_time": "2025-03-22T05:37:26.275Z"
      },
      {
        "duration": 282,
        "start_time": "2025-03-22T05:42:02.824Z"
      },
      {
        "duration": 148,
        "start_time": "2025-03-22T05:42:13.986Z"
      },
      {
        "duration": 108,
        "start_time": "2025-03-22T05:43:23.183Z"
      },
      {
        "duration": 21,
        "start_time": "2025-03-22T05:43:41.655Z"
      },
      {
        "duration": 9,
        "start_time": "2025-03-22T05:43:52.950Z"
      },
      {
        "duration": 236,
        "start_time": "2025-03-22T05:45:05.741Z"
      },
      {
        "duration": 158,
        "start_time": "2025-03-22T05:45:25.228Z"
      },
      {
        "duration": 239,
        "start_time": "2025-03-22T05:46:48.091Z"
      },
      {
        "duration": 8,
        "start_time": "2025-03-22T05:47:07.467Z"
      },
      {
        "duration": 301,
        "start_time": "2025-03-22T05:47:23.790Z"
      },
      {
        "duration": 15,
        "start_time": "2025-03-22T05:47:33.527Z"
      },
      {
        "duration": 325,
        "start_time": "2025-03-22T05:47:41.083Z"
      },
      {
        "duration": 137,
        "start_time": "2025-03-22T05:48:05.618Z"
      },
      {
        "duration": 108,
        "start_time": "2025-03-22T05:50:46.148Z"
      },
      {
        "duration": 14,
        "start_time": "2025-03-22T05:51:23.779Z"
      },
      {
        "duration": 135,
        "start_time": "2025-03-22T06:21:31.125Z"
      },
      {
        "duration": 16,
        "start_time": "2025-03-22T06:23:08.847Z"
      },
      {
        "duration": 145,
        "start_time": "2025-03-22T06:23:24.063Z"
      },
      {
        "duration": 10680,
        "start_time": "2025-03-22T06:44:55.856Z"
      },
      {
        "duration": 362,
        "start_time": "2025-03-22T06:50:53.687Z"
      },
      {
        "duration": 227,
        "start_time": "2025-03-22T06:51:10.473Z"
      },
      {
        "duration": 176,
        "start_time": "2025-03-22T06:53:34.367Z"
      },
      {
        "duration": 205,
        "start_time": "2025-03-22T06:53:47.512Z"
      },
      {
        "duration": 151,
        "start_time": "2025-03-22T06:54:06.206Z"
      },
      {
        "duration": 387,
        "start_time": "2025-03-22T06:57:18.559Z"
      },
      {
        "duration": 369,
        "start_time": "2025-03-22T06:58:48.281Z"
      },
      {
        "duration": 9,
        "start_time": "2025-03-22T06:59:19.752Z"
      },
      {
        "duration": 10,
        "start_time": "2025-03-22T07:05:48.995Z"
      },
      {
        "duration": 13,
        "start_time": "2025-03-22T07:06:57.241Z"
      },
      {
        "duration": 8,
        "start_time": "2025-03-22T07:07:52.461Z"
      },
      {
        "duration": 1303,
        "start_time": "2025-03-23T04:55:06.013Z"
      },
      {
        "duration": 167,
        "start_time": "2025-03-23T04:55:08.402Z"
      },
      {
        "duration": 97,
        "start_time": "2025-03-23T04:55:08.857Z"
      },
      {
        "duration": 14,
        "start_time": "2025-03-23T04:55:11.180Z"
      },
      {
        "duration": 14,
        "start_time": "2025-03-23T04:55:15.625Z"
      },
      {
        "duration": 10,
        "start_time": "2025-03-23T04:55:16.185Z"
      },
      {
        "duration": 9,
        "start_time": "2025-03-23T04:55:16.797Z"
      },
      {
        "duration": 27,
        "start_time": "2025-03-23T04:55:22.121Z"
      },
      {
        "duration": 7,
        "start_time": "2025-03-23T04:55:29.604Z"
      },
      {
        "duration": 13,
        "start_time": "2025-03-23T04:55:30.533Z"
      },
      {
        "duration": 15,
        "start_time": "2025-03-23T04:55:35.108Z"
      },
      {
        "duration": 15,
        "start_time": "2025-03-23T04:55:35.813Z"
      },
      {
        "duration": 9,
        "start_time": "2025-03-23T04:55:40.204Z"
      },
      {
        "duration": 11,
        "start_time": "2025-03-23T04:55:40.740Z"
      },
      {
        "duration": 16,
        "start_time": "2025-03-23T04:55:48.688Z"
      },
      {
        "duration": 21,
        "start_time": "2025-03-23T04:56:21.144Z"
      },
      {
        "duration": 9,
        "start_time": "2025-03-23T04:56:27.352Z"
      },
      {
        "duration": 10,
        "start_time": "2025-03-23T04:56:27.897Z"
      },
      {
        "duration": 107,
        "start_time": "2025-03-23T04:56:30.444Z"
      },
      {
        "duration": 14,
        "start_time": "2025-03-23T04:56:35.452Z"
      },
      {
        "duration": 25,
        "start_time": "2025-03-23T05:15:02.798Z"
      },
      {
        "duration": 23,
        "start_time": "2025-03-23T05:15:16.962Z"
      },
      {
        "duration": 19,
        "start_time": "2025-03-23T05:15:25.807Z"
      },
      {
        "duration": 579,
        "start_time": "2025-03-23T05:16:22.640Z"
      },
      {
        "duration": 14,
        "start_time": "2025-03-23T05:19:49.430Z"
      },
      {
        "duration": 103,
        "start_time": "2025-03-23T05:22:57.727Z"
      },
      {
        "duration": 21,
        "start_time": "2025-03-23T05:23:07.015Z"
      },
      {
        "duration": 29,
        "start_time": "2025-03-23T05:23:23.103Z"
      },
      {
        "duration": 17,
        "start_time": "2025-03-23T05:24:21.886Z"
      },
      {
        "duration": 43,
        "start_time": "2025-03-23T05:24:40.371Z"
      },
      {
        "duration": 755,
        "start_time": "2025-03-23T05:51:06.785Z"
      },
      {
        "duration": 7,
        "start_time": "2025-03-23T05:52:11.452Z"
      },
      {
        "duration": 7,
        "start_time": "2025-03-23T05:52:14.159Z"
      },
      {
        "duration": 4,
        "start_time": "2025-03-23T05:52:14.673Z"
      },
      {
        "duration": 5,
        "start_time": "2025-03-23T05:52:15.684Z"
      },
      {
        "duration": 6,
        "start_time": "2025-03-23T05:52:21.755Z"
      },
      {
        "duration": 4,
        "start_time": "2025-03-23T05:52:22.384Z"
      },
      {
        "duration": 527,
        "start_time": "2025-03-23T05:57:47.985Z"
      },
      {
        "duration": 97,
        "start_time": "2025-03-23T06:02:39.086Z"
      },
      {
        "duration": 101,
        "start_time": "2025-03-23T06:02:47.058Z"
      },
      {
        "duration": 90,
        "start_time": "2025-03-23T06:03:49.601Z"
      },
      {
        "duration": 103,
        "start_time": "2025-03-23T06:05:18.636Z"
      },
      {
        "duration": 10,
        "start_time": "2025-03-23T06:05:54.588Z"
      },
      {
        "duration": 26,
        "start_time": "2025-03-23T06:06:21.475Z"
      },
      {
        "duration": 3560,
        "start_time": "2025-03-23T06:11:50.972Z"
      },
      {
        "duration": 9245,
        "start_time": "2025-03-23T06:12:34.222Z"
      },
      {
        "duration": 1722,
        "start_time": "2025-03-23T06:17:33.199Z"
      },
      {
        "duration": 100,
        "start_time": "2025-03-23T06:18:03.462Z"
      },
      {
        "duration": 1817,
        "start_time": "2025-03-23T06:18:13.530Z"
      },
      {
        "duration": 1782,
        "start_time": "2025-03-23T06:21:12.454Z"
      },
      {
        "duration": 161,
        "start_time": "2025-03-23T06:24:36.508Z"
      },
      {
        "duration": 1643,
        "start_time": "2025-03-23T06:26:22.520Z"
      },
      {
        "duration": 3,
        "start_time": "2025-03-23T06:26:24.628Z"
      },
      {
        "duration": 707,
        "start_time": "2025-03-23T06:26:42.759Z"
      },
      {
        "duration": 632,
        "start_time": "2025-03-23T06:26:54.096Z"
      },
      {
        "duration": 8,
        "start_time": "2025-03-23T06:37:26.164Z"
      },
      {
        "duration": 7,
        "start_time": "2025-03-23T06:40:02.574Z"
      },
      {
        "duration": 12,
        "start_time": "2025-03-23T06:43:58.416Z"
      },
      {
        "duration": 10,
        "start_time": "2025-03-23T06:44:27.480Z"
      },
      {
        "duration": 10,
        "start_time": "2025-03-23T06:44:57.540Z"
      },
      {
        "duration": 15,
        "start_time": "2025-03-23T06:45:08.448Z"
      },
      {
        "duration": 15,
        "start_time": "2025-03-23T06:46:38.831Z"
      },
      {
        "duration": 10,
        "start_time": "2025-03-23T06:46:44.787Z"
      },
      {
        "duration": 6,
        "start_time": "2025-03-23T06:47:21.821Z"
      },
      {
        "duration": 10,
        "start_time": "2025-03-23T06:48:05.566Z"
      },
      {
        "duration": 1322,
        "start_time": "2025-03-23T06:51:43.881Z"
      },
      {
        "duration": 40,
        "start_time": "2025-03-23T06:51:50.912Z"
      },
      {
        "duration": 10,
        "start_time": "2025-03-23T06:52:07.630Z"
      },
      {
        "duration": 1354,
        "start_time": "2025-03-23T06:52:22.989Z"
      },
      {
        "duration": 17,
        "start_time": "2025-03-23T06:52:59.541Z"
      },
      {
        "duration": 23,
        "start_time": "2025-03-23T06:53:07.702Z"
      },
      {
        "duration": 20,
        "start_time": "2025-03-23T06:56:22.244Z"
      },
      {
        "duration": 21,
        "start_time": "2025-03-23T06:56:29.180Z"
      },
      {
        "duration": 20,
        "start_time": "2025-03-23T06:56:55.396Z"
      },
      {
        "duration": 17,
        "start_time": "2025-03-23T06:57:17.592Z"
      },
      {
        "duration": 22,
        "start_time": "2025-03-23T06:58:03.531Z"
      },
      {
        "duration": 17,
        "start_time": "2025-03-23T06:58:09.451Z"
      },
      {
        "duration": 47,
        "start_time": "2025-03-23T07:00:08.711Z"
      },
      {
        "duration": 5,
        "start_time": "2025-03-23T07:00:26.694Z"
      },
      {
        "duration": 15,
        "start_time": "2025-03-23T07:02:27.434Z"
      },
      {
        "duration": 4,
        "start_time": "2025-03-23T07:02:34.033Z"
      },
      {
        "duration": 39,
        "start_time": "2025-03-23T07:03:01.624Z"
      },
      {
        "duration": 9,
        "start_time": "2025-03-23T07:03:05.615Z"
      },
      {
        "duration": 19,
        "start_time": "2025-03-23T07:03:15.802Z"
      },
      {
        "duration": 49,
        "start_time": "2025-03-23T07:03:42.193Z"
      },
      {
        "duration": 5,
        "start_time": "2025-03-23T07:03:57.888Z"
      },
      {
        "duration": 41,
        "start_time": "2025-03-23T07:04:51.326Z"
      },
      {
        "duration": 36,
        "start_time": "2025-03-23T07:05:47.761Z"
      },
      {
        "duration": 7,
        "start_time": "2025-03-23T07:05:53.104Z"
      },
      {
        "duration": 5,
        "start_time": "2025-03-23T07:06:10.972Z"
      },
      {
        "duration": 8,
        "start_time": "2025-03-23T07:15:40.317Z"
      },
      {
        "duration": 11,
        "start_time": "2025-03-23T07:16:10.937Z"
      },
      {
        "duration": 5,
        "start_time": "2025-03-23T07:16:14.036Z"
      },
      {
        "duration": 11,
        "start_time": "2025-03-23T07:19:17.262Z"
      },
      {
        "duration": 93,
        "start_time": "2025-03-23T07:27:02.768Z"
      },
      {
        "duration": 10,
        "start_time": "2025-03-23T07:27:37.473Z"
      },
      {
        "duration": 146,
        "start_time": "2025-03-23T07:29:01.532Z"
      },
      {
        "duration": 10,
        "start_time": "2025-03-23T07:30:04.695Z"
      },
      {
        "duration": 115,
        "start_time": "2025-03-23T07:30:09.762Z"
      },
      {
        "duration": 145,
        "start_time": "2025-03-23T07:30:12.838Z"
      },
      {
        "duration": 237,
        "start_time": "2025-03-23T07:30:38.358Z"
      },
      {
        "duration": 93,
        "start_time": "2025-03-23T07:52:41.807Z"
      },
      {
        "duration": 89,
        "start_time": "2025-03-23T07:52:44.267Z"
      },
      {
        "duration": 135,
        "start_time": "2025-03-23T07:52:57.334Z"
      },
      {
        "duration": 93,
        "start_time": "2025-03-23T07:53:09.803Z"
      },
      {
        "duration": 137,
        "start_time": "2025-03-23T07:53:18.683Z"
      },
      {
        "duration": 93,
        "start_time": "2025-03-23T07:53:22.951Z"
      },
      {
        "duration": 95,
        "start_time": "2025-03-23T07:53:31.635Z"
      },
      {
        "duration": 94,
        "start_time": "2025-03-23T07:53:48.726Z"
      },
      {
        "duration": 108,
        "start_time": "2025-03-23T07:54:01.012Z"
      },
      {
        "duration": 92,
        "start_time": "2025-03-23T07:54:21.411Z"
      },
      {
        "duration": 95,
        "start_time": "2025-03-23T07:54:30.319Z"
      },
      {
        "duration": 100,
        "start_time": "2025-03-23T07:54:36.951Z"
      },
      {
        "duration": 3,
        "start_time": "2025-03-23T08:04:03.216Z"
      },
      {
        "duration": 3,
        "start_time": "2025-03-23T08:04:20.782Z"
      },
      {
        "duration": 25,
        "start_time": "2025-03-23T08:07:29.827Z"
      },
      {
        "duration": 5,
        "start_time": "2025-03-23T08:08:41.300Z"
      },
      {
        "duration": 1499,
        "start_time": "2025-03-23T10:47:33.398Z"
      },
      {
        "duration": 3501,
        "start_time": "2025-03-23T10:47:37.818Z"
      },
      {
        "duration": 60,
        "start_time": "2025-03-23T10:47:43.098Z"
      },
      {
        "duration": 211,
        "start_time": "2025-03-23T10:47:45.033Z"
      },
      {
        "duration": 99,
        "start_time": "2025-03-23T10:47:45.709Z"
      },
      {
        "duration": 16,
        "start_time": "2025-03-23T10:47:47.413Z"
      },
      {
        "duration": 19,
        "start_time": "2025-03-23T10:47:50.838Z"
      },
      {
        "duration": 12,
        "start_time": "2025-03-23T10:47:57.781Z"
      },
      {
        "duration": 10,
        "start_time": "2025-03-23T10:47:58.665Z"
      },
      {
        "duration": 30,
        "start_time": "2025-03-23T10:48:06.766Z"
      },
      {
        "duration": 6,
        "start_time": "2025-03-23T10:48:16.369Z"
      },
      {
        "duration": 15,
        "start_time": "2025-03-23T10:48:18.230Z"
      },
      {
        "duration": 19,
        "start_time": "2025-03-23T10:48:23.909Z"
      },
      {
        "duration": 19,
        "start_time": "2025-03-23T10:48:30.866Z"
      },
      {
        "duration": 11,
        "start_time": "2025-03-23T10:48:34.533Z"
      },
      {
        "duration": 13,
        "start_time": "2025-03-23T10:48:35.257Z"
      },
      {
        "duration": 16,
        "start_time": "2025-03-23T10:48:44.140Z"
      },
      {
        "duration": 22,
        "start_time": "2025-03-23T10:48:52.369Z"
      },
      {
        "duration": 26,
        "start_time": "2025-03-23T10:48:55.213Z"
      },
      {
        "duration": 22,
        "start_time": "2025-03-23T10:49:13.929Z"
      },
      {
        "duration": 9,
        "start_time": "2025-03-23T10:49:19.216Z"
      },
      {
        "duration": 9,
        "start_time": "2025-03-23T10:49:22.317Z"
      },
      {
        "duration": 9,
        "start_time": "2025-03-23T10:49:24.896Z"
      },
      {
        "duration": 6,
        "start_time": "2025-03-23T10:49:25.704Z"
      },
      {
        "duration": 5,
        "start_time": "2025-03-23T10:49:26.738Z"
      },
      {
        "duration": 7,
        "start_time": "2025-03-23T10:50:00.996Z"
      },
      {
        "duration": 6,
        "start_time": "2025-03-23T10:50:01.621Z"
      },
      {
        "duration": 163,
        "start_time": "2025-03-23T10:50:04.757Z"
      },
      {
        "duration": 7,
        "start_time": "2025-03-23T10:50:35.520Z"
      },
      {
        "duration": 7,
        "start_time": "2025-03-23T10:50:36.370Z"
      },
      {
        "duration": 174,
        "start_time": "2025-03-23T10:50:42.140Z"
      },
      {
        "duration": 183,
        "start_time": "2025-03-23T10:50:43.228Z"
      },
      {
        "duration": 204,
        "start_time": "2025-03-23T10:50:51.716Z"
      },
      {
        "duration": 6,
        "start_time": "2025-03-23T10:50:53.100Z"
      },
      {
        "duration": 196,
        "start_time": "2025-03-23T10:50:55.593Z"
      },
      {
        "duration": 6,
        "start_time": "2025-03-23T10:50:56.464Z"
      },
      {
        "duration": 6,
        "start_time": "2025-03-23T10:51:55.271Z"
      },
      {
        "duration": 111,
        "start_time": "2025-03-23T10:51:56.192Z"
      },
      {
        "duration": 159,
        "start_time": "2025-03-23T10:52:00.447Z"
      },
      {
        "duration": 5,
        "start_time": "2025-03-23T10:52:03.722Z"
      },
      {
        "duration": 198,
        "start_time": "2025-03-23T10:52:19.415Z"
      },
      {
        "duration": 9,
        "start_time": "2025-03-23T10:52:25.086Z"
      },
      {
        "duration": 154,
        "start_time": "2025-03-23T10:52:39.251Z"
      },
      {
        "duration": 9,
        "start_time": "2025-03-23T10:52:53.122Z"
      },
      {
        "duration": 139,
        "start_time": "2025-03-23T10:52:53.787Z"
      },
      {
        "duration": 6,
        "start_time": "2025-03-23T10:52:56.399Z"
      },
      {
        "duration": 33,
        "start_time": "2025-03-23T10:52:56.879Z"
      },
      {
        "duration": 832,
        "start_time": "2025-03-23T10:53:03.287Z"
      },
      {
        "duration": 9,
        "start_time": "2025-03-23T10:53:07.982Z"
      },
      {
        "duration": 25,
        "start_time": "2025-03-23T10:53:14.062Z"
      },
      {
        "duration": 224,
        "start_time": "2025-03-23T10:53:14.703Z"
      },
      {
        "duration": 226,
        "start_time": "2025-03-23T10:53:17.603Z"
      },
      {
        "duration": 175,
        "start_time": "2025-03-23T10:53:45.738Z"
      },
      {
        "duration": 1068,
        "start_time": "2025-03-23T13:36:35.703Z"
      },
      {
        "duration": 3272,
        "start_time": "2025-03-23T13:36:36.773Z"
      },
      {
        "duration": 66,
        "start_time": "2025-03-23T13:36:40.047Z"
      },
      {
        "duration": 132,
        "start_time": "2025-03-23T13:36:40.115Z"
      },
      {
        "duration": 58,
        "start_time": "2025-03-23T13:36:40.249Z"
      },
      {
        "duration": 14,
        "start_time": "2025-03-23T13:36:40.309Z"
      },
      {
        "duration": 14,
        "start_time": "2025-03-23T13:36:40.324Z"
      },
      {
        "duration": 9,
        "start_time": "2025-03-23T13:36:40.339Z"
      },
      {
        "duration": 9,
        "start_time": "2025-03-23T13:36:40.350Z"
      },
      {
        "duration": 27,
        "start_time": "2025-03-23T13:36:40.361Z"
      },
      {
        "duration": 5,
        "start_time": "2025-03-23T13:36:40.389Z"
      },
      {
        "duration": 6,
        "start_time": "2025-03-23T13:36:40.395Z"
      },
      {
        "duration": 13,
        "start_time": "2025-03-23T13:36:40.403Z"
      },
      {
        "duration": 15,
        "start_time": "2025-03-23T13:36:40.419Z"
      },
      {
        "duration": 40,
        "start_time": "2025-03-23T13:36:40.436Z"
      },
      {
        "duration": 10,
        "start_time": "2025-03-23T13:36:40.478Z"
      },
      {
        "duration": 11,
        "start_time": "2025-03-23T13:36:40.490Z"
      },
      {
        "duration": 84,
        "start_time": "2025-03-23T13:36:40.503Z"
      },
      {
        "duration": 16,
        "start_time": "2025-03-23T13:36:40.589Z"
      },
      {
        "duration": 19,
        "start_time": "2025-03-23T13:36:40.607Z"
      },
      {
        "duration": 47,
        "start_time": "2025-03-23T13:36:40.627Z"
      },
      {
        "duration": 19,
        "start_time": "2025-03-23T13:36:40.675Z"
      },
      {
        "duration": 8,
        "start_time": "2025-03-23T13:36:40.695Z"
      },
      {
        "duration": 7,
        "start_time": "2025-03-23T13:36:40.704Z"
      },
      {
        "duration": 7,
        "start_time": "2025-03-23T13:36:40.713Z"
      },
      {
        "duration": 8,
        "start_time": "2025-03-23T13:36:40.722Z"
      },
      {
        "duration": 37,
        "start_time": "2025-03-23T13:36:40.732Z"
      },
      {
        "duration": 7,
        "start_time": "2025-03-23T13:36:40.771Z"
      },
      {
        "duration": 5,
        "start_time": "2025-03-23T13:36:40.779Z"
      },
      {
        "duration": 8,
        "start_time": "2025-03-23T13:36:40.785Z"
      },
      {
        "duration": 8,
        "start_time": "2025-03-23T13:36:40.794Z"
      },
      {
        "duration": 183,
        "start_time": "2025-03-23T13:36:40.803Z"
      },
      {
        "duration": 5,
        "start_time": "2025-03-23T13:36:40.988Z"
      },
      {
        "duration": 8,
        "start_time": "2025-03-23T13:36:40.995Z"
      },
      {
        "duration": 183,
        "start_time": "2025-03-23T13:36:41.004Z"
      },
      {
        "duration": 176,
        "start_time": "2025-03-23T13:36:41.188Z"
      },
      {
        "duration": 196,
        "start_time": "2025-03-23T13:36:41.368Z"
      },
      {
        "duration": 4,
        "start_time": "2025-03-23T13:36:41.568Z"
      },
      {
        "duration": 193,
        "start_time": "2025-03-23T13:36:41.574Z"
      },
      {
        "duration": 5,
        "start_time": "2025-03-23T13:36:41.769Z"
      },
      {
        "duration": 5,
        "start_time": "2025-03-23T13:36:41.777Z"
      },
      {
        "duration": 119,
        "start_time": "2025-03-23T13:36:41.784Z"
      },
      {
        "duration": 224,
        "start_time": "2025-03-23T13:36:41.905Z"
      },
      {
        "duration": 5,
        "start_time": "2025-03-23T13:36:42.131Z"
      },
      {
        "duration": 143,
        "start_time": "2025-03-23T13:36:42.138Z"
      },
      {
        "duration": 8,
        "start_time": "2025-03-23T13:36:42.282Z"
      },
      {
        "duration": 158,
        "start_time": "2025-03-23T13:36:42.291Z"
      },
      {
        "duration": 18,
        "start_time": "2025-03-23T13:36:42.450Z"
      },
      {
        "duration": 144,
        "start_time": "2025-03-23T13:36:42.469Z"
      },
      {
        "duration": 4,
        "start_time": "2025-03-23T13:36:42.615Z"
      },
      {
        "duration": 49,
        "start_time": "2025-03-23T13:36:42.620Z"
      },
      {
        "duration": 821,
        "start_time": "2025-03-23T13:36:42.670Z"
      },
      {
        "duration": 7,
        "start_time": "2025-03-23T13:36:43.493Z"
      },
      {
        "duration": 22,
        "start_time": "2025-03-23T13:36:43.502Z"
      },
      {
        "duration": 229,
        "start_time": "2025-03-23T13:36:43.525Z"
      },
      {
        "duration": 210,
        "start_time": "2025-03-23T13:36:43.755Z"
      },
      {
        "duration": 169,
        "start_time": "2025-03-23T13:36:43.967Z"
      },
      {
        "duration": 6,
        "start_time": "2025-03-23T14:50:18.351Z"
      },
      {
        "duration": 22,
        "start_time": "2025-03-23T14:50:39.504Z"
      },
      {
        "duration": 5,
        "start_time": "2025-03-23T14:51:35.320Z"
      },
      {
        "duration": 49,
        "start_time": "2025-03-24T10:55:43.590Z"
      },
      {
        "duration": 1275,
        "start_time": "2025-03-24T10:58:30.667Z"
      },
      {
        "duration": 3279,
        "start_time": "2025-03-24T10:58:32.831Z"
      },
      {
        "duration": 78,
        "start_time": "2025-03-24T10:58:36.112Z"
      },
      {
        "duration": 154,
        "start_time": "2025-03-24T10:58:36.191Z"
      },
      {
        "duration": 57,
        "start_time": "2025-03-24T10:58:36.347Z"
      },
      {
        "duration": 15,
        "start_time": "2025-03-24T10:58:37.146Z"
      },
      {
        "duration": 15,
        "start_time": "2025-03-24T10:58:37.791Z"
      },
      {
        "duration": 12,
        "start_time": "2025-03-24T10:58:39.679Z"
      },
      {
        "duration": 10,
        "start_time": "2025-03-24T10:58:40.159Z"
      },
      {
        "duration": 29,
        "start_time": "2025-03-24T10:58:43.578Z"
      },
      {
        "duration": 6,
        "start_time": "2025-03-24T10:58:45.853Z"
      },
      {
        "duration": 6,
        "start_time": "2025-03-24T10:58:46.230Z"
      },
      {
        "duration": 15,
        "start_time": "2025-03-24T10:58:46.590Z"
      },
      {
        "duration": 15,
        "start_time": "2025-03-24T10:58:49.474Z"
      },
      {
        "duration": 16,
        "start_time": "2025-03-24T10:58:49.719Z"
      },
      {
        "duration": 10,
        "start_time": "2025-03-24T10:58:52.730Z"
      },
      {
        "duration": 12,
        "start_time": "2025-03-24T10:58:53.082Z"
      },
      {
        "duration": 60,
        "start_time": "2025-03-24T10:58:55.226Z"
      },
      {
        "duration": 17,
        "start_time": "2025-03-24T10:58:57.493Z"
      },
      {
        "duration": 20,
        "start_time": "2025-03-24T10:58:59.729Z"
      },
      {
        "duration": 23,
        "start_time": "2025-03-24T10:59:00.115Z"
      },
      {
        "duration": 19,
        "start_time": "2025-03-24T10:59:00.467Z"
      },
      {
        "duration": 9,
        "start_time": "2025-03-24T10:59:03.246Z"
      },
      {
        "duration": 7,
        "start_time": "2025-03-24T10:59:04.754Z"
      },
      {
        "duration": 8,
        "start_time": "2025-03-24T10:59:06.498Z"
      },
      {
        "duration": 5,
        "start_time": "2025-03-24T10:59:08.375Z"
      },
      {
        "duration": 4,
        "start_time": "2025-03-24T10:59:08.782Z"
      },
      {
        "duration": 6,
        "start_time": "2025-03-24T10:59:14.981Z"
      },
      {
        "duration": 6,
        "start_time": "2025-03-24T10:59:15.391Z"
      },
      {
        "duration": 152,
        "start_time": "2025-03-24T10:59:16.554Z"
      },
      {
        "duration": 6,
        "start_time": "2025-03-24T10:59:22.529Z"
      },
      {
        "duration": 7,
        "start_time": "2025-03-24T10:59:23.058Z"
      },
      {
        "duration": 174,
        "start_time": "2025-03-24T10:59:25.742Z"
      },
      {
        "duration": 171,
        "start_time": "2025-03-24T10:59:26.486Z"
      },
      {
        "duration": 190,
        "start_time": "2025-03-24T10:59:29.145Z"
      },
      {
        "duration": 5,
        "start_time": "2025-03-24T10:59:29.881Z"
      },
      {
        "duration": 183,
        "start_time": "2025-03-24T10:59:30.434Z"
      },
      {
        "duration": 5,
        "start_time": "2025-03-24T10:59:32.606Z"
      },
      {
        "duration": 6,
        "start_time": "2025-03-24T10:59:35.921Z"
      },
      {
        "duration": 181,
        "start_time": "2025-03-24T10:59:36.402Z"
      },
      {
        "duration": 148,
        "start_time": "2025-03-24T10:59:37.725Z"
      },
      {
        "duration": 5,
        "start_time": "2025-03-24T10:59:39.978Z"
      },
      {
        "duration": 110,
        "start_time": "2025-03-24T10:59:43.325Z"
      },
      {
        "duration": 8,
        "start_time": "2025-03-24T10:59:51.257Z"
      },
      {
        "duration": 156,
        "start_time": "2025-03-24T10:59:56.425Z"
      },
      {
        "duration": 9,
        "start_time": "2025-03-24T11:02:11.427Z"
      },
      {
        "duration": 145,
        "start_time": "2025-03-24T11:02:11.860Z"
      },
      {
        "duration": 4,
        "start_time": "2025-03-24T11:02:14.071Z"
      },
      {
        "duration": 31,
        "start_time": "2025-03-24T11:02:14.624Z"
      },
      {
        "duration": 751,
        "start_time": "2025-03-24T11:02:20.279Z"
      },
      {
        "duration": 124,
        "start_time": "2025-03-24T11:05:41.973Z"
      },
      {
        "duration": 121,
        "start_time": "2025-03-24T11:05:56.277Z"
      },
      {
        "duration": 172,
        "start_time": "2025-03-24T11:06:09.844Z"
      },
      {
        "duration": 133,
        "start_time": "2025-03-24T11:06:14.280Z"
      },
      {
        "duration": 193,
        "start_time": "2025-03-24T11:07:20.360Z"
      },
      {
        "duration": 122,
        "start_time": "2025-03-24T11:07:24.109Z"
      },
      {
        "duration": 4,
        "start_time": "2025-03-24T11:07:54.144Z"
      },
      {
        "duration": 114,
        "start_time": "2025-03-24T11:08:29.179Z"
      },
      {
        "duration": 121,
        "start_time": "2025-03-24T11:08:39.899Z"
      },
      {
        "duration": 3,
        "start_time": "2025-03-24T11:10:17.291Z"
      },
      {
        "duration": 5,
        "start_time": "2025-03-24T11:10:44.880Z"
      },
      {
        "duration": 5,
        "start_time": "2025-03-24T11:10:59.760Z"
      },
      {
        "duration": 6,
        "start_time": "2025-03-24T11:11:56.901Z"
      },
      {
        "duration": 9,
        "start_time": "2025-03-24T11:15:36.233Z"
      },
      {
        "duration": 6,
        "start_time": "2025-03-24T11:15:41.952Z"
      },
      {
        "duration": 16,
        "start_time": "2025-03-24T11:16:02.852Z"
      },
      {
        "duration": 10,
        "start_time": "2025-03-24T11:16:21.305Z"
      },
      {
        "duration": 15,
        "start_time": "2025-03-24T11:16:26.633Z"
      },
      {
        "duration": 735,
        "start_time": "2025-03-24T11:16:48.741Z"
      },
      {
        "duration": 727,
        "start_time": "2025-03-24T11:27:08.649Z"
      },
      {
        "duration": 141,
        "start_time": "2025-03-24T11:27:53.997Z"
      },
      {
        "duration": 5,
        "start_time": "2025-03-24T11:27:57.885Z"
      },
      {
        "duration": 20,
        "start_time": "2025-03-24T11:46:33.859Z"
      },
      {
        "duration": 214,
        "start_time": "2025-03-24T11:46:47.505Z"
      },
      {
        "duration": 198,
        "start_time": "2025-03-24T11:46:53.175Z"
      },
      {
        "duration": 8,
        "start_time": "2025-03-24T11:51:03.883Z"
      },
      {
        "duration": 207,
        "start_time": "2025-03-24T11:52:18.333Z"
      },
      {
        "duration": 478,
        "start_time": "2025-03-24T11:54:03.455Z"
      },
      {
        "duration": 4467,
        "start_time": "2025-03-24T11:54:41.202Z"
      },
      {
        "duration": 743,
        "start_time": "2025-03-24T11:55:45.113Z"
      },
      {
        "duration": 141,
        "start_time": "2025-03-24T11:55:53.801Z"
      },
      {
        "duration": 154,
        "start_time": "2025-03-24T11:56:02.950Z"
      },
      {
        "duration": 189,
        "start_time": "2025-03-24T11:56:08.992Z"
      },
      {
        "duration": 195,
        "start_time": "2025-03-24T11:57:09.572Z"
      },
      {
        "duration": 195,
        "start_time": "2025-03-24T11:57:24.955Z"
      },
      {
        "duration": 33,
        "start_time": "2025-03-24T11:58:50.478Z"
      },
      {
        "duration": 12,
        "start_time": "2025-03-24T11:59:09.094Z"
      },
      {
        "duration": 10,
        "start_time": "2025-03-24T11:59:20.826Z"
      },
      {
        "duration": 196,
        "start_time": "2025-03-24T11:59:58.085Z"
      },
      {
        "duration": 13,
        "start_time": "2025-03-24T12:00:35.628Z"
      },
      {
        "duration": 12,
        "start_time": "2025-03-24T12:00:45.116Z"
      },
      {
        "duration": 192,
        "start_time": "2025-03-24T12:00:49.763Z"
      },
      {
        "duration": 8,
        "start_time": "2025-03-24T12:02:46.831Z"
      },
      {
        "duration": 309,
        "start_time": "2025-03-24T12:03:15.942Z"
      },
      {
        "duration": 114,
        "start_time": "2025-03-24T12:03:34.234Z"
      },
      {
        "duration": 12,
        "start_time": "2025-03-24T12:04:01.036Z"
      },
      {
        "duration": 197,
        "start_time": "2025-03-24T12:04:22.393Z"
      },
      {
        "duration": 169,
        "start_time": "2025-03-24T12:09:05.453Z"
      },
      {
        "duration": 6,
        "start_time": "2025-03-24T12:09:11.761Z"
      },
      {
        "duration": 172,
        "start_time": "2025-03-24T12:12:10.859Z"
      },
      {
        "duration": 242,
        "start_time": "2025-03-24T12:13:41.358Z"
      },
      {
        "duration": 237,
        "start_time": "2025-03-24T12:16:11.393Z"
      },
      {
        "duration": 176,
        "start_time": "2025-03-24T12:16:26.284Z"
      },
      {
        "duration": 97,
        "start_time": "2025-03-24T12:28:45.689Z"
      },
      {
        "duration": 11,
        "start_time": "2025-03-24T12:28:50.969Z"
      },
      {
        "duration": 4,
        "start_time": "2025-03-24T12:56:19.887Z"
      },
      {
        "duration": 761,
        "start_time": "2025-03-24T12:56:31.212Z"
      },
      {
        "duration": 14,
        "start_time": "2025-03-24T12:57:56.479Z"
      },
      {
        "duration": 124,
        "start_time": "2025-03-24T12:58:38.231Z"
      },
      {
        "duration": 1045,
        "start_time": "2025-03-24T23:03:49.522Z"
      },
      {
        "duration": 2230,
        "start_time": "2025-03-24T23:03:50.569Z"
      },
      {
        "duration": 65,
        "start_time": "2025-03-24T23:03:52.801Z"
      },
      {
        "duration": 248,
        "start_time": "2025-03-24T23:03:52.867Z"
      },
      {
        "duration": 73,
        "start_time": "2025-03-24T23:03:53.117Z"
      },
      {
        "duration": 14,
        "start_time": "2025-03-24T23:03:53.192Z"
      },
      {
        "duration": 17,
        "start_time": "2025-03-24T23:03:53.208Z"
      },
      {
        "duration": 23,
        "start_time": "2025-03-24T23:03:53.226Z"
      },
      {
        "duration": 13,
        "start_time": "2025-03-24T23:03:53.250Z"
      },
      {
        "duration": 29,
        "start_time": "2025-03-24T23:03:53.264Z"
      },
      {
        "duration": 5,
        "start_time": "2025-03-24T23:03:53.295Z"
      },
      {
        "duration": 13,
        "start_time": "2025-03-24T23:03:53.301Z"
      },
      {
        "duration": 43,
        "start_time": "2025-03-24T23:03:53.315Z"
      },
      {
        "duration": 16,
        "start_time": "2025-03-24T23:03:53.361Z"
      },
      {
        "duration": 15,
        "start_time": "2025-03-24T23:03:53.379Z"
      },
      {
        "duration": 15,
        "start_time": "2025-03-24T23:03:53.396Z"
      },
      {
        "duration": 13,
        "start_time": "2025-03-24T23:03:53.412Z"
      },
      {
        "duration": 77,
        "start_time": "2025-03-24T23:03:53.426Z"
      },
      {
        "duration": 13,
        "start_time": "2025-03-24T23:03:53.505Z"
      },
      {
        "duration": 33,
        "start_time": "2025-03-24T23:03:53.520Z"
      },
      {
        "duration": 21,
        "start_time": "2025-03-24T23:03:53.555Z"
      },
      {
        "duration": 23,
        "start_time": "2025-03-24T23:03:53.577Z"
      },
      {
        "duration": 41,
        "start_time": "2025-03-24T23:03:53.601Z"
      },
      {
        "duration": 15,
        "start_time": "2025-03-24T23:03:53.644Z"
      },
      {
        "duration": 7,
        "start_time": "2025-03-24T23:03:53.660Z"
      },
      {
        "duration": 12,
        "start_time": "2025-03-24T23:03:53.668Z"
      },
      {
        "duration": 9,
        "start_time": "2025-03-24T23:03:53.681Z"
      },
      {
        "duration": 15,
        "start_time": "2025-03-24T23:03:53.691Z"
      },
      {
        "duration": 9,
        "start_time": "2025-03-24T23:03:53.707Z"
      },
      {
        "duration": 21,
        "start_time": "2025-03-24T23:03:53.718Z"
      },
      {
        "duration": 52,
        "start_time": "2025-03-24T23:03:53.740Z"
      },
      {
        "duration": 152,
        "start_time": "2025-03-24T23:03:53.793Z"
      },
      {
        "duration": 6,
        "start_time": "2025-03-24T23:03:53.946Z"
      },
      {
        "duration": 19,
        "start_time": "2025-03-24T23:03:53.953Z"
      },
      {
        "duration": 213,
        "start_time": "2025-03-24T23:03:53.973Z"
      },
      {
        "duration": 182,
        "start_time": "2025-03-24T23:03:54.187Z"
      },
      {
        "duration": 198,
        "start_time": "2025-03-24T23:03:54.371Z"
      },
      {
        "duration": 5,
        "start_time": "2025-03-24T23:03:54.571Z"
      },
      {
        "duration": 185,
        "start_time": "2025-03-24T23:03:54.577Z"
      },
      {
        "duration": 5,
        "start_time": "2025-03-24T23:03:54.767Z"
      },
      {
        "duration": 5,
        "start_time": "2025-03-24T23:03:54.776Z"
      },
      {
        "duration": 128,
        "start_time": "2025-03-24T23:03:54.783Z"
      },
      {
        "duration": 228,
        "start_time": "2025-03-24T23:03:54.913Z"
      },
      {
        "duration": 6,
        "start_time": "2025-03-24T23:03:55.142Z"
      },
      {
        "duration": 118,
        "start_time": "2025-03-24T23:03:55.149Z"
      },
      {
        "duration": 8,
        "start_time": "2025-03-24T23:03:55.268Z"
      },
      {
        "duration": 152,
        "start_time": "2025-03-24T23:03:55.277Z"
      },
      {
        "duration": 8,
        "start_time": "2025-03-24T23:03:55.431Z"
      },
      {
        "duration": 165,
        "start_time": "2025-03-24T23:03:55.440Z"
      },
      {
        "duration": 5,
        "start_time": "2025-03-24T23:03:55.607Z"
      },
      {
        "duration": 32,
        "start_time": "2025-03-24T23:03:55.613Z"
      },
      {
        "duration": 21,
        "start_time": "2025-03-24T23:03:55.647Z"
      },
      {
        "duration": 8,
        "start_time": "2025-03-24T23:03:55.669Z"
      },
      {
        "duration": 770,
        "start_time": "2025-03-24T23:03:55.678Z"
      },
      {
        "duration": 5,
        "start_time": "2025-03-24T23:03:56.450Z"
      },
      {
        "duration": 131,
        "start_time": "2025-03-24T23:03:56.457Z"
      },
      {
        "duration": 4,
        "start_time": "2025-03-24T23:03:56.590Z"
      },
      {
        "duration": 17,
        "start_time": "2025-03-24T23:03:56.595Z"
      },
      {
        "duration": 237,
        "start_time": "2025-03-24T23:03:56.613Z"
      },
      {
        "duration": 205,
        "start_time": "2025-03-24T23:03:56.852Z"
      },
      {
        "duration": 15,
        "start_time": "2025-03-24T23:03:57.058Z"
      },
      {
        "duration": 199,
        "start_time": "2025-03-24T23:03:57.075Z"
      },
      {
        "duration": 199,
        "start_time": "2025-03-24T23:03:57.276Z"
      },
      {
        "duration": 173,
        "start_time": "2025-03-24T23:03:57.476Z"
      },
      {
        "duration": 5,
        "start_time": "2025-03-24T23:03:57.651Z"
      },
      {
        "duration": 19,
        "start_time": "2025-03-24T23:03:57.658Z"
      },
      {
        "duration": 213,
        "start_time": "2025-03-24T23:03:57.679Z"
      },
      {
        "duration": 22,
        "start_time": "2025-03-24T23:07:19.007Z"
      },
      {
        "duration": 104,
        "start_time": "2025-03-24T23:08:04.957Z"
      },
      {
        "duration": 9,
        "start_time": "2025-03-24T23:08:12.459Z"
      },
      {
        "duration": 32,
        "start_time": "2025-03-24T23:08:34.853Z"
      },
      {
        "duration": 5,
        "start_time": "2025-03-24T23:08:51.783Z"
      },
      {
        "duration": 1097,
        "start_time": "2025-03-24T23:10:03.625Z"
      },
      {
        "duration": 2901,
        "start_time": "2025-03-24T23:10:04.724Z"
      },
      {
        "duration": 72,
        "start_time": "2025-03-24T23:10:07.626Z"
      },
      {
        "duration": 151,
        "start_time": "2025-03-24T23:10:07.700Z"
      },
      {
        "duration": 47,
        "start_time": "2025-03-24T23:10:07.852Z"
      },
      {
        "duration": 14,
        "start_time": "2025-03-24T23:10:07.900Z"
      },
      {
        "duration": 15,
        "start_time": "2025-03-24T23:10:07.915Z"
      },
      {
        "duration": 10,
        "start_time": "2025-03-24T23:10:07.932Z"
      },
      {
        "duration": 9,
        "start_time": "2025-03-24T23:10:07.943Z"
      },
      {
        "duration": 31,
        "start_time": "2025-03-24T23:10:07.955Z"
      },
      {
        "duration": 38,
        "start_time": "2025-03-24T23:10:07.987Z"
      },
      {
        "duration": 29,
        "start_time": "2025-03-24T23:10:08.027Z"
      },
      {
        "duration": 14,
        "start_time": "2025-03-24T23:10:08.058Z"
      },
      {
        "duration": 15,
        "start_time": "2025-03-24T23:10:08.073Z"
      },
      {
        "duration": 31,
        "start_time": "2025-03-24T23:10:08.089Z"
      },
      {
        "duration": 9,
        "start_time": "2025-03-24T23:10:08.122Z"
      },
      {
        "duration": 14,
        "start_time": "2025-03-24T23:10:08.132Z"
      },
      {
        "duration": 66,
        "start_time": "2025-03-24T23:10:08.148Z"
      },
      {
        "duration": 14,
        "start_time": "2025-03-24T23:10:08.215Z"
      },
      {
        "duration": 18,
        "start_time": "2025-03-24T23:10:08.230Z"
      },
      {
        "duration": 22,
        "start_time": "2025-03-24T23:10:08.267Z"
      },
      {
        "duration": 23,
        "start_time": "2025-03-24T23:10:08.291Z"
      },
      {
        "duration": 7,
        "start_time": "2025-03-24T23:10:08.316Z"
      },
      {
        "duration": 22,
        "start_time": "2025-03-24T23:10:08.325Z"
      },
      {
        "duration": 18,
        "start_time": "2025-03-24T23:10:08.348Z"
      },
      {
        "duration": 15,
        "start_time": "2025-03-24T23:10:08.368Z"
      },
      {
        "duration": 8,
        "start_time": "2025-03-24T23:10:08.385Z"
      },
      {
        "duration": 10,
        "start_time": "2025-03-24T23:10:08.397Z"
      },
      {
        "duration": 15,
        "start_time": "2025-03-24T23:10:08.408Z"
      },
      {
        "duration": 18,
        "start_time": "2025-03-24T23:10:08.424Z"
      },
      {
        "duration": 8,
        "start_time": "2025-03-24T23:10:08.443Z"
      },
      {
        "duration": 157,
        "start_time": "2025-03-24T23:10:08.453Z"
      },
      {
        "duration": 5,
        "start_time": "2025-03-24T23:10:08.612Z"
      },
      {
        "duration": 12,
        "start_time": "2025-03-24T23:10:08.619Z"
      },
      {
        "duration": 181,
        "start_time": "2025-03-24T23:10:08.632Z"
      },
      {
        "duration": 194,
        "start_time": "2025-03-24T23:10:08.815Z"
      },
      {
        "duration": 187,
        "start_time": "2025-03-24T23:10:09.011Z"
      },
      {
        "duration": 5,
        "start_time": "2025-03-24T23:10:09.199Z"
      },
      {
        "duration": 184,
        "start_time": "2025-03-24T23:10:09.206Z"
      },
      {
        "duration": 6,
        "start_time": "2025-03-24T23:10:09.391Z"
      },
      {
        "duration": 11,
        "start_time": "2025-03-24T23:10:09.398Z"
      },
      {
        "duration": 120,
        "start_time": "2025-03-24T23:10:09.410Z"
      },
      {
        "duration": 227,
        "start_time": "2025-03-24T23:10:09.531Z"
      },
      {
        "duration": 8,
        "start_time": "2025-03-24T23:10:09.760Z"
      },
      {
        "duration": 138,
        "start_time": "2025-03-24T23:10:09.769Z"
      },
      {
        "duration": 8,
        "start_time": "2025-03-24T23:10:09.908Z"
      },
      {
        "duration": 149,
        "start_time": "2025-03-24T23:10:09.918Z"
      },
      {
        "duration": 8,
        "start_time": "2025-03-24T23:10:10.068Z"
      },
      {
        "duration": 140,
        "start_time": "2025-03-24T23:10:10.077Z"
      },
      {
        "duration": 5,
        "start_time": "2025-03-24T23:10:10.218Z"
      },
      {
        "duration": 44,
        "start_time": "2025-03-24T23:10:10.224Z"
      },
      {
        "duration": 3,
        "start_time": "2025-03-24T23:10:10.269Z"
      },
      {
        "duration": 9,
        "start_time": "2025-03-24T23:10:10.273Z"
      },
      {
        "duration": 6,
        "start_time": "2025-03-24T23:10:10.283Z"
      },
      {
        "duration": 759,
        "start_time": "2025-03-24T23:10:10.290Z"
      },
      {
        "duration": 5,
        "start_time": "2025-03-24T23:10:11.051Z"
      },
      {
        "duration": 121,
        "start_time": "2025-03-24T23:10:11.057Z"
      },
      {
        "duration": 5,
        "start_time": "2025-03-24T23:10:11.179Z"
      },
      {
        "duration": 17,
        "start_time": "2025-03-24T23:10:11.185Z"
      },
      {
        "duration": 229,
        "start_time": "2025-03-24T23:10:11.203Z"
      },
      {
        "duration": 205,
        "start_time": "2025-03-24T23:10:11.433Z"
      },
      {
        "duration": 8,
        "start_time": "2025-03-24T23:10:11.640Z"
      },
      {
        "duration": 202,
        "start_time": "2025-03-24T23:10:11.649Z"
      },
      {
        "duration": 204,
        "start_time": "2025-03-24T23:10:11.853Z"
      },
      {
        "duration": 191,
        "start_time": "2025-03-24T23:10:12.059Z"
      },
      {
        "duration": 6,
        "start_time": "2025-03-24T23:10:12.252Z"
      },
      {
        "duration": 11,
        "start_time": "2025-03-24T23:10:12.267Z"
      },
      {
        "duration": 216,
        "start_time": "2025-03-24T23:10:12.280Z"
      }
    ],
    "colab": {
      "provenance": []
    },
    "toc": {
      "base_numbering": 1,
      "nav_menu": {},
      "number_sections": true,
      "sideBar": true,
      "skip_h1_title": true,
      "title_cell": "Table of Contents",
      "title_sidebar": "Contents",
      "toc_cell": false,
      "toc_position": {
        "height": "calc(100% - 180px)",
        "left": "10px",
        "top": "150px",
        "width": "205.943px"
      },
      "toc_section_display": true,
      "toc_window_display": true
    }
  },
  "nbformat_minor": 5,
  "nbformat": 4,
  "cells": [
    {
      "id": "e06910dd",
      "cell_type": "markdown",
      "source": "# Анализ рынка заведений общественного питания Москвы\n\n- Автор: Пипченко Александра Сергеевна\n- Дата: 24.03.2025",
      "metadata": {
        "id": "e06910dd"
      }
    },
    {
      "id": "4149134c",
      "cell_type": "markdown",
      "source": "### Цели и задачи проекта\n\n<font color='#777778'>Цель: провести исследовательский анализ рынка Москвы.       \n    Задачи:  \n- Загрузить данные и познакомиться с их содержимым  \n- Провести предобработку данных  \n- Провести исследовательский анализ данных  \n- Сформулировать выводы по проведённому анализу  \n</font>",
      "metadata": {
        "id": "4149134c"
      }
    },
    {
      "id": "728986ea",
      "cell_type": "markdown",
      "source": "### Описание данных\n\n<font color='#777778'>Файл /datasets/rest_info.csv содержит информацию о заведениях общественного питания:   \n      \n- name — название заведения;  \n- address — адрес заведения;  \n- district — административный район, в котором находится заведение, например Центральный административный округ;  \n- category — категория заведения, например «кафе», «пиццерия» или «кофейня»;  \n- hours — информация о днях и часах работы;  \n- rating — рейтинг заведения по оценкам пользователей в Яндекс Картах (высшая оценка — 5.0);  \n- chain — число, выраженное 0 или 1, которое показывает, является ли заведение сетевым (для маленьких сетей могут встречаться ошибки):  \n- 0 — заведение не является сетевым;  \n- 1 — заведение является сетевым.  \n- seats — количество посадочных мест.          \n            \nФайл /datasets/rest_price.csv содержит информацию о среднем чеке в заведениях общественного питания:  \n      \n- price — категория цен в заведении, например «средние», «ниже среднего», «выше среднего» и так далее;  \n- avg_bill — строка, которая хранит среднюю стоимость заказа в виде диапазона, например:  \n«Средний счёт: 1000–1500 ₽»;  \n«Цена чашки капучино: 130–220 ₽»;  \n«Цена бокала пива: 400–600 ₽».  \nи так далее;  \n- middle_avg_bill — число с оценкой среднего чека, которое указано только для значений из столбца avg_bill, начинающихся с подстроки «Средний счёт»:  \nЕсли в строке указан ценовой диапазон из двух значений, в столбец войдёт медиана этих двух значений.  \nЕсли в строке указано одно число — цена без диапазона, то в столбец войдёт это число.  \nЕсли значения нет или оно не начинается с подстроки «Средний счёт», то в столбец ничего не войдёт.  \n- middle_coffee_cup — число с оценкой одной чашки капучино, которое указано только для значений из столбца avg_bill, начинающихся с подстроки «Цена одной чашки капучино»:  \nЕсли в строке указан ценовой диапазон из двух значений, в столбец войдёт медиана этих двух значений.  \nЕсли в строке указано одно число — цена без диапазона, то в столбец войдёт это число.  \nЕсли значения нет или оно не начинается с подстроки «Цена одной чашки капучино», то в столбец ничего не войдёт.</font>",
      "metadata": {
        "id": "728986ea"
      }
    },
    {
      "id": "4fecaf95",
      "cell_type": "markdown",
      "source": "### Содержимое проекта\n\n<font color='#777778'>Шаг 1. Загрузка данных и знакомство с ними  \nШаг 2. Предобработка данных  \nШаг 3. Исследовательский анализ данных  \nШаг 4. Итоговый вывод и рекомендации</font>\n\n---",
      "metadata": {
        "id": "4fecaf95"
      }
    },
    {
      "id": "6f7d21d6",
      "cell_type": "markdown",
      "source": "## 1. Загрузка данных и знакомство с ними\n\n",
      "metadata": {
        "id": "6f7d21d6"
      }
    },
    {
      "id": "05faf34b",
      "cell_type": "code",
      "source": "# Импортируем библиотеки\nimport pandas as pd\nimport matplotlib.pyplot as plt\nimport seaborn as sns",
      "metadata": {
        "id": "05faf34b"
      },
      "outputs": [],
      "execution_count": 1
    },
    {
      "id": "07b4b222",
      "cell_type": "code",
      "source": "!pip install phik",
      "metadata": {},
      "outputs": [
        {
          "name": "stdout",
          "output_type": "stream",
          "text": "Requirement already satisfied: phik in /opt/conda/lib/python3.9/site-packages (0.12.4)\r\n,Requirement already satisfied: pandas>=0.25.1 in /opt/conda/lib/python3.9/site-packages (from phik) (1.2.4)\r\n,Requirement already satisfied: joblib>=0.14.1 in /opt/conda/lib/python3.9/site-packages (from phik) (1.1.0)\r\n,Requirement already satisfied: scipy>=1.5.2 in /opt/conda/lib/python3.9/site-packages (from phik) (1.9.1)\r\n,Requirement already satisfied: numpy>=1.18.0 in /opt/conda/lib/python3.9/site-packages (from phik) (1.21.1)\r\n,Requirement already satisfied: matplotlib>=2.2.3 in /opt/conda/lib/python3.9/site-packages (from phik) (3.3.4)\r\n,Requirement already satisfied: kiwisolver>=1.0.1 in /opt/conda/lib/python3.9/site-packages (from matplotlib>=2.2.3->phik) (1.4.4)\r\n,Requirement already satisfied: python-dateutil>=2.1 in /opt/conda/lib/python3.9/site-packages (from matplotlib>=2.2.3->phik) (2.8.1)\r\n,Requirement already satisfied: pyparsing!=2.0.4,!=2.1.2,!=2.1.6,>=2.0.3 in /opt/conda/lib/python3.9/site-packages (from matplotlib>=2.2.3->phik) (2.4.7)\r\n,Requirement already satisfied: pillow>=6.2.0 in /opt/conda/lib/python3.9/site-packages (from matplotlib>=2.2.3->phik) (8.4.0)\r\n,Requirement already satisfied: cycler>=0.10 in /opt/conda/lib/python3.9/site-packages (from matplotlib>=2.2.3->phik) (0.11.0)\r\n,Requirement already satisfied: pytz>=2017.3 in /opt/conda/lib/python3.9/site-packages (from pandas>=0.25.1->phik) (2021.1)\r\n,Requirement already satisfied: six>=1.5 in /opt/conda/lib/python3.9/site-packages (from python-dateutil>=2.1->matplotlib>=2.2.3->phik) (1.16.0)\r\n"
        }
      ],
      "execution_count": 2
    },
    {
      "id": "e7e0f4cf",
      "cell_type": "code",
      "source": "import phik\nfrom phik import resources, report \nfrom phik.report import plot_correlation_matrix",
      "metadata": {},
      "outputs": [],
      "execution_count": 3
    },
    {
      "id": "ce87c1db",
      "cell_type": "code",
      "source": "# Выгружаем данные в переменную df_rest_info\ndf_rest_info = pd.read_csv('https://code.s3.yandex.net/datasets/rest_info.csv')",
      "metadata": {
        "id": "ce87c1db"
      },
      "outputs": [],
      "execution_count": 4
    },
    {
      "id": "90fee493",
      "cell_type": "code",
      "source": "# Выгружаем данные в переменную df_rest_price\ndf_rest_price = pd.read_csv('https://code.s3.yandex.net/datasets/rest_price.csv')",
      "metadata": {
        "id": "90fee493"
      },
      "outputs": [],
      "execution_count": 5
    },
    {
      "id": "f68a7419",
      "cell_type": "code",
      "source": "# Выводим информацию о датафрейме\ndf_rest_info.info()",
      "metadata": {
        "id": "f68a7419"
      },
      "outputs": [
        {
          "name": "stdout",
          "output_type": "stream",
          "text": "<class 'pandas.core.frame.DataFrame'>\n,RangeIndex: 8406 entries, 0 to 8405\n,Data columns (total 9 columns):\n, #   Column    Non-Null Count  Dtype  \n,---  ------    --------------  -----  \n, 0   id        8406 non-null   object \n, 1   name      8406 non-null   object \n, 2   category  8406 non-null   object \n, 3   address   8406 non-null   object \n, 4   district  8406 non-null   object \n, 5   hours     7870 non-null   object \n, 6   rating    8406 non-null   float64\n, 7   chain     8406 non-null   int64  \n, 8   seats     4795 non-null   float64\n,dtypes: float64(2), int64(1), object(6)\n,memory usage: 591.2+ KB\n"
        }
      ],
      "execution_count": 6
    },
    {
      "id": "95f5fc25",
      "cell_type": "code",
      "source": "# Выводим данные df_rest_info\ndisplay(df_rest_info.head())",
      "metadata": {},
      "outputs": [
        {
          "data": {
            "text/html": [
              "<div>\n",
              "<style scoped>\n",
              "    .dataframe tbody tr th:only-of-type {\n",
              "        vertical-align: middle;\n",
              "    }\n",
              "\n",
              "    .dataframe tbody tr th {\n",
              "        vertical-align: top;\n",
              "    }\n",
              "\n",
              "    .dataframe thead th {\n",
              "        text-align: right;\n",
              "    }\n",
              "</style>\n",
              "<table border=\"1\" class=\"dataframe\">\n",
              "  <thead>\n",
              "    <tr style=\"text-align: right;\">\n",
              "      <th></th>\n",
              "      <th>id</th>\n",
              "      <th>name</th>\n",
              "      <th>category</th>\n",
              "      <th>address</th>\n",
              "      <th>district</th>\n",
              "      <th>hours</th>\n",
              "      <th>rating</th>\n",
              "      <th>chain</th>\n",
              "      <th>seats</th>\n",
              "    </tr>\n",
              "  </thead>\n",
              "  <tbody>\n",
              "    <tr>\n",
              "      <th>0</th>\n",
              "      <td>0c3e3439a8c64ea5bf6ecd6ca6ae19f0</td>\n",
              "      <td>WoWфли</td>\n",
              "      <td>кафе</td>\n",
              "      <td>Москва, улица Дыбенко, 7/1</td>\n",
              "      <td>Северный административный округ</td>\n",
              "      <td>ежедневно, 10:00–22:00</td>\n",
              "      <td>5.0</td>\n",
              "      <td>0</td>\n",
              "      <td>NaN</td>\n",
              "    </tr>\n",
              "    <tr>\n",
              "      <th>1</th>\n",
              "      <td>045780ada3474c57a2112e505d74b633</td>\n",
              "      <td>Четыре комнаты</td>\n",
              "      <td>ресторан</td>\n",
              "      <td>Москва, улица Дыбенко, 36, корп. 1</td>\n",
              "      <td>Северный административный округ</td>\n",
              "      <td>ежедневно, 10:00–22:00</td>\n",
              "      <td>4.5</td>\n",
              "      <td>0</td>\n",
              "      <td>4.0</td>\n",
              "    </tr>\n",
              "    <tr>\n",
              "      <th>2</th>\n",
              "      <td>1070b6b59144425896c65889347fcff6</td>\n",
              "      <td>Хазри</td>\n",
              "      <td>кафе</td>\n",
              "      <td>Москва, Клязьминская улица, 15</td>\n",
              "      <td>Северный административный округ</td>\n",
              "      <td>пн-чт 11:00–02:00; пт,сб 11:00–05:00; вс 11:00...</td>\n",
              "      <td>4.6</td>\n",
              "      <td>0</td>\n",
              "      <td>45.0</td>\n",
              "    </tr>\n",
              "    <tr>\n",
              "      <th>3</th>\n",
              "      <td>03ac7cd772104f65b58b349dc59f03ee</td>\n",
              "      <td>Dormouse Coffee Shop</td>\n",
              "      <td>кофейня</td>\n",
              "      <td>Москва, улица Маршала Федоренко, 12</td>\n",
              "      <td>Северный административный округ</td>\n",
              "      <td>ежедневно, 09:00–22:00</td>\n",
              "      <td>5.0</td>\n",
              "      <td>0</td>\n",
              "      <td>NaN</td>\n",
              "    </tr>\n",
              "    <tr>\n",
              "      <th>4</th>\n",
              "      <td>a163aada139c4c7f87b0b1c0b466a50f</td>\n",
              "      <td>Иль Марко</td>\n",
              "      <td>пиццерия</td>\n",
              "      <td>Москва, Правобережная улица, 1Б</td>\n",
              "      <td>Северный административный округ</td>\n",
              "      <td>ежедневно, 10:00–22:00</td>\n",
              "      <td>5.0</td>\n",
              "      <td>1</td>\n",
              "      <td>148.0</td>\n",
              "    </tr>\n",
              "  </tbody>\n",
              "</table>\n",
              "</div>"
            ],
            "text/plain": [
              "                                 id                  name  category  \\\n",
              "0  0c3e3439a8c64ea5bf6ecd6ca6ae19f0                WoWфли      кафе   \n",
              "1  045780ada3474c57a2112e505d74b633        Четыре комнаты  ресторан   \n",
              "2  1070b6b59144425896c65889347fcff6                 Хазри      кафе   \n",
              "3  03ac7cd772104f65b58b349dc59f03ee  Dormouse Coffee Shop   кофейня   \n",
              "4  a163aada139c4c7f87b0b1c0b466a50f             Иль Марко  пиццерия   \n",
              "\n",
              "                               address                         district  \\\n",
              "0           Москва, улица Дыбенко, 7/1  Северный административный округ   \n",
              "1   Москва, улица Дыбенко, 36, корп. 1  Северный административный округ   \n",
              "2       Москва, Клязьминская улица, 15  Северный административный округ   \n",
              "3  Москва, улица Маршала Федоренко, 12  Северный административный округ   \n",
              "4      Москва, Правобережная улица, 1Б  Северный административный округ   \n",
              "\n",
              "                                               hours  rating  chain  seats  \n",
              "0                             ежедневно, 10:00–22:00     5.0      0    NaN  \n",
              "1                             ежедневно, 10:00–22:00     4.5      0    4.0  \n",
              "2  пн-чт 11:00–02:00; пт,сб 11:00–05:00; вс 11:00...     4.6      0   45.0  \n",
              "3                             ежедневно, 09:00–22:00     5.0      0    NaN  \n",
              "4                             ежедневно, 10:00–22:00     5.0      1  148.0  "
            ]
          },
          "metadata": {},
          "output_type": "display_data"
        }
      ],
      "execution_count": 7
    },
    {
      "id": "dd415c80",
      "cell_type": "code",
      "source": "# Выводим информацию о датафрейме\ndf_rest_price.info()",
      "metadata": {
        "id": "dd415c80",
        "scrolled": true
      },
      "outputs": [
        {
          "name": "stdout",
          "output_type": "stream",
          "text": "<class 'pandas.core.frame.DataFrame'>\n,RangeIndex: 4058 entries, 0 to 4057\n,Data columns (total 5 columns):\n, #   Column             Non-Null Count  Dtype  \n,---  ------             --------------  -----  \n, 0   id                 4058 non-null   object \n, 1   price              3315 non-null   object \n, 2   avg_bill           3816 non-null   object \n, 3   middle_avg_bill    3149 non-null   float64\n, 4   middle_coffee_cup  535 non-null    float64\n,dtypes: float64(2), object(3)\n,memory usage: 158.6+ KB\n"
        }
      ],
      "execution_count": 8
    },
    {
      "id": "d2950895",
      "cell_type": "code",
      "source": "# Выводим данные df_rest_price\ndisplay(df_rest_price.head())",
      "metadata": {},
      "outputs": [
        {
          "data": {
            "text/html": [
              "<div>\n",
              "<style scoped>\n",
              "    .dataframe tbody tr th:only-of-type {\n",
              "        vertical-align: middle;\n",
              "    }\n",
              "\n",
              "    .dataframe tbody tr th {\n",
              "        vertical-align: top;\n",
              "    }\n",
              "\n",
              "    .dataframe thead th {\n",
              "        text-align: right;\n",
              "    }\n",
              "</style>\n",
              "<table border=\"1\" class=\"dataframe\">\n",
              "  <thead>\n",
              "    <tr style=\"text-align: right;\">\n",
              "      <th></th>\n",
              "      <th>id</th>\n",
              "      <th>price</th>\n",
              "      <th>avg_bill</th>\n",
              "      <th>middle_avg_bill</th>\n",
              "      <th>middle_coffee_cup</th>\n",
              "    </tr>\n",
              "  </thead>\n",
              "  <tbody>\n",
              "    <tr>\n",
              "      <th>0</th>\n",
              "      <td>045780ada3474c57a2112e505d74b633</td>\n",
              "      <td>выше среднего</td>\n",
              "      <td>Средний счёт:1500–1600 ₽</td>\n",
              "      <td>1550.0</td>\n",
              "      <td>NaN</td>\n",
              "    </tr>\n",
              "    <tr>\n",
              "      <th>1</th>\n",
              "      <td>1070b6b59144425896c65889347fcff6</td>\n",
              "      <td>средние</td>\n",
              "      <td>Средний счёт:от 1000 ₽</td>\n",
              "      <td>1000.0</td>\n",
              "      <td>NaN</td>\n",
              "    </tr>\n",
              "    <tr>\n",
              "      <th>2</th>\n",
              "      <td>03ac7cd772104f65b58b349dc59f03ee</td>\n",
              "      <td>NaN</td>\n",
              "      <td>Цена чашки капучино:155–185 ₽</td>\n",
              "      <td>NaN</td>\n",
              "      <td>170.0</td>\n",
              "    </tr>\n",
              "    <tr>\n",
              "      <th>3</th>\n",
              "      <td>a163aada139c4c7f87b0b1c0b466a50f</td>\n",
              "      <td>средние</td>\n",
              "      <td>Средний счёт:400–600 ₽</td>\n",
              "      <td>500.0</td>\n",
              "      <td>NaN</td>\n",
              "    </tr>\n",
              "    <tr>\n",
              "      <th>4</th>\n",
              "      <td>8a343546b24e4a499ad96eb7d0797a8a</td>\n",
              "      <td>средние</td>\n",
              "      <td>NaN</td>\n",
              "      <td>NaN</td>\n",
              "      <td>NaN</td>\n",
              "    </tr>\n",
              "  </tbody>\n",
              "</table>\n",
              "</div>"
            ],
            "text/plain": [
              "                                 id          price  \\\n",
              "0  045780ada3474c57a2112e505d74b633  выше среднего   \n",
              "1  1070b6b59144425896c65889347fcff6        средние   \n",
              "2  03ac7cd772104f65b58b349dc59f03ee            NaN   \n",
              "3  a163aada139c4c7f87b0b1c0b466a50f        средние   \n",
              "4  8a343546b24e4a499ad96eb7d0797a8a        средние   \n",
              "\n",
              "                        avg_bill  middle_avg_bill  middle_coffee_cup  \n",
              "0       Средний счёт:1500–1600 ₽           1550.0                NaN  \n",
              "1         Средний счёт:от 1000 ₽           1000.0                NaN  \n",
              "2  Цена чашки капучино:155–185 ₽              NaN              170.0  \n",
              "3         Средний счёт:400–600 ₽            500.0                NaN  \n",
              "4                            NaN              NaN                NaN  "
            ]
          },
          "metadata": {},
          "output_type": "display_data"
        }
      ],
      "execution_count": 9
    },
    {
      "id": "2c614a62",
      "cell_type": "markdown",
      "source": "---\n\n### Промежуточный вывод\n\n",
      "metadata": {
        "id": "2c614a62"
      }
    },
    {
      "id": "e29fce44",
      "cell_type": "markdown",
      "source": "Файл /datasets/rest_info.csv содержит информацию о заведениях общественного питания, всего представлено 8406 строк и 9 столбцов. Названия столбцов корректны, изменения не требуются, названия соответствуют описанию. Пропуски имеются в столбцах hours, seats ",
      "metadata": {
        "id": "3593b7d5"
      }
    },
    {
      "id": "5d85c1f8",
      "cell_type": "markdown",
      "source": "Файл /datasets/rest_price.csv содержит информацию о среднем чеке в заведениях общественного питания, всего представлено 4058 строк и 5 столбцов. Названия столбцов корректны, изменения не требуются, названия соответствуют описанию.  Пропуски имеются во многих столбцах, среди них price, avg_bill, middle_avg_bill, middle_coffee_cup  ",
      "metadata": {
        "id": "c2cc7f38"
      }
    },
    {
      "id": "8a8d1491",
      "cell_type": "markdown",
      "source": "### Подготовка единого датафрейма\n\n",
      "metadata": {
        "id": "8a8d1491"
      }
    },
    {
      "id": "3408e303",
      "cell_type": "code",
      "source": "# Объединяем датафреймы\ndf = df_rest_info.merge(df_rest_price, on='id', how='left')\ndisplay(df)",
      "metadata": {
        "id": "3408e303",
        "scrolled": true
      },
      "outputs": [
        {
          "data": {
            "text/html": [
              "<div>\n",
              "<style scoped>\n",
              "    .dataframe tbody tr th:only-of-type {\n",
              "        vertical-align: middle;\n",
              "    }\n",
              "\n",
              "    .dataframe tbody tr th {\n",
              "        vertical-align: top;\n",
              "    }\n",
              "\n",
              "    .dataframe thead th {\n",
              "        text-align: right;\n",
              "    }\n",
              "</style>\n",
              "<table border=\"1\" class=\"dataframe\">\n",
              "  <thead>\n",
              "    <tr style=\"text-align: right;\">\n",
              "      <th></th>\n",
              "      <th>id</th>\n",
              "      <th>name</th>\n",
              "      <th>category</th>\n",
              "      <th>address</th>\n",
              "      <th>district</th>\n",
              "      <th>hours</th>\n",
              "      <th>rating</th>\n",
              "      <th>chain</th>\n",
              "      <th>seats</th>\n",
              "      <th>price</th>\n",
              "      <th>avg_bill</th>\n",
              "      <th>middle_avg_bill</th>\n",
              "      <th>middle_coffee_cup</th>\n",
              "    </tr>\n",
              "  </thead>\n",
              "  <tbody>\n",
              "    <tr>\n",
              "      <th>0</th>\n",
              "      <td>0c3e3439a8c64ea5bf6ecd6ca6ae19f0</td>\n",
              "      <td>WoWфли</td>\n",
              "      <td>кафе</td>\n",
              "      <td>Москва, улица Дыбенко, 7/1</td>\n",
              "      <td>Северный административный округ</td>\n",
              "      <td>ежедневно, 10:00–22:00</td>\n",
              "      <td>5.0</td>\n",
              "      <td>0</td>\n",
              "      <td>NaN</td>\n",
              "      <td>NaN</td>\n",
              "      <td>NaN</td>\n",
              "      <td>NaN</td>\n",
              "      <td>NaN</td>\n",
              "    </tr>\n",
              "    <tr>\n",
              "      <th>1</th>\n",
              "      <td>045780ada3474c57a2112e505d74b633</td>\n",
              "      <td>Четыре комнаты</td>\n",
              "      <td>ресторан</td>\n",
              "      <td>Москва, улица Дыбенко, 36, корп. 1</td>\n",
              "      <td>Северный административный округ</td>\n",
              "      <td>ежедневно, 10:00–22:00</td>\n",
              "      <td>4.5</td>\n",
              "      <td>0</td>\n",
              "      <td>4.0</td>\n",
              "      <td>выше среднего</td>\n",
              "      <td>Средний счёт:1500–1600 ₽</td>\n",
              "      <td>1550.0</td>\n",
              "      <td>NaN</td>\n",
              "    </tr>\n",
              "    <tr>\n",
              "      <th>2</th>\n",
              "      <td>1070b6b59144425896c65889347fcff6</td>\n",
              "      <td>Хазри</td>\n",
              "      <td>кафе</td>\n",
              "      <td>Москва, Клязьминская улица, 15</td>\n",
              "      <td>Северный административный округ</td>\n",
              "      <td>пн-чт 11:00–02:00; пт,сб 11:00–05:00; вс 11:00...</td>\n",
              "      <td>4.6</td>\n",
              "      <td>0</td>\n",
              "      <td>45.0</td>\n",
              "      <td>средние</td>\n",
              "      <td>Средний счёт:от 1000 ₽</td>\n",
              "      <td>1000.0</td>\n",
              "      <td>NaN</td>\n",
              "    </tr>\n",
              "    <tr>\n",
              "      <th>3</th>\n",
              "      <td>03ac7cd772104f65b58b349dc59f03ee</td>\n",
              "      <td>Dormouse Coffee Shop</td>\n",
              "      <td>кофейня</td>\n",
              "      <td>Москва, улица Маршала Федоренко, 12</td>\n",
              "      <td>Северный административный округ</td>\n",
              "      <td>ежедневно, 09:00–22:00</td>\n",
              "      <td>5.0</td>\n",
              "      <td>0</td>\n",
              "      <td>NaN</td>\n",
              "      <td>NaN</td>\n",
              "      <td>Цена чашки капучино:155–185 ₽</td>\n",
              "      <td>NaN</td>\n",
              "      <td>170.0</td>\n",
              "    </tr>\n",
              "    <tr>\n",
              "      <th>4</th>\n",
              "      <td>a163aada139c4c7f87b0b1c0b466a50f</td>\n",
              "      <td>Иль Марко</td>\n",
              "      <td>пиццерия</td>\n",
              "      <td>Москва, Правобережная улица, 1Б</td>\n",
              "      <td>Северный административный округ</td>\n",
              "      <td>ежедневно, 10:00–22:00</td>\n",
              "      <td>5.0</td>\n",
              "      <td>1</td>\n",
              "      <td>148.0</td>\n",
              "      <td>средние</td>\n",
              "      <td>Средний счёт:400–600 ₽</td>\n",
              "      <td>500.0</td>\n",
              "      <td>NaN</td>\n",
              "    </tr>\n",
              "    <tr>\n",
              "      <th>...</th>\n",
              "      <td>...</td>\n",
              "      <td>...</td>\n",
              "      <td>...</td>\n",
              "      <td>...</td>\n",
              "      <td>...</td>\n",
              "      <td>...</td>\n",
              "      <td>...</td>\n",
              "      <td>...</td>\n",
              "      <td>...</td>\n",
              "      <td>...</td>\n",
              "      <td>...</td>\n",
              "      <td>...</td>\n",
              "      <td>...</td>\n",
              "    </tr>\n",
              "    <tr>\n",
              "      <th>8401</th>\n",
              "      <td>0342ad1a45ed41ba89dcba246a8267e5</td>\n",
              "      <td>Суши Мания</td>\n",
              "      <td>кафе</td>\n",
              "      <td>Москва, Профсоюзная улица, 56</td>\n",
              "      <td>Юго-Западный административный округ</td>\n",
              "      <td>ежедневно, 09:00–02:00</td>\n",
              "      <td>4.4</td>\n",
              "      <td>0</td>\n",
              "      <td>86.0</td>\n",
              "      <td>NaN</td>\n",
              "      <td>NaN</td>\n",
              "      <td>NaN</td>\n",
              "      <td>NaN</td>\n",
              "    </tr>\n",
              "    <tr>\n",
              "      <th>8402</th>\n",
              "      <td>ee6bb7c3650e47bd8186fca08eda1091</td>\n",
              "      <td>Миславнес</td>\n",
              "      <td>кафе</td>\n",
              "      <td>Москва, Пролетарский проспект, 19, корп. 1</td>\n",
              "      <td>Южный административный округ</td>\n",
              "      <td>ежедневно, 08:00–22:00</td>\n",
              "      <td>4.8</td>\n",
              "      <td>0</td>\n",
              "      <td>150.0</td>\n",
              "      <td>NaN</td>\n",
              "      <td>NaN</td>\n",
              "      <td>NaN</td>\n",
              "      <td>NaN</td>\n",
              "    </tr>\n",
              "    <tr>\n",
              "      <th>8403</th>\n",
              "      <td>62e8c64d4c89467aba608e39ef87616b</td>\n",
              "      <td>Самовар</td>\n",
              "      <td>кафе</td>\n",
              "      <td>Москва, Люблинская улица, 112А, стр. 1</td>\n",
              "      <td>Юго-Восточный административный округ</td>\n",
              "      <td>ежедневно, круглосуточно</td>\n",
              "      <td>3.9</td>\n",
              "      <td>0</td>\n",
              "      <td>150.0</td>\n",
              "      <td>NaN</td>\n",
              "      <td>Средний счёт:от 150 ₽</td>\n",
              "      <td>150.0</td>\n",
              "      <td>NaN</td>\n",
              "    </tr>\n",
              "    <tr>\n",
              "      <th>8404</th>\n",
              "      <td>06a0db5ecd4842d48cd6350aa923e297</td>\n",
              "      <td>Чайхана Sabr</td>\n",
              "      <td>кафе</td>\n",
              "      <td>Москва, Люблинская улица, 112А, стр. 1</td>\n",
              "      <td>Юго-Восточный административный округ</td>\n",
              "      <td>ежедневно, круглосуточно</td>\n",
              "      <td>4.2</td>\n",
              "      <td>1</td>\n",
              "      <td>150.0</td>\n",
              "      <td>NaN</td>\n",
              "      <td>NaN</td>\n",
              "      <td>NaN</td>\n",
              "      <td>NaN</td>\n",
              "    </tr>\n",
              "    <tr>\n",
              "      <th>8405</th>\n",
              "      <td>9d56f8f7a7f74df1a925bc0fd2de8aae</td>\n",
              "      <td>Kebab Time</td>\n",
              "      <td>кафе</td>\n",
              "      <td>Москва, Россошанский проезд, 6</td>\n",
              "      <td>Южный административный округ</td>\n",
              "      <td>ежедневно, круглосуточно</td>\n",
              "      <td>3.9</td>\n",
              "      <td>0</td>\n",
              "      <td>12.0</td>\n",
              "      <td>NaN</td>\n",
              "      <td>NaN</td>\n",
              "      <td>NaN</td>\n",
              "      <td>NaN</td>\n",
              "    </tr>\n",
              "  </tbody>\n",
              "</table>\n",
              "<p>8406 rows × 13 columns</p>\n",
              "</div>"
            ],
            "text/plain": [
              "                                    id                  name  category  \\\n",
              "0     0c3e3439a8c64ea5bf6ecd6ca6ae19f0                WoWфли      кафе   \n",
              "1     045780ada3474c57a2112e505d74b633        Четыре комнаты  ресторан   \n",
              "2     1070b6b59144425896c65889347fcff6                 Хазри      кафе   \n",
              "3     03ac7cd772104f65b58b349dc59f03ee  Dormouse Coffee Shop   кофейня   \n",
              "4     a163aada139c4c7f87b0b1c0b466a50f             Иль Марко  пиццерия   \n",
              "...                                ...                   ...       ...   \n",
              "8401  0342ad1a45ed41ba89dcba246a8267e5            Суши Мания      кафе   \n",
              "8402  ee6bb7c3650e47bd8186fca08eda1091             Миславнес      кафе   \n",
              "8403  62e8c64d4c89467aba608e39ef87616b               Самовар      кафе   \n",
              "8404  06a0db5ecd4842d48cd6350aa923e297          Чайхана Sabr      кафе   \n",
              "8405  9d56f8f7a7f74df1a925bc0fd2de8aae            Kebab Time      кафе   \n",
              "\n",
              "                                         address  \\\n",
              "0                     Москва, улица Дыбенко, 7/1   \n",
              "1             Москва, улица Дыбенко, 36, корп. 1   \n",
              "2                 Москва, Клязьминская улица, 15   \n",
              "3            Москва, улица Маршала Федоренко, 12   \n",
              "4                Москва, Правобережная улица, 1Б   \n",
              "...                                          ...   \n",
              "8401               Москва, Профсоюзная улица, 56   \n",
              "8402  Москва, Пролетарский проспект, 19, корп. 1   \n",
              "8403      Москва, Люблинская улица, 112А, стр. 1   \n",
              "8404      Москва, Люблинская улица, 112А, стр. 1   \n",
              "8405              Москва, Россошанский проезд, 6   \n",
              "\n",
              "                                  district  \\\n",
              "0          Северный административный округ   \n",
              "1          Северный административный округ   \n",
              "2          Северный административный округ   \n",
              "3          Северный административный округ   \n",
              "4          Северный административный округ   \n",
              "...                                    ...   \n",
              "8401   Юго-Западный административный округ   \n",
              "8402          Южный административный округ   \n",
              "8403  Юго-Восточный административный округ   \n",
              "8404  Юго-Восточный административный округ   \n",
              "8405          Южный административный округ   \n",
              "\n",
              "                                                  hours  rating  chain  seats  \\\n",
              "0                                ежедневно, 10:00–22:00     5.0      0    NaN   \n",
              "1                                ежедневно, 10:00–22:00     4.5      0    4.0   \n",
              "2     пн-чт 11:00–02:00; пт,сб 11:00–05:00; вс 11:00...     4.6      0   45.0   \n",
              "3                                ежедневно, 09:00–22:00     5.0      0    NaN   \n",
              "4                                ежедневно, 10:00–22:00     5.0      1  148.0   \n",
              "...                                                 ...     ...    ...    ...   \n",
              "8401                             ежедневно, 09:00–02:00     4.4      0   86.0   \n",
              "8402                             ежедневно, 08:00–22:00     4.8      0  150.0   \n",
              "8403                           ежедневно, круглосуточно     3.9      0  150.0   \n",
              "8404                           ежедневно, круглосуточно     4.2      1  150.0   \n",
              "8405                           ежедневно, круглосуточно     3.9      0   12.0   \n",
              "\n",
              "              price                       avg_bill  middle_avg_bill  \\\n",
              "0               NaN                            NaN              NaN   \n",
              "1     выше среднего       Средний счёт:1500–1600 ₽           1550.0   \n",
              "2           средние         Средний счёт:от 1000 ₽           1000.0   \n",
              "3               NaN  Цена чашки капучино:155–185 ₽              NaN   \n",
              "4           средние         Средний счёт:400–600 ₽            500.0   \n",
              "...             ...                            ...              ...   \n",
              "8401            NaN                            NaN              NaN   \n",
              "8402            NaN                            NaN              NaN   \n",
              "8403            NaN          Средний счёт:от 150 ₽            150.0   \n",
              "8404            NaN                            NaN              NaN   \n",
              "8405            NaN                            NaN              NaN   \n",
              "\n",
              "      middle_coffee_cup  \n",
              "0                   NaN  \n",
              "1                   NaN  \n",
              "2                   NaN  \n",
              "3                 170.0  \n",
              "4                   NaN  \n",
              "...                 ...  \n",
              "8401                NaN  \n",
              "8402                NaN  \n",
              "8403                NaN  \n",
              "8404                NaN  \n",
              "8405                NaN  \n",
              "\n",
              "[8406 rows x 13 columns]"
            ]
          },
          "metadata": {},
          "output_type": "display_data"
        }
      ],
      "execution_count": 10
    },
    {
      "id": "956e82e2",
      "cell_type": "markdown",
      "source": "## 2. Предобработка данных\n\n",
      "metadata": {
        "id": "956e82e2"
      }
    },
    {
      "id": "2d4969d5",
      "cell_type": "code",
      "source": "# Комментарий ревьюера\n# создаем копию датасета до преобразования для возможности проверить сделанные изменения после предобработки\ntemp = df.copy() \nlen(temp)",
      "metadata": {},
      "outputs": [
        {
          "data": {
            "text/plain": [
              "8406"
            ]
          },
          "execution_count": 11,
          "metadata": {},
          "output_type": "execute_result"
        }
      ],
      "execution_count": 11
    },
    {
      "id": "c760d4dd",
      "cell_type": "code",
      "source": "# Создаем копию датасета\ntemp = df.copy() \nlen(temp)",
      "metadata": {},
      "outputs": [
        {
          "data": {
            "text/plain": [
              "8406"
            ]
          },
          "execution_count": 12,
          "metadata": {},
          "output_type": "execute_result"
        }
      ],
      "execution_count": 12
    },
    {
      "id": "67956690",
      "cell_type": "code",
      "source": "# Выводим информацию о датафрейме\ndf.info()",
      "metadata": {
        "id": "67956690"
      },
      "outputs": [
        {
          "name": "stdout",
          "output_type": "stream",
          "text": "<class 'pandas.core.frame.DataFrame'>\n,Int64Index: 8406 entries, 0 to 8405\n,Data columns (total 13 columns):\n, #   Column             Non-Null Count  Dtype  \n,---  ------             --------------  -----  \n, 0   id                 8406 non-null   object \n, 1   name               8406 non-null   object \n, 2   category           8406 non-null   object \n, 3   address            8406 non-null   object \n, 4   district           8406 non-null   object \n, 5   hours              7870 non-null   object \n, 6   rating             8406 non-null   float64\n, 7   chain              8406 non-null   int64  \n, 8   seats              4795 non-null   float64\n, 9   price              3315 non-null   object \n, 10  avg_bill           3816 non-null   object \n, 11  middle_avg_bill    3149 non-null   float64\n, 12  middle_coffee_cup  535 non-null    float64\n,dtypes: float64(4), int64(1), object(8)\n,memory usage: 919.4+ KB\n"
        }
      ],
      "execution_count": 13
    },
    {
      "id": "8b264816",
      "cell_type": "markdown",
      "source": "В столбце seats (количество посадочных мест) логичнее было бы использовать числовой тип данных integer. Остальные столбцы корректны.",
      "metadata": {
        "id": "b5f2a94d"
      }
    },
    {
      "id": "dac8417f",
      "cell_type": "code",
      "source": "# Заполняем пропуски в столбце seats индикатором \"-1\", чтобы поменять тип данных\ndf['seats'] = df['seats'].fillna(-1)\ndf['seats'] = pd.to_numeric(df['seats'], downcast='integer')\ndf.info()",
      "metadata": {},
      "outputs": [
        {
          "name": "stdout",
          "output_type": "stream",
          "text": "<class 'pandas.core.frame.DataFrame'>\n,Int64Index: 8406 entries, 0 to 8405\n,Data columns (total 13 columns):\n, #   Column             Non-Null Count  Dtype  \n,---  ------             --------------  -----  \n, 0   id                 8406 non-null   object \n, 1   name               8406 non-null   object \n, 2   category           8406 non-null   object \n, 3   address            8406 non-null   object \n, 4   district           8406 non-null   object \n, 5   hours              7870 non-null   object \n, 6   rating             8406 non-null   float64\n, 7   chain              8406 non-null   int64  \n, 8   seats              8406 non-null   int16  \n, 9   price              3315 non-null   object \n, 10  avg_bill           3816 non-null   object \n, 11  middle_avg_bill    3149 non-null   float64\n, 12  middle_coffee_cup  535 non-null    float64\n,dtypes: float64(3), int16(1), int64(1), object(8)\n,memory usage: 870.2+ KB\n"
        }
      ],
      "execution_count": 14
    },
    {
      "id": "30beae01",
      "cell_type": "code",
      "source": "# Понижаем разрядность числовых столбцов\ndf['chain'] = pd.to_numeric(df['chain'], downcast='integer')\nfor column in ['rating','middle_avg_bill','middle_coffee_cup','seats']:\n    df[column] = pd.to_numeric(df[column], downcast='float')\ndf.info()",
      "metadata": {},
      "outputs": [
        {
          "name": "stdout",
          "output_type": "stream",
          "text": "<class 'pandas.core.frame.DataFrame'>\n,Int64Index: 8406 entries, 0 to 8405\n,Data columns (total 13 columns):\n, #   Column             Non-Null Count  Dtype  \n,---  ------             --------------  -----  \n, 0   id                 8406 non-null   object \n, 1   name               8406 non-null   object \n, 2   category           8406 non-null   object \n, 3   address            8406 non-null   object \n, 4   district           8406 non-null   object \n, 5   hours              7870 non-null   object \n, 6   rating             8406 non-null   float32\n, 7   chain              8406 non-null   int8   \n, 8   seats              8406 non-null   int16  \n, 9   price              3315 non-null   object \n, 10  avg_bill           3816 non-null   object \n, 11  middle_avg_bill    3149 non-null   float32\n, 12  middle_coffee_cup  535 non-null    float32\n,dtypes: float32(3), int16(1), int8(1), object(8)\n,memory usage: 714.2+ KB\n"
        }
      ],
      "execution_count": 15
    },
    {
      "id": "3d8840ca",
      "cell_type": "code",
      "source": "# Изучим количество пропусков\ndf.isna().sum()",
      "metadata": {
        "id": "3d8840ca",
        "scrolled": true
      },
      "outputs": [
        {
          "data": {
            "text/plain": [
              "id                      0\n",
              "name                    0\n",
              "category                0\n",
              "address                 0\n",
              "district                0\n",
              "hours                 536\n",
              "rating                  0\n",
              "chain                   0\n",
              "seats                   0\n",
              "price                5091\n",
              "avg_bill             4590\n",
              "middle_avg_bill      5257\n",
              "middle_coffee_cup    7871\n",
              "dtype: int64"
            ]
          },
          "execution_count": 16,
          "metadata": {},
          "output_type": "execute_result"
        }
      ],
      "execution_count": 16
    },
    {
      "id": "2ea145ca",
      "cell_type": "code",
      "source": "# Изучим количество пропусков в долях\ndf.isna().sum()/df.shape[0]",
      "metadata": {
        "id": "2ea145ca"
      },
      "outputs": [
        {
          "data": {
            "text/plain": [
              "id                   0.000000\n",
              "name                 0.000000\n",
              "category             0.000000\n",
              "address              0.000000\n",
              "district             0.000000\n",
              "hours                0.063764\n",
              "rating               0.000000\n",
              "chain                0.000000\n",
              "seats                0.000000\n",
              "price                0.605639\n",
              "avg_bill             0.546039\n",
              "middle_avg_bill      0.625387\n",
              "middle_coffee_cup    0.936355\n",
              "dtype: float64"
            ]
          },
          "execution_count": 17,
          "metadata": {},
          "output_type": "execute_result"
        }
      ],
      "execution_count": 17
    },
    {
      "id": "be2038b4",
      "cell_type": "markdown",
      "source": "В столбцах seats, price, avg_bill, middle_avg_bill, middle_coffee_cup наблюдается более 40% пропусков. Заполнение пропусков может привести к искажению результатов, поэтому сделаем это только для столбцов hours и seats, в котором не так много пропусков. Замену будем осуществлять путем заполнения индикатором \"нет данных\".  \nЕго говорить о причинах пропусков в данных, то можно назвать несколько:  \n- В столбце hours не так много пропусков, этому могут способствовать случайные ошибки при вводе данных (тип MCAR). Также возможны технические сбои при записи данных, например, кратковременный сбой мог привести к потере некоторых данных (также тип MCAR).   \n- В данных с количеством посадочных мест могут быть пропущены данные и это связано с сезонностью, поскольку, например, летние кафе могут не указывать количество мест внутри помещения, так как основные места находятся на улице (тип MAR). \n",
      "metadata": {}
    },
    {
      "id": "d9e7c358",
      "cell_type": "code",
      "source": "# Заменим пропуски в столбце hours индикатором \"нет данных\" \ndf['hours'] = df['hours'].fillna('нет данных')\ndf.info()",
      "metadata": {
        "id": "d9e7c358"
      },
      "outputs": [
        {
          "name": "stdout",
          "output_type": "stream",
          "text": "<class 'pandas.core.frame.DataFrame'>\n,Int64Index: 8406 entries, 0 to 8405\n,Data columns (total 13 columns):\n, #   Column             Non-Null Count  Dtype  \n,---  ------             --------------  -----  \n, 0   id                 8406 non-null   object \n, 1   name               8406 non-null   object \n, 2   category           8406 non-null   object \n, 3   address            8406 non-null   object \n, 4   district           8406 non-null   object \n, 5   hours              8406 non-null   object \n, 6   rating             8406 non-null   float32\n, 7   chain              8406 non-null   int8   \n, 8   seats              8406 non-null   int16  \n, 9   price              3315 non-null   object \n, 10  avg_bill           3816 non-null   object \n, 11  middle_avg_bill    3149 non-null   float32\n, 12  middle_coffee_cup  535 non-null    float32\n,dtypes: float32(3), int16(1), int8(1), object(8)\n,memory usage: 714.2+ KB\n"
        }
      ],
      "execution_count": 19
    },
    {
      "id": "f2f0ea2f",
      "cell_type": "code",
      "source": "# Выводим уникальные значения столбца name и их количество\ncounts_unique = df['name'].unique()\ncounts_nunique = df['name'].nunique()\nlen_df = len(df)\ndupl = df.duplicated().sum()\nprint(f\"Уникальные значения в столбце name: {counts_unique}\")\nprint(f\"Количество уникальных значений в столбце name: {counts_nunique}\")\nprint(f'Всего строк: {len_df}')\nprint(f'Количество явных дубликатов: {dupl}')",
      "metadata": {},
      "outputs": [
        {
          "name": "stdout",
          "output_type": "stream",
          "text": "Уникальные значения в столбце name: ['WoWфли' 'Четыре комнаты' 'Хазри' ... 'Миславнес' 'Самовар' 'Kebab Time']\n,Количество уникальных значений в столбце name: 5614\n,Всего строк: 8406\n,Количество явных дубликатов: 0\n"
        }
      ],
      "execution_count": 20
    },
    {
      "id": "f21b99bc",
      "cell_type": "code",
      "source": "# Приводим данные столбца name в нижний регистр, выводим уникальные значения и их количество\ndf['name'] = df['name'].str.lower()\ncounts_unique = df['name'].unique()\ncounts_nunique = df['name'].nunique()\nlen_df = len(df)\ndupl = df.duplicated().sum()\nprint(f\"Уникальные значения в столбце name: {counts_unique}\")\nprint(f\"Количество уникальных значений в столбце name: {counts_nunique}\")\nprint(f'Всего строк: {len_df}')\nprint(f'Количество явных дубликатов: {dupl}')",
      "metadata": {
        "scrolled": true
      },
      "outputs": [
        {
          "name": "stdout",
          "output_type": "stream",
          "text": "Уникальные значения в столбце name: ['wowфли' 'четыре комнаты' 'хазри' ... 'миславнес' 'самовар' 'kebab time']\n,Количество уникальных значений в столбце name: 5512\n,Всего строк: 8406\n,Количество явных дубликатов: 0\n"
        }
      ],
      "execution_count": 21
    },
    {
      "id": "84151ab4",
      "cell_type": "code",
      "source": "# Ищем явные дубликаты по двум стобцам\ndupl = df[['name', 'address']].duplicated(keep=False)\nrows= df[df[['name', 'address']].duplicated(keep=False)]\nsumma = dupl.sum()\ndisplay(dupl)\nprint(summa)\nprint(rows[['name', 'address']])",
      "metadata": {},
      "outputs": [
        {
          "data": {
            "text/plain": [
              "0       False\n",
              "1       False\n",
              "2       False\n",
              "3       False\n",
              "4       False\n",
              "        ...  \n",
              "8401    False\n",
              "8402    False\n",
              "8403    False\n",
              "8404    False\n",
              "8405    False\n",
              "Length: 8406, dtype: bool"
            ]
          },
          "metadata": {},
          "output_type": "display_data"
        },
        {
          "name": "stdout",
          "output_type": "stream",
          "text": "6\n,                           name                                  address\n,1430                  more poke  Москва, Волоколамское шоссе, 11, стр. 2\n,1511                  more poke  Москва, Волоколамское шоссе, 11, стр. 2\n,2211  раковарня клешни и хвосты               Москва, проспект Мира, 118\n,2420  раковарня клешни и хвосты               Москва, проспект Мира, 118\n,3091            хлеб да выпечка              Москва, Ярцевская улица, 19\n,3109            хлеб да выпечка              Москва, Ярцевская улица, 19\n"
        }
      ],
      "execution_count": 22
    },
    {
      "id": "fc19c9c3",
      "cell_type": "markdown",
      "source": "Обнаружено 3 дубликата по столбцам name и address",
      "metadata": {}
    },
    {
      "id": "88c55808",
      "cell_type": "code",
      "source": "# Удаляем дубликаты по двум стобцам\ndf.drop_duplicates(subset=['name', 'address'], inplace=True)",
      "metadata": {},
      "outputs": [],
      "execution_count": 23
    },
    {
      "id": "a8084af5",
      "cell_type": "markdown",
      "source": "В датафрейме нет полных дубликатов строк",
      "metadata": {}
    },
    {
      "id": "b52bae9a",
      "cell_type": "code",
      "source": "# Проверяем неявные дубликаты в датафрейме \ndf.duplicated(subset='id').sum()",
      "metadata": {
        "id": "b52bae9a"
      },
      "outputs": [
        {
          "data": {
            "text/plain": [
              "0"
            ]
          },
          "execution_count": 24,
          "metadata": {},
          "output_type": "execute_result"
        }
      ],
      "execution_count": 24
    },
    {
      "id": "1e24b502",
      "cell_type": "markdown",
      "source": "Значения по id уникальны, то есть каждая строка в данных — уникальный клиент",
      "metadata": {}
    },
    {
      "id": "5b67eae2",
      "cell_type": "code",
      "source": "# Создаем новый столбец is_24_7, в котором значение True  принадлежит заведениям, которые работают ежедневно и круглосуточно\ndf['is_24_7'] = df['hours'] == 'ежедневно, круглосуточно'\nprint(df[['hours', 'is_24_7']].head(15))  ",
      "metadata": {
        "scrolled": true
      },
      "outputs": [
        {
          "name": "stdout",
          "output_type": "stream",
          "text": "                                                hours  is_24_7\n,0                              ежедневно, 10:00–22:00    False\n,1                              ежедневно, 10:00–22:00    False\n,2   пн-чт 11:00–02:00; пт,сб 11:00–05:00; вс 11:00...    False\n,3                              ежедневно, 09:00–22:00    False\n,4                              ежедневно, 10:00–22:00    False\n,5                              ежедневно, 10:00–23:00    False\n,6                   пн 15:00–04:00; вт-вс 15:00–05:00    False\n,7   пн-чт 10:00–22:00; пт,сб 10:00–23:00; вс 10:00...    False\n,8                              ежедневно, 10:00–22:00    False\n,9                              ежедневно, 12:00–00:00    False\n,10                           ежедневно, круглосуточно     True\n,11                             ежедневно, 10:00–21:00    False\n,12                                  вт-сб 09:00–18:00    False\n,13                             ежедневно, 08:00–22:00    False\n,14                             ежедневно, 13:00–00:00    False\n"
        }
      ],
      "execution_count": 25
    },
    {
      "id": "0eb80dec",
      "cell_type": "code",
      "source": "# Проверяем количество уникальных значений в столбце is_24_7\ndf['is_24_7'].value_counts()",
      "metadata": {
        "scrolled": true
      },
      "outputs": [
        {
          "data": {
            "text/plain": [
              "False    7673\n",
              "True      730\n",
              "Name: is_24_7, dtype: int64"
            ]
          },
          "execution_count": 26,
          "metadata": {},
          "output_type": "execute_result"
        }
      ],
      "execution_count": 26
    },
    {
      "id": "e1fb952d",
      "cell_type": "code",
      "source": "# Проверим количество удаленных строк датасета\na, b = len(temp), len(df)\nprint(\" Было строк в исходном датасете\", a,\n      '\\n', \"Осталось строк в датасете после обработки\", b,\n      '\\n', \"Удалено строк в датасете после обработки\", a-b,\n      '\\n', \"Процент потерь\", round((a-b)/a*100, 2))",
      "metadata": {},
      "outputs": [
        {
          "name": "stdout",
          "output_type": "stream",
          "text": " Было строк в исходном датасете 8406 \n, Осталось строк в датасете после обработки 8403 \n, Удалено строк в датасете после обработки 3 \n, Процент потерь 0.04\n"
        }
      ],
      "execution_count": 27
    },
    {
      "id": "c4288749",
      "cell_type": "code",
      "source": "# Комментарий ревьюера\ndf['is_24_7'].value_counts()",
      "metadata": {},
      "outputs": [
        {
          "data": {
            "text/plain": [
              "False    7673\n",
              "True      730\n",
              "Name: is_24_7, dtype: int64"
            ]
          },
          "execution_count": 28,
          "metadata": {},
          "output_type": "execute_result"
        }
      ],
      "execution_count": 28
    },
    {
      "id": "c826b338",
      "cell_type": "code",
      "source": "# Комментарий ревьюера\n# Проверим сколько удалено строк датасета\na, b = len(temp), len(df)\nprint(\" Было строк в исходном датасете\", a,\n      '\\n', \"Осталось строк в датасете после обработки\", b,\n      '\\n', \"Удалено строк в датасете после обработки\", a-b,\n      '\\n', \"Процент потерь\", round((a-b)/a*100, 2))",
      "metadata": {},
      "outputs": [
        {
          "name": "stdout",
          "output_type": "stream",
          "text": " Было строк в исходном датасете 8406 \n, Осталось строк в датасете после обработки 8403 \n, Удалено строк в датасете после обработки 3 \n, Процент потерь 0.04\n"
        }
      ],
      "execution_count": 29
    },
    {
      "id": "562f30ab",
      "cell_type": "markdown",
      "source": "---\n\n### Промежуточный вывод\n\n",
      "metadata": {
        "id": "562f30ab"
      }
    },
    {
      "id": "4aeab858",
      "cell_type": "markdown",
      "source": "После изучения количества пропусков оказалось, что в столбцах seats, price, avg_bill, middle_avg_bill, middle_coffee_cup наблюдается более 40% пропусков. В процессе предобработки данных были заполнены пропуски в столбцах seats (индикатором \"-1\") и hours (индикатором \"нет данных\"). Также был изменен тип данных в столбце seats на целочисленный. Остальные пропуски не были заполнены, поскольку их количество слишком большое, и замена может исказить результаты. Также было обнаружено 3 явных дубликата, далее они были удалены",
      "metadata": {
        "id": "4e587ce1"
      }
    },
    {
      "id": "6953e84c",
      "cell_type": "markdown",
      "source": "## 3. Исследовательский анализ данных\n",
      "metadata": {
        "id": "6953e84c"
      }
    },
    {
      "id": "8555d840",
      "cell_type": "markdown",
      "source": "---\n\n### Задача 1\n",
      "metadata": {
        "id": "8555d840"
      }
    },
    {
      "id": "4e3bc126",
      "cell_type": "code",
      "source": "# Изучим количество уникальных значений в каждой категории\ncounts_category = df['category'].value_counts()\ndisplay(counts_category)",
      "metadata": {
        "scrolled": true
      },
      "outputs": [
        {
          "data": {
            "text/plain": [
              "кафе               2377\n",
              "ресторан           2042\n",
              "кофейня            1413\n",
              "бар,паб             764\n",
              "пиццерия            633\n",
              "быстрое питание     603\n",
              "столовая            315\n",
              "булочная            256\n",
              "Name: category, dtype: int64"
            ]
          },
          "metadata": {},
          "output_type": "display_data"
        }
      ],
      "execution_count": 30
    },
    {
      "id": "6e19f7af",
      "cell_type": "code",
      "source": "# Изучим долю уникальных значений в каждой категории\nshare_category = df['category'].value_counts()/df.shape[0]\ndisplay(share_category)",
      "metadata": {},
      "outputs": [
        {
          "data": {
            "text/plain": [
              "кафе               0.282875\n",
              "ресторан           0.243008\n",
              "кофейня            0.168154\n",
              "бар,паб            0.090920\n",
              "пиццерия           0.075330\n",
              "быстрое питание    0.071760\n",
              "столовая           0.037487\n",
              "булочная           0.030465\n",
              "Name: category, dtype: float64"
            ]
          },
          "metadata": {},
          "output_type": "display_data"
        }
      ],
      "execution_count": 31
    },
    {
      "id": "ef2bffe9",
      "cell_type": "code",
      "source": "# Визуализируем распределение в столбце category:\ndf['category'].value_counts().plot(kind='bar', title='Количество заведений по категориям', rot=55, xlabel='Категории', ylabel='Количество заведений')\nplt.show()",
      "metadata": {
        "id": "ef2bffe9"
      },
      "outputs": [
        {
          "data": {
            "image/png": "[encoded data removed]",
            "text/plain": [
              "<Figure size 432x288 with 1 Axes>"
            ]
          },
          "metadata": {
            "needs_background": "light"
          },
          "output_type": "display_data"
        }
      ],
      "execution_count": 32
    },
    {
      "id": "b5910f42",
      "cell_type": "markdown",
      "source": "По столбчатой диаграмме можно наблюдать преобладание кафе (2377), ресторанов (2042) и кофеен(1413). Их доля составляет 0.28, 0.24 и 0.17 соответственно. Меньше всего булочных (256, доля 0.03)",
      "metadata": {
        "id": "71ab5e91"
      }
    },
    {
      "id": "6821e1d0",
      "cell_type": "markdown",
      "source": "---\n\n### Задача 2\n",
      "metadata": {
        "id": "6821e1d0"
      }
    },
    {
      "id": "0273d51f",
      "cell_type": "code",
      "source": "# Изучим количество заведений по административным районам\ncounts_district = df['district'].value_counts()\ndisplay(counts_district)",
      "metadata": {
        "scrolled": true
      },
      "outputs": [
        {
          "data": {
            "text/plain": [
              "Центральный административный округ         2242\n",
              "Северный административный округ             899\n",
              "Южный административный округ                892\n",
              "Северо-Восточный административный округ     890\n",
              "Западный административный округ             850\n",
              "Восточный административный округ            798\n",
              "Юго-Восточный административный округ        714\n",
              "Юго-Западный административный округ         709\n",
              "Северо-Западный административный округ      409\n",
              "Name: district, dtype: int64"
            ]
          },
          "metadata": {},
          "output_type": "display_data"
        }
      ],
      "execution_count": 33
    },
    {
      "id": "a5c41d0f",
      "cell_type": "code",
      "source": "# Изучим долю заведений по административным районам\nshare_district = df['district'].value_counts()/df.shape[0]\ndisplay(share_district)",
      "metadata": {},
      "outputs": [
        {
          "data": {
            "text/plain": [
              "Центральный административный округ         0.266809\n",
              "Северный административный округ            0.106986\n",
              "Южный административный округ               0.106153\n",
              "Северо-Восточный административный округ    0.105915\n",
              "Западный административный округ            0.101154\n",
              "Восточный административный округ           0.094966\n",
              "Юго-Восточный административный округ       0.084970\n",
              "Юго-Западный административный округ        0.084375\n",
              "Северо-Западный административный округ     0.048673\n",
              "Name: district, dtype: float64"
            ]
          },
          "metadata": {},
          "output_type": "display_data"
        }
      ],
      "execution_count": 34
    },
    {
      "id": "e62f31be",
      "cell_type": "code",
      "source": "# Визуализируем распределение в столбце district:\ndf['district'].value_counts().plot(kind='barh', title='Количество заведений по административным районам Москвы', xlabel='Административные районы', ylabel='Количество заведений') \nplt.show()",
      "metadata": {
        "id": "e62f31be",
        "scrolled": true
      },
      "outputs": [
        {
          "data": {
            "image/png": "[encoded data removed]",
            "text/plain": [
              "<Figure size 432x288 with 1 Axes>"
            ]
          },
          "metadata": {
            "needs_background": "light"
          },
          "output_type": "display_data"
        }
      ],
      "execution_count": 35
    },
    {
      "id": "f1eed43c",
      "cell_type": "code",
      "source": "# Визуализируем распределение в столбце district в долях:\nshare_districts = df['district'].value_counts()/df.shape[0]\nshare_districts.plot(kind='barh', title='Доля заведений по административным районам Москвы', xlabel='Административные районы', ylabel='Количество заведений') \nplt.show()",
      "metadata": {},
      "outputs": [
        {
          "data": {
            "image/png": "[encoded data removed]",
            "text/plain": [
              "<Figure size 432x288 with 1 Axes>"
            ]
          },
          "metadata": {
            "needs_background": "light"
          },
          "output_type": "display_data"
        }
      ],
      "execution_count": 36
    },
    {
      "id": "b8a1d1a0",
      "cell_type": "markdown",
      "source": "По столбчатой диаграмме можно наблюдать преобладание Центрального административного округа по количеству заведений",
      "metadata": {
        "id": "0a290cd1"
      }
    },
    {
      "id": "41f1654a",
      "cell_type": "code",
      "source": "# Визуализируем распределение заведений по категориям в Центральном административном округе\ncentre = df[df['district']=='Центральный административный округ']\ngroupby_centre = centre.groupby('district')['category'].value_counts()\ngroupby_centre.plot(kind='barh', title='Распределение заведений по категориям в Центральном административном округе', xlabel='Категории заведений', ylabel='Количество заведений')\nplt.show()",
      "metadata": {
        "id": "41f1654a",
        "scrolled": true
      },
      "outputs": [
        {
          "data": {
            "image/png": "[encoded data removed]",
            "text/plain": [
              "<Figure size 432x288 with 1 Axes>"
            ]
          },
          "metadata": {
            "needs_background": "light"
          },
          "output_type": "display_data"
        }
      ],
      "execution_count": 37
    },
    {
      "id": "5db5d339",
      "cell_type": "code",
      "source": "# Выведем информацию о количестве заведений по категориям в Центральном административном округе\ndisplay(groupby_centre)",
      "metadata": {},
      "outputs": [
        {
          "data": {
            "text/plain": [
              "district                            category       \n",
              "Центральный административный округ  ресторан           670\n",
              "                                    кафе               464\n",
              "                                    кофейня            428\n",
              "                                    бар,паб            364\n",
              "                                    пиццерия           113\n",
              "                                    быстрое питание     87\n",
              "                                    столовая            66\n",
              "                                    булочная            50\n",
              "Name: category, dtype: int64"
            ]
          },
          "metadata": {},
          "output_type": "display_data"
        }
      ],
      "execution_count": 38
    },
    {
      "id": "1d6960ba",
      "cell_type": "code",
      "source": "# Визуализируем распределение доли заведений по категориям в Центральном административном округе\ngroupby_centre_share = centre.groupby('district')['category'].value_counts()/centre.shape[0]\ngroupby_centre_share.plot(kind='barh', title='Доля заведений по категориям в Центральном административном округе', xlabel='Категории заведений', ylabel='Доля заведений')\nplt.show()",
      "metadata": {},
      "outputs": [
        {
          "data": {
            "image/png": "[encoded data removed]",
            "text/plain": [
              "<Figure size 432x288 with 1 Axes>"
            ]
          },
          "metadata": {
            "needs_background": "light"
          },
          "output_type": "display_data"
        }
      ],
      "execution_count": 39
    },
    {
      "id": "041856c5",
      "cell_type": "code",
      "source": "# Выведем информацию о долях заведений по категориям в Центральном административном округе\ndisplay(groupby_centre_share)",
      "metadata": {},
      "outputs": [
        {
          "data": {
            "text/plain": [
              "district                            category       \n",
              "Центральный административный округ  ресторан           0.298840\n",
              "                                    кафе               0.206958\n",
              "                                    кофейня            0.190901\n",
              "                                    бар,паб            0.162355\n",
              "                                    пиццерия           0.050401\n",
              "                                    быстрое питание    0.038805\n",
              "                                    столовая           0.029438\n",
              "                                    булочная           0.022302\n",
              "Name: category, dtype: float64"
            ]
          },
          "metadata": {},
          "output_type": "display_data"
        }
      ],
      "execution_count": 40
    },
    {
      "id": "1059889f",
      "cell_type": "markdown",
      "source": "В центральном административном округе преобладают рестораны (670), их доля составляет 0.29. Меньше всего булочных (50), их доля 0.02",
      "metadata": {}
    },
    {
      "id": "7c824f58",
      "cell_type": "markdown",
      "source": "---\n\n### Задача 3\n",
      "metadata": {
        "id": "7c824f58"
      }
    },
    {
      "id": "084166c8",
      "cell_type": "code",
      "source": "# Выведем информацию и долях сетевых и несетевых заведений\ndf['chain'].value_counts(normalize=True)",
      "metadata": {},
      "outputs": [
        {
          "data": {
            "text/plain": [
              "0    0.618827\n",
              "1    0.381173\n",
              "Name: chain, dtype: float64"
            ]
          },
          "execution_count": 41,
          "metadata": {},
          "output_type": "execute_result"
        }
      ],
      "execution_count": 41
    },
    {
      "id": "b8a40498",
      "cell_type": "code",
      "source": "# Визуализируем соотношение долей сеетвых и несетевых заведений\ndf['chain'].value_counts(normalize=True).plot(kind='bar', title='Соотношение сетевых и несетевых заведений', xlabel='0 - несетевое заведение, 1 - сетевое заведение', ylabel='Доля заведений')\nplt.show()",
      "metadata": {
        "scrolled": true
      },
      "outputs": [
        {
          "data": {
            "image/png": "[encoded data removed]",
            "text/plain": [
              "<Figure size 432x288 with 1 Axes>"
            ]
          },
          "metadata": {
            "needs_background": "light"
          },
          "output_type": "display_data"
        }
      ],
      "execution_count": 42
    },
    {
      "id": "976e1c1c",
      "cell_type": "markdown",
      "source": "В целом больше несетевых заведений, их доля составляет 0.62. Доля же сетевых равняется 0.38",
      "metadata": {}
    },
    {
      "id": "763d728e",
      "cell_type": "code",
      "source": "# Визуализируем распределение долей сетевых заведений\nshare_set = df.groupby('category')['chain'].value_counts(normalize=True).unstack()\nshare_set = share_set.sort_values(by=1, ascending=False)\nshare_set[1].plot(kind='bar', xlabel='Категории заведений', ylabel='Доли заведений', title='Распределение долей сетевых заведений по категориям')\nplt.show()",
      "metadata": {},
      "outputs": [
        {
          "data": {
            "image/png": "[encoded data removed]",
            "text/plain": [
              "<Figure size 432x288 with 1 Axes>"
            ]
          },
          "metadata": {
            "needs_background": "light"
          },
          "output_type": "display_data"
        }
      ],
      "execution_count": 43
    },
    {
      "id": "78a5a35c",
      "cell_type": "code",
      "source": "# Выведем информацию о долях сетевых заведений\ndisplay(share_set[1])",
      "metadata": {
        "scrolled": true
      },
      "outputs": [
        {
          "data": {
            "text/plain": [
              "category\n",
              "булочная           0.613281\n",
              "пиццерия           0.521327\n",
              "кофейня            0.509554\n",
              "быстрое питание    0.384743\n",
              "ресторан           0.357003\n",
              "кафе               0.327724\n",
              "столовая           0.279365\n",
              "бар,паб            0.219895\n",
              "Name: 1, dtype: float64"
            ]
          },
          "metadata": {},
          "output_type": "display_data"
        }
      ],
      "execution_count": 44
    },
    {
      "id": "b0c6924e",
      "cell_type": "markdown",
      "source": "Можно заметить, что наблюдается больше несетевых заведений. Самую большую долю сетевых заведений занимают булочные (0.61), далее пиццерии и кофейни с относительно равными долями (0.52 и 0.51). Меньшая доля принадлежит барам/пабам и составляет 0.22",
      "metadata": {}
    },
    {
      "id": "5913c3e3",
      "cell_type": "markdown",
      "source": "---\n\n### Задача 4\n\n",
      "metadata": {
        "id": "5913c3e3"
      }
    },
    {
      "id": "6cb238d2",
      "cell_type": "code",
      "source": "# Отфлильтруем заполненные заглушкой \"-1\" данные и визуализируем распределение количества посадочных мест в заведениях\nfilter_seats = df[df['seats'] != -1]\nfilter_seats.boxplot(column='seats', vert=False)\nplt.title('Распределение количества посадочных мест в заведениях')\nplt.xlabel('Количество посадочных мест')\nplt.show()",
      "metadata": {
        "id": "6cb238d2",
        "scrolled": true
      },
      "outputs": [
        {
          "data": {
            "image/png": "[encoded data removed]",
            "text/plain": [
              "<Figure size 432x288 with 1 Axes>"
            ]
          },
          "metadata": {
            "needs_background": "light"
          },
          "output_type": "display_data"
        }
      ],
      "execution_count": 45
    },
    {
      "id": "3a69a28f",
      "cell_type": "markdown",
      "source": "По диаграмме размаха видно, что в данных по количеству посадочных мест наблюдается большое число выбросов в большую сторону, а также правоассимитричное распределение",
      "metadata": {
        "id": "062b55d8"
      }
    },
    {
      "id": "ceadf25b",
      "cell_type": "code",
      "source": "# Изучим статистические показатели столбца seats\nfilter_seats['seats'].describe()",
      "metadata": {
        "id": "ceadf25b",
        "scrolled": true
      },
      "outputs": [
        {
          "data": {
            "text/plain": [
              "count    4792.000000\n",
              "mean      108.361436\n",
              "std       122.841130\n",
              "min         0.000000\n",
              "25%        40.000000\n",
              "50%        75.000000\n",
              "75%       140.000000\n",
              "max      1288.000000\n",
              "Name: seats, dtype: float64"
            ]
          },
          "execution_count": 46,
          "metadata": {},
          "output_type": "execute_result"
        }
      ],
      "execution_count": 46
    },
    {
      "id": "e5627509",
      "cell_type": "markdown",
      "source": "По статистическим показателям столбца seats можно заметить, что среднее значение равняется 108.4, медиана = 75, при этом отклонение от среднего составляет 122.8. Таким образом, в данных присутствуют выбросы, которые значительно увеличивают среднее значение",
      "metadata": {}
    },
    {
      "id": "d103109e",
      "cell_type": "code",
      "source": "# Визуализируем распределение типичного количества посадочных мест в заведениях по категориям\ngroupby_seats = filter_seats.groupby('category')['seats'].median()\ngroupby_seats = groupby_seats.sort_values(ascending=False)\ngroupby_seats.plot(kind='bar', xlabel='Категории заведений', ylabel='Количество посадочных мест', title='Распределение количества посадных мест в заведениях по категориям')\nplt.show()\nprint(groupby_seats)",
      "metadata": {},
      "outputs": [
        {
          "data": {
            "image/png": "[encoded data removed]",
            "text/plain": [
              "<Figure size 432x288 with 1 Axes>"
            ]
          },
          "metadata": {
            "needs_background": "light"
          },
          "output_type": "display_data"
        },
        {
          "name": "stdout",
          "output_type": "stream",
          "text": "category\n,ресторан           86.0\n,бар,паб            82.0\n,кофейня            80.0\n,столовая           75.5\n,быстрое питание    65.0\n,кафе               60.0\n,пиццерия           55.0\n,булочная           50.0\n,Name: seats, dtype: float64\n"
        }
      ],
      "execution_count": 47
    },
    {
      "id": "e87c7d64",
      "cell_type": "markdown",
      "source": "В основном больше всего посадочных мест в ресторанах и барах/пабах, а именно 86 и 82 соответственно. В пиццериях и булочных самое маленькое количество мест среди категорий заведений (55 и 50)",
      "metadata": {}
    },
    {
      "id": "8ed065ea",
      "cell_type": "markdown",
      "source": "---\n\n### Задача 5\n\n",
      "metadata": {
        "id": "8ed065ea"
      }
    },
    {
      "id": "b3810e3e",
      "cell_type": "code",
      "source": "# Изучим статистические показатели столбца rating\ndf['rating'].describe()",
      "metadata": {},
      "outputs": [
        {
          "data": {
            "text/plain": [
              "count    8403.000000\n",
              "mean        4.229894\n",
              "std         0.470426\n",
              "min         1.000000\n",
              "25%         4.100000\n",
              "50%         4.300000\n",
              "75%         4.400000\n",
              "max         5.000000\n",
              "Name: rating, dtype: float64"
            ]
          },
          "execution_count": 48,
          "metadata": {},
          "output_type": "execute_result"
        }
      ],
      "execution_count": 48
    },
    {
      "id": "cc5206f8",
      "cell_type": "code",
      "source": "# Визуализируем распределение среднего рейтинга в заведениях по категориям\ngroupby_rating = df.groupby('category')['rating'].mean()\ngroupby_rating = groupby_rating.sort_values(ascending=False)\ngroupby_rating.plot(kind='bar', xlabel='Категории заведений', ylabel='Средний рейтинг', title='Распределение рейтинга в заведениях по категориям')\nplt.show()",
      "metadata": {
        "id": "cc5206f8"
      },
      "outputs": [
        {
          "data": {
            "image/png": "[encoded data removed]",
            "text/plain": [
              "<Figure size 432x288 with 1 Axes>"
            ]
          },
          "metadata": {
            "needs_background": "light"
          },
          "output_type": "display_data"
        }
      ],
      "execution_count": 49
    },
    {
      "id": "c6d574f6",
      "cell_type": "code",
      "source": "# Выведем данные о средних рейтингах по категориям\ndisplay(groupby_rating)",
      "metadata": {},
      "outputs": [
        {
          "data": {
            "text/plain": [
              "category\n",
              "бар,паб            4.387696\n",
              "пиццерия           4.301264\n",
              "ресторан           4.290401\n",
              "кофейня            4.277282\n",
              "булочная           4.268359\n",
              "столовая           4.211429\n",
              "кафе               4.123896\n",
              "быстрое питание    4.050249\n",
              "Name: rating, dtype: float32"
            ]
          },
          "metadata": {},
          "output_type": "display_data"
        }
      ],
      "execution_count": 50
    },
    {
      "id": "bbff4e9f",
      "cell_type": "code",
      "source": "# Рассмотрим статистические показатели категорий заведений по рейтингу\ndescribe_rating = df.groupby('category')['rating'].describe()\ndisplay(describe_rating)",
      "metadata": {},
      "outputs": [
        {
          "data": {
            "text/html": [
              "<div>\n",
              "<style scoped>\n",
              "    .dataframe tbody tr th:only-of-type {\n",
              "        vertical-align: middle;\n",
              "    }\n",
              "\n",
              "    .dataframe tbody tr th {\n",
              "        vertical-align: top;\n",
              "    }\n",
              "\n",
              "    .dataframe thead th {\n",
              "        text-align: right;\n",
              "    }\n",
              "</style>\n",
              "<table border=\"1\" class=\"dataframe\">\n",
              "  <thead>\n",
              "    <tr style=\"text-align: right;\">\n",
              "      <th></th>\n",
              "      <th>count</th>\n",
              "      <th>mean</th>\n",
              "      <th>std</th>\n",
              "      <th>min</th>\n",
              "      <th>25%</th>\n",
              "      <th>50%</th>\n",
              "      <th>75%</th>\n",
              "      <th>max</th>\n",
              "    </tr>\n",
              "    <tr>\n",
              "      <th>category</th>\n",
              "      <th></th>\n",
              "      <th></th>\n",
              "      <th></th>\n",
              "      <th></th>\n",
              "      <th></th>\n",
              "      <th></th>\n",
              "      <th></th>\n",
              "      <th></th>\n",
              "    </tr>\n",
              "  </thead>\n",
              "  <tbody>\n",
              "    <tr>\n",
              "      <th>бар,паб</th>\n",
              "      <td>764.0</td>\n",
              "      <td>4.387697</td>\n",
              "      <td>0.380392</td>\n",
              "      <td>1.1</td>\n",
              "      <td>4.3</td>\n",
              "      <td>4.4</td>\n",
              "      <td>4.6</td>\n",
              "      <td>5.0</td>\n",
              "    </tr>\n",
              "    <tr>\n",
              "      <th>булочная</th>\n",
              "      <td>256.0</td>\n",
              "      <td>4.268360</td>\n",
              "      <td>0.386303</td>\n",
              "      <td>1.3</td>\n",
              "      <td>4.2</td>\n",
              "      <td>4.3</td>\n",
              "      <td>4.4</td>\n",
              "      <td>5.0</td>\n",
              "    </tr>\n",
              "    <tr>\n",
              "      <th>быстрое питание</th>\n",
              "      <td>603.0</td>\n",
              "      <td>4.050249</td>\n",
              "      <td>0.560949</td>\n",
              "      <td>1.1</td>\n",
              "      <td>3.9</td>\n",
              "      <td>4.2</td>\n",
              "      <td>4.3</td>\n",
              "      <td>5.0</td>\n",
              "    </tr>\n",
              "    <tr>\n",
              "      <th>кафе</th>\n",
              "      <td>2377.0</td>\n",
              "      <td>4.123896</td>\n",
              "      <td>0.566200</td>\n",
              "      <td>1.0</td>\n",
              "      <td>4.0</td>\n",
              "      <td>4.2</td>\n",
              "      <td>4.4</td>\n",
              "      <td>5.0</td>\n",
              "    </tr>\n",
              "    <tr>\n",
              "      <th>кофейня</th>\n",
              "      <td>1413.0</td>\n",
              "      <td>4.277282</td>\n",
              "      <td>0.372250</td>\n",
              "      <td>1.4</td>\n",
              "      <td>4.1</td>\n",
              "      <td>4.3</td>\n",
              "      <td>4.4</td>\n",
              "      <td>5.0</td>\n",
              "    </tr>\n",
              "    <tr>\n",
              "      <th>пиццерия</th>\n",
              "      <td>633.0</td>\n",
              "      <td>4.301264</td>\n",
              "      <td>0.336162</td>\n",
              "      <td>1.0</td>\n",
              "      <td>4.2</td>\n",
              "      <td>4.3</td>\n",
              "      <td>4.4</td>\n",
              "      <td>5.0</td>\n",
              "    </tr>\n",
              "    <tr>\n",
              "      <th>ресторан</th>\n",
              "      <td>2042.0</td>\n",
              "      <td>4.290401</td>\n",
              "      <td>0.413143</td>\n",
              "      <td>1.0</td>\n",
              "      <td>4.2</td>\n",
              "      <td>4.3</td>\n",
              "      <td>4.5</td>\n",
              "      <td>5.0</td>\n",
              "    </tr>\n",
              "    <tr>\n",
              "      <th>столовая</th>\n",
              "      <td>315.0</td>\n",
              "      <td>4.211429</td>\n",
              "      <td>0.454205</td>\n",
              "      <td>1.0</td>\n",
              "      <td>4.1</td>\n",
              "      <td>4.3</td>\n",
              "      <td>4.4</td>\n",
              "      <td>5.0</td>\n",
              "    </tr>\n",
              "  </tbody>\n",
              "</table>\n",
              "</div>"
            ],
            "text/plain": [
              "                  count      mean       std  min  25%  50%  75%  max\n",
              "category                                                            \n",
              "бар,паб           764.0  4.387697  0.380392  1.1  4.3  4.4  4.6  5.0\n",
              "булочная          256.0  4.268360  0.386303  1.3  4.2  4.3  4.4  5.0\n",
              "быстрое питание   603.0  4.050249  0.560949  1.1  3.9  4.2  4.3  5.0\n",
              "кафе             2377.0  4.123896  0.566200  1.0  4.0  4.2  4.4  5.0\n",
              "кофейня          1413.0  4.277282  0.372250  1.4  4.1  4.3  4.4  5.0\n",
              "пиццерия          633.0  4.301264  0.336162  1.0  4.2  4.3  4.4  5.0\n",
              "ресторан         2042.0  4.290401  0.413143  1.0  4.2  4.3  4.5  5.0\n",
              "столовая          315.0  4.211429  0.454205  1.0  4.1  4.3  4.4  5.0"
            ]
          },
          "metadata": {},
          "output_type": "display_data"
        }
      ],
      "execution_count": 51
    },
    {
      "id": "8175b9a3",
      "cell_type": "markdown",
      "source": "В общем сильных различий по усредненным рейтингам для разных типов заведений не наблюдается",
      "metadata": {
        "id": "3e0ec5d7"
      }
    },
    {
      "id": "dd9702d9",
      "cell_type": "markdown",
      "source": "---\n\n### Задача 6\n",
      "metadata": {
        "id": "dd9702d9"
      }
    },
    {
      "id": "2897c375",
      "cell_type": "code",
      "source": "# Создадим копию датасета \ncopy_df = df.copy() ",
      "metadata": {},
      "outputs": [],
      "execution_count": 52
    },
    {
      "id": "b55fa3c2",
      "cell_type": "code",
      "source": "copy_df['seats'] = copy_df['seats'].replace(-1, )",
      "metadata": {
        "scrolled": true
      },
      "outputs": [],
      "execution_count": 53
    },
    {
      "id": "b9c0ae1b",
      "cell_type": "code",
      "source": "# Построим корреляционную матрицу \nmatrix_phik = copy_df[['rating', 'category', 'district', 'chain', 'seats', 'price', 'is_24_7']].phik_matrix()\nsns.heatmap(matrix_phik, annot=True, linewidths=0.5)\nplt.show()\nprint(matrix_phik)",
      "metadata": {},
      "outputs": [
        {
          "name": "stdout",
          "output_type": "stream",
          "text": "interval columns not set, guessing: ['rating', 'chain', 'seats']\n"
        },
        {
          "data": {
            "image/png": "[encoded data removed]",
            "text/plain": [
              "<Figure size 432x288 with 2 Axes>"
            ]
          },
          "metadata": {
            "needs_background": "light"
          },
          "output_type": "display_data"
        },
        {
          "name": "stdout",
          "output_type": "stream",
          "text": "            rating  category  district     chain     seats     price   is_24_7\n,rating    1.000000  0.198917  0.189389  0.119061  0.000000  0.262056  0.160864\n,category  0.198917  1.000000  0.174541  0.266054  0.026395  0.566933  0.244787\n,district  0.189389  0.174541  1.000000  0.064459  0.284296  0.202787  0.076370\n,chain     0.119061  0.266054  0.064459  1.000000  0.041659  0.218211  0.043535\n,seats     0.000000  0.026395  0.284296  0.041659  1.000000  0.052322  0.032041\n,price     0.262056  0.566933  0.202787  0.218211  0.052322  1.000000  0.084183\n,is_24_7   0.160864  0.244787  0.076370  0.043535  0.032041  0.084183  1.000000\n"
        }
      ],
      "execution_count": 55
    },
    {
      "id": "fb65afd4",
      "cell_type": "markdown",
      "source": "Чтобы изучить корреляцию рейтинга заведения с другими данными, обратимся к первому столбцу. Сильнее всего корреляция рейтинга с ценовой категорией (0.26)",
      "metadata": {}
    },
    {
      "id": "08305358",
      "cell_type": "code",
      "source": "# Комментарий ревьюера 2\ndf['seats'].value_counts()[:2]",
      "metadata": {},
      "outputs": [
        {
          "data": {
            "text/plain": [
              "-1     3611\n",
              " 40     253\n",
              "Name: seats, dtype: int64"
            ]
          },
          "execution_count": 56,
          "metadata": {},
          "output_type": "execute_result"
        }
      ],
      "execution_count": 56
    },
    {
      "id": "d56ca28b",
      "cell_type": "code",
      "source": "# Для проверки связи сгруппируем данные по ценовой категории и построим столбчатую диаграмму\ngroupby_rating_and_price = copy_df.groupby('price')['rating'].mean()\ngroupby_rating_and_price = groupby_rating_and_price.sort_values(ascending=False)\ngroupby_rating_and_price.plot(kind='bar', xlabel='Ценовая категория заведения', ylabel='Средний рейтинг', title='Средний рейтинг в зависимости от ценовой категории', rot=45)\nplt.show()",
      "metadata": {
        "scrolled": true
      },
      "outputs": [
        {
          "data": {
            "image/png": "[encoded data removed]",
            "text/plain": [
              "<Figure size 432x288 with 1 Axes>"
            ]
          },
          "metadata": {
            "needs_background": "light"
          },
          "output_type": "display_data"
        }
      ],
      "execution_count": 57
    },
    {
      "id": "08746bbf",
      "cell_type": "code",
      "source": "# Выведем информацию о среднем рейтинге в каждой ценовой категории\ndisplay(groupby_rating_and_price)",
      "metadata": {},
      "outputs": [
        {
          "data": {
            "text/plain": [
              "price\n",
              "высокие          4.436611\n",
              "выше среднего    4.386348\n",
              "средние          4.297874\n",
              "низкие           4.173077\n",
              "Name: rating, dtype: float32"
            ]
          },
          "metadata": {},
          "output_type": "display_data"
        }
      ],
      "execution_count": 58
    },
    {
      "id": "065a663e",
      "cell_type": "markdown",
      "source": "Можно заметить, что у более дорогих заведений рейтинг выше, таким образом, рейтинг действительно зависит от ценовой категории",
      "metadata": {}
    },
    {
      "id": "370de703",
      "cell_type": "markdown",
      "source": "---\n\n### Задача 7\n",
      "metadata": {
        "id": "370de703"
      }
    },
    {
      "id": "917fc453",
      "cell_type": "code",
      "source": "# Найдем топ-15 популярных сетей в Москве по количеству заведений, а также их рейтинг\ndf_set = df[df['chain']==1]\ntop = df_set[['name', 'rating', 'category']]\ntop = df_set.groupby(['name', 'category']).agg({'rating': 'mean', 'name': 'count'})\ntop = top.rename(columns={'name': 'counts'})\nsort_top = top.sort_values(by='counts', ascending=False)\ndisplay(sort_top.head(15))",
      "metadata": {
        "scrolled": true
      },
      "outputs": [
        {
          "data": {
            "text/html": [
              "<div>\n",
              "<style scoped>\n",
              "    .dataframe tbody tr th:only-of-type {\n",
              "        vertical-align: middle;\n",
              "    }\n",
              "\n",
              "    .dataframe tbody tr th {\n",
              "        vertical-align: top;\n",
              "    }\n",
              "\n",
              "    .dataframe thead th {\n",
              "        text-align: right;\n",
              "    }\n",
              "</style>\n",
              "<table border=\"1\" class=\"dataframe\">\n",
              "  <thead>\n",
              "    <tr style=\"text-align: right;\">\n",
              "      <th></th>\n",
              "      <th></th>\n",
              "      <th>rating</th>\n",
              "      <th>counts</th>\n",
              "    </tr>\n",
              "    <tr>\n",
              "      <th>name</th>\n",
              "      <th>category</th>\n",
              "      <th></th>\n",
              "      <th></th>\n",
              "    </tr>\n",
              "  </thead>\n",
              "  <tbody>\n",
              "    <tr>\n",
              "      <th>шоколадница</th>\n",
              "      <th>кофейня</th>\n",
              "      <td>4.178151</td>\n",
              "      <td>119</td>\n",
              "    </tr>\n",
              "    <tr>\n",
              "      <th>домино'с пицца</th>\n",
              "      <th>пиццерия</th>\n",
              "      <td>4.169737</td>\n",
              "      <td>76</td>\n",
              "    </tr>\n",
              "    <tr>\n",
              "      <th>додо пицца</th>\n",
              "      <th>пиццерия</th>\n",
              "      <td>4.286487</td>\n",
              "      <td>74</td>\n",
              "    </tr>\n",
              "    <tr>\n",
              "      <th>one price coffee</th>\n",
              "      <th>кофейня</th>\n",
              "      <td>4.064789</td>\n",
              "      <td>71</td>\n",
              "    </tr>\n",
              "    <tr>\n",
              "      <th>яндекс лавка</th>\n",
              "      <th>ресторан</th>\n",
              "      <td>3.872464</td>\n",
              "      <td>69</td>\n",
              "    </tr>\n",
              "    <tr>\n",
              "      <th>cofix</th>\n",
              "      <th>кофейня</th>\n",
              "      <td>4.075385</td>\n",
              "      <td>65</td>\n",
              "    </tr>\n",
              "    <tr>\n",
              "      <th>prime</th>\n",
              "      <th>ресторан</th>\n",
              "      <td>4.114285</td>\n",
              "      <td>49</td>\n",
              "    </tr>\n",
              "    <tr>\n",
              "      <th>кофепорт</th>\n",
              "      <th>кофейня</th>\n",
              "      <td>4.147619</td>\n",
              "      <td>42</td>\n",
              "    </tr>\n",
              "    <tr>\n",
              "      <th>кулинарная лавка братьев караваевых</th>\n",
              "      <th>кафе</th>\n",
              "      <td>4.394872</td>\n",
              "      <td>39</td>\n",
              "    </tr>\n",
              "    <tr>\n",
              "      <th>теремок</th>\n",
              "      <th>ресторан</th>\n",
              "      <td>4.105556</td>\n",
              "      <td>36</td>\n",
              "    </tr>\n",
              "    <tr>\n",
              "      <th>cofefest</th>\n",
              "      <th>кофейня</th>\n",
              "      <td>3.977419</td>\n",
              "      <td>31</td>\n",
              "    </tr>\n",
              "    <tr>\n",
              "      <th>чайхана</th>\n",
              "      <th>кафе</th>\n",
              "      <td>3.946154</td>\n",
              "      <td>26</td>\n",
              "    </tr>\n",
              "    <tr>\n",
              "      <th>буханка</th>\n",
              "      <th>булочная</th>\n",
              "      <td>4.416000</td>\n",
              "      <td>25</td>\n",
              "    </tr>\n",
              "    <tr>\n",
              "      <th>drive café</th>\n",
              "      <th>кафе</th>\n",
              "      <td>4.025000</td>\n",
              "      <td>24</td>\n",
              "    </tr>\n",
              "    <tr>\n",
              "      <th>кофемания</th>\n",
              "      <th>кофейня</th>\n",
              "      <td>4.463636</td>\n",
              "      <td>22</td>\n",
              "    </tr>\n",
              "  </tbody>\n",
              "</table>\n",
              "</div>"
            ],
            "text/plain": [
              "                                                rating  counts\n",
              "name                                category                  \n",
              "шоколадница                         кофейня   4.178151     119\n",
              "домино'с пицца                      пиццерия  4.169737      76\n",
              "додо пицца                          пиццерия  4.286487      74\n",
              "one price coffee                    кофейня   4.064789      71\n",
              "яндекс лавка                        ресторан  3.872464      69\n",
              "cofix                               кофейня   4.075385      65\n",
              "prime                               ресторан  4.114285      49\n",
              "кофепорт                            кофейня   4.147619      42\n",
              "кулинарная лавка братьев караваевых кафе      4.394872      39\n",
              "теремок                             ресторан  4.105556      36\n",
              "cofefest                            кофейня   3.977419      31\n",
              "чайхана                             кафе      3.946154      26\n",
              "буханка                             булочная  4.416000      25\n",
              "drive café                          кафе      4.025000      24\n",
              "кофемания                           кофейня   4.463636      22"
            ]
          },
          "metadata": {},
          "output_type": "display_data"
        }
      ],
      "execution_count": 59
    },
    {
      "id": "1b2ae592",
      "cell_type": "code",
      "source": "# Построим диаграмму топ-15 заведений по количеству\nsort_top = sort_top[0:15]\nsort_top =sort_top.sort_values(by='counts')\nsort_top['counts'].plot(kind='barh', xlabel='Названия и категории заведений', ylabel='Количество заведений', title='Топ-15 популярных заведений в Москве по количеству заведений')\nplt.show()",
      "metadata": {
        "scrolled": true
      },
      "outputs": [
        {
          "data": {
            "image/png": "[encoded data removed]",
            "text/plain": [
              "<Figure size 432x288 with 1 Axes>"
            ]
          },
          "metadata": {
            "needs_background": "light"
          },
          "output_type": "display_data"
        }
      ],
      "execution_count": 60
    },
    {
      "id": "3aa269f9",
      "cell_type": "code",
      "source": "# Построим диаграмму топ-15 заведений с их рейтингом\nsort_top = sort_top[0:15]\nsort_top =sort_top.sort_values(by='rating')\nsort_top['rating'].plot(kind='barh', xlabel='Названия и категории заведений', ylabel='Рейтинг заведений', title='Топ-15 популярных заведений в Москве по количеству и их рейтинг')\nplt.show()",
      "metadata": {},
      "outputs": [
        {
          "data": {
            "image/png": "[encoded data removed]",
            "text/plain": [
              "<Figure size 432x288 with 1 Axes>"
            ]
          },
          "metadata": {
            "needs_background": "light"
          },
          "output_type": "display_data"
        }
      ],
      "execution_count": 61
    },
    {
      "id": "df322950",
      "cell_type": "markdown",
      "source": "Первое место в топе занимают кофейни Шоколадница, их количество составляет 119, а рейтинг 4.18.  На последнем месте находятся кофейни Кофемания, с количеством заведений 22 и рейтингом 4.46 (самый высокий рейтинг среди топа). Самый низкий рейтинг наблюдается в ресторанах Яндекс лавки, он равен 3.87 ",
      "metadata": {}
    },
    {
      "id": "85a90a94",
      "cell_type": "markdown",
      "source": "---\n\n### Задача 8\n",
      "metadata": {
        "id": "85a90a94"
      }
    },
    {
      "id": "706343ab",
      "cell_type": "code",
      "source": "# Выведем статистические показатели для столбца middle_avg_bill\ndf['middle_avg_bill'].describe()",
      "metadata": {},
      "outputs": [
        {
          "data": {
            "text/plain": [
              "count     3149.000000\n",
              "mean       958.053650\n",
              "std       1009.732849\n",
              "min          0.000000\n",
              "25%        375.000000\n",
              "50%        750.000000\n",
              "75%       1250.000000\n",
              "max      35000.000000\n",
              "Name: middle_avg_bill, dtype: float64"
            ]
          },
          "execution_count": 62,
          "metadata": {},
          "output_type": "execute_result"
        }
      ],
      "execution_count": 62
    },
    {
      "id": "a15f2af8",
      "cell_type": "code",
      "source": "# Построим гистограмму, чтобы посмотреть на распределение значений среднего чека\nsns.histplot(data=df, x='middle_avg_bill', bins=50)\nplt.title('Распределение значений среднего чека')\nplt.ylabel('Частота')\nplt.xlabel('Средний чек')\nplt.show()",
      "metadata": {},
      "outputs": [
        {
          "data": {
            "image/png": "[encoded data removed]",
            "text/plain": [
              "<Figure size 432x288 with 1 Axes>"
            ]
          },
          "metadata": {
            "needs_background": "light"
          },
          "output_type": "display_data"
        }
      ],
      "execution_count": 63
    },
    {
      "id": "39a7e72d",
      "cell_type": "code",
      "source": "# Визуаилизируем распределение значений среднего чека\ndf.boxplot(column='middle_avg_bill', vert=False)\nplt.title('Распределение значений среднего чека')\nplt.xlabel('Средний чек')\nplt.show()",
      "metadata": {},
      "outputs": [
        {
          "data": {
            "image/png": "[encoded data removed]",
            "text/plain": [
              "<Figure size 432x288 with 1 Axes>"
            ]
          },
          "metadata": {
            "needs_background": "light"
          },
          "output_type": "display_data"
        }
      ],
      "execution_count": 64
    },
    {
      "id": "5fb4ffc6",
      "cell_type": "code",
      "source": "# Посмотрим средние чеки заведений по округам Москвы, построив диаграмму\ngroupby_bill = df.groupby('district')['middle_avg_bill'].mean()\ngroupby_bill = groupby_bill.sort_values()\ngroupby_bill.plot(kind='barh', xlabel='Административные округа', ylabel='Средний чек', title='Распределение средних чеков заведений по округам Москвы')\nplt.show()",
      "metadata": {
        "id": "5fb4ffc6",
        "scrolled": true
      },
      "outputs": [
        {
          "data": {
            "image/png": "[encoded data removed]",
            "text/plain": [
              "<Figure size 432x288 with 1 Axes>"
            ]
          },
          "metadata": {
            "needs_background": "light"
          },
          "output_type": "display_data"
        }
      ],
      "execution_count": 65
    },
    {
      "id": "713a979c",
      "cell_type": "code",
      "source": "display(groupby_bill.sort_values(ascending=False))",
      "metadata": {},
      "outputs": [
        {
          "data": {
            "text/plain": [
              "district\n",
              "Центральный административный округ         1191.057495\n",
              "Западный административный округ            1053.225464\n",
              "Северный административный округ             927.959656\n",
              "Южный административный округ                834.398071\n",
              "Северо-Западный административный округ      822.222900\n",
              "Восточный административный округ            820.626953\n",
              "Юго-Западный административный округ         792.561707\n",
              "Северо-Восточный административный округ     716.611267\n",
              "Юго-Восточный административный округ        654.097961\n",
              "Name: middle_avg_bill, dtype: float32"
            ]
          },
          "metadata": {},
          "output_type": "display_data"
        }
      ],
      "execution_count": 66
    },
    {
      "id": "c8e9dc15",
      "cell_type": "code",
      "source": "# Рассчитаем медиану и среднее значение чека по административным округам\nstat_district = df.groupby('district')['middle_avg_bill'].agg(['median', 'mean'])\nstat_district = stat_district.sort_values(by='median', ascending=False)\ndisplay(stat_district)",
      "metadata": {},
      "outputs": [
        {
          "data": {
            "text/html": [
              "<div>\n",
              "<style scoped>\n",
              "    .dataframe tbody tr th:only-of-type {\n",
              "        vertical-align: middle;\n",
              "    }\n",
              "\n",
              "    .dataframe tbody tr th {\n",
              "        vertical-align: top;\n",
              "    }\n",
              "\n",
              "    .dataframe thead th {\n",
              "        text-align: right;\n",
              "    }\n",
              "</style>\n",
              "<table border=\"1\" class=\"dataframe\">\n",
              "  <thead>\n",
              "    <tr style=\"text-align: right;\">\n",
              "      <th></th>\n",
              "      <th>median</th>\n",
              "      <th>mean</th>\n",
              "    </tr>\n",
              "    <tr>\n",
              "      <th>district</th>\n",
              "      <th></th>\n",
              "      <th></th>\n",
              "    </tr>\n",
              "  </thead>\n",
              "  <tbody>\n",
              "    <tr>\n",
              "      <th>Западный административный округ</th>\n",
              "      <td>1000.0</td>\n",
              "      <td>1053.225464</td>\n",
              "    </tr>\n",
              "    <tr>\n",
              "      <th>Центральный административный округ</th>\n",
              "      <td>1000.0</td>\n",
              "      <td>1191.057495</td>\n",
              "    </tr>\n",
              "    <tr>\n",
              "      <th>Северо-Западный административный округ</th>\n",
              "      <td>700.0</td>\n",
              "      <td>822.222900</td>\n",
              "    </tr>\n",
              "    <tr>\n",
              "      <th>Северный административный округ</th>\n",
              "      <td>650.0</td>\n",
              "      <td>927.959656</td>\n",
              "    </tr>\n",
              "    <tr>\n",
              "      <th>Юго-Западный административный округ</th>\n",
              "      <td>600.0</td>\n",
              "      <td>792.561707</td>\n",
              "    </tr>\n",
              "    <tr>\n",
              "      <th>Восточный административный округ</th>\n",
              "      <td>575.0</td>\n",
              "      <td>820.626953</td>\n",
              "    </tr>\n",
              "    <tr>\n",
              "      <th>Северо-Восточный административный округ</th>\n",
              "      <td>500.0</td>\n",
              "      <td>716.611267</td>\n",
              "    </tr>\n",
              "    <tr>\n",
              "      <th>Южный административный округ</th>\n",
              "      <td>500.0</td>\n",
              "      <td>834.398071</td>\n",
              "    </tr>\n",
              "    <tr>\n",
              "      <th>Юго-Восточный административный округ</th>\n",
              "      <td>450.0</td>\n",
              "      <td>654.097961</td>\n",
              "    </tr>\n",
              "  </tbody>\n",
              "</table>\n",
              "</div>"
            ],
            "text/plain": [
              "                                         median         mean\n",
              "district                                                    \n",
              "Западный административный округ          1000.0  1053.225464\n",
              "Центральный административный округ       1000.0  1191.057495\n",
              "Северо-Западный административный округ    700.0   822.222900\n",
              "Северный административный округ           650.0   927.959656\n",
              "Юго-Западный административный округ       600.0   792.561707\n",
              "Восточный административный округ          575.0   820.626953\n",
              "Северо-Восточный административный округ   500.0   716.611267\n",
              "Южный административный округ              500.0   834.398071\n",
              "Юго-Восточный административный округ      450.0   654.097961"
            ]
          },
          "metadata": {},
          "output_type": "display_data"
        }
      ],
      "execution_count": 67
    },
    {
      "id": "4e97214b",
      "cell_type": "code",
      "source": "# Визуализируем медиану и среднее значение чека по административным округам\nstat_district.plot(kind='barh', xlabel='Административные округа', ylabel='Среднее значение/медиана', title='Медиана и среднее значение чека по административным округам')\nplt.show()",
      "metadata": {},
      "outputs": [
        {
          "data": {
            "image/png": "[encoded data removed]",
            "text/plain": [
              "<Figure size 432x288 with 1 Axes>"
            ]
          },
          "metadata": {
            "needs_background": "light"
          },
          "output_type": "display_data"
        }
      ],
      "execution_count": 68
    },
    {
      "id": "4e762621",
      "cell_type": "markdown",
      "source": "Самый высокий средний чек наблюдается в Центральном административном округе и составляет 1191.06. Это объясняется тем, что данный округ включает в себя деловые и туристичесике места, где расположены высококлассные заведения, также именно в этом районе проживают люди с высоким уровнем дохода. Также к высоким значениям можно отнести Западный административный округ (1053.23). В остальных округах сумма среднего чека не превышает 1000. В Юго-Восточном округе зафиксирована наименьшая сумма (654.09), поскольку и заведений в данном округе не так много, и соответственно, спрос невысок.",
      "metadata": {
        "id": "b98066c1"
      }
    },
    {
      "id": "f2c54e9a",
      "cell_type": "markdown",
      "source": "---\n\n### Промежуточный вывод\n\n",
      "metadata": {
        "id": "f2c54e9a"
      }
    },
    {
      "id": "1f4c51b9",
      "cell_type": "markdown",
      "source": "В процессе исследовательского анализа данных было сделано и выявлено следующее:  \n\nИзучение представленных категорий заведений и количество объектов в каждой категории: больше всего заведений таких категорий, как кафе и расторан, меньше всего - столовая и булочная\n\nИзучение административных округов и распределение количества заведений в них: в Центральном административном округе самое большое количество заведений, а именно 2242. Самое маленькое количество наблюдается в Северо-Западном округе (409) \n\nИзучение соотношения сетевых и несетевых заведений: в Центральном административном округе самое большое количество заведений, а именно 2242. Самое маленькое количество наблюдается в Северо-Западном округе (409)\n\nВ Центральном округе наибольшее количество принадлежит ресторанам (670), а наименьшее - булочным (50)  \n\nИзучение количества посадочных мест, рейтинга и среднего чека: Больше всего посадочных мест находится в ресторанах, меньше всего - в булочных. Средний рейтинг заведений по категориям сильных различий не имеет. Самый высокий средний чек принадлежит Центральному округу, поскольку именно в этом районе много туристов и туристических мест, а также высококлассных заведений   \n\nПоиск топ-15 заведений по популярности: первое место принадлежит кофейням Шоколадница, последнее - кофейням Кофемания  ",
      "metadata": {
        "id": "c8869609"
      }
    },
    {
      "id": "480f3422",
      "cell_type": "markdown",
      "source": "## 4. Итоговый вывод и рекомендации\n\nЦелью проекта было проведение исследовательского анализа рынка заведений общественного питания Москвы. После выполнения задач исследования, а именно выгрузки и знакомства с данными, предобработки и непосредственно исследовательского анализа, были сформулированы выводы и рекомендации, речь о которых пойдет далее.  \n\nВ данных было обнаружено довольно большое количество пропусков в столбцах, содержащих информацию о количестве посадочных мест (seats), ценовой категории (price), среднего чека (avg_bill), числе с оценкой среднего чека (middle_avg_bill) и числе с оценкой одной чашки капучино (middle_coffee_cup). Было принято решение заполнить пропуски с столбцах seats и hours заглушками/индикаторами. Также в столбцах rating, middle_avg_bill, middle_coffee_cup, seats было осуществлено понижение разрядности. Выяснилось, что в данных присутствует 3 дубликата по двум столбцам (названию заведения и адресу), которые впоследствии были удалены.    \n\nБлагодаря анализу можно сделать следующие выводы:  \n\nСамое маленькое количество заведений среди категорий принадлежит булочным и столовым, таким образом, у людей мало выбора, и новое заведение будет пользоваться спросом  \n\nВ Северо-западном административном округе самое маленькое количество заведений, в данном случае аналогично, у людей не так много заведений для посещения, поэтому можно было бы рассмотреть это место для открытия заведения  \n\nЕсли рассматривать Центральный административный округ, то там снова наблюдается самое маленькое количество столовых и булочных, на это также можно обратить внимание  \n\nСреди самых популярных заведений в основном такие категории, как кафе, кофейня, пиццерия и ресторан. Таким образом, эти категории заведений пользуются наибольшим спросом  ",
      "metadata": {
        "id": "480f3422"
      }
    }
  ]
}